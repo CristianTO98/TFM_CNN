{
 "cells": [
  {
   "cell_type": "markdown",
   "metadata": {},
   "source": [
    "Se importan bibliotecas para el preprocesamiento de datos y análisis estadístico (como `pandas`, `numpy`, `MinMaxScaler`, `OneHotEncoder`, `SelectKBest`) y para visualización (`matplotlib`). Incluye también herramientas para dividir datos (`train_test_split`) y seleccionar características (`f_classif`, `mutual_info_classif`). Finalmente, carga los conjuntos de datos de características y objetivos desde archivos CSV, estableciendo la base para su posterior análisis y preparación para un modelo de aprendizaje automático."
   ]
  },
  {
   "cell_type": "code",
   "execution_count": 1,
   "metadata": {
    "_cell_guid": "",
    "_uuid": "",
    "execution": {
     "iopub.execute_input": "2024-01-11T10:46:47.944852Z",
     "iopub.status.busy": "2024-01-11T10:46:47.944183Z",
     "iopub.status.idle": "2024-01-11T10:46:52.532959Z",
     "shell.execute_reply": "2024-01-11T10:46:52.531051Z",
     "shell.execute_reply.started": "2024-01-11T10:46:47.944788Z"
    },
    "scrolled": true
   },
   "outputs": [],
   "source": [
    "import pandas as pd\n",
    "import numpy as np\n",
    "from sklearn.preprocessing import MinMaxScaler, OneHotEncoder\n",
    "from sklearn.model_selection import train_test_split\n",
    "from collections import Counter\n",
    "from operator import itemgetter\n",
    "from sklearn.feature_selection import SelectKBest, f_classif, mutual_info_classif\n",
    "from matplotlib import pyplot as plt\n",
    "\n",
    "features = pd.read_csv('/kaggle/input/datos-sp500-1d/features.csv')\n",
    "targets = pd.read_csv('/kaggle/input/datos-sp500-1d/targets.csv')"
   ]
  },
  {
   "cell_type": "code",
   "execution_count": 2,
   "metadata": {
    "execution": {
     "iopub.execute_input": "2024-01-11T10:46:52.537112Z",
     "iopub.status.busy": "2024-01-11T10:46:52.536481Z",
     "iopub.status.idle": "2024-01-11T10:46:52.606587Z",
     "shell.execute_reply": "2024-01-11T10:46:52.604905Z",
     "shell.execute_reply.started": "2024-01-11T10:46:52.537012Z"
    }
   },
   "outputs": [
    {
     "data": {
      "text/html": [
       "<div>\n",
       "<style scoped>\n",
       "    .dataframe tbody tr th:only-of-type {\n",
       "        vertical-align: middle;\n",
       "    }\n",
       "\n",
       "    .dataframe tbody tr th {\n",
       "        vertical-align: top;\n",
       "    }\n",
       "\n",
       "    .dataframe thead th {\n",
       "        text-align: right;\n",
       "    }\n",
       "</style>\n",
       "<table border=\"1\" class=\"dataframe\">\n",
       "  <thead>\n",
       "    <tr style=\"text-align: right;\">\n",
       "      <th></th>\n",
       "      <th>06_RSI</th>\n",
       "      <th>07_RSI</th>\n",
       "      <th>08_RSI</th>\n",
       "      <th>09_RSI</th>\n",
       "      <th>10_RSI</th>\n",
       "      <th>11_RSI</th>\n",
       "      <th>12_RSI</th>\n",
       "      <th>13_RSI</th>\n",
       "      <th>14_RSI</th>\n",
       "      <th>15_RSI</th>\n",
       "      <th>...</th>\n",
       "      <th>11_MFI</th>\n",
       "      <th>12_MFI</th>\n",
       "      <th>13_MFI</th>\n",
       "      <th>14_MFI</th>\n",
       "      <th>15_MFI</th>\n",
       "      <th>16_MFI</th>\n",
       "      <th>17_MFI</th>\n",
       "      <th>18_MFI</th>\n",
       "      <th>19_MFI</th>\n",
       "      <th>20_MFI</th>\n",
       "    </tr>\n",
       "  </thead>\n",
       "  <tbody>\n",
       "    <tr>\n",
       "      <th>0</th>\n",
       "      <td>22.237710</td>\n",
       "      <td>26.289180</td>\n",
       "      <td>29.703064</td>\n",
       "      <td>32.528756</td>\n",
       "      <td>34.843032</td>\n",
       "      <td>36.729008</td>\n",
       "      <td>38.264250</td>\n",
       "      <td>39.515793</td>\n",
       "      <td>40.539160</td>\n",
       "      <td>41.379274</td>\n",
       "      <td>...</td>\n",
       "      <td>37.727109</td>\n",
       "      <td>34.179591</td>\n",
       "      <td>40.061208</td>\n",
       "      <td>44.683410</td>\n",
       "      <td>41.672965</td>\n",
       "      <td>46.071092</td>\n",
       "      <td>49.940071</td>\n",
       "      <td>53.063409</td>\n",
       "      <td>55.522408</td>\n",
       "      <td>52.608805</td>\n",
       "    </tr>\n",
       "    <tr>\n",
       "      <th>1</th>\n",
       "      <td>40.077585</td>\n",
       "      <td>40.994197</td>\n",
       "      <td>42.027564</td>\n",
       "      <td>43.015101</td>\n",
       "      <td>43.890137</td>\n",
       "      <td>44.634255</td>\n",
       "      <td>45.251751</td>\n",
       "      <td>45.756269</td>\n",
       "      <td>46.164124</td>\n",
       "      <td>46.491202</td>\n",
       "      <td>...</td>\n",
       "      <td>46.382694</td>\n",
       "      <td>42.527902</td>\n",
       "      <td>38.810301</td>\n",
       "      <td>43.925601</td>\n",
       "      <td>47.991221</td>\n",
       "      <td>44.938968</td>\n",
       "      <td>48.874959</td>\n",
       "      <td>52.365105</td>\n",
       "      <td>55.201740</td>\n",
       "      <td>57.447148</td>\n",
       "    </tr>\n",
       "    <tr>\n",
       "      <th>2</th>\n",
       "      <td>33.293291</td>\n",
       "      <td>34.969746</td>\n",
       "      <td>36.599511</td>\n",
       "      <td>38.086005</td>\n",
       "      <td>39.391763</td>\n",
       "      <td>40.512894</td>\n",
       "      <td>41.462342</td>\n",
       "      <td>42.259952</td>\n",
       "      <td>42.927080</td>\n",
       "      <td>43.483951</td>\n",
       "      <td>...</td>\n",
       "      <td>37.655092</td>\n",
       "      <td>42.672005</td>\n",
       "      <td>39.387482</td>\n",
       "      <td>36.177935</td>\n",
       "      <td>41.179776</td>\n",
       "      <td>45.196093</td>\n",
       "      <td>42.478962</td>\n",
       "      <td>46.380988</td>\n",
       "      <td>49.866750</td>\n",
       "      <td>52.717827</td>\n",
       "    </tr>\n",
       "    <tr>\n",
       "      <th>3</th>\n",
       "      <td>31.682916</td>\n",
       "      <td>33.531248</td>\n",
       "      <td>35.295913</td>\n",
       "      <td>36.895875</td>\n",
       "      <td>38.300405</td>\n",
       "      <td>39.508795</td>\n",
       "      <td>40.535767</td>\n",
       "      <td>41.402391</td>\n",
       "      <td>42.131015</td>\n",
       "      <td>42.742739</td>\n",
       "      <td>...</td>\n",
       "      <td>28.147593</td>\n",
       "      <td>34.471945</td>\n",
       "      <td>39.332315</td>\n",
       "      <td>36.524882</td>\n",
       "      <td>33.748465</td>\n",
       "      <td>38.617658</td>\n",
       "      <td>42.564917</td>\n",
       "      <td>40.146479</td>\n",
       "      <td>43.998134</td>\n",
       "      <td>47.463337</td>\n",
       "    </tr>\n",
       "    <tr>\n",
       "      <th>4</th>\n",
       "      <td>43.792470</td>\n",
       "      <td>43.581306</td>\n",
       "      <td>43.788970</td>\n",
       "      <td>44.179642</td>\n",
       "      <td>44.627383</td>\n",
       "      <td>45.067659</td>\n",
       "      <td>45.470139</td>\n",
       "      <td>45.823125</td>\n",
       "      <td>46.124696</td>\n",
       "      <td>46.377732</td>\n",
       "      <td>...</td>\n",
       "      <td>27.037270</td>\n",
       "      <td>34.305315</td>\n",
       "      <td>39.632309</td>\n",
       "      <td>43.781544</td>\n",
       "      <td>40.870481</td>\n",
       "      <td>37.961288</td>\n",
       "      <td>42.250970</td>\n",
       "      <td>45.758120</td>\n",
       "      <td>43.295015</td>\n",
       "      <td>46.763846</td>\n",
       "    </tr>\n",
       "    <tr>\n",
       "      <th>...</th>\n",
       "      <td>...</td>\n",
       "      <td>...</td>\n",
       "      <td>...</td>\n",
       "      <td>...</td>\n",
       "      <td>...</td>\n",
       "      <td>...</td>\n",
       "      <td>...</td>\n",
       "      <td>...</td>\n",
       "      <td>...</td>\n",
       "      <td>...</td>\n",
       "      <td>...</td>\n",
       "      <td>...</td>\n",
       "      <td>...</td>\n",
       "      <td>...</td>\n",
       "      <td>...</td>\n",
       "      <td>...</td>\n",
       "      <td>...</td>\n",
       "      <td>...</td>\n",
       "      <td>...</td>\n",
       "      <td>...</td>\n",
       "      <td>...</td>\n",
       "    </tr>\n",
       "    <tr>\n",
       "      <th>4494</th>\n",
       "      <td>8.099320</td>\n",
       "      <td>10.581507</td>\n",
       "      <td>12.882000</td>\n",
       "      <td>14.965667</td>\n",
       "      <td>16.830313</td>\n",
       "      <td>18.489254</td>\n",
       "      <td>19.962291</td>\n",
       "      <td>21.271018</td>\n",
       "      <td>22.436434</td>\n",
       "      <td>23.477816</td>\n",
       "      <td>...</td>\n",
       "      <td>15.870226</td>\n",
       "      <td>14.380976</td>\n",
       "      <td>13.272351</td>\n",
       "      <td>19.222458</td>\n",
       "      <td>24.848869</td>\n",
       "      <td>28.661603</td>\n",
       "      <td>32.436806</td>\n",
       "      <td>35.380167</td>\n",
       "      <td>38.091919</td>\n",
       "      <td>37.364859</td>\n",
       "    </tr>\n",
       "    <tr>\n",
       "      <th>4495</th>\n",
       "      <td>5.801777</td>\n",
       "      <td>7.910012</td>\n",
       "      <td>9.950798</td>\n",
       "      <td>11.865363</td>\n",
       "      <td>13.629218</td>\n",
       "      <td>15.237344</td>\n",
       "      <td>16.695322</td>\n",
       "      <td>18.014058</td>\n",
       "      <td>19.206673</td>\n",
       "      <td>20.286714</td>\n",
       "      <td>...</td>\n",
       "      <td>16.495623</td>\n",
       "      <td>15.166900</td>\n",
       "      <td>13.801045</td>\n",
       "      <td>12.776846</td>\n",
       "      <td>18.552333</td>\n",
       "      <td>24.040975</td>\n",
       "      <td>27.775564</td>\n",
       "      <td>31.485570</td>\n",
       "      <td>34.386546</td>\n",
       "      <td>37.065824</td>\n",
       "    </tr>\n",
       "    <tr>\n",
       "      <th>4496</th>\n",
       "      <td>41.338301</td>\n",
       "      <td>39.580502</td>\n",
       "      <td>38.439849</td>\n",
       "      <td>37.702959</td>\n",
       "      <td>37.234486</td>\n",
       "      <td>36.946577</td>\n",
       "      <td>36.781292</td>\n",
       "      <td>36.699965</td>\n",
       "      <td>36.676548</td>\n",
       "      <td>36.693350</td>\n",
       "      <td>...</td>\n",
       "      <td>24.635040</td>\n",
       "      <td>22.698232</td>\n",
       "      <td>20.995509</td>\n",
       "      <td>19.223702</td>\n",
       "      <td>17.880556</td>\n",
       "      <td>23.019844</td>\n",
       "      <td>27.941071</td>\n",
       "      <td>31.310509</td>\n",
       "      <td>34.674695</td>\n",
       "      <td>37.317102</td>\n",
       "    </tr>\n",
       "    <tr>\n",
       "      <th>4497</th>\n",
       "      <td>45.785940</td>\n",
       "      <td>43.675825</td>\n",
       "      <td>42.225416</td>\n",
       "      <td>41.216290</td>\n",
       "      <td>40.508343</td>\n",
       "      <td>40.009387</td>\n",
       "      <td>39.657621</td>\n",
       "      <td>39.410998</td>\n",
       "      <td>39.240542</td>\n",
       "      <td>39.126045</td>\n",
       "      <td>...</td>\n",
       "      <td>24.455778</td>\n",
       "      <td>30.187127</td>\n",
       "      <td>27.975846</td>\n",
       "      <td>26.010433</td>\n",
       "      <td>23.943679</td>\n",
       "      <td>22.362047</td>\n",
       "      <td>26.971452</td>\n",
       "      <td>31.414989</td>\n",
       "      <td>34.474277</td>\n",
       "      <td>37.542620</td>\n",
       "    </tr>\n",
       "    <tr>\n",
       "      <th>4498</th>\n",
       "      <td>45.184743</td>\n",
       "      <td>43.176510</td>\n",
       "      <td>41.795855</td>\n",
       "      <td>40.837384</td>\n",
       "      <td>40.167901</td>\n",
       "      <td>39.699178</td>\n",
       "      <td>39.371838</td>\n",
       "      <td>39.145389</td>\n",
       "      <td>38.991897</td>\n",
       "      <td>38.891876</td>\n",
       "      <td>...</td>\n",
       "      <td>23.598632</td>\n",
       "      <td>29.583034</td>\n",
       "      <td>34.588575</td>\n",
       "      <td>32.203603</td>\n",
       "      <td>30.065157</td>\n",
       "      <td>27.797261</td>\n",
       "      <td>26.048257</td>\n",
       "      <td>30.242171</td>\n",
       "      <td>34.307676</td>\n",
       "      <td>37.119635</td>\n",
       "    </tr>\n",
       "  </tbody>\n",
       "</table>\n",
       "<p>4499 rows × 345 columns</p>\n",
       "</div>"
      ],
      "text/plain": [
       "         06_RSI     07_RSI     08_RSI     09_RSI     10_RSI     11_RSI  \\\n",
       "0     22.237710  26.289180  29.703064  32.528756  34.843032  36.729008   \n",
       "1     40.077585  40.994197  42.027564  43.015101  43.890137  44.634255   \n",
       "2     33.293291  34.969746  36.599511  38.086005  39.391763  40.512894   \n",
       "3     31.682916  33.531248  35.295913  36.895875  38.300405  39.508795   \n",
       "4     43.792470  43.581306  43.788970  44.179642  44.627383  45.067659   \n",
       "...         ...        ...        ...        ...        ...        ...   \n",
       "4494   8.099320  10.581507  12.882000  14.965667  16.830313  18.489254   \n",
       "4495   5.801777   7.910012   9.950798  11.865363  13.629218  15.237344   \n",
       "4496  41.338301  39.580502  38.439849  37.702959  37.234486  36.946577   \n",
       "4497  45.785940  43.675825  42.225416  41.216290  40.508343  40.009387   \n",
       "4498  45.184743  43.176510  41.795855  40.837384  40.167901  39.699178   \n",
       "\n",
       "         12_RSI     13_RSI     14_RSI     15_RSI  ...     11_MFI     12_MFI  \\\n",
       "0     38.264250  39.515793  40.539160  41.379274  ...  37.727109  34.179591   \n",
       "1     45.251751  45.756269  46.164124  46.491202  ...  46.382694  42.527902   \n",
       "2     41.462342  42.259952  42.927080  43.483951  ...  37.655092  42.672005   \n",
       "3     40.535767  41.402391  42.131015  42.742739  ...  28.147593  34.471945   \n",
       "4     45.470139  45.823125  46.124696  46.377732  ...  27.037270  34.305315   \n",
       "...         ...        ...        ...        ...  ...        ...        ...   \n",
       "4494  19.962291  21.271018  22.436434  23.477816  ...  15.870226  14.380976   \n",
       "4495  16.695322  18.014058  19.206673  20.286714  ...  16.495623  15.166900   \n",
       "4496  36.781292  36.699965  36.676548  36.693350  ...  24.635040  22.698232   \n",
       "4497  39.657621  39.410998  39.240542  39.126045  ...  24.455778  30.187127   \n",
       "4498  39.371838  39.145389  38.991897  38.891876  ...  23.598632  29.583034   \n",
       "\n",
       "         13_MFI     14_MFI     15_MFI     16_MFI     17_MFI     18_MFI  \\\n",
       "0     40.061208  44.683410  41.672965  46.071092  49.940071  53.063409   \n",
       "1     38.810301  43.925601  47.991221  44.938968  48.874959  52.365105   \n",
       "2     39.387482  36.177935  41.179776  45.196093  42.478962  46.380988   \n",
       "3     39.332315  36.524882  33.748465  38.617658  42.564917  40.146479   \n",
       "4     39.632309  43.781544  40.870481  37.961288  42.250970  45.758120   \n",
       "...         ...        ...        ...        ...        ...        ...   \n",
       "4494  13.272351  19.222458  24.848869  28.661603  32.436806  35.380167   \n",
       "4495  13.801045  12.776846  18.552333  24.040975  27.775564  31.485570   \n",
       "4496  20.995509  19.223702  17.880556  23.019844  27.941071  31.310509   \n",
       "4497  27.975846  26.010433  23.943679  22.362047  26.971452  31.414989   \n",
       "4498  34.588575  32.203603  30.065157  27.797261  26.048257  30.242171   \n",
       "\n",
       "         19_MFI     20_MFI  \n",
       "0     55.522408  52.608805  \n",
       "1     55.201740  57.447148  \n",
       "2     49.866750  52.717827  \n",
       "3     43.998134  47.463337  \n",
       "4     43.295015  46.763846  \n",
       "...         ...        ...  \n",
       "4494  38.091919  37.364859  \n",
       "4495  34.386546  37.065824  \n",
       "4496  34.674695  37.317102  \n",
       "4497  34.474277  37.542620  \n",
       "4498  34.307676  37.119635  \n",
       "\n",
       "[4499 rows x 345 columns]"
      ]
     },
     "execution_count": 2,
     "metadata": {},
     "output_type": "execute_result"
    }
   ],
   "source": [
    "features"
   ]
  },
  {
   "cell_type": "code",
   "execution_count": 3,
   "metadata": {
    "execution": {
     "iopub.execute_input": "2024-01-11T10:46:52.609385Z",
     "iopub.status.busy": "2024-01-11T10:46:52.608905Z",
     "iopub.status.idle": "2024-01-11T10:46:52.624509Z",
     "shell.execute_reply": "2024-01-11T10:46:52.622889Z",
     "shell.execute_reply.started": "2024-01-11T10:46:52.609314Z"
    }
   },
   "outputs": [
    {
     "data": {
      "text/html": [
       "<div>\n",
       "<style scoped>\n",
       "    .dataframe tbody tr th:only-of-type {\n",
       "        vertical-align: middle;\n",
       "    }\n",
       "\n",
       "    .dataframe tbody tr th {\n",
       "        vertical-align: top;\n",
       "    }\n",
       "\n",
       "    .dataframe thead th {\n",
       "        text-align: right;\n",
       "    }\n",
       "</style>\n",
       "<table border=\"1\" class=\"dataframe\">\n",
       "  <thead>\n",
       "    <tr style=\"text-align: right;\">\n",
       "      <th></th>\n",
       "      <th>Label</th>\n",
       "    </tr>\n",
       "  </thead>\n",
       "  <tbody>\n",
       "    <tr>\n",
       "      <th>0</th>\n",
       "      <td>0</td>\n",
       "    </tr>\n",
       "    <tr>\n",
       "      <th>1</th>\n",
       "      <td>0</td>\n",
       "    </tr>\n",
       "    <tr>\n",
       "      <th>2</th>\n",
       "      <td>0</td>\n",
       "    </tr>\n",
       "    <tr>\n",
       "      <th>3</th>\n",
       "      <td>0</td>\n",
       "    </tr>\n",
       "    <tr>\n",
       "      <th>4</th>\n",
       "      <td>0</td>\n",
       "    </tr>\n",
       "    <tr>\n",
       "      <th>...</th>\n",
       "      <td>...</td>\n",
       "    </tr>\n",
       "    <tr>\n",
       "      <th>4494</th>\n",
       "      <td>0</td>\n",
       "    </tr>\n",
       "    <tr>\n",
       "      <th>4495</th>\n",
       "      <td>0</td>\n",
       "    </tr>\n",
       "    <tr>\n",
       "      <th>4496</th>\n",
       "      <td>0</td>\n",
       "    </tr>\n",
       "    <tr>\n",
       "      <th>4497</th>\n",
       "      <td>0</td>\n",
       "    </tr>\n",
       "    <tr>\n",
       "      <th>4498</th>\n",
       "      <td>0</td>\n",
       "    </tr>\n",
       "  </tbody>\n",
       "</table>\n",
       "<p>4499 rows × 1 columns</p>\n",
       "</div>"
      ],
      "text/plain": [
       "      Label\n",
       "0         0\n",
       "1         0\n",
       "2         0\n",
       "3         0\n",
       "4         0\n",
       "...     ...\n",
       "4494      0\n",
       "4495      0\n",
       "4496      0\n",
       "4497      0\n",
       "4498      0\n",
       "\n",
       "[4499 rows x 1 columns]"
      ]
     },
     "execution_count": 3,
     "metadata": {},
     "output_type": "execute_result"
    }
   ],
   "source": [
    "targets"
   ]
  },
  {
   "cell_type": "markdown",
   "metadata": {},
   "source": [
    "Se utiliza `np.unique` para identificar y contar valores únicos en `targets`. Almacena los valores únicos en `valores_unicos` y sus respectivos conteos en `conteos`, y luego los imprime, proporcionando una visión clara de la distribución de los datos objetivo."
   ]
  },
  {
   "cell_type": "code",
   "execution_count": 4,
   "metadata": {
    "execution": {
     "iopub.execute_input": "2024-01-11T10:47:00.830531Z",
     "iopub.status.busy": "2024-01-11T10:47:00.830125Z",
     "iopub.status.idle": "2024-01-11T10:47:00.839245Z",
     "shell.execute_reply": "2024-01-11T10:47:00.837808Z",
     "shell.execute_reply.started": "2024-01-11T10:47:00.830471Z"
    }
   },
   "outputs": [
    {
     "name": "stdout",
     "output_type": "stream",
     "text": [
      "[0 1 2]\n",
      "[3957  273  269]\n"
     ]
    }
   ],
   "source": [
    "valores_unicos, conteos = np.unique(targets, return_counts=True)\n",
    "\n",
    "print(valores_unicos)  # Esto mostrará los valores únicos\n",
    "print(conteos) "
   ]
  },
  {
   "cell_type": "markdown",
   "metadata": {},
   "source": [
    "\n",
    "Se realiza la división de datos en conjuntos de entrenamiento, validación y prueba, y determina la proporción de división para el conjunto de entrenamiento."
   ]
  },
  {
   "cell_type": "code",
   "execution_count": 5,
   "metadata": {
    "execution": {
     "iopub.execute_input": "2024-01-11T10:47:05.948283Z",
     "iopub.status.busy": "2024-01-11T10:47:05.947879Z",
     "iopub.status.idle": "2024-01-11T10:47:06.059353Z",
     "shell.execute_reply": "2024-01-11T10:47:06.057651Z",
     "shell.execute_reply.started": "2024-01-11T10:47:05.948213Z"
    }
   },
   "outputs": [
    {
     "name": "stdout",
     "output_type": "stream",
     "text": [
      "Total number of features 345\n",
      "train_split = 0.7\n"
     ]
    }
   ],
   "source": [
    "list_features = list(features.columns)\n",
    "\n",
    "\n",
    "print('Total number of features', len(list_features))\n",
    "\n",
    "x_train, x_test, y_train, y_test = train_test_split(features.values, targets.values, train_size=0.8, \n",
    "                                                    test_size=0.2, random_state=2, shuffle=True, stratify=targets.values)\n",
    "\n",
    "\n",
    "if 0.7*x_train.shape[0] < 2500:\n",
    "    train_split = 0.8\n",
    "else:\n",
    "    train_split = 0.7\n",
    "print('train_split =',train_split)\n",
    "\n",
    "x_train, x_cv, y_train, y_cv = train_test_split(x_train, y_train, train_size=train_split, test_size=1-train_split, \n",
    "                                                random_state=2, shuffle=True, stratify=y_train)"
   ]
  },
  {
   "cell_type": "markdown",
   "metadata": {},
   "source": [
    "Se aplica la normalización de características y muestra las dimensiones de los conjuntos de datos."
   ]
  },
  {
   "cell_type": "code",
   "execution_count": 6,
   "metadata": {
    "execution": {
     "iopub.execute_input": "2024-01-06T12:40:46.684615Z",
     "iopub.status.busy": "2024-01-06T12:40:46.684223Z",
     "iopub.status.idle": "2024-01-06T12:40:46.717826Z",
     "shell.execute_reply": "2024-01-06T12:40:46.716435Z",
     "shell.execute_reply.started": "2024-01-06T12:40:46.684542Z"
    }
   },
   "outputs": [
    {
     "name": "stdout",
     "output_type": "stream",
     "text": [
      "Shape of x, y train/cv/test (2519, 345) (2519, 1) (1080, 345) (1080, 1) (900, 345) (900, 1)\n"
     ]
    }
   ],
   "source": [
    "mm_scaler = MinMaxScaler(feature_range=(0, 1)) \n",
    "x_train = mm_scaler.fit_transform(x_train)\n",
    "x_cv = mm_scaler.transform(x_cv)\n",
    "x_test = mm_scaler.transform(x_test)\n",
    "\n",
    "x_main = x_train.copy()\n",
    "print(\"Shape of x, y train/cv/test {} {} {} {} {} {}\".format(x_train.shape, y_train.shape, x_cv.shape, y_cv.shape, x_test.shape, y_test.shape))"
   ]
  },
  {
   "cell_type": "markdown",
   "metadata": {},
   "source": [
    "Se vuelve a identificar y contar valores únicos."
   ]
  },
  {
   "cell_type": "code",
   "execution_count": 7,
   "metadata": {
    "execution": {
     "iopub.execute_input": "2024-01-06T12:40:46.721231Z",
     "iopub.status.busy": "2024-01-06T12:40:46.720385Z",
     "iopub.status.idle": "2024-01-06T12:40:46.730621Z",
     "shell.execute_reply": "2024-01-06T12:40:46.729409Z",
     "shell.execute_reply.started": "2024-01-06T12:40:46.721127Z"
    }
   },
   "outputs": [
    {
     "name": "stdout",
     "output_type": "stream",
     "text": [
      "[0 1 2]\n",
      "[791  55  54]\n"
     ]
    }
   ],
   "source": [
    "# Usando np.unique para encontrar valores únicos y sus conteos\n",
    "valores_unicos, conteos = np.unique(y_test, return_counts=True)\n",
    "\n",
    "print(valores_unicos)  # Esto mostrará los valores únicos\n",
    "print(conteos) "
   ]
  },
  {
   "cell_type": "markdown",
   "metadata": {},
   "source": [
    "Se seleccionan las características más relevantes utilizando el método ANOVA y se mide el tiempo de ejecución."
   ]
  },
  {
   "cell_type": "code",
   "execution_count": 8,
   "metadata": {
    "execution": {
     "iopub.execute_input": "2024-01-06T12:40:46.732542Z",
     "iopub.status.busy": "2024-01-06T12:40:46.732153Z",
     "iopub.status.idle": "2024-01-06T12:40:46.777709Z",
     "shell.execute_reply": "2024-01-06T12:40:46.776109Z",
     "shell.execute_reply.started": "2024-01-06T12:40:46.732484Z"
    }
   },
   "outputs": [
    {
     "name": "stdout",
     "output_type": "stream",
     "text": [
      "('06_RSI', '07_RSI', '08_RSI', '09_RSI', '10_RSI', '11_RSI', '12_RSI', '13_RSI', '14_RSI', '15_RSI', '16_RSI', '17_RSI', '18_RSI', '19_RSI', '20_RSI', '06_WILLR', '07_WILLR', '08_WILLR', '09_WILLR', '10_WILLR', '11_WILLR', '12_WILLR', '13_WILLR', '14_WILLR', '15_WILLR', '16_WILLR', '17_WILLR', '18_WILLR', '19_WILLR', '20_WILLR', '06_BBH', '06_BBM', '06_BBL', '07_BBH', '07_BBM', '07_BBL', '08_BBH', '08_BBM', '08_BBL', '09_BBH', '09_BBM', '09_BBL', '10_BBM', '10_BBL', '11_BBM', '11_BBL', '12_BBM', '12_BBL', '13_BBM', '13_BBL', '14_BBL', '15_BBL', '16_BBL', '17_BBL', '18_BBL', '19_BBL', '20_BBL', '06_NATR', '07_NATR', '08_NATR', '09_NATR', '10_NATR', '11_NATR', '12_NATR', '13_NATR', '14_NATR', '15_NATR', '16_NATR', '17_NATR', '18_NATR', '19_NATR', '20_NATR', '06_PPO', '07_PPO', '08_PPO', '09_PPO', '10_PPO', '11_PPO', '12_PPO', '13_PPO', '14_PPO', '15_PPO', '16_PPO', '17_PPO', '18_PPO', '19_PPO', '20_PPO', '06_MACD', '06_SIGNAL', '06_HISTOGRAM', '07_MACD', '07_SIGNAL', '07_HISTOGRAM', '08_MACD', '08_SIGNAL', '08_HISTOGRAM', '09_MACD', '09_SIGNAL', '09_HISTOGRAM', '10_MACD', '10_SIGNAL', '10_HISTOGRAM', '11_MACD', '11_SIGNAL', '11_HISTOGRAM', '12_MACD', '12_SIGNAL', '12_HISTOGRAM', '13_MACD', '13_SIGNAL', '13_HISTOGRAM', '14_MACD', '14_SIGNAL', '14_HISTOGRAM', '15_MACD', '15_SIGNAL', '15_HISTOGRAM', '16_MACD', '16_SIGNAL', '16_HISTOGRAM', '17_MACD', '17_SIGNAL', '17_HISTOGRAM', '18_MACD', '18_SIGNAL', '18_HISTOGRAM', '19_MACD', '19_SIGNAL', '19_HISTOGRAM', '20_MACD', '20_SIGNAL', '20_HISTOGRAM', '06_MOM', '07_MOM', '08_MOM', '09_MOM', '10_MOM', '11_MOM', '12_MOM', '13_MOM', '14_MOM', '15_MOM', '16_MOM', '17_MOM', '18_MOM', '19_MOM', '20_MOM', '06_WMA', '07_WMA', '08_WMA', '09_WMA', '10_WMA', '11_WMA', '12_WMA', '13_WMA', '14_WMA', '15_WMA', '16_WMA', '17_WMA', '18_WMA', '19_WMA', '20_WMA', '06_EMA', '07_EMA', '08_EMA', '09_EMA', '10_EMA', '11_EMA', '12_EMA', '13_EMA', '14_EMA', '15_EMA', '16_EMA', '17_EMA', '18_EMA', '19_EMA', '20_EMA', '06_CCI', '07_CCI', '08_CCI', '09_CCI', '10_CCI', '11_CCI', '12_CCI', '13_CCI', '14_CCI', '15_CCI', '16_CCI', '17_CCI', '18_CCI', '19_CCI', '20_CCI', '06_CMO', '07_CMO', '08_CMO', '09_CMO', '10_CMO', '11_CMO', '12_CMO', '13_CMO', '14_CMO', '15_CMO', '16_CMO', '17_CMO', '18_CMO', '19_CMO', '20_CMO', '06_ROC', '07_ROC', '08_ROC', '09_ROC', '10_ROC', '11_ROC', '12_ROC', '13_ROC', '14_ROC', '15_ROC', '16_ROC', '17_ROC', '18_ROC', '19_ROC', '20_ROC', '06_ADOSC', '07_ADOSC', '08_ADOSC', '09_ADOSC', '10_ADOSC', '11_ADOSC', '12_ADOSC', '13_ADOSC', '14_ADOSC', '15_ADOSC', '16_ADOSC', '17_ADOSC', '18_ADOSC', '19_ADOSC', '20_ADOSC', '06_ADX', '07_ADX', '08_ADX', '09_ADX', '10_ADX', '11_ADX', '12_ADX', '13_ADX', '14_ADX', '15_ADX', '16_ADX', '17_ADX', '18_ADX', '19_ADX', '20_ADX', '06_SMA', '07_SMA', '08_SMA', '09_SMA', '10_SMA', '11_SMA', '12_SMA', '13_SMA', '06_slowk', '06_slowd', '07_slowk', '07_slowd', '08_slowk', '08_slowd', '09_slowk', '09_slowd', '10_slowk', '10_slowd', '11_slowk', '11_slowd', '12_slowk', '12_slowd', '13_slowk', '13_slowd', '14_slowk', '14_slowd', '15_slowk', '15_slowd', '16_slowk', '16_slowd', '17_slowk', '17_slowd', '18_slowk', '18_slowd', '19_slowk', '19_slowd', '20_slowk', '20_slowd', '06_ULTOSC', '07_ULTOSC', '08_ULTOSC', '09_ULTOSC', '10_ULTOSC', '11_ULTOSC', '12_ULTOSC', '13_ULTOSC', '14_ULTOSC', '15_ULTOSC', '16_ULTOSC', '17_ULTOSC', '18_ULTOSC', '19_ULTOSC', '20_ULTOSC', '06_MFI', '07_MFI', '08_MFI', '09_MFI', '10_MFI', '11_MFI', '12_MFI', '13_MFI', '14_MFI', '15_MFI', '16_MFI', '17_MFI', '18_MFI', '19_MFI', '20_MFI')\n",
      "[  0   1   2   3   4   5   6   7   8   9  10  11  12  13  14  15  16  17\n",
      "  18  19  20  21  22  23  24  25  26  27  28  29  30  31  32  33  34  35\n",
      "  36  37  38  39  40  41  43  44  46  47  49  50  52  53  56  59  62  65\n",
      "  68  71  74  75  76  77  78  79  80  81  82  83  84  85  86  87  88  89\n",
      "  90  91  92  93  94  95  96  97  98  99 100 101 102 103 104 105 106 107\n",
      " 108 109 110 111 112 113 114 115 116 117 118 119 120 121 122 123 124 125\n",
      " 126 127 128 129 130 131 132 133 134 135 136 137 138 139 140 141 142 143\n",
      " 144 145 146 147 148 149 150 151 152 153 154 155 156 157 158 159 160 161\n",
      " 162 163 164 165 166 167 168 169 170 171 172 173 174 175 176 177 178 179\n",
      " 180 181 182 183 184 185 186 187 188 189 190 191 192 193 194 195 196 197\n",
      " 198 199 200 201 202 203 204 205 206 207 208 209 210 211 212 213 214 215\n",
      " 216 217 218 219 220 221 222 223 224 225 226 227 228 229 230 231 232 233\n",
      " 234 235 236 237 238 239 240 241 242 243 244 245 246 247 248 249 250 251\n",
      " 252 253 254 255 256 257 258 259 260 261 262 263 264 265 266 267 268 269\n",
      " 270 271 272 273 274 275 276 277 285 286 287 288 289 290 291 292 293 294\n",
      " 295 296 297 298 299 300 301 302 303 304 305 306 307 308 309 310 311 312\n",
      " 313 314 315 316 317 318 319 320 321 322 323 324 325 326 327 328 329 330\n",
      " 331 332 333 334 335 336 337 338 339 340 341 342 343 344]\n",
      "CPU times: user 13.4 ms, sys: 3.1 ms, total: 16.5 ms\n",
      "Wall time: 17.6 ms\n"
     ]
    },
    {
     "name": "stderr",
     "output_type": "stream",
     "text": [
      "/opt/conda/lib/python3.6/site-packages/sklearn/utils/validation.py:724: DataConversionWarning: A column-vector y was passed when a 1d array was expected. Please change the shape of y to (n_samples, ), for example using ravel().\n",
      "  y = column_or_1d(y, warn=True)\n"
     ]
    }
   ],
   "source": [
    "%%time\n",
    "\n",
    "num_features = 225  # Debe de ser un cuadrado perfecto 15x15\n",
    "topk = 320\n",
    "\n",
    "select_k_best = SelectKBest(f_classif, k=topk)\n",
    "select_k_best.fit(x_main, y_train)\n",
    "    \n",
    "selected_features_anova = itemgetter(*select_k_best.get_support(indices=True))(list_features)\n",
    "print(selected_features_anova)\n",
    "print(select_k_best.get_support(indices=True))\n",
    "    "
   ]
  },
  {
   "cell_type": "markdown",
   "metadata": {},
   "source": [
    "Se realiza una selección de características utilizando la técnica de información mutua."
   ]
  },
  {
   "cell_type": "code",
   "execution_count": 9,
   "metadata": {
    "execution": {
     "iopub.execute_input": "2024-01-06T12:40:46.779868Z",
     "iopub.status.busy": "2024-01-06T12:40:46.779498Z",
     "iopub.status.idle": "2024-01-06T12:40:55.942413Z",
     "shell.execute_reply": "2024-01-06T12:40:55.941231Z",
     "shell.execute_reply.started": "2024-01-06T12:40:46.779784Z"
    }
   },
   "outputs": [
    {
     "name": "stderr",
     "output_type": "stream",
     "text": [
      "/opt/conda/lib/python3.6/site-packages/sklearn/utils/validation.py:724: DataConversionWarning: A column-vector y was passed when a 1d array was expected. Please change the shape of y to (n_samples, ), for example using ravel().\n",
      "  y = column_or_1d(y, warn=True)\n"
     ]
    },
    {
     "name": "stdout",
     "output_type": "stream",
     "text": [
      "320 ('06_RSI', '07_RSI', '08_RSI', '09_RSI', '10_RSI', '11_RSI', '12_RSI', '13_RSI', '14_RSI', '15_RSI', '16_RSI', '17_RSI', '18_RSI', '19_RSI', '20_RSI', '06_WILLR', '07_WILLR', '08_WILLR', '09_WILLR', '10_WILLR', '11_WILLR', '12_WILLR', '13_WILLR', '14_WILLR', '15_WILLR', '16_WILLR', '17_WILLR', '18_WILLR', '19_WILLR', '20_WILLR', '14_BBM', '14_BBL', '15_BBH', '15_BBM', '15_BBL', '16_BBH', '16_BBM', '16_BBL', '17_BBH', '17_BBM', '17_BBL', '18_BBH', '18_BBM', '18_BBL', '19_BBH', '19_BBM', '19_BBL', '20_BBH', '20_BBM', '20_BBL', '06_NATR', '07_NATR', '08_NATR', '09_NATR', '10_NATR', '11_NATR', '12_NATR', '13_NATR', '14_NATR', '15_NATR', '16_NATR', '17_NATR', '18_NATR', '19_NATR', '20_NATR', '06_PPO', '07_PPO', '08_PPO', '09_PPO', '10_PPO', '11_PPO', '12_PPO', '13_PPO', '14_PPO', '15_PPO', '16_PPO', '17_PPO', '18_PPO', '19_PPO', '20_PPO', '06_MACD', '06_SIGNAL', '06_HISTOGRAM', '07_MACD', '07_SIGNAL', '07_HISTOGRAM', '08_MACD', '08_SIGNAL', '08_HISTOGRAM', '09_MACD', '09_SIGNAL', '09_HISTOGRAM', '10_MACD', '10_SIGNAL', '10_HISTOGRAM', '11_MACD', '11_SIGNAL', '11_HISTOGRAM', '12_MACD', '12_SIGNAL', '12_HISTOGRAM', '13_MACD', '13_SIGNAL', '13_HISTOGRAM', '14_MACD', '14_SIGNAL', '14_HISTOGRAM', '15_MACD', '15_SIGNAL', '15_HISTOGRAM', '16_MACD', '16_SIGNAL', '16_HISTOGRAM', '17_MACD', '17_SIGNAL', '17_HISTOGRAM', '18_MACD', '18_SIGNAL', '18_HISTOGRAM', '19_MACD', '19_SIGNAL', '19_HISTOGRAM', '20_MACD', '20_SIGNAL', '20_HISTOGRAM', '06_MOM', '07_MOM', '08_MOM', '09_MOM', '10_MOM', '11_MOM', '12_MOM', '13_MOM', '14_MOM', '15_MOM', '16_MOM', '17_MOM', '18_MOM', '19_MOM', '20_MOM', '06_WMA', '07_WMA', '08_WMA', '09_WMA', '10_WMA', '11_WMA', '12_WMA', '13_WMA', '14_WMA', '15_WMA', '16_WMA', '17_WMA', '18_WMA', '19_WMA', '20_WMA', '06_EMA', '07_EMA', '08_EMA', '09_EMA', '10_EMA', '11_EMA', '12_EMA', '13_EMA', '14_EMA', '15_EMA', '16_EMA', '17_EMA', '18_EMA', '19_EMA', '20_EMA', '06_CCI', '07_CCI', '08_CCI', '09_CCI', '10_CCI', '11_CCI', '12_CCI', '13_CCI', '14_CCI', '15_CCI', '16_CCI', '17_CCI', '18_CCI', '19_CCI', '20_CCI', '06_CMO', '07_CMO', '08_CMO', '09_CMO', '10_CMO', '11_CMO', '12_CMO', '13_CMO', '14_CMO', '15_CMO', '16_CMO', '17_CMO', '18_CMO', '19_CMO', '20_CMO', '06_ROC', '07_ROC', '08_ROC', '09_ROC', '10_ROC', '11_ROC', '12_ROC', '13_ROC', '14_ROC', '15_ROC', '16_ROC', '17_ROC', '18_ROC', '19_ROC', '20_ROC', '06_ADOSC', '07_ADOSC', '08_ADOSC', '09_ADOSC', '10_ADOSC', '11_ADOSC', '12_ADOSC', '13_ADOSC', '14_ADOSC', '15_ADOSC', '16_ADOSC', '17_ADOSC', '18_ADOSC', '19_ADOSC', '20_ADOSC', '06_ADX', '07_ADX', '08_ADX', '09_ADX', '10_ADX', '11_ADX', '12_ADX', '13_ADX', '14_ADX', '15_ADX', '16_ADX', '17_ADX', '18_ADX', '19_ADX', '20_ADX', '06_SMA', '07_SMA', '08_SMA', '09_SMA', '10_SMA', '11_SMA', '12_SMA', '13_SMA', '14_SMA', '15_SMA', '16_SMA', '17_SMA', '18_SMA', '19_SMA', '20_SMA', '06_slowk', '06_slowd', '07_slowk', '07_slowd', '08_slowk', '08_slowd', '09_slowk', '09_slowd', '10_slowk', '10_slowd', '11_slowk', '11_slowd', '12_slowk', '12_slowd', '13_slowk', '13_slowd', '14_slowk', '14_slowd', '15_slowk', '15_slowd', '16_slowk', '16_slowd', '17_slowk', '17_slowd', '18_slowk', '18_slowd', '19_slowk', '19_slowd', '20_slowk', '20_slowd', '06_ULTOSC', '07_ULTOSC', '08_ULTOSC', '09_ULTOSC', '10_ULTOSC', '11_ULTOSC', '12_ULTOSC', '13_ULTOSC', '14_ULTOSC', '15_ULTOSC', '16_ULTOSC', '17_ULTOSC', '18_ULTOSC', '19_ULTOSC', '20_ULTOSC', '06_MFI', '07_MFI', '08_MFI', '09_MFI', '10_MFI', '11_MFI', '12_MFI', '13_MFI', '14_MFI', '15_MFI', '16_MFI', '17_MFI', '18_MFI', '19_MFI', '20_MFI')\n",
      "[  0   1   2   3   4   5   6   7   8   9  10  11  12  13  14  15  16  17\n",
      "  18  19  20  21  22  23  24  25  26  27  28  29  55  56  57  58  59  60\n",
      "  61  62  63  64  65  66  67  68  69  70  71  72  73  74  75  76  77  78\n",
      "  79  80  81  82  83  84  85  86  87  88  89  90  91  92  93  94  95  96\n",
      "  97  98  99 100 101 102 103 104 105 106 107 108 109 110 111 112 113 114\n",
      " 115 116 117 118 119 120 121 122 123 124 125 126 127 128 129 130 131 132\n",
      " 133 134 135 136 137 138 139 140 141 142 143 144 145 146 147 148 149 150\n",
      " 151 152 153 154 155 156 157 158 159 160 161 162 163 164 165 166 167 168\n",
      " 169 170 171 172 173 174 175 176 177 178 179 180 181 182 183 184 185 186\n",
      " 187 188 189 190 191 192 193 194 195 196 197 198 199 200 201 202 203 204\n",
      " 205 206 207 208 209 210 211 212 213 214 215 216 217 218 219 220 221 222\n",
      " 223 224 225 226 227 228 229 230 231 232 233 234 235 236 237 238 239 240\n",
      " 241 242 243 244 245 246 247 248 249 250 251 252 253 254 255 256 257 258\n",
      " 259 260 261 262 263 264 265 266 267 268 269 270 271 272 273 274 275 276\n",
      " 277 278 279 280 281 282 283 284 285 286 287 288 289 290 291 292 293 294\n",
      " 295 296 297 298 299 300 301 302 303 304 305 306 307 308 309 310 311 312\n",
      " 313 314 315 316 317 318 319 320 321 322 323 324 325 326 327 328 329 330\n",
      " 331 332 333 334 335 336 337 338 339 340 341 342 343 344]\n"
     ]
    }
   ],
   "source": [
    "select_k_best = SelectKBest(mutual_info_classif, k=topk)\n",
    "select_k_best.fit(x_main, y_train)\n",
    "\n",
    "selected_features_mic = itemgetter(*select_k_best.get_support(indices=True))(list_features)\n",
    "print(len(selected_features_mic), selected_features_mic)\n",
    "print(select_k_best.get_support(indices=True))"
   ]
  },
  {
   "cell_type": "markdown",
   "metadata": {},
   "source": [
    "Se identifica las características comunes seleccionadas por dos métodos diferentes (ANOVA y información mutua) y verifica si cumplen con un número requerido de características."
   ]
  },
  {
   "cell_type": "code",
   "execution_count": 10,
   "metadata": {
    "execution": {
     "iopub.execute_input": "2024-01-06T12:40:55.944416Z",
     "iopub.status.busy": "2024-01-06T12:40:55.944100Z",
     "iopub.status.idle": "2024-01-06T12:40:55.956449Z",
     "shell.execute_reply": "2024-01-06T12:40:55.955363Z",
     "shell.execute_reply.started": "2024-01-06T12:40:55.944371Z"
    }
   },
   "outputs": [
    {
     "name": "stdout",
     "output_type": "stream",
     "text": [
      "common selected features 300 ['06_WILLR', '12_SIGNAL', '09_MOM', '13_CMO', '20_WMA', '06_ROC', '19_ADOSC', '14_MFI', '14_PPO', '09_SIGNAL', '16_EMA', '12_HISTOGRAM', '18_ULTOSC', '16_WILLR', '10_slowk', '15_ADOSC', '12_ADX', '09_WILLR', '09_ULTOSC', '20_NATR', '06_MACD', '11_SIGNAL', '16_slowd', '20_ADOSC', '18_MFI', '07_MOM', '10_ROC', '08_slowd', '07_SIGNAL', '10_MFI', '06_CCI', '07_WMA', '13_ADX', '17_RSI', '14_RSI', '10_NATR', '13_ULTOSC', '14_MACD', '06_RSI', '17_ULTOSC', '20_MOM', '12_slowk', '17_MACD', '08_MOM', '09_MACD', '14_WMA', '18_PPO', '19_SIGNAL', '09_PPO', '10_MOM', '17_EMA', '10_ADOSC', '06_ADX', '19_EMA', '14_SIGNAL', '16_WMA', '09_ADX', '08_SMA', '07_CCI', '06_SIGNAL', '13_MOM', '16_ROC', '16_slowk', '16_CMO', '14_CMO', '11_HISTOGRAM', '06_HISTOGRAM', '14_ADX', '18_ADX', '18_BBL', '20_BBL', '07_MACD', '18_HISTOGRAM', '11_slowd', '15_MOM', '08_slowk', '15_BBL', '06_SMA', '06_EMA', '13_SIGNAL', '11_ROC', '11_WMA', '07_slowd', '20_MFI', '14_slowk', '17_slowk', '17_NATR', '16_BBL', '07_HISTOGRAM', '07_EMA', '16_ADOSC', '19_WMA', '11_ADX', '19_ULTOSC', '15_NATR', '08_SIGNAL', '20_CMO', '06_ULTOSC', '07_RSI', '12_MACD', '14_HISTOGRAM', '06_ADOSC', '10_ULTOSC', '18_MACD', '14_MOM', '19_slowd', '20_EMA', '15_PPO', '07_WILLR', '09_RSI', '13_ADOSC', '12_MOM', '14_ULTOSC', '10_RSI', '20_slowk', '14_EMA', '13_MFI', '17_ADOSC', '16_MFI', '17_ADX', '09_slowk', '15_HISTOGRAM', '08_WILLR', '08_NATR', '19_MACD', '13_RSI', '20_ULTOSC', '08_HISTOGRAM', '11_ULTOSC', '07_ADX', '12_slowd', '11_SMA', '19_PPO', '13_HISTOGRAM', '20_SIGNAL', '06_MOM', '08_PPO', '09_WMA', '20_CCI', '11_CMO', '13_WMA', '06_PPO', '16_ADX', '13_SMA', '15_EMA', '20_HISTOGRAM', '18_slowk', '17_slowd', '19_slowk', '11_WILLR', '10_MACD', '16_ULTOSC', '17_MFI', '13_MACD', '15_ADX', '07_PPO', '12_CMO', '11_MACD', '08_EMA', '12_MFI', '07_slowk', '07_MFI', '20_PPO', '15_CCI', '11_NATR', '16_RSI', '06_slowd', '14_ADOSC', '14_NATR', '12_PPO', '17_CCI', '12_ROC', '08_ROC', '07_NATR', '14_CCI', '09_SMA', '20_MACD', '17_MOM', '18_NATR', '12_SMA', '16_CCI', '16_HISTOGRAM', '07_ULTOSC', '12_CCI', '17_PPO', '09_CMO', '09_CCI', '13_EMA', '17_CMO', '13_ROC', '08_ADX', '18_RSI', '17_WILLR', '07_ADOSC', '11_RSI', '19_CCI', '11_MOM', '08_MACD', '10_EMA', '08_CCI', '12_ADOSC', '15_SIGNAL', '19_MOM', '18_slowd', '17_BBL', '11_EMA', '08_CMO', '20_ADX', '14_BBL', '19_RSI', '13_CCI', '15_WILLR', '17_ROC', '19_HISTOGRAM', '15_WMA', '07_SMA', '06_slowk', '18_WILLR', '19_ADX', '10_SIGNAL', '09_ROC', '14_ROC', '08_ADOSC', '14_slowd', '15_ULTOSC', '10_slowd', '09_NATR', '18_ADOSC', '18_SIGNAL', '09_slowd', '15_RSI', '08_WMA', '20_RSI', '13_NATR', '10_ADX', '11_PPO', '10_CCI', '15_slowk', '20_WILLR', '10_WILLR', '09_HISTOGRAM', '08_MFI', '07_ROC', '19_MFI', '19_CMO', '06_MFI', '18_CCI', '19_NATR', '16_NATR', '17_HISTOGRAM', '18_EMA', '20_slowd', '08_ULTOSC', '20_ROC', '15_CMO', '18_CMO', '09_MFI', '11_ADOSC', '10_WMA', '17_SIGNAL', '15_MFI', '09_EMA', '16_MOM', '15_MACD', '08_RSI', '06_NATR', '10_HISTOGRAM', '15_ROC', '18_MOM', '14_WILLR', '11_MFI', '18_WMA', '12_NATR', '19_ROC', '13_slowd', '19_BBL', '17_WMA', '16_SIGNAL', '12_WILLR', '10_CMO', '10_PPO', '18_ROC', '16_PPO', '13_WILLR', '13_PPO', '06_WMA', '12_EMA', '10_SMA', '13_slowk', '07_CMO', '09_ADOSC', '12_ULTOSC', '06_CMO', '19_WILLR', '16_MACD', '11_slowk', '12_RSI', '12_WMA', '15_slowd', '11_CCI']\n",
      "[0, 1, 3, 4, 5, 7, 8, 10, 11, 12, 13, 15, 16, 17, 18, 20, 24, 25, 26, 27, 56, 59, 62, 65, 68, 74, 76, 77, 79, 80, 83, 84, 86, 87, 89, 90, 91, 92, 93, 96, 98, 99, 101, 102, 103, 104, 105, 106, 107, 108, 109, 110, 111, 112, 113, 114, 115, 117, 118, 120, 121, 122, 123, 124, 125, 126, 127, 128, 129, 130, 131, 133, 134, 137, 138, 141, 143, 144, 145, 146, 147, 148, 149, 150, 151, 152, 153, 154, 155, 156, 157, 158, 159, 161, 163, 164, 166, 168, 170, 172, 173, 174, 175, 178, 179, 180, 181, 182, 184, 185, 187, 188, 189, 190, 191, 193, 194, 195, 196, 197, 198, 201, 202, 203, 204, 205, 206, 208, 209, 212, 213, 215, 216, 217, 218, 220, 221, 224, 225, 227, 228, 229, 230, 231, 232, 233, 235, 236, 240, 241, 242, 244, 246, 247, 248, 249, 250, 251, 253, 254, 255, 256, 257, 258, 260, 261, 262, 263, 264, 265, 266, 267, 268, 269, 270, 271, 272, 273, 275, 276, 277, 285, 286, 287, 288, 289, 290, 291, 293, 296, 297, 298, 301, 302, 305, 306, 307, 308, 309, 310, 311, 312, 313, 315, 316, 318, 319, 320, 322, 323, 324, 325, 326, 327, 328, 329, 331, 334, 336, 337, 338, 340, 341, 342, 344]\n"
     ]
    }
   ],
   "source": [
    "common = list(set(selected_features_anova).intersection(selected_features_mic))\n",
    "print(\"common selected features\", len(common), common)\n",
    "if len(common) < num_features:\n",
    "    raise Exception('number of common features found {} < {} required features. Increase \"topk variable\"'.format(len(common), num_features))\n",
    "feat_idx = []\n",
    "for c in common:\n",
    "    feat_idx.append(list_features.index(c))\n",
    "feat_idx = sorted(feat_idx[0:225])\n",
    "print(feat_idx)"
   ]
  },
  {
   "cell_type": "markdown",
   "metadata": {},
   "source": [
    "Se filtra los conjuntos de entrenamiento, validación y prueba para incluir solo las características comunes seleccionadas, y luego muestra sus dimensiones."
   ]
  },
  {
   "cell_type": "code",
   "execution_count": 11,
   "metadata": {
    "execution": {
     "iopub.execute_input": "2024-01-06T12:40:55.958323Z",
     "iopub.status.busy": "2024-01-06T12:40:55.957922Z",
     "iopub.status.idle": "2024-01-06T12:40:55.980790Z",
     "shell.execute_reply": "2024-01-06T12:40:55.979343Z",
     "shell.execute_reply.started": "2024-01-06T12:40:55.958256Z"
    }
   },
   "outputs": [
    {
     "name": "stdout",
     "output_type": "stream",
     "text": [
      "Shape of x, y train/cv/test (2519, 225) (2519, 1) (1080, 225) (1080, 1) (900, 225) (900, 1)\n"
     ]
    }
   ],
   "source": [
    "x_train = x_train[:, feat_idx]\n",
    "x_cv = x_cv[:, feat_idx]\n",
    "x_test = x_test[:, feat_idx]\n",
    "\n",
    "print(\"Shape of x, y train/cv/test {} {} {} {} {} {}\".format(x_train.shape, \n",
    "                                                             y_train.shape, x_cv.shape, y_cv.shape, x_test.shape, y_test.shape))"
   ]
  },
  {
   "cell_type": "markdown",
   "metadata": {},
   "source": [
    "Se recuentan las labels, mostrando su peso en porcentajes."
   ]
  },
  {
   "cell_type": "code",
   "execution_count": 12,
   "metadata": {
    "execution": {
     "iopub.execute_input": "2024-01-06T12:40:55.983194Z",
     "iopub.status.busy": "2024-01-06T12:40:55.982751Z",
     "iopub.status.idle": "2024-01-06T12:40:55.991763Z",
     "shell.execute_reply": "2024-01-06T12:40:55.990535Z",
     "shell.execute_reply.started": "2024-01-06T12:40:55.983113Z"
    }
   },
   "outputs": [
    {
     "name": "stdout",
     "output_type": "stream",
     "text": [
      "percentage of class 0 = 87.97141722905914, class 1 = 6.073838824930529, class 2 = 5.954743946010321\n"
     ]
    }
   ],
   "source": [
    "_labels, _counts = np.unique(y_train, return_counts=True)\n",
    "print(\"percentage of class 0 = {}, class 1 = {}, class 2 = {}\".format(_counts[0]/len(y_train) * 100, _counts[1]/len(y_train) * 100, _counts[2]/len(y_train) * 100))"
   ]
  },
  {
   "cell_type": "markdown",
   "metadata": {},
   "source": [
    " Se guarda los conjuntos de datos filtrados como archivos CSV."
   ]
  },
  {
   "cell_type": "code",
   "execution_count": 13,
   "metadata": {
    "execution": {
     "iopub.execute_input": "2024-01-06T12:40:55.993928Z",
     "iopub.status.busy": "2024-01-06T12:40:55.993502Z",
     "iopub.status.idle": "2024-01-06T12:40:57.276048Z",
     "shell.execute_reply": "2024-01-06T12:40:57.275036Z",
     "shell.execute_reply.started": "2024-01-06T12:40:55.993850Z"
    }
   },
   "outputs": [],
   "source": [
    "np.savetxt(\"x_train.csv\", x_train, delimiter=\",\")\n",
    "np.savetxt(\"y_train.csv\", y_train, delimiter=\",\")\n",
    "np.savetxt(\"x_cv.csv\", x_cv, delimiter=\",\")\n",
    "np.savetxt(\"y_cv.csv\", y_cv, delimiter=\",\")\n",
    "np.savetxt(\"x_test.csv\", x_test, delimiter=\",\")\n",
    "np.savetxt(\"y_test.csv\", y_test, delimiter=\",\")\n"
   ]
  },
  {
   "cell_type": "markdown",
   "metadata": {},
   "source": [
    "Se transforma los conjuntos de datos en formato de imagen y ajusta su forma para su uso en un modelo de red neuronal convolucional (CNN)."
   ]
  },
  {
   "cell_type": "code",
   "execution_count": 14,
   "metadata": {
    "execution": {
     "iopub.execute_input": "2024-01-06T12:40:57.278473Z",
     "iopub.status.busy": "2024-01-06T12:40:57.278056Z",
     "iopub.status.idle": "2024-01-06T12:40:57.338458Z",
     "shell.execute_reply": "2024-01-06T12:40:57.336997Z",
     "shell.execute_reply.started": "2024-01-06T12:40:57.278395Z"
    }
   },
   "outputs": [
    {
     "name": "stdout",
     "output_type": "stream",
     "text": [
      "final shape of x, y train/test (2519, 15, 15, 3) (2519, 1) (900, 15, 15, 3) (900, 1)\n"
     ]
    }
   ],
   "source": [
    "def reshape_as_image(x, img_width, img_height):\n",
    "    x_temp = np.zeros((len(x), img_height, img_width))\n",
    "    for i in range(x.shape[0]):\n",
    "        x_temp[i] = np.reshape(x[i], (img_height, img_width))\n",
    "\n",
    "    return x_temp\n",
    "\n",
    "dim = int(np.sqrt(num_features))\n",
    "x_train = reshape_as_image(x_train, dim, dim)\n",
    "x_cv = reshape_as_image(x_cv, dim, dim)\n",
    "x_test = reshape_as_image(x_test, dim, dim)\n",
    "# adding a 1-dim for channels (3)\n",
    "x_train = np.stack((x_train,) * 3, axis=-1)\n",
    "x_test = np.stack((x_test,) * 3, axis=-1)\n",
    "x_cv = np.stack((x_cv,) * 3, axis=-1)\n",
    "print(\"final shape of x, y train/test {} {} {} {}\".format(x_train.shape, y_train.shape, x_test.shape, y_test.shape))"
   ]
  },
  {
   "cell_type": "markdown",
   "metadata": {},
   "source": [
    "Se realiza la presentación de algunas imágenes de manera aleatoria."
   ]
  },
  {
   "cell_type": "code",
   "execution_count": 15,
   "metadata": {
    "execution": {
     "iopub.execute_input": "2024-01-06T12:40:57.340252Z",
     "iopub.status.busy": "2024-01-06T12:40:57.339916Z",
     "iopub.status.idle": "2024-01-06T12:40:58.364611Z",
     "shell.execute_reply": "2024-01-06T12:40:58.363351Z",
     "shell.execute_reply.started": "2024-01-06T12:40:57.340197Z"
    }
   },
   "outputs": [
    {
     "data": {
      "image/png": "[encoded data removed]",
      "text/plain": [
       "<Figure size 1080x1080 with 9 Axes>"
      ]
     },
     "metadata": {
      "needs_background": "light"
     },
     "output_type": "display_data"
    }
   ],
   "source": [
    "from matplotlib import pyplot as plt\n",
    "%matplotlib inline\n",
    "\n",
    "fig = plt.figure(figsize=(15, 15))\n",
    "columns = rows = 3\n",
    "for i in range(1, columns*rows +1):\n",
    "    index = np.random.randint(len(x_train))\n",
    "    img = x_train[index]\n",
    "    fig.add_subplot(rows, columns, i)\n",
    "    plt.axis(\"off\")\n",
    "    plt.title('image_'+str(index)+'_class_'+str(np.argmax(y_train[index])), fontsize=10)\n",
    "    plt.subplots_adjust(wspace=0.2, hspace=0.2)\n",
    "    plt.imshow(img)\n",
    "plt.show()"
   ]
  }
 ],
 "metadata": {
  "kaggle": {
   "accelerator": "none",
   "dataSources": [
    {
     "datasetId": 4268081,
     "sourceId": 7349782,
     "sourceType": "datasetVersion"
    }
   ],
   "dockerImageVersionId": 29849,
   "isGpuEnabled": false,
   "isInternetEnabled": true,
   "language": "python",
   "sourceType": "notebook"
  },
  "kernelspec": {
   "display_name": "Python 3",
   "language": "python",
   "name": "python3"
  },
  "language_info": {
   "codemirror_mode": {
    "name": "ipython",
    "version": 3
   },
   "file_extension": ".py",
   "mimetype": "text/x-python",
   "name": "python",
   "nbconvert_exporter": "python",
   "pygments_lexer": "ipython3",
   "version": "3.6.6"
  }
 },
 "nbformat": 4,
 "nbformat_minor": 4
}
