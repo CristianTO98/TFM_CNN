{
 "cells": [
  {
   "cell_type": "markdown",
   "metadata": {},
   "source": [
    "Se importan librerías esenciales, establece una semilla para la reproducibilidad, carga conjuntos de datos de entrenamiento, validación y prueba desde archivos CSV y muestra sus dimensiones para verificar su estructura."
   ]
  },
  {
   "cell_type": "code",
   "execution_count": 1,
   "metadata": {
    "_cell_guid": "",
    "_uuid": "",
    "execution": {
     "iopub.execute_input": "2024-01-08T17:52:16.030484Z",
     "iopub.status.busy": "2024-01-08T17:52:16.030248Z",
     "iopub.status.idle": "2024-01-08T17:52:17.938358Z",
     "shell.execute_reply": "2024-01-08T17:52:17.937479Z",
     "shell.execute_reply.started": "2024-01-08T17:52:16.030442Z"
    },
    "scrolled": true
   },
   "outputs": [
    {
     "name": "stdout",
     "output_type": "stream",
     "text": [
      "Shape of x, y train/cv/test (2519, 225) (2519,) (1080, 225) (1080,) (900, 225) (900,)\n"
     ]
    }
   ],
   "source": [
    "import pandas as pd\n",
    "import pickle \n",
    "import numpy as np\n",
    "from tqdm import tqdm_notebook as tqdm\n",
    "from IPython.core.interactiveshell import InteractiveShell\n",
    "\n",
    "\n",
    "np.random.seed(2)\n",
    "x_train = np.loadtxt(\"/kaggle/input/features-extraction/x_train.csv\", delimiter=\",\")\n",
    "y_train = np.loadtxt(\"/kaggle/input/features-extraction/y_train.csv\", delimiter=\",\")\n",
    "x_cv = np.loadtxt(\"/kaggle/input/features-extraction/x_cv.csv\", delimiter=\",\")\n",
    "y_cv = np.loadtxt(\"/kaggle/input/features-extraction/y_cv.csv\", delimiter=\",\")\n",
    "x_test = np.loadtxt(\"/kaggle/input/features-extraction/x_test.csv\", delimiter=\",\")\n",
    "y_test = np.loadtxt(\"/kaggle/input/features-extraction/y_test.csv\", delimiter=\",\")\n",
    "\n",
    "print(\"Shape of x, y train/cv/test {} {} {} {} {} {}\".format(x_train.shape, \n",
    "                                                             y_train.shape, x_cv.shape, y_cv.shape, x_test.shape, y_test.shape))"
   ]
  },
  {
   "cell_type": "markdown",
   "metadata": {},
   "source": [
    "Se calcula y muestra el porcentaje de cada clase en el conjunto de entrenamiento, lo que ayuda a entender la distribución y posible desbalance de clases."
   ]
  },
  {
   "cell_type": "code",
   "execution_count": 2,
   "metadata": {
    "execution": {
     "iopub.execute_input": "2024-01-08T17:52:17.940493Z",
     "iopub.status.busy": "2024-01-08T17:52:17.940242Z",
     "iopub.status.idle": "2024-01-08T17:52:17.946489Z",
     "shell.execute_reply": "2024-01-08T17:52:17.945597Z",
     "shell.execute_reply.started": "2024-01-08T17:52:17.940450Z"
    }
   },
   "outputs": [
    {
     "name": "stdout",
     "output_type": "stream",
     "text": [
      "percentage of class 0 = 87.97141722905914, class 1 = 6.073838824930529, class 2 = 5.954743946010321\n"
     ]
    }
   ],
   "source": [
    "_labels, _counts = np.unique(y_train, return_counts=True)\n",
    "print(\"percentage of class 0 = {}, class 1 = {}, class 2 = {}\".format(_counts[0]/len(y_train) * 100, _counts[1]/len(y_train) * 100, _counts[2]/len(y_train) * 100))"
   ]
  },
  {
   "cell_type": "markdown",
   "metadata": {},
   "source": [
    "Se utiliza np.unique para encontrar y mostrar los valores únicos en y_train y sus respectivos conteos. Esto es útil para verificar la distribución de las clases después de aplicar el balanceo de clases, permitiendo confirmar que las clases ahora están equilibradas en términos de cantidad de muestras."
   ]
  },
  {
   "cell_type": "code",
   "execution_count": 3,
   "metadata": {
    "execution": {
     "iopub.execute_input": "2024-01-08T17:52:17.948309Z",
     "iopub.status.busy": "2024-01-08T17:52:17.947944Z",
     "iopub.status.idle": "2024-01-08T17:52:17.958479Z",
     "shell.execute_reply": "2024-01-08T17:52:17.957615Z",
     "shell.execute_reply.started": "2024-01-08T17:52:17.948247Z"
    }
   },
   "outputs": [
    {
     "name": "stdout",
     "output_type": "stream",
     "text": [
      "[0. 1. 2.]\n",
      "[2216  153  150]\n"
     ]
    }
   ],
   "source": [
    "# Usando np.unique para encontrar valores únicos y sus conteos\n",
    "valores_unicos, conteos = np.unique(y_train, return_counts=True)\n",
    "\n",
    "print(valores_unicos)  # Esto mostrará los valores únicos\n",
    "print(conteos) "
   ]
  },
  {
   "cell_type": "markdown",
   "metadata": {},
   "source": [
    "Se define y aplica una función cut_major_class para reducir el tamaño de la clase mayoritaria:\n",
    "\n",
    "1) Identificación de la Clase Mayoritaria: Utiliza np.unique para encontrar la clase con más muestras en y_train.\n",
    "\n",
    "2) Cálculo de Elementos a Eliminar: Determina cuántos elementos de la clase mayoritaria deben ser eliminados, que es la mitad de su tamaño.\n",
    "\n",
    "3) Selección de Índices a Eliminar: Encuentra los índices de las muestras de la clase mayoritaria y selecciona aleatoriamente la mitad para eliminar.\n",
    "\n",
    "4) Eliminación de Muestras: Usa np.delete para eliminar las muestras seleccionadas de x_train y y_train.\n",
    "\n",
    "5) Aplicación y Visualización: Aplica la función a los conjuntos de entrenamiento y validación (x_train, y_train, x_cv, y_cv) y muestra sus nuevas dimensiones."
   ]
  },
  {
   "cell_type": "code",
   "execution_count": 4,
   "metadata": {
    "execution": {
     "iopub.execute_input": "2024-01-08T17:52:17.959817Z",
     "iopub.status.busy": "2024-01-08T17:52:17.959567Z",
     "iopub.status.idle": "2024-01-08T17:52:17.974506Z",
     "shell.execute_reply": "2024-01-08T17:52:17.973829Z",
     "shell.execute_reply.started": "2024-01-08T17:52:17.959777Z"
    }
   },
   "outputs": [
    {
     "name": "stdout",
     "output_type": "stream",
     "text": [
      "(1411, 225)\n",
      "(1411,)\n",
      "(605, 225)\n",
      "(605,)\n"
     ]
    }
   ],
   "source": [
    "def cut_major_class(x_train, y_train):\n",
    "    # Identificamos la clase mayoritaria\n",
    "    unique, counts = np.unique(y_train, return_counts=True)\n",
    "    major_class = unique[np.argmax(counts)]\n",
    "    \n",
    "    # Calculamos la cantidad de elementos de la clase mayoritaria a eliminar (la mitad)\n",
    "    num_elements_major_class = counts[np.argmax(counts)]\n",
    "    num_elements_to_remove = num_elements_major_class // 2\n",
    "\n",
    "    # Índices de la clase mayoritaria\n",
    "    major_class_indices = np.where(y_train == major_class)[0]\n",
    "    \n",
    "    # Seleccionamos aleatoriamente los índices a eliminar\n",
    "    indices_to_remove = np.random.choice(major_class_indices, num_elements_to_remove, replace=False)\n",
    "\n",
    "    # Eliminamos los elementos seleccionados de x_train y y_train\n",
    "    x_train = np.delete(x_train, indices_to_remove, axis=0)\n",
    "    y_train = np.delete(y_train, indices_to_remove, axis=0)\n",
    "\n",
    "    return x_train, y_train\n",
    "\n",
    "\n",
    "x_train, y_train = cut_major_class(x_train, y_train)\n",
    "x_cv, y_cv = cut_major_class(x_cv, y_cv)\n",
    "\n",
    "print(x_train.shape)\n",
    "print(y_train.shape)\n",
    "print(x_cv.shape)\n",
    "print(y_cv.shape)\n"
   ]
  },
  {
   "cell_type": "markdown",
   "metadata": {},
   "source": [
    "Se utiliza np.unique para encontrar y mostrar los valores únicos en y_train y sus respectivos conteos. Esto es útil para verificar la distribución de las clases después de aplicar el balanceo de clases, permitiendo confirmar que las clases ahora están equilibradas en términos de cantidad de muestras."
   ]
  },
  {
   "cell_type": "code",
   "execution_count": 5,
   "metadata": {
    "execution": {
     "iopub.execute_input": "2024-01-08T17:52:17.978991Z",
     "iopub.status.busy": "2024-01-08T17:52:17.978775Z",
     "iopub.status.idle": "2024-01-08T17:52:17.985473Z",
     "shell.execute_reply": "2024-01-08T17:52:17.984617Z",
     "shell.execute_reply.started": "2024-01-08T17:52:17.978955Z"
    }
   },
   "outputs": [
    {
     "name": "stdout",
     "output_type": "stream",
     "text": [
      "[0. 1. 2.]\n",
      "[1108  153  150]\n"
     ]
    }
   ],
   "source": [
    "# Usando np.unique para encontrar valores únicos y sus conteos\n",
    "valores_unicos, conteos = np.unique(y_train, return_counts=True)\n",
    "\n",
    "print(valores_unicos)  # Esto mostrará los valores únicos\n",
    "print(conteos) "
   ]
  },
  {
   "cell_type": "code",
   "execution_count": 6,
   "metadata": {
    "execution": {
     "iopub.execute_input": "2024-01-08T17:52:17.988844Z",
     "iopub.status.busy": "2024-01-08T17:52:17.988322Z",
     "iopub.status.idle": "2024-01-08T17:52:17.995418Z",
     "shell.execute_reply": "2024-01-08T17:52:17.994620Z",
     "shell.execute_reply.started": "2024-01-08T17:52:17.988562Z"
    }
   },
   "outputs": [
    {
     "name": "stdout",
     "output_type": "stream",
     "text": [
      "[0. 1. 2.]\n",
      "[475  65  65]\n"
     ]
    }
   ],
   "source": [
    "# Usando np.unique para encontrar valores únicos y sus conteos\n",
    "valores_unicos, conteos = np.unique(y_cv, return_counts=True)\n",
    "\n",
    "print(valores_unicos)  # Esto mostrará los valores únicos\n",
    "print(conteos) "
   ]
  },
  {
   "cell_type": "markdown",
   "metadata": {},
   "source": [
    "Se utiliza SMOTE (Synthetic Minority Over-sampling Technique) para equilibrar las clases en los conjuntos de entrenamiento y validación:\n",
    "\n",
    "Instalación de imbalanced-learn: Primero, instala la librería imbalanced-learn que proporciona el algoritmo SMOTE.\n",
    "\n",
    "Función balance_classes_with_smote: Esta función aplana y_train si es necesario y luego aplica SMOTE al conjunto de datos. SMOTE crea muestras sintéticas de las clases minoritarias para igualar el número de muestras de la clase mayoritaria.\n",
    "\n",
    "Mezcla de los Datos: Después de aplicar SMOTE, los datos se mezclan para asegurar la aleatoriedad.\n",
    "\n",
    "Aplicación de la Función: Finalmente, la función se aplica a los conjuntos x_train y y_train, y opcionalmente a x_cv y y_cv, para obtener conjuntos de entrenamiento y validación balanceados.\n",
    "\n",
    "SMOTE es una técnica efectiva para tratar con el desequilibrio de clases, especialmente útil cuando las clases minoritarias no están suficientemente representadas."
   ]
  },
  {
   "cell_type": "code",
   "execution_count": 7,
   "metadata": {
    "execution": {
     "iopub.execute_input": "2024-01-08T17:52:17.996913Z",
     "iopub.status.busy": "2024-01-08T17:52:17.996616Z",
     "iopub.status.idle": "2024-01-08T17:52:27.758474Z",
     "shell.execute_reply": "2024-01-08T17:52:27.757828Z",
     "shell.execute_reply.started": "2024-01-08T17:52:17.996857Z"
    }
   },
   "outputs": [
    {
     "name": "stdout",
     "output_type": "stream",
     "text": [
      "Collecting imbalanced-learn==0.4.0\r\n",
      "\u001b[?25l  Downloading https://files.pythonhosted.org/packages/42/73/07459186288bdfbae30c50eca4b54e16473a1e0ceee5f9c79480d6dc9b50/imbalanced_learn-0.4.0-py3-none-any.whl (165kB)\r\n",
      "\u001b[K     |████████████████████████████████| 174kB 3.2MB/s \r\n",
      "\u001b[?25hRequirement already satisfied: scipy>=0.13.3 in /opt/conda/lib/python3.6/site-packages (from imbalanced-learn==0.4.0) (1.4.1)\r\n",
      "Requirement already satisfied: scikit-learn>=0.20 in /opt/conda/lib/python3.6/site-packages (from imbalanced-learn==0.4.0) (0.21.3)\r\n",
      "Requirement already satisfied: numpy>=1.8.2 in /opt/conda/lib/python3.6/site-packages (from imbalanced-learn==0.4.0) (1.18.1)\r\n",
      "Requirement already satisfied: joblib>=0.11 in /opt/conda/lib/python3.6/site-packages (from scikit-learn>=0.20->imbalanced-learn==0.4.0) (0.14.1)\r\n",
      "\u001b[31mERROR: kmeans-smote 0.1.2 has requirement numpy<1.16,>=1.13, but you'll have numpy 1.18.1 which is incompatible.\u001b[0m\r\n",
      "\u001b[31mERROR: kmeans-smote 0.1.2 has requirement scikit-learn<0.21,>=0.19.0, but you'll have scikit-learn 0.21.3 which is incompatible.\u001b[0m\r\n",
      "Installing collected packages: imbalanced-learn\r\n",
      "  Found existing installation: imbalanced-learn 0.6.1\r\n",
      "    Uninstalling imbalanced-learn-0.6.1:\r\n",
      "      Successfully uninstalled imbalanced-learn-0.6.1\r\n",
      "Successfully installed imbalanced-learn-0.4.0\r\n"
     ]
    },
    {
     "name": "stderr",
     "output_type": "stream",
     "text": [
      "/opt/conda/lib/python3.6/site-packages/sklearn/externals/six.py:31: DeprecationWarning: The module is deprecated in version 0.21 and will be removed in version 0.23 since we've dropped support for Python 2.7. Please rely on the official version of six (https://pypi.org/project/six/).\n",
      "  \"(https://pypi.org/project/six/).\", DeprecationWarning)\n"
     ]
    }
   ],
   "source": [
    "!pip install imbalanced-learn==0.4.0\n",
    "from imblearn.over_sampling import SMOTE\n",
    "import numpy as np\n",
    "\n",
    "def balance_classes_with_smote(x_train, y_train):\n",
    "    # Aplanar y_train si es necesario\n",
    "    y_train = y_train.flatten()\n",
    "\n",
    "    # Aplicar SMOTE\n",
    "    smote = SMOTE()\n",
    "    x_train_smote, y_train_smote = smote.fit_resample(x_train, y_train)\n",
    "\n",
    "    # Mezclar los datos\n",
    "    indices = np.arange(len(x_train_smote))\n",
    "    np.random.shuffle(indices)\n",
    "    return x_train_smote[indices], y_train_smote[indices]\n",
    "\n",
    "x_train, y_train = balance_classes_with_smote(x_train, y_train)\n",
    "x_cv, y_cv = balance_classes_with_smote(x_cv, y_cv)"
   ]
  },
  {
   "cell_type": "markdown",
   "metadata": {},
   "source": [
    "Se utiliza np.unique para encontrar y mostrar los valores únicos en y_train y sus respectivos conteos. Esto es útil para verificar la distribución de las clases después de aplicar el balanceo de clases, permitiendo confirmar que las clases ahora están equilibradas en términos de cantidad de muestras."
   ]
  },
  {
   "cell_type": "code",
   "execution_count": 8,
   "metadata": {
    "execution": {
     "iopub.execute_input": "2024-01-08T17:52:27.760139Z",
     "iopub.status.busy": "2024-01-08T17:52:27.759883Z",
     "iopub.status.idle": "2024-01-08T17:52:27.765603Z",
     "shell.execute_reply": "2024-01-08T17:52:27.764878Z",
     "shell.execute_reply.started": "2024-01-08T17:52:27.760084Z"
    }
   },
   "outputs": [
    {
     "name": "stdout",
     "output_type": "stream",
     "text": [
      "[0. 1. 2.]\n",
      "[1108 1108 1108]\n"
     ]
    }
   ],
   "source": [
    "# Usando np.unique para encontrar valores únicos y sus conteos\n",
    "valores_unicos, conteos = np.unique(y_train, return_counts=True)\n",
    "\n",
    "print(valores_unicos)  # Esto mostrará los valores únicos\n",
    "print(conteos) "
   ]
  },
  {
   "cell_type": "code",
   "execution_count": 9,
   "metadata": {
    "execution": {
     "iopub.execute_input": "2024-01-08T17:52:27.766959Z",
     "iopub.status.busy": "2024-01-08T17:52:27.766747Z",
     "iopub.status.idle": "2024-01-08T17:52:27.778476Z",
     "shell.execute_reply": "2024-01-08T17:52:27.777842Z",
     "shell.execute_reply.started": "2024-01-08T17:52:27.766923Z"
    }
   },
   "outputs": [
    {
     "name": "stdout",
     "output_type": "stream",
     "text": [
      "[0. 1. 2.]\n",
      "[475 475 475]\n"
     ]
    }
   ],
   "source": [
    "# Usando np.unique para encontrar valores únicos y sus conteos\n",
    "valores_unicos, conteos = np.unique(y_cv, return_counts=True)\n",
    "\n",
    "print(valores_unicos)  # Esto mostrará los valores únicos\n",
    "print(conteos) "
   ]
  },
  {
   "cell_type": "markdown",
   "metadata": {},
   "source": [
    "Se define una función para remodelar los datos como imágenes y luego aplica esta transformación a los conjuntos de entrenamiento, validación y prueba. Además, agrega una dimensión adicional para los canales de color, asumiendo un formato de imagen en color (3 canales). Finalmente, muestra las dimensiones finales de los conjuntos de datos."
   ]
  },
  {
   "cell_type": "code",
   "execution_count": 10,
   "metadata": {
    "execution": {
     "iopub.execute_input": "2024-01-08T17:52:27.779848Z",
     "iopub.status.busy": "2024-01-08T17:52:27.779617Z",
     "iopub.status.idle": "2024-01-08T17:52:27.835001Z",
     "shell.execute_reply": "2024-01-08T17:52:27.834278Z",
     "shell.execute_reply.started": "2024-01-08T17:52:27.779805Z"
    }
   },
   "outputs": [
    {
     "name": "stdout",
     "output_type": "stream",
     "text": [
      "final shape of x, y train/test (3324, 15, 15, 3) (3324,) (900, 15, 15, 3) (900,)\n"
     ]
    }
   ],
   "source": [
    "def reshape_as_image(x, img_width, img_height):\n",
    "    x_temp = np.zeros((len(x), img_height, img_width))\n",
    "    for i in range(x.shape[0]):\n",
    "        x_temp[i] = np.reshape(x[i], (img_height, img_width))\n",
    "\n",
    "    return x_temp\n",
    "\n",
    "num_features = 225\n",
    "dim = int(np.sqrt(num_features))\n",
    "x_train = reshape_as_image(x_train, dim, dim)\n",
    "x_cv = reshape_as_image(x_cv, dim, dim)\n",
    "x_test = reshape_as_image(x_test, dim, dim)\n",
    "# adding a 1-dim for channels (3)\n",
    "x_train = np.stack((x_train,) * 3, axis=-1)\n",
    "x_test = np.stack((x_test,) * 3, axis=-1)\n",
    "x_cv = np.stack((x_cv,) * 3, axis=-1)\n",
    "print(\"final shape of x, y train/test {} {} {} {}\".format(x_train.shape, y_train.shape, x_test.shape, y_test.shape))"
   ]
  },
  {
   "cell_type": "markdown",
   "metadata": {},
   "source": [
    "Se utiliza Matplotlib para visualizar imágenes aleatorias del conjunto de entrenamiento. Se configura un grid de 3x3 para mostrar 9 imágenes. Cada imagen se selecciona aleatoriamente, se muestra sin ejes y se etiqueta con su índice y clase correspondiente."
   ]
  },
  {
   "cell_type": "code",
   "execution_count": 11,
   "metadata": {
    "execution": {
     "iopub.execute_input": "2024-01-08T17:52:27.836516Z",
     "iopub.status.busy": "2024-01-08T17:52:27.836248Z",
     "iopub.status.idle": "2024-01-08T17:52:28.726848Z",
     "shell.execute_reply": "2024-01-08T17:52:28.726163Z",
     "shell.execute_reply.started": "2024-01-08T17:52:27.836468Z"
    }
   },
   "outputs": [
    {
     "data": {
      "image/png": "[encoded data removed]",
      "text/plain": [
       "<Figure size 1080x1080 with 9 Axes>"
      ]
     },
     "metadata": {
      "needs_background": "light"
     },
     "output_type": "display_data"
    }
   ],
   "source": [
    "from matplotlib import pyplot as plt\n",
    "%matplotlib inline\n",
    "\n",
    "fig = plt.figure(figsize=(15, 15))\n",
    "columns = rows = 3\n",
    "for i in range(1, columns*rows +1):\n",
    "    index = np.random.randint(len(x_train))\n",
    "    img = x_train[index]\n",
    "    fig.add_subplot(rows, columns, i)\n",
    "    plt.axis(\"off\")\n",
    "    plt.title('image_'+str(index)+'_class_'+str(np.argmax(y_train[index])), fontsize=10)\n",
    "    plt.subplots_adjust(wspace=0.2, hspace=0.2)\n",
    "    plt.imshow(img)\n",
    "plt.show()"
   ]
  },
  {
   "cell_type": "markdown",
   "metadata": {},
   "source": [
    "Se define la función \"f1_metric\" que es una métrica de F1 score general y se integra en el entorno de Keras para su uso en modelos de TensorFlow."
   ]
  },
  {
   "cell_type": "code",
   "execution_count": 12,
   "metadata": {
    "execution": {
     "iopub.execute_input": "2024-01-08T17:52:28.728289Z",
     "iopub.status.busy": "2024-01-08T17:52:28.728037Z",
     "iopub.status.idle": "2024-01-08T17:52:33.037517Z",
     "shell.execute_reply": "2024-01-08T17:52:33.036859Z",
     "shell.execute_reply.started": "2024-01-08T17:52:28.728244Z"
    }
   },
   "outputs": [],
   "source": [
    "from sklearn.utils.class_weight import compute_class_weight\n",
    "import tensorflow as tf\n",
    "from tensorflow.keras import backend as K\n",
    "from tensorflow.keras.utils import get_custom_objects\n",
    "\n",
    "def f1_metric(y_true, y_pred):\n",
    "\n",
    "    def recall(y_true, y_pred):\n",
    "        true_positives = K.sum(K.round(K.clip(y_true * y_pred, 0, 1)))  \n",
    "        possible_positives = K.sum(K.round(K.clip(y_true, 0, 1)))\n",
    "        recall = true_positives / (possible_positives + K.epsilon())\n",
    "        return recall\n",
    "\n",
    "    def precision(y_true, y_pred):\n",
    "        true_positives = K.sum(K.round(K.clip(y_true * y_pred, 0, 1)))\n",
    "        predicted_positives = K.sum(K.round(K.clip(y_pred, 0, 1)))\n",
    "        precision = true_positives / (predicted_positives + K.epsilon())\n",
    "        return precision\n",
    "\n",
    "    precision = precision(y_true, y_pred)\n",
    "    recall = recall(y_true, y_pred)\n",
    "\n",
    "    return 2 * ((precision * recall) / (precision + recall + K.epsilon()))\n",
    "\n",
    "get_custom_objects().update({\"f1_metric\": f1_metric})"
   ]
  },
  {
   "cell_type": "markdown",
   "metadata": {},
   "source": [
    "Se aplica codificación one-hot a las etiquetas de los conjuntos de entrenamiento, validación y prueba, transformándolas en formatos compatibles con modelos de clasificación multiclase, y muestra las dimensiones resultantes para cada conjunto."
   ]
  },
  {
   "cell_type": "code",
   "execution_count": 13,
   "metadata": {
    "execution": {
     "iopub.execute_input": "2024-01-08T17:52:33.039469Z",
     "iopub.status.busy": "2024-01-08T17:52:33.039039Z",
     "iopub.status.idle": "2024-01-08T17:52:33.058854Z",
     "shell.execute_reply": "2024-01-08T17:52:33.058080Z",
     "shell.execute_reply.started": "2024-01-08T17:52:33.039393Z"
    }
   },
   "outputs": [
    {
     "name": "stdout",
     "output_type": "stream",
     "text": [
      "y_train (3324, 3)\n",
      "y_cv (1425, 3)\n",
      "y_test (900, 3)\n"
     ]
    }
   ],
   "source": [
    "from sklearn.preprocessing import OneHotEncoder\n",
    "\n",
    "one_hot_enc = OneHotEncoder(sparse=False, categories='auto')  \n",
    "y_train = one_hot_enc.fit_transform(y_train.reshape(-1, 1))\n",
    "print(\"y_train\",y_train.shape)\n",
    "y_cv = one_hot_enc.transform(y_cv.reshape(-1, 1))\n",
    "y_test = one_hot_enc.transform(y_test.reshape(-1, 1))\n",
    "print(\"y_cv\",y_cv.shape)\n",
    "print(\"y_test\",y_test.shape)"
   ]
  },
  {
   "cell_type": "markdown",
   "metadata": {},
   "source": [
    "Se importa diversas clases y funciones de TensorFlow y Keras necesarias para construir y entrenar una red neuronal convolucional (CNN). Incluye componentes para el modelo (como capas y regularizadores), callbacks para el entrenamiento, optimizadores, y métricas de evaluación como F1 y AUC."
   ]
  },
  {
   "cell_type": "code",
   "execution_count": 14,
   "metadata": {
    "execution": {
     "iopub.execute_input": "2024-01-08T17:52:33.060587Z",
     "iopub.status.busy": "2024-01-08T17:52:33.060327Z",
     "iopub.status.idle": "2024-01-08T17:52:33.072435Z",
     "shell.execute_reply": "2024-01-08T17:52:33.071679Z",
     "shell.execute_reply.started": "2024-01-08T17:52:33.060531Z"
    }
   },
   "outputs": [],
   "source": [
    "from tensorflow.keras.models import Sequential, load_model, Model\n",
    "from tensorflow.keras.layers import Dense, Dropout, Flatten, Conv2D, MaxPooling2D, LeakyReLU\n",
    "from tensorflow.keras.callbacks import ModelCheckpoint, EarlyStopping, ReduceLROnPlateau, CSVLogger, Callback\n",
    "from tensorflow.keras import optimizers, regularizers\n",
    "from tensorflow.keras.regularizers import l2, l1, l1_l2\n",
    "from tensorflow.keras.initializers import RandomUniform, RandomNormal\n",
    "import tensorflow as tf\n",
    "from functools import *\n",
    "from sklearn.metrics import f1_score\n",
    "from tensorflow.keras.metrics import AUC\n",
    "\n"
   ]
  },
  {
   "cell_type": "markdown",
   "metadata": {},
   "source": [
    "Se define una función make_model para construir un modelo de red neuronal convolucional. La función make_model crea un modelo secuencial con capas convolucionales, de pooling, dropout y densas, y devuelve este modelo. Finalmente, se instancia un modelo utilizando esta función."
   ]
  },
  {
   "cell_type": "code",
   "execution_count": 15,
   "metadata": {
    "execution": {
     "iopub.execute_input": "2024-01-08T17:52:33.073910Z",
     "iopub.status.busy": "2024-01-08T17:52:33.073627Z",
     "iopub.status.idle": "2024-01-08T17:52:35.817104Z",
     "shell.execute_reply": "2024-01-08T17:52:35.816192Z",
     "shell.execute_reply.started": "2024-01-08T17:52:33.073863Z"
    }
   },
   "outputs": [],
   "source": [
    "def make_model(filter1=16, act1='relu', filter2=32, act2='relu', do1=.25, do2=.5, dense=32):\n",
    "    input_shape = (15, 15, 3)\n",
    "    cnn = Sequential([\n",
    "        Conv2D(filters=filter1,\n",
    "               kernel_size=3,\n",
    "               padding='same',\n",
    "               activation=act1,\n",
    "               input_shape=input_shape,\n",
    "               name='CONV1'),\n",
    "        Conv2D(filters=filter2,        \n",
    "               kernel_size=3,  \n",
    "               padding='same',\n",
    "               activation=act2,\n",
    "               name='CONV2'),\n",
    "        MaxPooling2D(pool_size=2, name='POOL2'),\n",
    "        Dropout(do1, name='DROP1'),\n",
    "        Flatten(name='FLAT1'),\n",
    "        Dense(dense, activation='relu', name='FC1'),\n",
    "        Dropout(do2, name='DROP2'),\n",
    "        Dense(3, activation='softmax', name='FC2')\n",
    "    ])\n",
    "    \n",
    "    return cnn\n",
    "\n",
    "model = make_model()"
   ]
  },
  {
   "cell_type": "markdown",
   "metadata": {},
   "source": [
    "Se configura callbacks para el entrenamiento del modelo:\n",
    "\n",
    "EarlyStopping detiene el entrenamiento si no hay mejora en la pérdida de validación.\n",
    "ReduceLROnPlateau reduce la tasa de aprendizaje si la pérdida de validación no mejora.\n",
    "ModelCheckpoint guarda el mejor modelo basado en la métrica de validación F1.\n",
    "También establece la ruta para guardar el mejor modelo."
   ]
  },
  {
   "cell_type": "code",
   "execution_count": 16,
   "metadata": {
    "execution": {
     "iopub.execute_input": "2024-01-08T17:52:35.818816Z",
     "iopub.status.busy": "2024-01-08T17:52:35.818515Z",
     "iopub.status.idle": "2024-01-08T17:52:35.826060Z",
     "shell.execute_reply": "2024-01-08T17:52:35.825216Z",
     "shell.execute_reply.started": "2024-01-08T17:52:35.818761Z"
    }
   },
   "outputs": [],
   "source": [
    "import os\n",
    "\n",
    "best_model_path = os.path.join('.', 'best_model_keras')\n",
    "es = EarlyStopping(monitor='val_loss', mode='min', verbose=1,\n",
    "                   patience=100, min_delta=0.0001)\n",
    "rlp = ReduceLROnPlateau(monitor='val_loss', factor=0.02, patience=20, verbose=1, mode='min',\n",
    "                        min_delta=0.001, cooldown=1, min_lr=0.0001)\n",
    "mcp = ModelCheckpoint(best_model_path, monitor='val_f1_metric', verbose=1,\n",
    "                      save_best_only=True, save_weights_only=False, mode='max', period=1)  "
   ]
  },
  {
   "cell_type": "markdown",
   "metadata": {},
   "source": [
    "Se compila el modelo configurando la función de pérdida como 'categorical_crossentropy' (adecuada para clasificación multiclase), el optimizador como 'adam' (un optimizador eficiente y popular), y las métricas para evaluar el modelo incluyen 'accuracy' y la métrica personalizada f1_metric."
   ]
  },
  {
   "cell_type": "code",
   "execution_count": 17,
   "metadata": {
    "execution": {
     "iopub.execute_input": "2024-01-08T17:52:35.827533Z",
     "iopub.status.busy": "2024-01-08T17:52:35.827275Z",
     "iopub.status.idle": "2024-01-08T17:52:35.899776Z",
     "shell.execute_reply": "2024-01-08T17:52:35.898989Z",
     "shell.execute_reply.started": "2024-01-08T17:52:35.827485Z"
    }
   },
   "outputs": [],
   "source": [
    "model.compile(loss='categorical_crossentropy', optimizer='adam', metrics=['accuracy', f1_metric])"
   ]
  },
  {
   "cell_type": "markdown",
   "metadata": {},
   "source": [
    "Se entrena el modelo utilizando el conjunto de entrenamiento con sus respectivos pesos de muestra. Se configura para un máximo de 3000 épocas, con un tamaño de lote de 32, y utilizando los datos de validación cruzada para la evaluación. Incluye los callbacks configurados previamente (ModelCheckpoint, ReduceLROnPlateau, EarlyStopping) y mide el tiempo de entrenamiento con el comando %%time."
   ]
  },
  {
   "cell_type": "code",
   "execution_count": 18,
   "metadata": {
    "execution": {
     "iopub.execute_input": "2024-01-08T17:52:35.901047Z",
     "iopub.status.busy": "2024-01-08T17:52:35.900822Z",
     "iopub.status.idle": "2024-01-08T17:53:35.407795Z",
     "shell.execute_reply": "2024-01-08T17:53:35.407058Z",
     "shell.execute_reply.started": "2024-01-08T17:52:35.901009Z"
    }
   },
   "outputs": [
    {
     "name": "stdout",
     "output_type": "stream",
     "text": [
      "Train on 3324 samples, validate on 1425 samples\n",
      "Epoch 1/3000\n",
      "3264/3324 [============================>.] - ETA: 0s - loss: 0.8163 - accuracy: 0.5971 - f1_metric: 0.4624\n",
      "Epoch 00001: val_f1_metric improved from -inf to 0.66232, saving model to ./best_model_keras\n",
      "3324/3324 [==============================] - 5s 2ms/sample - loss: 0.8136 - accuracy: 0.5993 - f1_metric: 0.4667 - val_loss: 0.6635 - val_accuracy: 0.6856 - val_f1_metric: 0.6623\n",
      "Epoch 2/3000\n",
      "3264/3324 [============================>.] - ETA: 0s - loss: 0.6346 - accuracy: 0.7108 - f1_metric: 0.6902\n",
      "Epoch 00002: val_f1_metric improved from 0.66232 to 0.68917, saving model to ./best_model_keras\n",
      "3324/3324 [==============================] - 1s 425us/sample - loss: 0.6348 - accuracy: 0.7109 - f1_metric: 0.6901 - val_loss: 0.6279 - val_accuracy: 0.6933 - val_f1_metric: 0.6892\n",
      "Epoch 3/3000\n",
      "3136/3324 [===========================>..] - ETA: 0s - loss: 0.6075 - accuracy: 0.7296 - f1_metric: 0.7137\n",
      "Epoch 00003: val_f1_metric improved from 0.68917 to 0.71075, saving model to ./best_model_keras\n",
      "3324/3324 [==============================] - 1s 429us/sample - loss: 0.6095 - accuracy: 0.7268 - f1_metric: 0.7113 - val_loss: 0.6010 - val_accuracy: 0.7130 - val_f1_metric: 0.7108\n",
      "Epoch 4/3000\n",
      "3296/3324 [============================>.] - ETA: 0s - loss: 0.5829 - accuracy: 0.7427 - f1_metric: 0.7251\n",
      "Epoch 00004: val_f1_metric did not improve from 0.71075\n",
      "3324/3324 [==============================] - 1s 153us/sample - loss: 0.5820 - accuracy: 0.7434 - f1_metric: 0.7259 - val_loss: 0.6222 - val_accuracy: 0.7088 - val_f1_metric: 0.7082\n",
      "Epoch 5/3000\n",
      "3296/3324 [============================>.] - ETA: 0s - loss: 0.5582 - accuracy: 0.7573 - f1_metric: 0.7494\n",
      "Epoch 00005: val_f1_metric did not improve from 0.71075\n",
      "3324/3324 [==============================] - 1s 152us/sample - loss: 0.5571 - accuracy: 0.7584 - f1_metric: 0.7506 - val_loss: 0.5968 - val_accuracy: 0.7095 - val_f1_metric: 0.7084\n",
      "Epoch 6/3000\n",
      "2880/3324 [========================>.....] - ETA: 0s - loss: 0.5619 - accuracy: 0.7646 - f1_metric: 0.7547\n",
      "Epoch 00006: val_f1_metric did not improve from 0.71075\n",
      "3324/3324 [==============================] - 0s 150us/sample - loss: 0.5635 - accuracy: 0.7605 - f1_metric: 0.7509 - val_loss: 0.6113 - val_accuracy: 0.7081 - val_f1_metric: 0.7083\n",
      "Epoch 7/3000\n",
      "2912/3324 [=========================>....] - ETA: 0s - loss: 0.5553 - accuracy: 0.7606 - f1_metric: 0.7527\n",
      "Epoch 00007: val_f1_metric improved from 0.71075 to 0.74473, saving model to ./best_model_keras\n",
      "3324/3324 [==============================] - 2s 460us/sample - loss: 0.5529 - accuracy: 0.7635 - f1_metric: 0.7548 - val_loss: 0.5647 - val_accuracy: 0.7453 - val_f1_metric: 0.7447\n",
      "Epoch 8/3000\n",
      "2848/3324 [========================>.....] - ETA: 0s - loss: 0.5486 - accuracy: 0.7633 - f1_metric: 0.7537\n",
      "Epoch 00008: val_f1_metric did not improve from 0.74473\n",
      "3324/3324 [==============================] - 1s 152us/sample - loss: 0.5476 - accuracy: 0.7632 - f1_metric: 0.7543 - val_loss: 0.5790 - val_accuracy: 0.7340 - val_f1_metric: 0.7334\n",
      "Epoch 9/3000\n",
      "3264/3324 [============================>.] - ETA: 0s - loss: 0.5288 - accuracy: 0.7767 - f1_metric: 0.7708\n",
      "Epoch 00009: val_f1_metric did not improve from 0.74473\n",
      "3324/3324 [==============================] - 0s 150us/sample - loss: 0.5289 - accuracy: 0.7765 - f1_metric: 0.7706 - val_loss: 0.5824 - val_accuracy: 0.7270 - val_f1_metric: 0.7268\n",
      "Epoch 10/3000\n",
      "2912/3324 [=========================>....] - ETA: 0s - loss: 0.5278 - accuracy: 0.7740 - f1_metric: 0.7681\n",
      "Epoch 00010: val_f1_metric did not improve from 0.74473\n",
      "3324/3324 [==============================] - 1s 165us/sample - loss: 0.5289 - accuracy: 0.7720 - f1_metric: 0.7667 - val_loss: 0.5543 - val_accuracy: 0.7368 - val_f1_metric: 0.7359\n",
      "Epoch 11/3000\n",
      "3264/3324 [============================>.] - ETA: 0s - loss: 0.5139 - accuracy: 0.7831 - f1_metric: 0.7756\n",
      "Epoch 00011: val_f1_metric did not improve from 0.74473\n",
      "3324/3324 [==============================] - 1s 151us/sample - loss: 0.5131 - accuracy: 0.7828 - f1_metric: 0.7758 - val_loss: 0.5659 - val_accuracy: 0.7298 - val_f1_metric: 0.7290\n",
      "Epoch 12/3000\n",
      "3136/3324 [===========================>..] - ETA: 0s - loss: 0.5003 - accuracy: 0.7892 - f1_metric: 0.7842\n",
      "Epoch 00012: val_f1_metric did not improve from 0.74473\n",
      "3324/3324 [==============================] - 1s 159us/sample - loss: 0.5009 - accuracy: 0.7882 - f1_metric: 0.7834 - val_loss: 0.5951 - val_accuracy: 0.7074 - val_f1_metric: 0.7067\n",
      "Epoch 13/3000\n",
      "3136/3324 [===========================>..] - ETA: 0s - loss: 0.4989 - accuracy: 0.7879 - f1_metric: 0.7835\n",
      "Epoch 00013: val_f1_metric did not improve from 0.74473\n",
      "3324/3324 [==============================] - 1s 156us/sample - loss: 0.5006 - accuracy: 0.7873 - f1_metric: 0.7829 - val_loss: 0.5422 - val_accuracy: 0.7439 - val_f1_metric: 0.7422\n",
      "Epoch 14/3000\n",
      "3200/3324 [===========================>..] - ETA: 0s - loss: 0.4908 - accuracy: 0.7937 - f1_metric: 0.7891\n",
      "Epoch 00014: val_f1_metric did not improve from 0.74473\n",
      "3324/3324 [==============================] - 1s 156us/sample - loss: 0.4929 - accuracy: 0.7918 - f1_metric: 0.7876 - val_loss: 0.5732 - val_accuracy: 0.7284 - val_f1_metric: 0.7282\n",
      "Epoch 15/3000\n",
      "3296/3324 [============================>.] - ETA: 0s - loss: 0.4953 - accuracy: 0.7949 - f1_metric: 0.7904\n",
      "Epoch 00015: val_f1_metric did not improve from 0.74473\n",
      "3324/3324 [==============================] - 1s 151us/sample - loss: 0.4959 - accuracy: 0.7948 - f1_metric: 0.7901 - val_loss: 0.5674 - val_accuracy: 0.7228 - val_f1_metric: 0.7226\n",
      "Epoch 16/3000\n",
      "3200/3324 [===========================>..] - ETA: 0s - loss: 0.4850 - accuracy: 0.7922 - f1_metric: 0.7899\n",
      "Epoch 00016: val_f1_metric did not improve from 0.74473\n",
      "3324/3324 [==============================] - 1s 153us/sample - loss: 0.4838 - accuracy: 0.7930 - f1_metric: 0.7907 - val_loss: 0.5522 - val_accuracy: 0.7439 - val_f1_metric: 0.7435\n",
      "Epoch 17/3000\n",
      "3232/3324 [============================>.] - ETA: 0s - loss: 0.4855 - accuracy: 0.7896 - f1_metric: 0.7837\n",
      "Epoch 00017: val_f1_metric did not improve from 0.74473\n",
      "3324/3324 [==============================] - 1s 152us/sample - loss: 0.4849 - accuracy: 0.7894 - f1_metric: 0.7836 - val_loss: 0.5831 - val_accuracy: 0.7256 - val_f1_metric: 0.7254\n",
      "Epoch 18/3000\n",
      "3200/3324 [===========================>..] - ETA: 0s - loss: 0.4810 - accuracy: 0.7981 - f1_metric: 0.7919\n",
      "Epoch 00018: val_f1_metric did not improve from 0.74473\n",
      "3324/3324 [==============================] - 1s 154us/sample - loss: 0.4821 - accuracy: 0.7969 - f1_metric: 0.7911 - val_loss: 0.5681 - val_accuracy: 0.7284 - val_f1_metric: 0.7282\n",
      "Epoch 19/3000\n",
      "3296/3324 [============================>.] - ETA: 0s - loss: 0.4789 - accuracy: 0.8028 - f1_metric: 0.7994\n",
      "Epoch 00019: val_f1_metric did not improve from 0.74473\n",
      "3324/3324 [==============================] - 0s 150us/sample - loss: 0.4790 - accuracy: 0.8026 - f1_metric: 0.7993 - val_loss: 0.5738 - val_accuracy: 0.7361 - val_f1_metric: 0.7358\n",
      "Epoch 20/3000\n",
      "3264/3324 [============================>.] - ETA: 0s - loss: 0.4703 - accuracy: 0.7984 - f1_metric: 0.7942\n",
      "Epoch 00020: val_f1_metric did not improve from 0.74473\n",
      "3324/3324 [==============================] - 1s 152us/sample - loss: 0.4697 - accuracy: 0.7990 - f1_metric: 0.7947 - val_loss: 0.6025 - val_accuracy: 0.7172 - val_f1_metric: 0.7165\n",
      "Epoch 21/3000\n",
      "2880/3324 [========================>.....] - ETA: 0s - loss: 0.4648 - accuracy: 0.8101 - f1_metric: 0.8073\n",
      "Epoch 00021: val_f1_metric did not improve from 0.74473\n",
      "3324/3324 [==============================] - 0s 150us/sample - loss: 0.4670 - accuracy: 0.8069 - f1_metric: 0.8036 - val_loss: 0.5797 - val_accuracy: 0.7354 - val_f1_metric: 0.7351\n",
      "Epoch 22/3000\n",
      "3264/3324 [============================>.] - ETA: 0s - loss: 0.4554 - accuracy: 0.8042 - f1_metric: 0.7998\n",
      "Epoch 00022: val_f1_metric did not improve from 0.74473\n",
      "3324/3324 [==============================] - 1s 152us/sample - loss: 0.4551 - accuracy: 0.8051 - f1_metric: 0.8006 - val_loss: 0.6156 - val_accuracy: 0.7144 - val_f1_metric: 0.7143\n",
      "Epoch 23/3000\n",
      "3296/3324 [============================>.] - ETA: 0s - loss: 0.4674 - accuracy: 0.7998 - f1_metric: 0.7963\n",
      "Epoch 00023: val_f1_metric did not improve from 0.74473\n",
      "3324/3324 [==============================] - 1s 152us/sample - loss: 0.4686 - accuracy: 0.7990 - f1_metric: 0.7956 - val_loss: 0.6233 - val_accuracy: 0.7165 - val_f1_metric: 0.7164\n",
      "Epoch 24/3000\n",
      "3296/3324 [============================>.] - ETA: 0s - loss: 0.4597 - accuracy: 0.8061 - f1_metric: 0.8017\n",
      "Epoch 00024: val_f1_metric did not improve from 0.74473\n",
      "3324/3324 [==============================] - 1s 154us/sample - loss: 0.4621 - accuracy: 0.8045 - f1_metric: 0.7998 - val_loss: 0.5949 - val_accuracy: 0.7284 - val_f1_metric: 0.7276\n",
      "Epoch 25/3000\n",
      "2848/3324 [========================>.....] - ETA: 0s - loss: 0.4544 - accuracy: 0.8136 - f1_metric: 0.8130\n",
      "Epoch 00025: val_f1_metric did not improve from 0.74473\n",
      "3324/3324 [==============================] - 1s 151us/sample - loss: 0.4511 - accuracy: 0.8183 - f1_metric: 0.8179 - val_loss: 0.5833 - val_accuracy: 0.7305 - val_f1_metric: 0.7297\n",
      "Epoch 26/3000\n",
      "3200/3324 [===========================>..] - ETA: 0s - loss: 0.4448 - accuracy: 0.8116 - f1_metric: 0.8122\n",
      "Epoch 00026: val_f1_metric did not improve from 0.74473\n",
      "3324/3324 [==============================] - 1s 154us/sample - loss: 0.4480 - accuracy: 0.8102 - f1_metric: 0.8109 - val_loss: 0.6665 - val_accuracy: 0.7186 - val_f1_metric: 0.7179\n",
      "Epoch 27/3000\n",
      "2880/3324 [========================>.....] - ETA: 0s - loss: 0.4409 - accuracy: 0.8174 - f1_metric: 0.8183\n",
      "Epoch 00027: val_f1_metric did not improve from 0.74473\n",
      "3324/3324 [==============================] - 0s 149us/sample - loss: 0.4458 - accuracy: 0.8177 - f1_metric: 0.8184 - val_loss: 0.5826 - val_accuracy: 0.7361 - val_f1_metric: 0.7358\n",
      "Epoch 28/3000\n",
      "3296/3324 [============================>.] - ETA: 0s - loss: 0.4450 - accuracy: 0.8195 - f1_metric: 0.8194\n",
      "Epoch 00028: val_f1_metric did not improve from 0.74473\n",
      "3324/3324 [==============================] - 1s 153us/sample - loss: 0.4455 - accuracy: 0.8192 - f1_metric: 0.8190 - val_loss: 0.5983 - val_accuracy: 0.7305 - val_f1_metric: 0.7303\n",
      "Epoch 29/3000\n",
      "2912/3324 [=========================>....] - ETA: 0s - loss: 0.4255 - accuracy: 0.8276 - f1_metric: 0.8275\n",
      "Epoch 00029: val_f1_metric did not improve from 0.74473\n",
      "3324/3324 [==============================] - 0s 148us/sample - loss: 0.4301 - accuracy: 0.8231 - f1_metric: 0.8231 - val_loss: 0.6298 - val_accuracy: 0.7214 - val_f1_metric: 0.7212\n",
      "Epoch 30/3000\n",
      "3040/3324 [==========================>...] - ETA: 0s - loss: 0.4349 - accuracy: 0.8194 - f1_metric: 0.8194\n",
      "Epoch 00030: val_f1_metric did not improve from 0.74473\n",
      "3324/3324 [==============================] - 1s 158us/sample - loss: 0.4382 - accuracy: 0.8174 - f1_metric: 0.8173 - val_loss: 0.6395 - val_accuracy: 0.7123 - val_f1_metric: 0.7110\n",
      "Epoch 31/3000\n",
      "3008/3324 [==========================>...] - ETA: 0s - loss: 0.4271 - accuracy: 0.8221 - f1_metric: 0.8220\n",
      "Epoch 00031: val_f1_metric did not improve from 0.74473\n",
      "3324/3324 [==============================] - 0s 143us/sample - loss: 0.4288 - accuracy: 0.8204 - f1_metric: 0.8204 - val_loss: 0.5994 - val_accuracy: 0.7319 - val_f1_metric: 0.7310\n",
      "Epoch 32/3000\n",
      "3296/3324 [============================>.] - ETA: 0s - loss: 0.4264 - accuracy: 0.8183 - f1_metric: 0.8186\n",
      "Epoch 00032: val_f1_metric did not improve from 0.74473\n",
      "3324/3324 [==============================] - 0s 150us/sample - loss: 0.4270 - accuracy: 0.8177 - f1_metric: 0.8180 - val_loss: 0.6422 - val_accuracy: 0.7011 - val_f1_metric: 0.6993\n",
      "Epoch 33/3000\n",
      "2944/3324 [=========================>....] - ETA: 0s - loss: 0.4185 - accuracy: 0.8237 - f1_metric: 0.8239\n",
      "Epoch 00033: val_f1_metric did not improve from 0.74473\n",
      "\n",
      "Epoch 00033: ReduceLROnPlateau reducing learning rate to 0.0001.\n",
      "3324/3324 [==============================] - 0s 145us/sample - loss: 0.4217 - accuracy: 0.8213 - f1_metric: 0.8216 - val_loss: 0.5837 - val_accuracy: 0.7340 - val_f1_metric: 0.7325\n",
      "Epoch 34/3000\n",
      "2880/3324 [========================>.....] - ETA: 0s - loss: 0.4126 - accuracy: 0.8247 - f1_metric: 0.8246\n",
      "Epoch 00034: val_f1_metric did not improve from 0.74473\n",
      "3324/3324 [==============================] - 0s 149us/sample - loss: 0.4142 - accuracy: 0.8243 - f1_metric: 0.8241 - val_loss: 0.6460 - val_accuracy: 0.7060 - val_f1_metric: 0.7047\n",
      "Epoch 35/3000\n",
      "3264/3324 [============================>.] - ETA: 0s - loss: 0.4082 - accuracy: 0.8297 - f1_metric: 0.8291\n",
      "Epoch 00035: val_f1_metric did not improve from 0.74473\n",
      "3324/3324 [==============================] - 1s 152us/sample - loss: 0.4106 - accuracy: 0.8288 - f1_metric: 0.8284 - val_loss: 0.6574 - val_accuracy: 0.7025 - val_f1_metric: 0.7013\n",
      "Epoch 36/3000\n",
      "2880/3324 [========================>.....] - ETA: 0s - loss: 0.3989 - accuracy: 0.8368 - f1_metric: 0.8370\n",
      "Epoch 00036: val_f1_metric did not improve from 0.74473\n",
      "3324/3324 [==============================] - 0s 147us/sample - loss: 0.4001 - accuracy: 0.8366 - f1_metric: 0.8366 - val_loss: 0.6818 - val_accuracy: 0.7025 - val_f1_metric: 0.7013\n",
      "Epoch 37/3000\n",
      "2944/3324 [=========================>....] - ETA: 0s - loss: 0.4006 - accuracy: 0.8295 - f1_metric: 0.8290\n",
      "Epoch 00037: val_f1_metric did not improve from 0.74473\n",
      "3324/3324 [==============================] - 0s 146us/sample - loss: 0.3971 - accuracy: 0.8345 - f1_metric: 0.8339 - val_loss: 0.6709 - val_accuracy: 0.7088 - val_f1_metric: 0.7075\n",
      "Epoch 38/3000\n",
      "2848/3324 [========================>.....] - ETA: 0s - loss: 0.4088 - accuracy: 0.8336 - f1_metric: 0.8335\n",
      "Epoch 00038: val_f1_metric did not improve from 0.74473\n",
      "3324/3324 [==============================] - 0s 147us/sample - loss: 0.4098 - accuracy: 0.8342 - f1_metric: 0.8341 - val_loss: 0.6644 - val_accuracy: 0.7095 - val_f1_metric: 0.7082\n",
      "Epoch 39/3000\n",
      "3008/3324 [==========================>...] - ETA: 0s - loss: 0.3935 - accuracy: 0.8434 - f1_metric: 0.8438\n",
      "Epoch 00039: val_f1_metric did not improve from 0.74473\n",
      "3324/3324 [==============================] - 0s 142us/sample - loss: 0.3901 - accuracy: 0.8451 - f1_metric: 0.8454 - val_loss: 0.6562 - val_accuracy: 0.7158 - val_f1_metric: 0.7145\n",
      "Epoch 40/3000\n",
      "2944/3324 [=========================>....] - ETA: 0s - loss: 0.3852 - accuracy: 0.8434 - f1_metric: 0.8433\n",
      "Epoch 00040: val_f1_metric did not improve from 0.74473\n",
      "3324/3324 [==============================] - 0s 143us/sample - loss: 0.3822 - accuracy: 0.8457 - f1_metric: 0.8455 - val_loss: 0.6843 - val_accuracy: 0.7039 - val_f1_metric: 0.7027\n",
      "Epoch 41/3000\n",
      "2944/3324 [=========================>....] - ETA: 0s - loss: 0.3905 - accuracy: 0.8417 - f1_metric: 0.8416\n",
      "Epoch 00041: val_f1_metric did not improve from 0.74473\n",
      "3324/3324 [==============================] - 0s 144us/sample - loss: 0.3937 - accuracy: 0.8418 - f1_metric: 0.8415 - val_loss: 0.6948 - val_accuracy: 0.7032 - val_f1_metric: 0.7020\n",
      "Epoch 42/3000\n",
      "2944/3324 [=========================>....] - ETA: 0s - loss: 0.3853 - accuracy: 0.8471 - f1_metric: 0.8471\n",
      "Epoch 00042: val_f1_metric did not improve from 0.74473\n",
      "3324/3324 [==============================] - 0s 145us/sample - loss: 0.3864 - accuracy: 0.8457 - f1_metric: 0.8455 - val_loss: 0.7060 - val_accuracy: 0.7011 - val_f1_metric: 0.6999\n",
      "Epoch 43/3000\n",
      "2912/3324 [=========================>....] - ETA: 0s - loss: 0.3976 - accuracy: 0.8403 - f1_metric: 0.8404\n",
      "Epoch 00043: val_f1_metric did not improve from 0.74473\n",
      "3324/3324 [==============================] - 0s 145us/sample - loss: 0.4000 - accuracy: 0.8378 - f1_metric: 0.8379 - val_loss: 0.6894 - val_accuracy: 0.7109 - val_f1_metric: 0.7096\n",
      "Epoch 44/3000\n",
      "2944/3324 [=========================>....] - ETA: 0s - loss: 0.3991 - accuracy: 0.8380 - f1_metric: 0.8382\n",
      "Epoch 00044: val_f1_metric did not improve from 0.74473\n",
      "3324/3324 [==============================] - 0s 144us/sample - loss: 0.3925 - accuracy: 0.8409 - f1_metric: 0.8410 - val_loss: 0.6794 - val_accuracy: 0.7109 - val_f1_metric: 0.7102\n",
      "Epoch 45/3000\n",
      "2912/3324 [=========================>....] - ETA: 0s - loss: 0.3866 - accuracy: 0.8420 - f1_metric: 0.8419\n",
      "Epoch 00045: val_f1_metric did not improve from 0.74473\n",
      "3324/3324 [==============================] - 0s 143us/sample - loss: 0.3869 - accuracy: 0.8415 - f1_metric: 0.8412 - val_loss: 0.6866 - val_accuracy: 0.7081 - val_f1_metric: 0.7074\n",
      "Epoch 46/3000\n",
      "3008/3324 [==========================>...] - ETA: 0s - loss: 0.3798 - accuracy: 0.8494 - f1_metric: 0.8487\n",
      "Epoch 00046: val_f1_metric did not improve from 0.74473\n",
      "3324/3324 [==============================] - 0s 144us/sample - loss: 0.3831 - accuracy: 0.8463 - f1_metric: 0.8455 - val_loss: 0.7158 - val_accuracy: 0.7018 - val_f1_metric: 0.7006\n",
      "Epoch 47/3000\n",
      "3296/3324 [============================>.] - ETA: 0s - loss: 0.3914 - accuracy: 0.8425 - f1_metric: 0.8427\n",
      "Epoch 00047: val_f1_metric did not improve from 0.74473\n",
      "3324/3324 [==============================] - 0s 150us/sample - loss: 0.3919 - accuracy: 0.8421 - f1_metric: 0.8422 - val_loss: 0.6849 - val_accuracy: 0.7095 - val_f1_metric: 0.7082\n",
      "Epoch 48/3000\n",
      "3008/3324 [==========================>...] - ETA: 0s - loss: 0.3831 - accuracy: 0.8477 - f1_metric: 0.8479\n",
      "Epoch 00048: val_f1_metric did not improve from 0.74473\n",
      "3324/3324 [==============================] - 0s 143us/sample - loss: 0.3873 - accuracy: 0.8460 - f1_metric: 0.8460 - val_loss: 0.7058 - val_accuracy: 0.7095 - val_f1_metric: 0.7088\n",
      "Epoch 49/3000\n",
      "2880/3324 [========================>.....] - ETA: 0s - loss: 0.3846 - accuracy: 0.8486 - f1_metric: 0.8486\n",
      "Epoch 00049: val_f1_metric did not improve from 0.74473\n",
      "3324/3324 [==============================] - 0s 148us/sample - loss: 0.3885 - accuracy: 0.8460 - f1_metric: 0.8463 - val_loss: 0.7051 - val_accuracy: 0.7025 - val_f1_metric: 0.7019\n",
      "Epoch 50/3000\n",
      "3136/3324 [===========================>..] - ETA: 0s - loss: 0.3859 - accuracy: 0.8444 - f1_metric: 0.8444\n",
      "Epoch 00050: val_f1_metric did not improve from 0.74473\n",
      "3324/3324 [==============================] - 1s 176us/sample - loss: 0.3863 - accuracy: 0.8433 - f1_metric: 0.8434 - val_loss: 0.7082 - val_accuracy: 0.7025 - val_f1_metric: 0.7019\n",
      "Epoch 51/3000\n",
      "2976/3324 [=========================>....] - ETA: 0s - loss: 0.3827 - accuracy: 0.8495 - f1_metric: 0.8494\n",
      "Epoch 00051: val_f1_metric did not improve from 0.74473\n",
      "3324/3324 [==============================] - 1s 186us/sample - loss: 0.3842 - accuracy: 0.8472 - f1_metric: 0.8472 - val_loss: 0.7063 - val_accuracy: 0.7074 - val_f1_metric: 0.7067\n",
      "Epoch 52/3000\n",
      "2976/3324 [=========================>....] - ETA: 0s - loss: 0.3858 - accuracy: 0.8414 - f1_metric: 0.8415\n",
      "Epoch 00052: val_f1_metric did not improve from 0.74473\n",
      "3324/3324 [==============================] - 1s 185us/sample - loss: 0.3813 - accuracy: 0.8439 - f1_metric: 0.8440 - val_loss: 0.7138 - val_accuracy: 0.7046 - val_f1_metric: 0.7040\n",
      "Epoch 53/3000\n",
      "2912/3324 [=========================>....] - ETA: 0s - loss: 0.3868 - accuracy: 0.8475 - f1_metric: 0.8475\n",
      "Epoch 00053: val_f1_metric did not improve from 0.74473\n",
      "3324/3324 [==============================] - 1s 168us/sample - loss: 0.3839 - accuracy: 0.8496 - f1_metric: 0.8497 - val_loss: 0.7087 - val_accuracy: 0.7025 - val_f1_metric: 0.7019\n",
      "Epoch 54/3000\n",
      "3264/3324 [============================>.] - ETA: 0s - loss: 0.3807 - accuracy: 0.8441 - f1_metric: 0.8444\n",
      "Epoch 00054: val_f1_metric did not improve from 0.74473\n",
      "3324/3324 [==============================] - 1s 153us/sample - loss: 0.3793 - accuracy: 0.8448 - f1_metric: 0.8452 - val_loss: 0.7091 - val_accuracy: 0.7088 - val_f1_metric: 0.7081\n",
      "Epoch 55/3000\n",
      "2848/3324 [========================>.....] - ETA: 0s - loss: 0.3786 - accuracy: 0.8434 - f1_metric: 0.8436\n",
      "Epoch 00055: val_f1_metric did not improve from 0.74473\n",
      "3324/3324 [==============================] - 1s 151us/sample - loss: 0.3786 - accuracy: 0.8448 - f1_metric: 0.8447 - val_loss: 0.6965 - val_accuracy: 0.7004 - val_f1_metric: 0.6998\n",
      "Epoch 56/3000\n",
      "2880/3324 [========================>.....] - ETA: 0s - loss: 0.3698 - accuracy: 0.8562 - f1_metric: 0.8565\n",
      "Epoch 00056: val_f1_metric did not improve from 0.74473\n",
      "3324/3324 [==============================] - 1s 151us/sample - loss: 0.3742 - accuracy: 0.8553 - f1_metric: 0.8556 - val_loss: 0.7209 - val_accuracy: 0.6954 - val_f1_metric: 0.6949\n",
      "Epoch 57/3000\n",
      "3232/3324 [============================>.] - ETA: 0s - loss: 0.3770 - accuracy: 0.8478 - f1_metric: 0.8478\n",
      "Epoch 00057: val_f1_metric did not improve from 0.74473\n",
      "3324/3324 [==============================] - 1s 155us/sample - loss: 0.3773 - accuracy: 0.8478 - f1_metric: 0.8476 - val_loss: 0.7343 - val_accuracy: 0.6947 - val_f1_metric: 0.6942\n",
      "Epoch 58/3000\n",
      "3232/3324 [============================>.] - ETA: 0s - loss: 0.3842 - accuracy: 0.8422 - f1_metric: 0.8414\n",
      "Epoch 00058: val_f1_metric did not improve from 0.74473\n",
      "3324/3324 [==============================] - 1s 154us/sample - loss: 0.3836 - accuracy: 0.8427 - f1_metric: 0.8419 - val_loss: 0.7379 - val_accuracy: 0.6877 - val_f1_metric: 0.6873\n",
      "Epoch 59/3000\n",
      "2880/3324 [========================>.....] - ETA: 0s - loss: 0.3738 - accuracy: 0.8483 - f1_metric: 0.8489\n",
      "Epoch 00059: val_f1_metric did not improve from 0.74473\n",
      "3324/3324 [==============================] - 0s 150us/sample - loss: 0.3770 - accuracy: 0.8457 - f1_metric: 0.8464 - val_loss: 0.7057 - val_accuracy: 0.7025 - val_f1_metric: 0.7019\n",
      "Epoch 60/3000\n",
      "3264/3324 [============================>.] - ETA: 0s - loss: 0.3806 - accuracy: 0.8477 - f1_metric: 0.8478\n",
      "Epoch 00060: val_f1_metric did not improve from 0.74473\n",
      "3324/3324 [==============================] - 1s 150us/sample - loss: 0.3819 - accuracy: 0.8478 - f1_metric: 0.8478 - val_loss: 0.7188 - val_accuracy: 0.6912 - val_f1_metric: 0.6908\n",
      "Epoch 61/3000\n",
      "2880/3324 [========================>.....] - ETA: 0s - loss: 0.3720 - accuracy: 0.8521 - f1_metric: 0.8514\n",
      "Epoch 00061: val_f1_metric did not improve from 0.74473\n",
      "3324/3324 [==============================] - 0s 148us/sample - loss: 0.3726 - accuracy: 0.8517 - f1_metric: 0.8509 - val_loss: 0.7117 - val_accuracy: 0.6996 - val_f1_metric: 0.6991\n",
      "Epoch 62/3000\n",
      "2880/3324 [========================>.....] - ETA: 0s - loss: 0.3826 - accuracy: 0.8490 - f1_metric: 0.8490\n",
      "Epoch 00062: val_f1_metric did not improve from 0.74473\n",
      "3324/3324 [==============================] - 1s 151us/sample - loss: 0.3859 - accuracy: 0.8466 - f1_metric: 0.8466 - val_loss: 0.7056 - val_accuracy: 0.7025 - val_f1_metric: 0.7019\n",
      "Epoch 63/3000\n",
      "2880/3324 [========================>.....] - ETA: 0s - loss: 0.3753 - accuracy: 0.8500 - f1_metric: 0.8501\n",
      "Epoch 00063: val_f1_metric did not improve from 0.74473\n",
      "3324/3324 [==============================] - 0s 150us/sample - loss: 0.3753 - accuracy: 0.8493 - f1_metric: 0.8491 - val_loss: 0.7348 - val_accuracy: 0.6912 - val_f1_metric: 0.6908\n",
      "Epoch 64/3000\n",
      "2848/3324 [========================>.....] - ETA: 0s - loss: 0.3738 - accuracy: 0.8466 - f1_metric: 0.8468\n",
      "Epoch 00064: val_f1_metric did not improve from 0.74473\n",
      "3324/3324 [==============================] - 0s 150us/sample - loss: 0.3755 - accuracy: 0.8454 - f1_metric: 0.8455 - val_loss: 0.7456 - val_accuracy: 0.6926 - val_f1_metric: 0.6922\n",
      "Epoch 65/3000\n",
      "3296/3324 [============================>.] - ETA: 0s - loss: 0.3792 - accuracy: 0.8438 - f1_metric: 0.8439\n",
      "Epoch 00065: val_f1_metric did not improve from 0.74473\n",
      "3324/3324 [==============================] - 1s 151us/sample - loss: 0.3787 - accuracy: 0.8442 - f1_metric: 0.8444 - val_loss: 0.7147 - val_accuracy: 0.7039 - val_f1_metric: 0.7033\n",
      "Epoch 66/3000\n",
      "2848/3324 [========================>.....] - ETA: 0s - loss: 0.3576 - accuracy: 0.8557 - f1_metric: 0.8561\n",
      "Epoch 00066: val_f1_metric did not improve from 0.74473\n",
      "3324/3324 [==============================] - 1s 151us/sample - loss: 0.3618 - accuracy: 0.8517 - f1_metric: 0.8522 - val_loss: 0.7713 - val_accuracy: 0.6877 - val_f1_metric: 0.6873\n",
      "Epoch 67/3000\n",
      "2848/3324 [========================>.....] - ETA: 0s - loss: 0.3706 - accuracy: 0.8515 - f1_metric: 0.8513\n",
      "Epoch 00067: val_f1_metric did not improve from 0.74473\n",
      "3324/3324 [==============================] - 0s 150us/sample - loss: 0.3666 - accuracy: 0.8538 - f1_metric: 0.8537 - val_loss: 0.7456 - val_accuracy: 0.6961 - val_f1_metric: 0.6956\n",
      "Epoch 68/3000\n",
      "3232/3324 [============================>.] - ETA: 0s - loss: 0.3752 - accuracy: 0.8518 - f1_metric: 0.8514\n",
      "Epoch 00068: val_f1_metric did not improve from 0.74473\n",
      "3324/3324 [==============================] - 1s 154us/sample - loss: 0.3756 - accuracy: 0.8529 - f1_metric: 0.8525 - val_loss: 0.7368 - val_accuracy: 0.6989 - val_f1_metric: 0.6984\n",
      "Epoch 69/3000\n",
      "3264/3324 [============================>.] - ETA: 0s - loss: 0.3717 - accuracy: 0.8465 - f1_metric: 0.8464\n",
      "Epoch 00069: val_f1_metric did not improve from 0.74473\n",
      "3324/3324 [==============================] - 1s 161us/sample - loss: 0.3687 - accuracy: 0.8487 - f1_metric: 0.8487 - val_loss: 0.7474 - val_accuracy: 0.6835 - val_f1_metric: 0.6831\n",
      "Epoch 70/3000\n",
      "2912/3324 [=========================>....] - ETA: 0s - loss: 0.3781 - accuracy: 0.8455 - f1_metric: 0.8455\n",
      "Epoch 00070: val_f1_metric did not improve from 0.74473\n",
      "3324/3324 [==============================] - 0s 146us/sample - loss: 0.3758 - accuracy: 0.8466 - f1_metric: 0.8467 - val_loss: 0.7738 - val_accuracy: 0.6821 - val_f1_metric: 0.6817\n",
      "Epoch 71/3000\n",
      "3296/3324 [============================>.] - ETA: 0s - loss: 0.3658 - accuracy: 0.8498 - f1_metric: 0.8496\n",
      "Epoch 00071: val_f1_metric did not improve from 0.74473\n",
      "3324/3324 [==============================] - 0s 150us/sample - loss: 0.3657 - accuracy: 0.8499 - f1_metric: 0.8497 - val_loss: 0.7428 - val_accuracy: 0.6940 - val_f1_metric: 0.6935\n",
      "Epoch 72/3000\n",
      "2880/3324 [========================>.....] - ETA: 0s - loss: 0.3709 - accuracy: 0.8535 - f1_metric: 0.8535\n",
      "Epoch 00072: val_f1_metric did not improve from 0.74473\n",
      "3324/3324 [==============================] - 0s 148us/sample - loss: 0.3720 - accuracy: 0.8511 - f1_metric: 0.8511 - val_loss: 0.7385 - val_accuracy: 0.6961 - val_f1_metric: 0.6956\n",
      "Epoch 73/3000\n",
      "3136/3324 [===========================>..] - ETA: 0s - loss: 0.3794 - accuracy: 0.8460 - f1_metric: 0.8460\n",
      "Epoch 00073: val_f1_metric did not improve from 0.74473\n",
      "3324/3324 [==============================] - 1s 160us/sample - loss: 0.3769 - accuracy: 0.8475 - f1_metric: 0.8475 - val_loss: 0.6983 - val_accuracy: 0.7088 - val_f1_metric: 0.7081\n",
      "Epoch 74/3000\n",
      "3136/3324 [===========================>..] - ETA: 0s - loss: 0.3714 - accuracy: 0.8520 - f1_metric: 0.8526\n",
      "Epoch 00074: val_f1_metric did not improve from 0.74473\n",
      "3324/3324 [==============================] - 1s 154us/sample - loss: 0.3726 - accuracy: 0.8520 - f1_metric: 0.8524 - val_loss: 0.7500 - val_accuracy: 0.6975 - val_f1_metric: 0.6964\n",
      "Epoch 75/3000\n",
      "2912/3324 [=========================>....] - ETA: 0s - loss: 0.3676 - accuracy: 0.8544 - f1_metric: 0.8541\n",
      "Epoch 00075: val_f1_metric did not improve from 0.74473\n",
      "3324/3324 [==============================] - 0s 145us/sample - loss: 0.3669 - accuracy: 0.8553 - f1_metric: 0.8550 - val_loss: 0.7716 - val_accuracy: 0.6856 - val_f1_metric: 0.6852\n",
      "Epoch 76/3000\n",
      "2880/3324 [========================>.....] - ETA: 0s - loss: 0.3693 - accuracy: 0.8441 - f1_metric: 0.8438\n",
      "Epoch 00076: val_f1_metric did not improve from 0.74473\n",
      "3324/3324 [==============================] - 0s 147us/sample - loss: 0.3699 - accuracy: 0.8451 - f1_metric: 0.8449 - val_loss: 0.7426 - val_accuracy: 0.6975 - val_f1_metric: 0.6970\n",
      "Epoch 77/3000\n",
      "3104/3324 [===========================>..] - ETA: 0s - loss: 0.3633 - accuracy: 0.8550 - f1_metric: 0.8553\n",
      "Epoch 00077: val_f1_metric did not improve from 0.74473\n",
      "3324/3324 [==============================] - 1s 159us/sample - loss: 0.3673 - accuracy: 0.8526 - f1_metric: 0.8529 - val_loss: 0.7630 - val_accuracy: 0.6947 - val_f1_metric: 0.6942\n",
      "Epoch 78/3000\n",
      "3008/3324 [==========================>...] - ETA: 0s - loss: 0.3625 - accuracy: 0.8574 - f1_metric: 0.8575\n",
      "Epoch 00078: val_f1_metric did not improve from 0.74473\n",
      "3324/3324 [==============================] - 1s 162us/sample - loss: 0.3683 - accuracy: 0.8550 - f1_metric: 0.8552 - val_loss: 0.7605 - val_accuracy: 0.6989 - val_f1_metric: 0.6984\n",
      "Epoch 79/3000\n",
      "2848/3324 [========================>.....] - ETA: 0s - loss: 0.3717 - accuracy: 0.8466 - f1_metric: 0.8460\n",
      "Epoch 00079: val_f1_metric did not improve from 0.74473\n",
      "3324/3324 [==============================] - 0s 150us/sample - loss: 0.3667 - accuracy: 0.8496 - f1_metric: 0.8489 - val_loss: 0.7699 - val_accuracy: 0.7018 - val_f1_metric: 0.7012\n",
      "Epoch 80/3000\n",
      "2880/3324 [========================>.....] - ETA: 0s - loss: 0.3661 - accuracy: 0.8535 - f1_metric: 0.8535\n",
      "Epoch 00080: val_f1_metric did not improve from 0.74473\n",
      "3324/3324 [==============================] - 0s 148us/sample - loss: 0.3672 - accuracy: 0.8538 - f1_metric: 0.8538 - val_loss: 0.7582 - val_accuracy: 0.6947 - val_f1_metric: 0.6942\n",
      "Epoch 81/3000\n",
      "3264/3324 [============================>.] - ETA: 0s - loss: 0.3701 - accuracy: 0.8511 - f1_metric: 0.8510\n",
      "Epoch 00081: val_f1_metric did not improve from 0.74473\n",
      "3324/3324 [==============================] - 1s 155us/sample - loss: 0.3691 - accuracy: 0.8520 - f1_metric: 0.8520 - val_loss: 0.7821 - val_accuracy: 0.6933 - val_f1_metric: 0.6929\n",
      "Epoch 82/3000\n",
      "3296/3324 [============================>.] - ETA: 0s - loss: 0.3606 - accuracy: 0.8620 - f1_metric: 0.8618\n",
      "Epoch 00082: val_f1_metric did not improve from 0.74473\n",
      "3324/3324 [==============================] - 1s 151us/sample - loss: 0.3606 - accuracy: 0.8622 - f1_metric: 0.8621 - val_loss: 0.7714 - val_accuracy: 0.6968 - val_f1_metric: 0.6963\n",
      "Epoch 83/3000\n",
      "2848/3324 [========================>.....] - ETA: 0s - loss: 0.3620 - accuracy: 0.8557 - f1_metric: 0.8551\n",
      "Epoch 00083: val_f1_metric did not improve from 0.74473\n",
      "3324/3324 [==============================] - 0s 149us/sample - loss: 0.3665 - accuracy: 0.8544 - f1_metric: 0.8541 - val_loss: 0.7802 - val_accuracy: 0.7018 - val_f1_metric: 0.7012\n",
      "Epoch 84/3000\n",
      "2880/3324 [========================>.....] - ETA: 0s - loss: 0.3528 - accuracy: 0.8556 - f1_metric: 0.8555\n",
      "Epoch 00084: val_f1_metric did not improve from 0.74473\n",
      "3324/3324 [==============================] - 0s 147us/sample - loss: 0.3605 - accuracy: 0.8511 - f1_metric: 0.8511 - val_loss: 0.7591 - val_accuracy: 0.6975 - val_f1_metric: 0.6970\n",
      "Epoch 85/3000\n",
      "2912/3324 [=========================>....] - ETA: 0s - loss: 0.3704 - accuracy: 0.8523 - f1_metric: 0.8522\n",
      "Epoch 00085: val_f1_metric did not improve from 0.74473\n",
      "3324/3324 [==============================] - 0s 148us/sample - loss: 0.3699 - accuracy: 0.8520 - f1_metric: 0.8519 - val_loss: 0.7850 - val_accuracy: 0.6877 - val_f1_metric: 0.6873\n",
      "Epoch 86/3000\n",
      "3200/3324 [===========================>..] - ETA: 0s - loss: 0.3570 - accuracy: 0.8556 - f1_metric: 0.8560\n",
      "Epoch 00086: val_f1_metric did not improve from 0.74473\n",
      "3324/3324 [==============================] - 1s 153us/sample - loss: 0.3556 - accuracy: 0.8571 - f1_metric: 0.8574 - val_loss: 0.7670 - val_accuracy: 0.6954 - val_f1_metric: 0.6949\n",
      "Epoch 87/3000\n",
      "3232/3324 [============================>.] - ETA: 0s - loss: 0.3650 - accuracy: 0.8546 - f1_metric: 0.8544\n",
      "Epoch 00087: val_f1_metric did not improve from 0.74473\n",
      "3324/3324 [==============================] - 1s 153us/sample - loss: 0.3626 - accuracy: 0.8556 - f1_metric: 0.8554 - val_loss: 0.7622 - val_accuracy: 0.7018 - val_f1_metric: 0.7012\n",
      "Epoch 88/3000\n",
      "2880/3324 [========================>.....] - ETA: 0s - loss: 0.3583 - accuracy: 0.8559 - f1_metric: 0.8554\n",
      "Epoch 00088: val_f1_metric did not improve from 0.74473\n",
      "3324/3324 [==============================] - 0s 147us/sample - loss: 0.3602 - accuracy: 0.8553 - f1_metric: 0.8548 - val_loss: 0.7585 - val_accuracy: 0.7039 - val_f1_metric: 0.7033\n",
      "Epoch 89/3000\n",
      "3104/3324 [===========================>..] - ETA: 0s - loss: 0.3635 - accuracy: 0.8566 - f1_metric: 0.8572\n",
      "Epoch 00089: val_f1_metric did not improve from 0.74473\n",
      "3324/3324 [==============================] - 1s 159us/sample - loss: 0.3653 - accuracy: 0.8556 - f1_metric: 0.8559 - val_loss: 0.7709 - val_accuracy: 0.6954 - val_f1_metric: 0.6949\n",
      "Epoch 90/3000\n",
      "3104/3324 [===========================>..] - ETA: 0s - loss: 0.3666 - accuracy: 0.8512 - f1_metric: 0.8510\n",
      "Epoch 00090: val_f1_metric did not improve from 0.74473\n",
      "3324/3324 [==============================] - 1s 157us/sample - loss: 0.3666 - accuracy: 0.8514 - f1_metric: 0.8511 - val_loss: 0.7630 - val_accuracy: 0.6975 - val_f1_metric: 0.6970\n",
      "Epoch 91/3000\n",
      "3264/3324 [============================>.] - ETA: 0s - loss: 0.3642 - accuracy: 0.8526 - f1_metric: 0.8530\n",
      "Epoch 00091: val_f1_metric did not improve from 0.74473\n",
      "3324/3324 [==============================] - 1s 151us/sample - loss: 0.3637 - accuracy: 0.8529 - f1_metric: 0.8533 - val_loss: 0.7501 - val_accuracy: 0.7018 - val_f1_metric: 0.7012\n",
      "Epoch 92/3000\n",
      "2880/3324 [========================>.....] - ETA: 0s - loss: 0.3595 - accuracy: 0.8562 - f1_metric: 0.8562\n",
      "Epoch 00092: val_f1_metric did not improve from 0.74473\n",
      "3324/3324 [==============================] - 0s 149us/sample - loss: 0.3600 - accuracy: 0.8544 - f1_metric: 0.8544 - val_loss: 0.7853 - val_accuracy: 0.6842 - val_f1_metric: 0.6838\n",
      "Epoch 93/3000\n",
      "2880/3324 [========================>.....] - ETA: 0s - loss: 0.3578 - accuracy: 0.8559 - f1_metric: 0.8557\n",
      "Epoch 00093: val_f1_metric did not improve from 0.74473\n",
      "3324/3324 [==============================] - 0s 147us/sample - loss: 0.3548 - accuracy: 0.8571 - f1_metric: 0.8570 - val_loss: 0.7951 - val_accuracy: 0.6884 - val_f1_metric: 0.6880\n",
      "Epoch 94/3000\n",
      "3136/3324 [===========================>..] - ETA: 0s - loss: 0.3540 - accuracy: 0.8578 - f1_metric: 0.8577\n",
      "Epoch 00094: val_f1_metric did not improve from 0.74473\n",
      "3324/3324 [==============================] - 1s 159us/sample - loss: 0.3549 - accuracy: 0.8574 - f1_metric: 0.8573 - val_loss: 0.7852 - val_accuracy: 0.6919 - val_f1_metric: 0.6915\n",
      "Epoch 95/3000\n",
      "3168/3324 [===========================>..] - ETA: 0s - loss: 0.3530 - accuracy: 0.8580 - f1_metric: 0.8579\n",
      "Epoch 00095: val_f1_metric did not improve from 0.74473\n",
      "3324/3324 [==============================] - 1s 156us/sample - loss: 0.3569 - accuracy: 0.8550 - f1_metric: 0.8549 - val_loss: 0.7635 - val_accuracy: 0.7032 - val_f1_metric: 0.7026\n",
      "Epoch 96/3000\n",
      "2848/3324 [========================>.....] - ETA: 0s - loss: 0.3530 - accuracy: 0.8564 - f1_metric: 0.8568\n",
      "Epoch 00096: val_f1_metric did not improve from 0.74473\n",
      "3324/3324 [==============================] - 1s 150us/sample - loss: 0.3558 - accuracy: 0.8571 - f1_metric: 0.8576 - val_loss: 0.7883 - val_accuracy: 0.6905 - val_f1_metric: 0.6901\n",
      "Epoch 97/3000\n",
      "2912/3324 [=========================>....] - ETA: 0s - loss: 0.3581 - accuracy: 0.8537 - f1_metric: 0.8541\n",
      "Epoch 00097: val_f1_metric did not improve from 0.74473\n",
      "3324/3324 [==============================] - 0s 146us/sample - loss: 0.3614 - accuracy: 0.8538 - f1_metric: 0.8541 - val_loss: 0.7766 - val_accuracy: 0.7046 - val_f1_metric: 0.7040\n",
      "Epoch 98/3000\n",
      "3264/3324 [============================>.] - ETA: 0s - loss: 0.3525 - accuracy: 0.8603 - f1_metric: 0.8605\n",
      "Epoch 00098: val_f1_metric did not improve from 0.74473\n",
      "3324/3324 [==============================] - 1s 156us/sample - loss: 0.3545 - accuracy: 0.8592 - f1_metric: 0.8593 - val_loss: 0.7959 - val_accuracy: 0.6870 - val_f1_metric: 0.6866\n",
      "Epoch 99/3000\n",
      "3040/3324 [==========================>...] - ETA: 0s - loss: 0.3569 - accuracy: 0.8582 - f1_metric: 0.8581\n",
      "Epoch 00099: val_f1_metric did not improve from 0.74473\n",
      "3324/3324 [==============================] - 1s 161us/sample - loss: 0.3587 - accuracy: 0.8580 - f1_metric: 0.8578 - val_loss: 0.7817 - val_accuracy: 0.6940 - val_f1_metric: 0.6935\n",
      "Epoch 100/3000\n",
      "2912/3324 [=========================>....] - ETA: 0s - loss: 0.3682 - accuracy: 0.8551 - f1_metric: 0.8553\n",
      "Epoch 00100: val_f1_metric did not improve from 0.74473\n",
      "3324/3324 [==============================] - 0s 146us/sample - loss: 0.3660 - accuracy: 0.8556 - f1_metric: 0.8558 - val_loss: 0.7861 - val_accuracy: 0.6856 - val_f1_metric: 0.6852\n",
      "Epoch 101/3000\n",
      "3296/3324 [============================>.] - ETA: 0s - loss: 0.3596 - accuracy: 0.8568 - f1_metric: 0.8566\n",
      "Epoch 00101: val_f1_metric did not improve from 0.74473\n",
      "3324/3324 [==============================] - 0s 150us/sample - loss: 0.3606 - accuracy: 0.8568 - f1_metric: 0.8566 - val_loss: 0.8103 - val_accuracy: 0.6863 - val_f1_metric: 0.6859\n",
      "Epoch 102/3000\n",
      "3136/3324 [===========================>..] - ETA: 0s - loss: 0.3568 - accuracy: 0.8571 - f1_metric: 0.8572\n",
      "Epoch 00102: val_f1_metric did not improve from 0.74473\n",
      "3324/3324 [==============================] - 1s 157us/sample - loss: 0.3560 - accuracy: 0.8577 - f1_metric: 0.8579 - val_loss: 0.7826 - val_accuracy: 0.6996 - val_f1_metric: 0.6991\n",
      "Epoch 103/3000\n",
      "3296/3324 [============================>.] - ETA: 0s - loss: 0.3547 - accuracy: 0.8577 - f1_metric: 0.8579\n",
      "Epoch 00103: val_f1_metric did not improve from 0.74473\n",
      "3324/3324 [==============================] - 0s 150us/sample - loss: 0.3559 - accuracy: 0.8571 - f1_metric: 0.8572 - val_loss: 0.7767 - val_accuracy: 0.6975 - val_f1_metric: 0.6970\n",
      "Epoch 104/3000\n",
      "2880/3324 [========================>.....] - ETA: 0s - loss: 0.3538 - accuracy: 0.8608 - f1_metric: 0.8605\n",
      "Epoch 00104: val_f1_metric did not improve from 0.74473\n",
      "3324/3324 [==============================] - 0s 145us/sample - loss: 0.3544 - accuracy: 0.8592 - f1_metric: 0.8591 - val_loss: 0.7958 - val_accuracy: 0.6828 - val_f1_metric: 0.6824\n",
      "Epoch 105/3000\n",
      "2912/3324 [=========================>....] - ETA: 0s - loss: 0.3647 - accuracy: 0.8496 - f1_metric: 0.8500\n",
      "Epoch 00105: val_f1_metric did not improve from 0.74473\n",
      "3324/3324 [==============================] - 0s 145us/sample - loss: 0.3616 - accuracy: 0.8520 - f1_metric: 0.8526 - val_loss: 0.7897 - val_accuracy: 0.6926 - val_f1_metric: 0.6922\n",
      "Epoch 106/3000\n",
      "2912/3324 [=========================>....] - ETA: 0s - loss: 0.3477 - accuracy: 0.8592 - f1_metric: 0.8598\n",
      "Epoch 00106: val_f1_metric did not improve from 0.74473\n",
      "3324/3324 [==============================] - 1s 151us/sample - loss: 0.3512 - accuracy: 0.8589 - f1_metric: 0.8594 - val_loss: 0.8007 - val_accuracy: 0.6842 - val_f1_metric: 0.6838\n",
      "Epoch 107/3000\n",
      "3200/3324 [===========================>..] - ETA: 0s - loss: 0.3533 - accuracy: 0.8606 - f1_metric: 0.8608\n",
      "Epoch 00107: val_f1_metric did not improve from 0.74473\n",
      "3324/3324 [==============================] - 1s 158us/sample - loss: 0.3529 - accuracy: 0.8589 - f1_metric: 0.8590 - val_loss: 0.8005 - val_accuracy: 0.6863 - val_f1_metric: 0.6859\n",
      "Epoch 108/3000\n",
      "3232/3324 [============================>.] - ETA: 0s - loss: 0.3509 - accuracy: 0.8642 - f1_metric: 0.8638\n",
      "Epoch 00108: val_f1_metric did not improve from 0.74473\n",
      "3324/3324 [==============================] - 1s 154us/sample - loss: 0.3510 - accuracy: 0.8640 - f1_metric: 0.8636 - val_loss: 0.8245 - val_accuracy: 0.6814 - val_f1_metric: 0.6810\n",
      "Epoch 109/3000\n",
      "3136/3324 [===========================>..] - ETA: 0s - loss: 0.3512 - accuracy: 0.8603 - f1_metric: 0.8600\n",
      "Epoch 00109: val_f1_metric did not improve from 0.74473\n",
      "3324/3324 [==============================] - 1s 153us/sample - loss: 0.3505 - accuracy: 0.8607 - f1_metric: 0.8603 - val_loss: 0.8158 - val_accuracy: 0.6856 - val_f1_metric: 0.6852\n",
      "Epoch 110/3000\n",
      "2880/3324 [========================>.....] - ETA: 0s - loss: 0.3530 - accuracy: 0.8625 - f1_metric: 0.8624\n",
      "Epoch 00110: val_f1_metric did not improve from 0.74473\n",
      "3324/3324 [==============================] - 0s 150us/sample - loss: 0.3556 - accuracy: 0.8601 - f1_metric: 0.8600 - val_loss: 0.8006 - val_accuracy: 0.6947 - val_f1_metric: 0.6942\n",
      "Epoch 111/3000\n",
      "3232/3324 [============================>.] - ETA: 0s - loss: 0.3531 - accuracy: 0.8608 - f1_metric: 0.8610\n",
      "Epoch 00111: val_f1_metric did not improve from 0.74473\n",
      "3324/3324 [==============================] - 1s 154us/sample - loss: 0.3530 - accuracy: 0.8604 - f1_metric: 0.8606 - val_loss: 0.7992 - val_accuracy: 0.6870 - val_f1_metric: 0.6866\n",
      "Epoch 112/3000\n",
      "3232/3324 [============================>.] - ETA: 0s - loss: 0.3512 - accuracy: 0.8623 - f1_metric: 0.8620\n",
      "Epoch 00112: val_f1_metric did not improve from 0.74473\n",
      "3324/3324 [==============================] - 1s 153us/sample - loss: 0.3492 - accuracy: 0.8637 - f1_metric: 0.8635 - val_loss: 0.8232 - val_accuracy: 0.6807 - val_f1_metric: 0.6804\n",
      "Epoch 113/3000\n",
      "3264/3324 [============================>.] - ETA: 0s - loss: 0.3543 - accuracy: 0.8581 - f1_metric: 0.8581\n",
      "Epoch 00113: val_f1_metric did not improve from 0.74473\n",
      "3324/3324 [==============================] - 1s 175us/sample - loss: 0.3555 - accuracy: 0.8571 - f1_metric: 0.8570 - val_loss: 0.7820 - val_accuracy: 0.6849 - val_f1_metric: 0.6845\n",
      "Epoch 00113: early stopping\n",
      "CPU times: user 1min 25s, sys: 11.5 s, total: 1min 36s\n",
      "Wall time: 1min 5s\n"
     ]
    }
   ],
   "source": [
    "%%time\n",
    "history = model.fit(x_train, y_train, epochs=3000, verbose=1,\n",
    "                            batch_size=32, shuffle=True,\n",
    "                            validation_data=(x_cv, y_cv),\n",
    "                            callbacks=[mcp, rlp, es])\n"
   ]
  },
  {
   "cell_type": "markdown",
   "metadata": {},
   "source": [
    "Se visualiza el rendimiento del modelo durante el entrenamiento. Muestra gráficas de la pérdida y la métrica F1 tanto para los conjuntos de entrenamiento como de validación a lo largo de las épocas. Esto ayuda a evaluar el aprendizaje y la generalización del modelo."
   ]
  },
  {
   "cell_type": "code",
   "execution_count": 19,
   "metadata": {
    "execution": {
     "iopub.execute_input": "2024-01-08T17:53:35.409384Z",
     "iopub.status.busy": "2024-01-08T17:53:35.409100Z",
     "iopub.status.idle": "2024-01-08T17:53:35.703602Z",
     "shell.execute_reply": "2024-01-08T17:53:35.702514Z",
     "shell.execute_reply.started": "2024-01-08T17:53:35.409337Z"
    },
    "scrolled": true
   },
   "outputs": [
    {
     "data": {
      "image/png": "[encoded data removed]",
      "text/plain": [
       "<Figure size 432x288 with 1 Axes>"
      ]
     },
     "metadata": {
      "needs_background": "light"
     },
     "output_type": "display_data"
    }
   ],
   "source": [
    "from matplotlib import pyplot as plt\n",
    "%matplotlib inline\n",
    "InteractiveShell.ast_node_interactivity = \"last\"\n",
    "\n",
    "plt.figure()\n",
    "plt.plot(history.history['loss'])\n",
    "plt.plot(history.history['val_loss'])\n",
    "plt.plot(history.history['f1_metric'])\n",
    "plt.plot(history.history['val_f1_metric'])\n",
    "\n",
    "plt.title('Model loss')\n",
    "plt.ylabel('Loss')\n",
    "plt.xlabel('Epoch')\n",
    "plt.legend(['train_loss', 'val_loss', 'f1', 'val_f1'], loc='upper left')\n",
    "plt.show()"
   ]
  },
  {
   "cell_type": "markdown",
   "metadata": {},
   "source": [
    "Se realiza la evaluación final del modelo sobre el conjunto de prueba:\n",
    "\n",
    "1) Carga el mejor modelo guardado.   \n",
    "\n",
    "2) Evalúa el modelo en el conjunto de prueba y obtiene las predicciones.\n",
    "\n",
    "3) Calcula y muestra la matriz de confusión para visualizar el rendimiento del     modelo en clasificar cada clase.\n",
    "\n",
    "4) Calcula las métricas de recall y precisión para cada clase.\n",
    "\n",
    "5) Muestra dos gráficos de barras: uno para el recall y otro para la precisión     por clase, facilitando la comparación visual del rendimiento del modelo en       diferentes clases."
   ]
  },
  {
   "cell_type": "code",
   "execution_count": 20,
   "metadata": {
    "execution": {
     "iopub.execute_input": "2024-01-08T17:53:35.706200Z",
     "iopub.status.busy": "2024-01-08T17:53:35.705474Z",
     "iopub.status.idle": "2024-01-08T17:53:37.368519Z",
     "shell.execute_reply": "2024-01-08T17:53:37.367718Z",
     "shell.execute_reply.started": "2024-01-08T17:53:35.706126Z"
    }
   },
   "outputs": [
    {
     "data": {
      "image/png": "[encoded data removed]",
      "text/plain": [
       "<Figure size 720x504 with 2 Axes>"
      ]
     },
     "metadata": {
      "needs_background": "light"
     },
     "output_type": "display_data"
    },
    {
     "data": {
      "image/png": "[encoded data removed]",
      "text/plain": [
       "<Figure size 1080x360 with 2 Axes>"
      ]
     },
     "metadata": {
      "needs_background": "light"
     },
     "output_type": "display_data"
    }
   ],
   "source": [
    "import matplotlib.pyplot as plt\n",
    "from sklearn.metrics import confusion_matrix, recall_score, precision_score\n",
    "import numpy as np\n",
    "import seaborn as sns\n",
    "\n",
    "# Carga tu modelo y evalúa los datos de prueba\n",
    "model = load_model(best_model_path)\n",
    "test_res = model.evaluate(x_test, y_test, verbose=0)\n",
    "\n",
    "# Predicciones\n",
    "y_pred = model.predict(x_test)\n",
    "y_pred_classes = np.argmax(y_pred, axis=1)\n",
    "y_true = np.argmax(y_test, axis=1)\n",
    "\n",
    "# Matriz de confusión\n",
    "cm = confusion_matrix(y_true, y_pred_classes)\n",
    "\n",
    "# Recall y Precisión\n",
    "recall = recall_score(y_true, y_pred_classes, average=None)\n",
    "precision = precision_score(y_true, y_pred_classes, average=None)\n",
    "\n",
    "# Gráfico de la matriz de confusión\n",
    "plt.figure(figsize=(10, 7))\n",
    "sns.heatmap(cm, annot=True, fmt='g')\n",
    "plt.xlabel('Predicciones')\n",
    "plt.ylabel('Valores verdaderos')\n",
    "plt.title('Matriz de Confusión')\n",
    "plt.show()\n",
    "\n",
    "# Gráfico de barras para Recall y Precisión\n",
    "fig, ax = plt.subplots(1, 2, figsize=(15, 5))\n",
    "ax[0].bar(['Clase 0', 'Clase 1', 'Clase 2'], recall, color='blue')\n",
    "ax[0].set_title('Recall por Clase')\n",
    "ax[0].set_ylim(0, 1)\n",
    "\n",
    "ax[1].bar(['Clase 0', 'Clase 1', 'Clase 2'], precision, color='green')\n",
    "ax[1].set_title('Precisión por Clase')\n",
    "ax[1].set_ylim(0, 1)\n",
    "\n",
    "plt.show()\n"
   ]
  },
  {
   "cell_type": "code",
   "execution_count": 21,
   "metadata": {
    "execution": {
     "iopub.execute_input": "2024-01-08T17:53:37.370598Z",
     "iopub.status.busy": "2024-01-08T17:53:37.370040Z",
     "iopub.status.idle": "2024-01-08T17:53:37.377636Z",
     "shell.execute_reply": "2024-01-08T17:53:37.376832Z",
     "shell.execute_reply.started": "2024-01-08T17:53:37.370525Z"
    }
   },
   "outputs": [
    {
     "data": {
      "text/plain": [
       "array([0.38305942, 0.92727273, 0.94444444])"
      ]
     },
     "execution_count": 21,
     "metadata": {},
     "output_type": "execute_result"
    }
   ],
   "source": [
    "recall"
   ]
  },
  {
   "cell_type": "code",
   "execution_count": 22,
   "metadata": {
    "execution": {
     "iopub.execute_input": "2024-01-08T17:53:37.379574Z",
     "iopub.status.busy": "2024-01-08T17:53:37.379052Z",
     "iopub.status.idle": "2024-01-08T17:53:37.387983Z",
     "shell.execute_reply": "2024-01-08T17:53:37.387130Z",
     "shell.execute_reply.started": "2024-01-08T17:53:37.379524Z"
    }
   },
   "outputs": [
    {
     "data": {
      "text/plain": [
       "array([0.97741935, 0.20564516, 0.14912281])"
      ]
     },
     "execution_count": 22,
     "metadata": {},
     "output_type": "execute_result"
    }
   ],
   "source": [
    "precision"
   ]
  },
  {
   "cell_type": "markdown",
   "metadata": {},
   "source": [
    "Se imprime los resultados de la evaluación del modelo en el conjunto de prueba, mostrando la pérdida (loss), la precisión (accuracy) y la puntuación F1. Estos valores ayudan a comprender el rendimiento general del modelo en datos no vistos."
   ]
  },
  {
   "cell_type": "code",
   "execution_count": 23,
   "metadata": {
    "execution": {
     "iopub.execute_input": "2024-01-08T17:53:37.389846Z",
     "iopub.status.busy": "2024-01-08T17:53:37.389339Z",
     "iopub.status.idle": "2024-01-08T17:53:37.396479Z",
     "shell.execute_reply": "2024-01-08T17:53:37.395436Z",
     "shell.execute_reply.started": "2024-01-08T17:53:37.389590Z"
    }
   },
   "outputs": [
    {
     "name": "stdout",
     "output_type": "stream",
     "text": [
      "Loss: 0.847902135848999\n",
      "Accuracy: 0.44999998807907104\n",
      "F1 score: 0.4509524405002594\n"
     ]
    }
   ],
   "source": [
    "print(f\"Loss: {test_res[0]}\")\n",
    "print(f\"Accuracy: {test_res[1]}\")\n",
    "print(f\"F1 score: {test_res[2]}\")"
   ]
  },
  {
   "cell_type": "markdown",
   "metadata": {},
   "source": [
    "Se carga el mejor modelo guardado y lo vuelve a guardar con el nombre 'mi_modelo.h5'. Este paso es útil para renombrar y conservar el modelo entrenado para su uso o distribución futura."
   ]
  },
  {
   "cell_type": "code",
   "execution_count": 24,
   "metadata": {
    "execution": {
     "iopub.execute_input": "2024-01-08T17:53:37.398630Z",
     "iopub.status.busy": "2024-01-08T17:53:37.398142Z",
     "iopub.status.idle": "2024-01-08T17:53:37.928231Z",
     "shell.execute_reply": "2024-01-08T17:53:37.927323Z",
     "shell.execute_reply.started": "2024-01-08T17:53:37.398422Z"
    }
   },
   "outputs": [],
   "source": [
    "model = load_model(best_model_path)\n",
    "model.save('mi_modelo.h5')\n"
   ]
  },
  {
   "cell_type": "markdown",
   "metadata": {},
   "source": [
    "Se implementa una estrategia para optimizar el umbral de clasificación:\n",
    "\n",
    "1) Define una función apply_threshold para ajustar las predicciones basadas en un umbral específico. Si ninguna clase supera el umbral, asigna la clase 0; de lo contrario, selecciona la clase con la mayor probabilidad.\n",
    "\n",
    "2) Itera sobre un rango de posibles umbrales para encontrar el que maximiza el F1 score.\n",
    "\n",
    "3) Calcula el F1 score para cada umbral y actualiza el mejor umbral y el mejor F1 score.\n",
    "\n",
    "4) Finalmente, imprime el mejor umbral encontrado y su correspondiente F1 score.\n",
    "\n",
    "\n",
    "\n",
    "\n",
    "\n",
    "\n",
    "\n"
   ]
  },
  {
   "cell_type": "code",
   "execution_count": 25,
   "metadata": {
    "execution": {
     "iopub.execute_input": "2024-01-08T17:53:37.929902Z",
     "iopub.status.busy": "2024-01-08T17:53:37.929639Z",
     "iopub.status.idle": "2024-01-08T17:53:39.414087Z",
     "shell.execute_reply": "2024-01-08T17:53:39.413356Z",
     "shell.execute_reply.started": "2024-01-08T17:53:37.929852Z"
    }
   },
   "outputs": [
    {
     "name": "stdout",
     "output_type": "stream",
     "text": [
      "Mejor umbral: 0.7676767676767677\n",
      "Mejor F1 score: 0.4910301844635803\n"
     ]
    },
    {
     "name": "stderr",
     "output_type": "stream",
     "text": [
      "/opt/conda/lib/python3.6/site-packages/sklearn/metrics/classification.py:1437: UndefinedMetricWarning: F-score is ill-defined and being set to 0.0 in labels with no predicted samples.\n",
      "  'precision', 'predicted', average, warn_for)\n"
     ]
    }
   ],
   "source": [
    "import numpy as np\n",
    "from sklearn.metrics import f1_score\n",
    "\n",
    "# Función para aplicar el umbral y ajustar las predicciones\n",
    "def apply_threshold(predictions, threshold):\n",
    "    adjusted_predictions = []\n",
    "    for pred in predictions:\n",
    "        if np.max(pred) < threshold:\n",
    "            # Si ninguna clase supera el umbral, asignamos a la clase 0\n",
    "            adjusted_pred = [1, 0, 0]\n",
    "        else:\n",
    "            # Si alguna clase supera el umbral, seleccionamos la de mayor probabilidad\n",
    "            adjusted_pred = [0, 0, 0]  # Inicialmente, todas las clases se establecen en 0\n",
    "            adjusted_pred[np.argmax(pred)] = 1  # Solo la clase con la mayor probabilidad se establece en 1\n",
    "        adjusted_predictions.append(adjusted_pred)\n",
    "    return np.array(adjusted_predictions)\n",
    "\n",
    "\n",
    "\n",
    "# Define un rango de posibles umbrales\n",
    "thresholds = np.linspace(0, 1, 100)  # 100 umbrales desde 0 a 1\n",
    "\n",
    "# Inicializa el mejor umbral y el mejor F1 score\n",
    "best_threshold = 0\n",
    "best_f1 = 0\n",
    "\n",
    "# Itera sobre los umbrales para encontrar el mejor\n",
    "for threshold in thresholds:\n",
    "    # Aplica el umbral\n",
    "    y_pred_classes = apply_threshold(y_pred, threshold)\n",
    "    y_pred_classes = np.argmax(y_pred_classes, axis=1)\n",
    "\n",
    "    # Calcula el F1 score\n",
    "    f1 = f1_score(y_true, y_pred_classes, average='macro')\n",
    "\n",
    "    # Actualiza el mejor umbral si es necesario\n",
    "    if f1 > best_f1:\n",
    "        best_f1 = f1\n",
    "        best_threshold = threshold\n",
    "\n",
    "# Imprime el mejor umbral y su F1 score\n",
    "print(\"Mejor umbral:\", best_threshold)\n",
    "print(\"Mejor F1 score:\", best_f1)\n"
   ]
  },
  {
   "cell_type": "markdown",
   "metadata": {},
   "source": [
    "Se aplica el mejor umbral encontrado a las predicciones del modelo para ajustar la clasificación final. Utiliza la función apply_threshold para modificar las predicciones según el umbral y luego obtiene la clase final mediante np.argmax, que selecciona el índice de la clase con la probabilidad más alta en cada predicción ajustada."
   ]
  },
  {
   "cell_type": "code",
   "execution_count": 26,
   "metadata": {
    "execution": {
     "iopub.execute_input": "2024-01-08T17:53:39.415455Z",
     "iopub.status.busy": "2024-01-08T17:53:39.415232Z",
     "iopub.status.idle": "2024-01-08T17:53:39.440799Z",
     "shell.execute_reply": "2024-01-08T17:53:39.439818Z",
     "shell.execute_reply.started": "2024-01-08T17:53:39.415417Z"
    }
   },
   "outputs": [],
   "source": [
    "y_pred_classes = apply_threshold(y_pred, best_threshold)\n",
    "y_pred_classes = np.argmax(y_pred_classes, axis=1)"
   ]
  },
  {
   "cell_type": "markdown",
   "metadata": {},
   "source": [
    "Se calcula y almacena la matriz de confusión, así como las métricas de recall y precisión, usando las predicciones ajustadas con el mejor umbral. Estos cálculos son fundamentales para evaluar el rendimiento detallado del modelo, especialmente después de ajustar las predicciones con el umbral óptimo."
   ]
  },
  {
   "cell_type": "code",
   "execution_count": 27,
   "metadata": {
    "execution": {
     "iopub.execute_input": "2024-01-08T17:53:39.442438Z",
     "iopub.status.busy": "2024-01-08T17:53:39.442125Z",
     "iopub.status.idle": "2024-01-08T17:53:39.454812Z",
     "shell.execute_reply": "2024-01-08T17:53:39.453990Z",
     "shell.execute_reply.started": "2024-01-08T17:53:39.442385Z"
    }
   },
   "outputs": [],
   "source": [
    "# Matriz de confusión\n",
    "cm = confusion_matrix(y_true, y_pred_classes)\n",
    "\n",
    "# Recall y Precisión\n",
    "recall = recall_score(y_true, y_pred_classes, average=None)\n",
    "precision = precision_score(y_true, y_pred_classes, average=None)\n",
    "\n"
   ]
  },
  {
   "cell_type": "markdown",
   "metadata": {},
   "source": [
    "Se calcula y muestra la puntuación F1 del modelo usando las predicciones ajustadas. Se utiliza el promedio 'macro', lo que significa que se calcula la puntuación F1 de forma independiente para cada clase y luego se toma el promedio de estas puntuaciones. Esto proporciona una medida de la efectividad del modelo en la clasificación equilibrada a través de todas las clases."
   ]
  },
  {
   "cell_type": "code",
   "execution_count": 28,
   "metadata": {
    "execution": {
     "iopub.execute_input": "2024-01-08T17:53:39.456361Z",
     "iopub.status.busy": "2024-01-08T17:53:39.456065Z",
     "iopub.status.idle": "2024-01-08T17:53:39.464084Z",
     "shell.execute_reply": "2024-01-08T17:53:39.463083Z",
     "shell.execute_reply.started": "2024-01-08T17:53:39.456312Z"
    }
   },
   "outputs": [
    {
     "data": {
      "text/plain": [
       "0.4910301844635803"
      ]
     },
     "execution_count": 28,
     "metadata": {},
     "output_type": "execute_result"
    }
   ],
   "source": [
    "from sklearn.metrics import f1_score\n",
    "\n",
    "f1 = f1_score(y_true, y_pred_classes, average='macro')\n",
    "f1\n"
   ]
  },
  {
   "cell_type": "code",
   "execution_count": 29,
   "metadata": {
    "execution": {
     "iopub.execute_input": "2024-01-08T17:53:39.465677Z",
     "iopub.status.busy": "2024-01-08T17:53:39.465416Z",
     "iopub.status.idle": "2024-01-08T17:53:39.472784Z",
     "shell.execute_reply": "2024-01-08T17:53:39.471883Z",
     "shell.execute_reply.started": "2024-01-08T17:53:39.465620Z"
    }
   },
   "outputs": [
    {
     "data": {
      "text/plain": [
       "array([0.79140329, 0.56363636, 0.35185185])"
      ]
     },
     "execution_count": 29,
     "metadata": {},
     "output_type": "execute_result"
    }
   ],
   "source": [
    "recall"
   ]
  },
  {
   "cell_type": "code",
   "execution_count": 30,
   "metadata": {
    "execution": {
     "iopub.execute_input": "2024-01-08T17:53:39.474040Z",
     "iopub.status.busy": "2024-01-08T17:53:39.473790Z",
     "iopub.status.idle": "2024-01-08T17:53:39.483244Z",
     "shell.execute_reply": "2024-01-08T17:53:39.482596Z",
     "shell.execute_reply.started": "2024-01-08T17:53:39.473992Z"
    }
   },
   "outputs": [
    {
     "data": {
      "text/plain": [
       "array([0.91386861, 0.31      , 0.16521739])"
      ]
     },
     "execution_count": 30,
     "metadata": {},
     "output_type": "execute_result"
    }
   ],
   "source": [
    "precision"
   ]
  },
  {
   "cell_type": "markdown",
   "metadata": {},
   "source": [
    "Se visualiza dos aspectos clave del rendimiento del modelo:\n",
    "\n",
    "Matriz de Confusión: Utiliza Seaborn para crear un mapa de calor de la matriz de confusión, mostrando la cantidad de predicciones correctas e incorrectas para cada clase.\n",
    "\n",
    "Gráficos de Barras para Recall y Precisión: Muestra dos gráficos de barras para visualizar las métricas de recall y precisión para cada una de las tres clases, facilitando la comparación del rendimiento del modelo en términos de evitar falsos negativos y falsos positivos."
   ]
  },
  {
   "cell_type": "code",
   "execution_count": 31,
   "metadata": {
    "execution": {
     "iopub.execute_input": "2024-01-08T17:53:39.484865Z",
     "iopub.status.busy": "2024-01-08T17:53:39.484551Z",
     "iopub.status.idle": "2024-01-08T17:53:39.915075Z",
     "shell.execute_reply": "2024-01-08T17:53:39.914085Z",
     "shell.execute_reply.started": "2024-01-08T17:53:39.484814Z"
    }
   },
   "outputs": [
    {
     "data": {
      "image/png": "[encoded data removed]",
      "text/plain": [
       "<Figure size 720x504 with 2 Axes>"
      ]
     },
     "metadata": {
      "needs_background": "light"
     },
     "output_type": "display_data"
    },
    {
     "data": {
      "image/png": "[encoded data removed]",
      "text/plain": [
       "<Figure size 1080x360 with 2 Axes>"
      ]
     },
     "metadata": {
      "needs_background": "light"
     },
     "output_type": "display_data"
    }
   ],
   "source": [
    "# Gráfico de la matriz de confusión\n",
    "plt.figure(figsize=(10, 7))\n",
    "sns.heatmap(cm, annot=True, fmt='g')\n",
    "plt.xlabel('Predicciones')\n",
    "plt.ylabel('Valores verdaderos')\n",
    "plt.title('Matriz de Confusión')\n",
    "plt.show()\n",
    "\n",
    "# Gráfico de barras para Recall y Precisión\n",
    "fig, ax = plt.subplots(1, 2, figsize=(15, 5))\n",
    "ax[0].bar(['Clase 0', 'Clase 1', 'Clase 2'], recall, color='blue')\n",
    "ax[0].set_title('Recall por Clase')\n",
    "ax[0].set_ylim(0, 1)\n",
    "\n",
    "ax[1].bar(['Clase 0', 'Clase 1', 'Clase 2'], precision, color='green')\n",
    "ax[1].set_title('Precisión por Clase')\n",
    "ax[1].set_ylim(0, 1)\n",
    "\n",
    "plt.show()\n"
   ]
  },
  {
   "cell_type": "code",
   "execution_count": null,
   "metadata": {},
   "outputs": [],
   "source": []
  }
 ],
 "metadata": {
  "kaggle": {
   "accelerator": "gpu",
   "dataSources": [
    {
     "sourceId": 157914957,
     "sourceType": "kernelVersion"
    }
   ],
   "dockerImageVersionId": 29850,
   "isGpuEnabled": true,
   "isInternetEnabled": true,
   "language": "python",
   "sourceType": "notebook"
  },
  "kernelspec": {
   "display_name": "Python 3",
   "language": "python",
   "name": "python3"
  },
  "language_info": {
   "codemirror_mode": {
    "name": "ipython",
    "version": 3
   },
   "file_extension": ".py",
   "mimetype": "text/x-python",
   "name": "python",
   "nbconvert_exporter": "python",
   "pygments_lexer": "ipython3",
   "version": "3.6.6"
  }
 },
 "nbformat": 4,
 "nbformat_minor": 4
}
