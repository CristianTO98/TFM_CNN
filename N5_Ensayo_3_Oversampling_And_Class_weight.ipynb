{
 "cells": [
  {
   "cell_type": "markdown",
   "metadata": {},
   "source": [
    "Se importan librerías esenciales, establece una semilla para la reproducibilidad, carga conjuntos de datos de entrenamiento, validación y prueba desde archivos CSV y muestra sus dimensiones para verificar su estructura."
   ]
  },
  {
   "cell_type": "code",
   "execution_count": 1,
   "metadata": {
    "_cell_guid": "",
    "_uuid": "",
    "execution": {
     "iopub.execute_input": "2024-01-07T19:05:04.711103Z",
     "iopub.status.busy": "2024-01-07T19:05:04.710816Z",
     "iopub.status.idle": "2024-01-07T19:05:06.672451Z",
     "shell.execute_reply": "2024-01-07T19:05:06.671332Z",
     "shell.execute_reply.started": "2024-01-07T19:05:04.711059Z"
    },
    "scrolled": true
   },
   "outputs": [
    {
     "name": "stdout",
     "output_type": "stream",
     "text": [
      "Shape of x, y train/cv/test (2519, 225) (2519,) (1080, 225) (1080,) (900, 225) (900,)\n"
     ]
    }
   ],
   "source": [
    "import pandas as pd\n",
    "import pickle \n",
    "import numpy as np\n",
    "from tqdm import tqdm_notebook as tqdm\n",
    "from IPython.core.interactiveshell import InteractiveShell\n",
    "\n",
    "\n",
    "np.random.seed(2)\n",
    "x_train = np.loadtxt(\"/kaggle/input/features-extraction/x_train.csv\", delimiter=\",\")\n",
    "y_train = np.loadtxt(\"/kaggle/input/features-extraction/y_train.csv\", delimiter=\",\")\n",
    "x_cv = np.loadtxt(\"/kaggle/input/features-extraction/x_cv.csv\", delimiter=\",\")\n",
    "y_cv = np.loadtxt(\"/kaggle/input/features-extraction/y_cv.csv\", delimiter=\",\")\n",
    "x_test = np.loadtxt(\"/kaggle/input/features-extraction/x_test.csv\", delimiter=\",\")\n",
    "y_test = np.loadtxt(\"/kaggle/input/features-extraction/y_test.csv\", delimiter=\",\")\n",
    "\n",
    "print(\"Shape of x, y train/cv/test {} {} {} {} {} {}\".format(x_train.shape, \n",
    "                                                             y_train.shape, x_cv.shape, y_cv.shape, x_test.shape, y_test.shape))"
   ]
  },
  {
   "cell_type": "markdown",
   "metadata": {},
   "source": [
    "Se calcula y muestra el porcentaje de cada clase en el conjunto de entrenamiento, lo que ayuda a entender la distribución y posible desbalance de clases."
   ]
  },
  {
   "cell_type": "code",
   "execution_count": 2,
   "metadata": {
    "execution": {
     "iopub.execute_input": "2024-01-07T19:05:06.674857Z",
     "iopub.status.busy": "2024-01-07T19:05:06.674500Z",
     "iopub.status.idle": "2024-01-07T19:05:06.681415Z",
     "shell.execute_reply": "2024-01-07T19:05:06.680523Z",
     "shell.execute_reply.started": "2024-01-07T19:05:06.674794Z"
    }
   },
   "outputs": [
    {
     "name": "stdout",
     "output_type": "stream",
     "text": [
      "percentage of class 0 = 87.97141722905914, class 1 = 6.073838824930529, class 2 = 5.954743946010321\n"
     ]
    }
   ],
   "source": [
    "_labels, _counts = np.unique(y_train, return_counts=True)\n",
    "print(\"percentage of class 0 = {}, class 1 = {}, class 2 = {}\".format(_counts[0]/len(y_train) * 100, _counts[1]/len(y_train) * 100, _counts[2]/len(y_train) * 100))"
   ]
  },
  {
   "cell_type": "markdown",
   "metadata": {},
   "source": [
    "Se define una función para remodelar los datos como imágenes y luego aplica esta transformación a los conjuntos de entrenamiento, validación y prueba. Además, agrega una dimensión adicional para los canales de color, asumiendo un formato de imagen en color (3 canales). Finalmente, muestra las dimensiones finales de los conjuntos de datos."
   ]
  },
  {
   "cell_type": "code",
   "execution_count": 3,
   "metadata": {
    "execution": {
     "iopub.execute_input": "2024-01-07T19:05:06.682992Z",
     "iopub.status.busy": "2024-01-07T19:05:06.682734Z",
     "iopub.status.idle": "2024-01-07T19:05:06.731655Z",
     "shell.execute_reply": "2024-01-07T19:05:06.730942Z",
     "shell.execute_reply.started": "2024-01-07T19:05:06.682942Z"
    }
   },
   "outputs": [
    {
     "name": "stdout",
     "output_type": "stream",
     "text": [
      "final shape of x, y train/test (2519, 15, 15, 3) (2519,) (900, 15, 15, 3) (900,)\n"
     ]
    }
   ],
   "source": [
    "def reshape_as_image(x, img_width, img_height):\n",
    "    x_temp = np.zeros((len(x), img_height, img_width))\n",
    "    for i in range(x.shape[0]):\n",
    "        x_temp[i] = np.reshape(x[i], (img_height, img_width))\n",
    "\n",
    "    return x_temp\n",
    "\n",
    "num_features = 225\n",
    "dim = int(np.sqrt(num_features))\n",
    "x_train = reshape_as_image(x_train, dim, dim)\n",
    "x_cv = reshape_as_image(x_cv, dim, dim)\n",
    "x_test = reshape_as_image(x_test, dim, dim)\n",
    "# adding a 1-dim for channels (3)\n",
    "x_train = np.stack((x_train,) * 3, axis=-1)\n",
    "x_test = np.stack((x_test,) * 3, axis=-1)\n",
    "x_cv = np.stack((x_cv,) * 3, axis=-1)\n",
    "print(\"final shape of x, y train/test {} {} {} {}\".format(x_train.shape, y_train.shape, x_test.shape, y_test.shape))"
   ]
  },
  {
   "cell_type": "markdown",
   "metadata": {},
   "source": [
    "Se implementa un procedimiento de balanceo de clases para conjuntos de datos de entrenamiento y validación:\n",
    "\n",
    "1) Función balance_classes: Balancea las clases en los conjuntos x_train y y_train. Si y_train tiene más de una dimensión, la aplana. Separa x_train en conjuntos por categoría y luego utiliza la técnica de data augmentation para las clases minoritarias hasta que todas las clases tengan el mismo número de muestras.\n",
    "\n",
    "2) Data Augmentation: Utiliza ImageDataGenerator de Keras para generar nuevas imágenes a través de transformaciones como rotación, cambio de escala y volteo horizontal.\n",
    "\n",
    "3) Reconstrucción y Mezcla de Datos: Combina los conjuntos balanceados y mezcla los datos para asegurar la aleatoriedad.\n",
    "\n",
    "4) Aplicación de la Función: Ejecuta balance_classes en los conjuntos x_train y y_train, y opcionalmente en x_cv y y_cv, para obtener conjuntos de entrenamiento y validación con clases balanceadas."
   ]
  },
  {
   "cell_type": "code",
   "execution_count": 4,
   "metadata": {
    "execution": {
     "iopub.execute_input": "2024-01-07T19:05:06.733147Z",
     "iopub.status.busy": "2024-01-07T19:05:06.732929Z",
     "iopub.status.idle": "2024-01-07T19:05:15.140467Z",
     "shell.execute_reply": "2024-01-07T19:05:15.139695Z",
     "shell.execute_reply.started": "2024-01-07T19:05:06.733109Z"
    }
   },
   "outputs": [
    {
     "name": "stderr",
     "output_type": "stream",
     "text": [
      "Using TensorFlow backend.\n"
     ]
    }
   ],
   "source": [
    "from keras.preprocessing.image import ImageDataGenerator\n",
    "import numpy as np\n",
    "\n",
    "def balance_classes(x_train, y_train):\n",
    "    # Aplanar y_train si es necesario\n",
    "    y_train = y_train.flatten()\n",
    "\n",
    "    # Separar x_train en conjuntos por categoría\n",
    "    unique_classes = np.unique(y_train)\n",
    "    class_datasets = {label: x_train[y_train == label] for label in unique_classes}\n",
    "\n",
    "    # Determinar el tamaño del conjunto mayor\n",
    "    max_size = max(len(dataset) for dataset in class_datasets.values())\n",
    "\n",
    "    # Data augmentation para clases minoritarias\n",
    "    datagen = ImageDataGenerator(\n",
    "    rotation_range=20,\n",
    "    width_shift_range=0.2,\n",
    "    height_shift_range=0.2,\n",
    "    shear_range=0.2,\n",
    "    zoom_range=0.2,\n",
    "    horizontal_flip=True,\n",
    "    fill_mode='nearest')\n",
    "    for label, dataset in class_datasets.items():\n",
    "        while len(dataset) < max_size:\n",
    "            for x_batch in datagen.flow(dataset, batch_size=len(dataset), shuffle=False):\n",
    "                dataset = np.concatenate([dataset, x_batch])\n",
    "                if len(dataset) >= max_size:\n",
    "                    break\n",
    "        class_datasets[label] = dataset\n",
    "\n",
    "    # Reconstruir x_train y y_train\n",
    "    new_x_train = np.concatenate(list(class_datasets.values()))\n",
    "    new_y_train = np.concatenate([np.full(len(dataset), label) for label, dataset in class_datasets.items()])\n",
    "\n",
    "    # Mezclar los datos\n",
    "    indices = np.arange(len(new_x_train))\n",
    "    np.random.shuffle(indices)\n",
    "    return new_x_train[indices], new_y_train[indices]\n",
    "\n",
    "x_train, y_train = balance_classes(x_train, y_train)\n",
    "x_cv, y_cv = balance_classes(x_cv, y_cv)"
   ]
  },
  {
   "cell_type": "markdown",
   "metadata": {},
   "source": [
    "Se utiliza np.unique para encontrar y mostrar los valores únicos en y_train y sus respectivos conteos. Esto es útil para verificar la distribución de las clases después de aplicar el balanceo de clases, permitiendo confirmar que las clases ahora están equilibradas en términos de cantidad de muestras."
   ]
  },
  {
   "cell_type": "code",
   "execution_count": 5,
   "metadata": {
    "execution": {
     "iopub.execute_input": "2024-01-07T19:05:15.144634Z",
     "iopub.status.busy": "2024-01-07T19:05:15.144280Z",
     "iopub.status.idle": "2024-01-07T19:05:15.150351Z",
     "shell.execute_reply": "2024-01-07T19:05:15.149593Z",
     "shell.execute_reply.started": "2024-01-07T19:05:15.144573Z"
    }
   },
   "outputs": [
    {
     "name": "stdout",
     "output_type": "stream",
     "text": [
      "[0. 1. 2.]\n",
      "[2216 2295 2250]\n"
     ]
    }
   ],
   "source": [
    "# Usando np.unique para encontrar valores únicos y sus conteos\n",
    "valores_unicos, conteos = np.unique(y_train, return_counts=True)\n",
    "\n",
    "print(valores_unicos)  # Esto mostrará los valores únicos\n",
    "print(conteos) "
   ]
  },
  {
   "cell_type": "code",
   "execution_count": 6,
   "metadata": {
    "execution": {
     "iopub.execute_input": "2024-01-07T19:05:15.153390Z",
     "iopub.status.busy": "2024-01-07T19:05:15.153136Z",
     "iopub.status.idle": "2024-01-07T19:05:15.163339Z",
     "shell.execute_reply": "2024-01-07T19:05:15.162680Z",
     "shell.execute_reply.started": "2024-01-07T19:05:15.153342Z"
    }
   },
   "outputs": [
    {
     "name": "stdout",
     "output_type": "stream",
     "text": [
      "[0. 1. 2.]\n",
      "[950 975 975]\n"
     ]
    }
   ],
   "source": [
    "# Usando np.unique para encontrar valores únicos y sus conteos\n",
    "valores_unicos, conteos = np.unique(y_cv, return_counts=True)\n",
    "\n",
    "print(valores_unicos)  # Esto mostrará los valores únicos\n",
    "print(conteos) "
   ]
  },
  {
   "cell_type": "markdown",
   "metadata": {},
   "source": [
    "Se utiliza Matplotlib para visualizar imágenes aleatorias del conjunto de entrenamiento. Se configura un grid de 3x3 para mostrar 9 imágenes. Cada imagen se selecciona aleatoriamente, se muestra sin ejes y se etiqueta con su índice y clase correspondiente."
   ]
  },
  {
   "cell_type": "code",
   "execution_count": 7,
   "metadata": {
    "execution": {
     "iopub.execute_input": "2024-01-07T19:05:15.164697Z",
     "iopub.status.busy": "2024-01-07T19:05:15.164450Z",
     "iopub.status.idle": "2024-01-07T19:05:16.001035Z",
     "shell.execute_reply": "2024-01-07T19:05:16.000218Z",
     "shell.execute_reply.started": "2024-01-07T19:05:15.164658Z"
    }
   },
   "outputs": [
    {
     "data": {
      "image/png": "[encoded data removed]",
      "text/plain": [
       "<Figure size 1080x1080 with 9 Axes>"
      ]
     },
     "metadata": {
      "needs_background": "light"
     },
     "output_type": "display_data"
    }
   ],
   "source": [
    "from matplotlib import pyplot as plt\n",
    "%matplotlib inline\n",
    "\n",
    "fig = plt.figure(figsize=(15, 15))\n",
    "columns = rows = 3\n",
    "for i in range(1, columns*rows +1):\n",
    "    index = np.random.randint(len(x_train))\n",
    "    img = x_train[index]\n",
    "    fig.add_subplot(rows, columns, i)\n",
    "    plt.axis(\"off\")\n",
    "    plt.title('image_'+str(index)+'_class_'+str(np.argmax(y_train[index])), fontsize=10)\n",
    "    plt.subplots_adjust(wspace=0.2, hspace=0.2)\n",
    "    plt.imshow(img)\n",
    "plt.show()"
   ]
  },
  {
   "cell_type": "markdown",
   "metadata": {},
   "source": [
    "Se define la función \"f1_metric\" que es una métrica de F1 score general y se integra en el entorno de Keras para su uso en modelos de TensorFlow."
   ]
  },
  {
   "cell_type": "code",
   "execution_count": 8,
   "metadata": {
    "execution": {
     "iopub.execute_input": "2024-01-07T19:05:16.002672Z",
     "iopub.status.busy": "2024-01-07T19:05:16.002382Z",
     "iopub.status.idle": "2024-01-07T19:05:16.155184Z",
     "shell.execute_reply": "2024-01-07T19:05:16.154286Z",
     "shell.execute_reply.started": "2024-01-07T19:05:16.002623Z"
    }
   },
   "outputs": [],
   "source": [
    "from sklearn.utils.class_weight import compute_class_weight\n",
    "import tensorflow as tf\n",
    "from tensorflow.keras import backend as K\n",
    "from tensorflow.keras.utils import get_custom_objects\n",
    "\n",
    "def f1_metric(y_true, y_pred):\n",
    "\n",
    "    def recall(y_true, y_pred):\n",
    "        true_positives = K.sum(K.round(K.clip(y_true * y_pred, 0, 1)))  # mistake: y_pred of 0.3 is also considered 1\n",
    "        possible_positives = K.sum(K.round(K.clip(y_true, 0, 1)))\n",
    "        recall = true_positives / (possible_positives + K.epsilon())\n",
    "        return recall\n",
    "\n",
    "    def precision(y_true, y_pred):\n",
    "        true_positives = K.sum(K.round(K.clip(y_true * y_pred, 0, 1)))\n",
    "        predicted_positives = K.sum(K.round(K.clip(y_pred, 0, 1)))\n",
    "        precision = true_positives / (predicted_positives + K.epsilon())\n",
    "        return precision\n",
    "\n",
    "    precision = precision(y_true, y_pred)\n",
    "    recall = recall(y_true, y_pred)\n",
    "\n",
    "    return 2 * ((precision * recall) / (precision + recall + K.epsilon()))\n",
    "\n",
    "get_custom_objects().update({\"f1_metric\": f1_metric})"
   ]
  },
  {
   "cell_type": "markdown",
   "metadata": {},
   "source": [
    "Se calcula y muestra el porcentaje de cada clase en el conjunto de entrenamiento para identificar la distribución y posible desbalance de clases."
   ]
  },
  {
   "cell_type": "code",
   "execution_count": 10,
   "metadata": {
    "execution": {
     "iopub.execute_input": "2024-01-07T19:05:16.352925Z",
     "iopub.status.busy": "2024-01-07T19:05:16.352657Z",
     "iopub.status.idle": "2024-01-07T19:05:16.366925Z",
     "shell.execute_reply": "2024-01-07T19:05:16.366037Z",
     "shell.execute_reply.started": "2024-01-07T19:05:16.352870Z"
    }
   },
   "outputs": [
    {
     "name": "stdout",
     "output_type": "stream",
     "text": [
      "percentage of class 0 = 32.77621653601538, class 1 = 33.94468273923976, class 2 = 33.27910072474486\n"
     ]
    }
   ],
   "source": [
    "_labels, _counts = np.unique(y_train, return_counts=True)\n",
    "print(\"percentage of class 0 = {}, class 1 = {}, class 2 = {}\".format(_counts[0]/len(y_train) * 100, _counts[1]/len(y_train) * 100, _counts[2]/len(y_train) * 100))"
   ]
  },
  {
   "cell_type": "markdown",
   "metadata": {},
   "source": [
    "Se aplica codificación one-hot a las etiquetas de los conjuntos de entrenamiento, validación y prueba, transformándolas en formatos compatibles con modelos de clasificación multiclase, y muestra las dimensiones resultantes para cada conjunto."
   ]
  },
  {
   "cell_type": "code",
   "execution_count": 11,
   "metadata": {
    "execution": {
     "iopub.execute_input": "2024-01-07T19:05:16.368661Z",
     "iopub.status.busy": "2024-01-07T19:05:16.368343Z",
     "iopub.status.idle": "2024-01-07T19:05:16.382411Z",
     "shell.execute_reply": "2024-01-07T19:05:16.381370Z",
     "shell.execute_reply.started": "2024-01-07T19:05:16.368606Z"
    }
   },
   "outputs": [
    {
     "name": "stdout",
     "output_type": "stream",
     "text": [
      "y_train (6761, 3)\n",
      "y_cv (2900, 3)\n",
      "y_test (900, 3)\n"
     ]
    }
   ],
   "source": [
    "from sklearn.preprocessing import OneHotEncoder\n",
    "\n",
    "one_hot_enc = OneHotEncoder(sparse=False, categories='auto')  \n",
    "y_train = one_hot_enc.fit_transform(y_train.reshape(-1, 1))\n",
    "print(\"y_train\",y_train.shape)\n",
    "y_cv = one_hot_enc.transform(y_cv.reshape(-1, 1))\n",
    "y_test = one_hot_enc.transform(y_test.reshape(-1, 1))\n",
    "print(\"y_cv\",y_cv.shape)\n",
    "print(\"y_test\",y_test.shape)"
   ]
  },
  {
   "cell_type": "markdown",
   "metadata": {},
   "source": [
    "Se importa diversas clases y funciones de TensorFlow y Keras necesarias para construir y entrenar una red neuronal convolucional (CNN). Incluye componentes para el modelo (como capas y regularizadores), callbacks para el entrenamiento, optimizadores, y métricas de evaluación como F1 y AUC."
   ]
  },
  {
   "cell_type": "code",
   "execution_count": 12,
   "metadata": {
    "execution": {
     "iopub.execute_input": "2024-01-07T19:05:16.383893Z",
     "iopub.status.busy": "2024-01-07T19:05:16.383646Z",
     "iopub.status.idle": "2024-01-07T19:05:16.416081Z",
     "shell.execute_reply": "2024-01-07T19:05:16.415271Z",
     "shell.execute_reply.started": "2024-01-07T19:05:16.383835Z"
    }
   },
   "outputs": [],
   "source": [
    "from tensorflow.keras.models import Sequential, load_model, Model\n",
    "from tensorflow.keras.layers import Dense, Dropout, Flatten, Conv2D, MaxPooling2D, LeakyReLU\n",
    "from tensorflow.keras.callbacks import ModelCheckpoint, EarlyStopping, ReduceLROnPlateau, CSVLogger, Callback\n",
    "from tensorflow.keras import optimizers, regularizers\n",
    "from tensorflow.keras.regularizers import l2, l1, l1_l2\n",
    "from tensorflow.keras.initializers import RandomUniform, RandomNormal\n",
    "import tensorflow as tf\n",
    "from functools import *\n",
    "from sklearn.metrics import f1_score\n",
    "from tensorflow.keras.metrics import AUC\n",
    "\n"
   ]
  },
  {
   "cell_type": "markdown",
   "metadata": {},
   "source": [
    "Se define una función make_model() para construir un modelo de red neuronal convolucional. La función make_model crea un modelo secuencial con capas convolucionales, de pooling, dropout y densas, y devuelve este modelo. Finalmente, se instancia un modelo utilizando esta función."
   ]
  },
  {
   "cell_type": "code",
   "execution_count": 13,
   "metadata": {
    "execution": {
     "iopub.execute_input": "2024-01-07T19:05:16.417653Z",
     "iopub.status.busy": "2024-01-07T19:05:16.417380Z",
     "iopub.status.idle": "2024-01-07T19:05:19.266214Z",
     "shell.execute_reply": "2024-01-07T19:05:19.265266Z",
     "shell.execute_reply.started": "2024-01-07T19:05:16.417603Z"
    }
   },
   "outputs": [],
   "source": [
    "def make_model(filter1=16, act1='relu', filter2=32, act2='relu', do1=.25, do2=.5, dense=32):\n",
    "    input_shape = (15, 15, 3)\n",
    "    cnn = Sequential([\n",
    "        Conv2D(filters=filter1,\n",
    "               kernel_size=3,\n",
    "               padding='same',\n",
    "               activation=act1,\n",
    "               input_shape=input_shape,\n",
    "               name='CONV1'),\n",
    "        Conv2D(filters=filter2,        \n",
    "               kernel_size=3,  \n",
    "               padding='same',\n",
    "               activation=act2,\n",
    "               name='CONV2'),\n",
    "        MaxPooling2D(pool_size=2, name='POOL2'),\n",
    "        Dropout(do1, name='DROP1'),\n",
    "        Flatten(name='FLAT1'),\n",
    "        Dense(dense, activation='relu', name='FC1'),\n",
    "        Dropout(do2, name='DROP2'),\n",
    "        Dense(3, activation='softmax', name='FC2')\n",
    "    ])\n",
    "    \n",
    "    return cnn\n",
    "\n",
    "model = make_model()"
   ]
  },
  {
   "cell_type": "markdown",
   "metadata": {},
   "source": [
    "Se configura callbacks para el entrenamiento del modelo:\n",
    "\n",
    "EarlyStopping detiene el entrenamiento si no hay mejora en la pérdida de validación.\n",
    "ReduceLROnPlateau reduce la tasa de aprendizaje si la pérdida de validación no mejora.\n",
    "ModelCheckpoint guarda el mejor modelo basado en la métrica de validación F1.\n",
    "También establece la ruta para guardar el mejor modelo."
   ]
  },
  {
   "cell_type": "code",
   "execution_count": 14,
   "metadata": {
    "execution": {
     "iopub.execute_input": "2024-01-07T19:05:19.267605Z",
     "iopub.status.busy": "2024-01-07T19:05:19.267354Z",
     "iopub.status.idle": "2024-01-07T19:05:19.275063Z",
     "shell.execute_reply": "2024-01-07T19:05:19.274264Z",
     "shell.execute_reply.started": "2024-01-07T19:05:19.267563Z"
    }
   },
   "outputs": [],
   "source": [
    "import os\n",
    "\n",
    "best_model_path = os.path.join('.', 'best_model_keras')\n",
    "es = EarlyStopping(monitor='val_loss', mode='min', verbose=1,\n",
    "                   patience=100, min_delta=0.0001)\n",
    "rlp = ReduceLROnPlateau(monitor='val_loss', factor=0.02, patience=20, verbose=1, mode='min',\n",
    "                        min_delta=0.001, cooldown=1, min_lr=0.0001)\n",
    "mcp = ModelCheckpoint(best_model_path, monitor='val_f1_metric', verbose=1,\n",
    "                      save_best_only=True, save_weights_only=False, mode='max', period=1)  "
   ]
  },
  {
   "cell_type": "markdown",
   "metadata": {},
   "source": [
    "Se compila el modelo configurando la función de pérdida como 'categorical_crossentropy' (adecuada para clasificación multiclase), el optimizador como 'adam' (un optimizador eficiente y popular), y las métricas para evaluar el modelo incluyen 'accuracy' y la métrica personalizada f1_metric."
   ]
  },
  {
   "cell_type": "code",
   "execution_count": 15,
   "metadata": {
    "execution": {
     "iopub.execute_input": "2024-01-07T19:05:19.276620Z",
     "iopub.status.busy": "2024-01-07T19:05:19.276362Z",
     "iopub.status.idle": "2024-01-07T19:05:19.346880Z",
     "shell.execute_reply": "2024-01-07T19:05:19.346033Z",
     "shell.execute_reply.started": "2024-01-07T19:05:19.276579Z"
    }
   },
   "outputs": [],
   "source": [
    "model.compile(loss='categorical_crossentropy', optimizer='adam', metrics=['accuracy', f1_metric])"
   ]
  },
  {
   "cell_type": "markdown",
   "metadata": {},
   "source": [
    "Se establecen los pesos calculados en los notebooks anteriores para las clases del dataset (Ensayo 1)"
   ]
  },
  {
   "cell_type": "code",
   "execution_count": 16,
   "metadata": {
    "execution": {
     "iopub.execute_input": "2024-01-07T19:05:19.348323Z",
     "iopub.status.busy": "2024-01-07T19:05:19.348061Z",
     "iopub.status.idle": "2024-01-07T19:05:19.354184Z",
     "shell.execute_reply": "2024-01-07T19:05:19.353432Z",
     "shell.execute_reply.started": "2024-01-07T19:05:19.348274Z"
    }
   },
   "outputs": [],
   "source": [
    "class_weights = {\n",
    "    0: 0.37891095,  # Peso para la clase 0\n",
    "    1: 5.48801743,  # Peso para la clase 1\n",
    "    2: 5.59777778   # Peso para la clase 2\n",
    "}"
   ]
  },
  {
   "cell_type": "markdown",
   "metadata": {},
   "source": [
    "Se entrena el modelo utilizando el conjunto de entrenamiento con sus respectivos pesos de muestra. Se configura para un máximo de 3000 épocas, con un tamaño de lote de 32, y utilizando los datos de validación cruzada para la evaluación. Incluye los callbacks configurados previamente (ModelCheckpoint, ReduceLROnPlateau, EarlyStopping) y mide el tiempo de entrenamiento con el comando %%time."
   ]
  },
  {
   "cell_type": "code",
   "execution_count": 17,
   "metadata": {
    "execution": {
     "iopub.execute_input": "2024-01-07T19:05:19.356044Z",
     "iopub.status.busy": "2024-01-07T19:05:19.355732Z",
     "iopub.status.idle": "2024-01-07T19:05:54.547656Z",
     "shell.execute_reply": "2024-01-07T19:05:54.546798Z",
     "shell.execute_reply.started": "2024-01-07T19:05:19.355984Z"
    }
   },
   "outputs": [
    {
     "name": "stdout",
     "output_type": "stream",
     "text": [
      "Train on 6761 samples, validate on 2900 samples\n",
      "Epoch 1/3000\n",
      "6304/6761 [==========================>...] - ETA: 0s - loss: 2.5786 - accuracy: 0.4875 - f1_metric: 0.4677\n",
      "Epoch 00001: val_f1_metric improved from -inf to 0.57992, saving model to ./best_model_keras\n",
      "6761/6761 [==============================] - 5s 773us/sample - loss: 2.5189 - accuracy: 0.4959 - f1_metric: 0.4769 - val_loss: 1.6492 - val_accuracy: 0.5841 - val_f1_metric: 0.5799\n",
      "Epoch 2/3000\n",
      "6240/6761 [==========================>...] - ETA: 0s - loss: 1.6033 - accuracy: 0.6252 - f1_metric: 0.6217\n",
      "Epoch 00002: val_f1_metric improved from 0.57992 to 0.60761, saving model to ./best_model_keras\n",
      "6761/6761 [==============================] - 2s 241us/sample - loss: 1.5950 - accuracy: 0.6249 - f1_metric: 0.6221 - val_loss: 1.3847 - val_accuracy: 0.6193 - val_f1_metric: 0.6076\n",
      "Epoch 3/3000\n",
      "6752/6761 [============================>.] - ETA: 0s - loss: 1.2228 - accuracy: 0.6682 - f1_metric: 0.6632\n",
      "Epoch 00003: val_f1_metric improved from 0.60761 to 0.64606, saving model to ./best_model_keras\n",
      "6761/6761 [==============================] - 2s 243us/sample - loss: 1.2235 - accuracy: 0.6684 - f1_metric: 0.6637 - val_loss: 1.1761 - val_accuracy: 0.6593 - val_f1_metric: 0.6461\n",
      "Epoch 4/3000\n",
      "6752/6761 [============================>.] - ETA: 0s - loss: 1.0205 - accuracy: 0.6928 - f1_metric: 0.6874\n",
      "Epoch 00004: val_f1_metric improved from 0.64606 to 0.69531, saving model to ./best_model_keras\n",
      "6761/6761 [==============================] - 2s 262us/sample - loss: 1.0194 - accuracy: 0.6929 - f1_metric: 0.6875 - val_loss: 0.9806 - val_accuracy: 0.7003 - val_f1_metric: 0.6953\n",
      "Epoch 5/3000\n",
      "6368/6761 [===========================>..] - ETA: 0s - loss: 0.9702 - accuracy: 0.6859 - f1_metric: 0.6817\n",
      "Epoch 00005: val_f1_metric did not improve from 0.69531\n",
      "6761/6761 [==============================] - 1s 134us/sample - loss: 0.9792 - accuracy: 0.6887 - f1_metric: 0.6834 - val_loss: 0.9137 - val_accuracy: 0.6831 - val_f1_metric: 0.6634\n",
      "Epoch 6/3000\n",
      "6272/6761 [==========================>...] - ETA: 0s - loss: 0.8466 - accuracy: 0.6952 - f1_metric: 0.6906\n",
      "Epoch 00006: val_f1_metric did not improve from 0.69531\n",
      "6761/6761 [==============================] - 1s 133us/sample - loss: 0.8520 - accuracy: 0.6944 - f1_metric: 0.6907 - val_loss: 1.0653 - val_accuracy: 0.6507 - val_f1_metric: 0.6378\n",
      "Epoch 7/3000\n",
      "6752/6761 [============================>.] - ETA: 0s - loss: 0.8200 - accuracy: 0.6967 - f1_metric: 0.6922\n",
      "Epoch 00007: val_f1_metric did not improve from 0.69531\n",
      "6761/6761 [==============================] - 1s 134us/sample - loss: 0.8200 - accuracy: 0.6968 - f1_metric: 0.6926 - val_loss: 0.8351 - val_accuracy: 0.6628 - val_f1_metric: 0.6549\n",
      "Epoch 8/3000\n",
      "6592/6761 [============================>.] - ETA: 0s - loss: 0.7722 - accuracy: 0.6951 - f1_metric: 0.6947\n",
      "Epoch 00008: val_f1_metric did not improve from 0.69531\n",
      "6761/6761 [==============================] - 1s 156us/sample - loss: 0.7735 - accuracy: 0.6938 - f1_metric: 0.6936 - val_loss: 0.8124 - val_accuracy: 0.6759 - val_f1_metric: 0.6642\n",
      "Epoch 9/3000\n",
      "6336/6761 [===========================>..] - ETA: 0s - loss: 0.6879 - accuracy: 0.7071 - f1_metric: 0.7057\n",
      "Epoch 00009: val_f1_metric improved from 0.69531 to 0.73358, saving model to ./best_model_keras\n",
      "6761/6761 [==============================] - 2s 250us/sample - loss: 0.6940 - accuracy: 0.7089 - f1_metric: 0.7073 - val_loss: 0.8635 - val_accuracy: 0.7369 - val_f1_metric: 0.7336\n",
      "Epoch 10/3000\n",
      "6272/6761 [==========================>...] - ETA: 0s - loss: 0.7135 - accuracy: 0.7092 - f1_metric: 0.7098\n",
      "Epoch 00010: val_f1_metric did not improve from 0.73358\n",
      "6761/6761 [==============================] - 1s 133us/sample - loss: 0.7168 - accuracy: 0.7067 - f1_metric: 0.7076 - val_loss: 1.0674 - val_accuracy: 0.6634 - val_f1_metric: 0.6565\n",
      "Epoch 11/3000\n",
      "6752/6761 [============================>.] - ETA: 0s - loss: 0.6241 - accuracy: 0.7093 - f1_metric: 0.7103\n",
      "Epoch 00011: val_f1_metric did not improve from 0.73358\n",
      "6761/6761 [==============================] - 1s 135us/sample - loss: 0.6241 - accuracy: 0.7094 - f1_metric: 0.7106 - val_loss: 0.9025 - val_accuracy: 0.6934 - val_f1_metric: 0.6872\n",
      "Epoch 12/3000\n",
      "6304/6761 [==========================>...] - ETA: 0s - loss: 0.6267 - accuracy: 0.7069 - f1_metric: 0.7096\n",
      "Epoch 00012: val_f1_metric did not improve from 0.73358\n",
      "6761/6761 [==============================] - 1s 133us/sample - loss: 0.6132 - accuracy: 0.7080 - f1_metric: 0.7112 - val_loss: 0.9050 - val_accuracy: 0.6979 - val_f1_metric: 0.6951\n",
      "Epoch 13/3000\n",
      "6336/6761 [===========================>..] - ETA: 0s - loss: 0.6469 - accuracy: 0.7153 - f1_metric: 0.7151\n",
      "Epoch 00013: val_f1_metric did not improve from 0.73358\n",
      "6761/6761 [==============================] - 1s 133us/sample - loss: 0.6444 - accuracy: 0.7175 - f1_metric: 0.7180 - val_loss: 0.8248 - val_accuracy: 0.6979 - val_f1_metric: 0.6949\n",
      "Epoch 14/3000\n",
      "6752/6761 [============================>.] - ETA: 0s - loss: 0.5829 - accuracy: 0.7219 - f1_metric: 0.7208\n",
      "Epoch 00014: val_f1_metric did not improve from 0.73358\n",
      "6761/6761 [==============================] - 1s 134us/sample - loss: 0.5833 - accuracy: 0.7218 - f1_metric: 0.7206 - val_loss: 0.8044 - val_accuracy: 0.7066 - val_f1_metric: 0.7050\n",
      "Epoch 15/3000\n",
      "6560/6761 [============================>.] - ETA: 0s - loss: 0.5867 - accuracy: 0.7133 - f1_metric: 0.7154\n",
      "Epoch 00015: val_f1_metric did not improve from 0.73358\n",
      "6761/6761 [==============================] - 1s 142us/sample - loss: 0.5868 - accuracy: 0.7138 - f1_metric: 0.7150 - val_loss: 0.8041 - val_accuracy: 0.7059 - val_f1_metric: 0.7056\n",
      "Epoch 16/3000\n",
      "6560/6761 [============================>.] - ETA: 0s - loss: 0.5976 - accuracy: 0.7372 - f1_metric: 0.7383\n",
      "Epoch 00016: val_f1_metric did not improve from 0.73358\n",
      "6761/6761 [==============================] - 1s 140us/sample - loss: 0.5975 - accuracy: 0.7352 - f1_metric: 0.7349 - val_loss: 0.8051 - val_accuracy: 0.7062 - val_f1_metric: 0.7047\n",
      "Epoch 17/3000\n",
      "6688/6761 [============================>.] - ETA: 0s - loss: 0.5261 - accuracy: 0.7295 - f1_metric: 0.7321\n",
      "Epoch 00017: val_f1_metric did not improve from 0.73358\n",
      "6761/6761 [==============================] - 1s 134us/sample - loss: 0.5241 - accuracy: 0.7298 - f1_metric: 0.7324 - val_loss: 0.8546 - val_accuracy: 0.6886 - val_f1_metric: 0.6856\n",
      "Epoch 18/3000\n",
      "6592/6761 [============================>.] - ETA: 0s - loss: 0.5254 - accuracy: 0.7373 - f1_metric: 0.7377\n",
      "Epoch 00018: val_f1_metric did not improve from 0.73358\n",
      "6761/6761 [==============================] - 1s 138us/sample - loss: 0.5252 - accuracy: 0.7361 - f1_metric: 0.7361 - val_loss: 0.8233 - val_accuracy: 0.7055 - val_f1_metric: 0.7048\n",
      "Epoch 19/3000\n",
      "6304/6761 [==========================>...] - ETA: 0s - loss: 0.5403 - accuracy: 0.7292 - f1_metric: 0.7291\n",
      "Epoch 00019: val_f1_metric did not improve from 0.73358\n",
      "6761/6761 [==============================] - 1s 133us/sample - loss: 0.5341 - accuracy: 0.7289 - f1_metric: 0.7291 - val_loss: 0.8968 - val_accuracy: 0.6917 - val_f1_metric: 0.6896\n",
      "Epoch 20/3000\n",
      "6272/6761 [==========================>...] - ETA: 0s - loss: 0.4900 - accuracy: 0.7114 - f1_metric: 0.7144\n",
      "Epoch 00020: val_f1_metric did not improve from 0.73358\n",
      "6761/6761 [==============================] - 1s 133us/sample - loss: 0.4895 - accuracy: 0.7135 - f1_metric: 0.7165 - val_loss: 0.8685 - val_accuracy: 0.6979 - val_f1_metric: 0.6958\n",
      "Epoch 21/3000\n",
      "6272/6761 [==========================>...] - ETA: 0s - loss: 0.5114 - accuracy: 0.7270 - f1_metric: 0.7281\n",
      "Epoch 00021: val_f1_metric did not improve from 0.73358\n",
      "6761/6761 [==============================] - 1s 133us/sample - loss: 0.5125 - accuracy: 0.7239 - f1_metric: 0.7243 - val_loss: 0.8733 - val_accuracy: 0.6697 - val_f1_metric: 0.6654\n",
      "Epoch 22/3000\n",
      "6368/6761 [===========================>..] - ETA: 0s - loss: 0.4877 - accuracy: 0.7283 - f1_metric: 0.7301\n",
      "Epoch 00022: val_f1_metric did not improve from 0.73358\n",
      "6761/6761 [==============================] - 1s 131us/sample - loss: 0.4865 - accuracy: 0.7311 - f1_metric: 0.7333 - val_loss: 1.0196 - val_accuracy: 0.7234 - val_f1_metric: 0.7208\n",
      "Epoch 23/3000\n",
      "6528/6761 [===========================>..] - ETA: 0s - loss: 0.4537 - accuracy: 0.7342 - f1_metric: 0.7356\n",
      "Epoch 00023: val_f1_metric did not improve from 0.73358\n",
      "6761/6761 [==============================] - 1s 130us/sample - loss: 0.4550 - accuracy: 0.7360 - f1_metric: 0.7381 - val_loss: 0.9623 - val_accuracy: 0.7066 - val_f1_metric: 0.7050\n",
      "Epoch 24/3000\n",
      "6528/6761 [===========================>..] - ETA: 0s - loss: 0.4605 - accuracy: 0.7361 - f1_metric: 0.7379\n",
      "Epoch 00024: val_f1_metric did not improve from 0.73358\n",
      "6761/6761 [==============================] - 1s 130us/sample - loss: 0.4593 - accuracy: 0.7361 - f1_metric: 0.7374 - val_loss: 0.9143 - val_accuracy: 0.6817 - val_f1_metric: 0.6791\n",
      "Epoch 25/3000\n",
      "6528/6761 [===========================>..] - ETA: 0s - loss: 0.4569 - accuracy: 0.7322 - f1_metric: 0.7333\n",
      "Epoch 00025: val_f1_metric did not improve from 0.73358\n",
      "6761/6761 [==============================] - 1s 130us/sample - loss: 0.4559 - accuracy: 0.7318 - f1_metric: 0.7332 - val_loss: 1.0474 - val_accuracy: 0.6714 - val_f1_metric: 0.6685\n",
      "Epoch 26/3000\n",
      "6528/6761 [===========================>..] - ETA: 0s - loss: 0.4373 - accuracy: 0.7324 - f1_metric: 0.7330\n",
      "Epoch 00026: val_f1_metric did not improve from 0.73358\n",
      "6761/6761 [==============================] - 1s 130us/sample - loss: 0.4371 - accuracy: 0.7336 - f1_metric: 0.7344 - val_loss: 1.0188 - val_accuracy: 0.7179 - val_f1_metric: 0.7160\n",
      "Epoch 27/3000\n",
      "6400/6761 [===========================>..] - ETA: 0s - loss: 0.4225 - accuracy: 0.7439 - f1_metric: 0.7445\n",
      "Epoch 00027: val_f1_metric did not improve from 0.73358\n",
      "6761/6761 [==============================] - 1s 131us/sample - loss: 0.4274 - accuracy: 0.7441 - f1_metric: 0.7446 - val_loss: 1.1185 - val_accuracy: 0.6979 - val_f1_metric: 0.6972\n",
      "Epoch 28/3000\n",
      "6528/6761 [===========================>..] - ETA: 0s - loss: 0.4697 - accuracy: 0.7275 - f1_metric: 0.7261\n",
      "Epoch 00028: val_f1_metric did not improve from 0.73358\n",
      "6761/6761 [==============================] - 1s 130us/sample - loss: 0.4645 - accuracy: 0.7283 - f1_metric: 0.7272 - val_loss: 1.0268 - val_accuracy: 0.7166 - val_f1_metric: 0.7155\n",
      "Epoch 29/3000\n",
      "6528/6761 [===========================>..] - ETA: 0s - loss: 0.4034 - accuracy: 0.7361 - f1_metric: 0.7361\n",
      "Epoch 00029: val_f1_metric did not improve from 0.73358\n",
      "6761/6761 [==============================] - 1s 135us/sample - loss: 0.4111 - accuracy: 0.7351 - f1_metric: 0.7345 - val_loss: 1.0174 - val_accuracy: 0.6983 - val_f1_metric: 0.6976\n",
      "Epoch 30/3000\n",
      "6496/6761 [===========================>..] - ETA: 0s - loss: 0.4477 - accuracy: 0.7452 - f1_metric: 0.7454\n",
      "Epoch 00030: val_f1_metric did not improve from 0.73358\n",
      "6761/6761 [==============================] - 1s 131us/sample - loss: 0.4490 - accuracy: 0.7437 - f1_metric: 0.7438 - val_loss: 0.9568 - val_accuracy: 0.7117 - val_f1_metric: 0.7111\n",
      "Epoch 31/3000\n",
      "6432/6761 [===========================>..] - ETA: 0s - loss: 0.4175 - accuracy: 0.7369 - f1_metric: 0.7378\n",
      "Epoch 00031: val_f1_metric did not improve from 0.73358\n",
      "6761/6761 [==============================] - 1s 131us/sample - loss: 0.4142 - accuracy: 0.7372 - f1_metric: 0.7383 - val_loss: 0.9625 - val_accuracy: 0.7272 - val_f1_metric: 0.7265\n",
      "Epoch 32/3000\n",
      "6528/6761 [===========================>..] - ETA: 0s - loss: 0.4110 - accuracy: 0.7587 - f1_metric: 0.7588\n",
      "Epoch 00032: val_f1_metric improved from 0.73358 to 0.73537, saving model to ./best_model_keras\n",
      "6761/6761 [==============================] - 2s 240us/sample - loss: 0.4061 - accuracy: 0.7591 - f1_metric: 0.7584 - val_loss: 1.1262 - val_accuracy: 0.7366 - val_f1_metric: 0.7354\n",
      "Epoch 33/3000\n",
      "6624/6761 [============================>.] - ETA: 0s - loss: 0.4190 - accuracy: 0.7418 - f1_metric: 0.7429\n",
      "Epoch 00033: val_f1_metric did not improve from 0.73537\n",
      "6761/6761 [==============================] - 1s 137us/sample - loss: 0.4169 - accuracy: 0.7423 - f1_metric: 0.7435 - val_loss: 0.9716 - val_accuracy: 0.7241 - val_f1_metric: 0.7228\n",
      "Epoch 34/3000\n",
      "6720/6761 [============================>.] - ETA: 0s - loss: 0.4096 - accuracy: 0.7443 - f1_metric: 0.7455\n",
      "Epoch 00034: val_f1_metric did not improve from 0.73537\n",
      "\n",
      "Epoch 00034: ReduceLROnPlateau reducing learning rate to 0.0001.\n",
      "6761/6761 [==============================] - 1s 135us/sample - loss: 0.4089 - accuracy: 0.7443 - f1_metric: 0.7456 - val_loss: 0.9405 - val_accuracy: 0.7038 - val_f1_metric: 0.7028\n",
      "Epoch 35/3000\n",
      "6752/6761 [============================>.] - ETA: 0s - loss: 0.3633 - accuracy: 0.7438 - f1_metric: 0.7441\n",
      "Epoch 00035: val_f1_metric did not improve from 0.73537\n",
      "6761/6761 [==============================] - 1s 134us/sample - loss: 0.3651 - accuracy: 0.7437 - f1_metric: 0.7437 - val_loss: 0.9062 - val_accuracy: 0.7152 - val_f1_metric: 0.7141\n",
      "Epoch 36/3000\n",
      "6720/6761 [============================>.] - ETA: 0s - loss: 0.3462 - accuracy: 0.7503 - f1_metric: 0.7507\n",
      "Epoch 00036: val_f1_metric did not improve from 0.73537\n",
      "6761/6761 [==============================] - 1s 135us/sample - loss: 0.3456 - accuracy: 0.7506 - f1_metric: 0.7512 - val_loss: 0.9385 - val_accuracy: 0.7255 - val_f1_metric: 0.7246\n",
      "Epoch 37/3000\n",
      "6688/6761 [============================>.] - ETA: 0s - loss: 0.3204 - accuracy: 0.7584 - f1_metric: 0.7583\n",
      "Epoch 00037: val_f1_metric did not improve from 0.73537\n",
      "6761/6761 [==============================] - 1s 135us/sample - loss: 0.3202 - accuracy: 0.7577 - f1_metric: 0.7570 - val_loss: 0.9852 - val_accuracy: 0.7272 - val_f1_metric: 0.7266\n",
      "Epoch 38/3000\n",
      "6688/6761 [============================>.] - ETA: 0s - loss: 0.3174 - accuracy: 0.7660 - f1_metric: 0.7663\n",
      "Epoch 00038: val_f1_metric did not improve from 0.73537\n",
      "6761/6761 [==============================] - 1s 135us/sample - loss: 0.3173 - accuracy: 0.7648 - f1_metric: 0.7648 - val_loss: 1.0234 - val_accuracy: 0.7266 - val_f1_metric: 0.7258\n",
      "Epoch 39/3000\n",
      "6752/6761 [============================>.] - ETA: 0s - loss: 0.3232 - accuracy: 0.7661 - f1_metric: 0.7664\n",
      "Epoch 00039: val_f1_metric did not improve from 0.73537\n",
      "6761/6761 [==============================] - 1s 134us/sample - loss: 0.3232 - accuracy: 0.7660 - f1_metric: 0.7660 - val_loss: 1.0212 - val_accuracy: 0.7297 - val_f1_metric: 0.7287\n",
      "Epoch 40/3000\n",
      "6272/6761 [==========================>...] - ETA: 0s - loss: 0.3074 - accuracy: 0.7792 - f1_metric: 0.7788\n",
      "Epoch 00040: val_f1_metric did not improve from 0.73537\n",
      "6761/6761 [==============================] - 1s 141us/sample - loss: 0.3054 - accuracy: 0.7784 - f1_metric: 0.7784 - val_loss: 1.0362 - val_accuracy: 0.7341 - val_f1_metric: 0.7334\n",
      "Epoch 41/3000\n",
      "6368/6761 [===========================>..] - ETA: 0s - loss: 0.2987 - accuracy: 0.7745 - f1_metric: 0.7751\n",
      "Epoch 00041: val_f1_metric improved from 0.73537 to 0.73716, saving model to ./best_model_keras\n",
      "6761/6761 [==============================] - 2s 262us/sample - loss: 0.2981 - accuracy: 0.7752 - f1_metric: 0.7755 - val_loss: 1.0195 - val_accuracy: 0.7379 - val_f1_metric: 0.7372\n",
      "Epoch 42/3000\n",
      "6688/6761 [============================>.] - ETA: 0s - loss: 0.3043 - accuracy: 0.7780 - f1_metric: 0.7782\n",
      "Epoch 00042: val_f1_metric did not improve from 0.73716\n",
      "6761/6761 [==============================] - 1s 136us/sample - loss: 0.3044 - accuracy: 0.7770 - f1_metric: 0.7769 - val_loss: 1.0320 - val_accuracy: 0.7379 - val_f1_metric: 0.7372\n",
      "Epoch 43/3000\n",
      "6720/6761 [============================>.] - ETA: 0s - loss: 0.2960 - accuracy: 0.7757 - f1_metric: 0.7762\n",
      "Epoch 00043: val_f1_metric improved from 0.73716 to 0.74162, saving model to ./best_model_keras\n",
      "6761/6761 [==============================] - 2s 242us/sample - loss: 0.2953 - accuracy: 0.7761 - f1_metric: 0.7765 - val_loss: 1.0333 - val_accuracy: 0.7424 - val_f1_metric: 0.7416\n",
      "Epoch 44/3000\n",
      "6752/6761 [============================>.] - ETA: 0s - loss: 0.3027 - accuracy: 0.7775 - f1_metric: 0.7773\n",
      "Epoch 00044: val_f1_metric did not improve from 0.74162\n",
      "6761/6761 [==============================] - 1s 136us/sample - loss: 0.3025 - accuracy: 0.7777 - f1_metric: 0.7778 - val_loss: 1.0979 - val_accuracy: 0.7345 - val_f1_metric: 0.7335\n",
      "Epoch 45/3000\n",
      "6688/6761 [============================>.] - ETA: 0s - loss: 0.3077 - accuracy: 0.7690 - f1_metric: 0.7689\n",
      "Epoch 00045: val_f1_metric did not improve from 0.74162\n",
      "6761/6761 [==============================] - 1s 134us/sample - loss: 0.3091 - accuracy: 0.7684 - f1_metric: 0.7683 - val_loss: 1.0539 - val_accuracy: 0.7338 - val_f1_metric: 0.7328\n",
      "Epoch 46/3000\n",
      "6688/6761 [============================>.] - ETA: 0s - loss: 0.2920 - accuracy: 0.7672 - f1_metric: 0.7678\n",
      "Epoch 00046: val_f1_metric did not improve from 0.74162\n",
      "6761/6761 [==============================] - 1s 139us/sample - loss: 0.2921 - accuracy: 0.7679 - f1_metric: 0.7686 - val_loss: 1.0850 - val_accuracy: 0.7293 - val_f1_metric: 0.7284\n",
      "Epoch 47/3000\n",
      "6624/6761 [============================>.] - ETA: 0s - loss: 0.3142 - accuracy: 0.7687 - f1_metric: 0.7686\n",
      "Epoch 00047: val_f1_metric did not improve from 0.74162\n",
      "6761/6761 [==============================] - 1s 148us/sample - loss: 0.3141 - accuracy: 0.7672 - f1_metric: 0.7659 - val_loss: 1.0733 - val_accuracy: 0.7341 - val_f1_metric: 0.7332\n",
      "Epoch 48/3000\n",
      "6464/6761 [===========================>..] - ETA: 0s - loss: 0.2909 - accuracy: 0.7734 - f1_metric: 0.7743\n",
      "Epoch 00048: val_f1_metric did not improve from 0.74162\n",
      "6761/6761 [==============================] - 1s 139us/sample - loss: 0.2904 - accuracy: 0.7740 - f1_metric: 0.7755 - val_loss: 1.0732 - val_accuracy: 0.7324 - val_f1_metric: 0.7315\n",
      "Epoch 49/3000\n",
      "6400/6761 [===========================>..] - ETA: 0s - loss: 0.2835 - accuracy: 0.7723 - f1_metric: 0.7720\n",
      "Epoch 00049: val_f1_metric did not improve from 0.74162\n",
      "6761/6761 [==============================] - 1s 141us/sample - loss: 0.2899 - accuracy: 0.7722 - f1_metric: 0.7721 - val_loss: 1.0802 - val_accuracy: 0.7331 - val_f1_metric: 0.7323\n",
      "Epoch 50/3000\n",
      "6272/6761 [==========================>...] - ETA: 0s - loss: 0.3028 - accuracy: 0.7701 - f1_metric: 0.7709\n",
      "Epoch 00050: val_f1_metric did not improve from 0.74162\n",
      "6761/6761 [==============================] - 1s 134us/sample - loss: 0.2988 - accuracy: 0.7722 - f1_metric: 0.7730 - val_loss: 1.1222 - val_accuracy: 0.7355 - val_f1_metric: 0.7348\n",
      "Epoch 51/3000\n",
      "6272/6761 [==========================>...] - ETA: 0s - loss: 0.2976 - accuracy: 0.7761 - f1_metric: 0.7771\n",
      "Epoch 00051: val_f1_metric did not improve from 0.74162\n",
      "6761/6761 [==============================] - 1s 133us/sample - loss: 0.2946 - accuracy: 0.7750 - f1_metric: 0.7763 - val_loss: 1.0727 - val_accuracy: 0.7276 - val_f1_metric: 0.7271\n",
      "Epoch 52/3000\n",
      "6720/6761 [============================>.] - ETA: 0s - loss: 0.2997 - accuracy: 0.7685 - f1_metric: 0.7686\n",
      "Epoch 00052: val_f1_metric did not improve from 0.74162\n",
      "6761/6761 [==============================] - 1s 134us/sample - loss: 0.2990 - accuracy: 0.7684 - f1_metric: 0.7682 - val_loss: 1.1125 - val_accuracy: 0.7272 - val_f1_metric: 0.7265\n",
      "Epoch 53/3000\n",
      "6304/6761 [==========================>...] - ETA: 0s - loss: 0.2822 - accuracy: 0.7792 - f1_metric: 0.7790\n",
      "Epoch 00053: val_f1_metric did not improve from 0.74162\n",
      "6761/6761 [==============================] - 1s 133us/sample - loss: 0.2836 - accuracy: 0.7771 - f1_metric: 0.7765 - val_loss: 1.1455 - val_accuracy: 0.7393 - val_f1_metric: 0.7383\n",
      "Epoch 54/3000\n",
      "6720/6761 [============================>.] - ETA: 0s - loss: 0.2939 - accuracy: 0.7768 - f1_metric: 0.7773\n",
      "Epoch 00054: val_f1_metric did not improve from 0.74162\n",
      "6761/6761 [==============================] - 1s 134us/sample - loss: 0.2940 - accuracy: 0.7770 - f1_metric: 0.7778 - val_loss: 1.1162 - val_accuracy: 0.7386 - val_f1_metric: 0.7378\n",
      "Epoch 55/3000\n",
      "6752/6761 [============================>.] - ETA: 0s - loss: 0.3072 - accuracy: 0.7703 - f1_metric: 0.7700\n",
      "Epoch 00055: val_f1_metric did not improve from 0.74162\n",
      "6761/6761 [==============================] - 1s 135us/sample - loss: 0.3070 - accuracy: 0.7703 - f1_metric: 0.7701 - val_loss: 1.1085 - val_accuracy: 0.7293 - val_f1_metric: 0.7283\n",
      "Epoch 56/3000\n",
      "6720/6761 [============================>.] - ETA: 0s - loss: 0.2906 - accuracy: 0.7701 - f1_metric: 0.7697\n",
      "Epoch 00056: val_f1_metric did not improve from 0.74162\n",
      "6761/6761 [==============================] - 1s 136us/sample - loss: 0.2910 - accuracy: 0.7700 - f1_metric: 0.7689 - val_loss: 1.1148 - val_accuracy: 0.7338 - val_f1_metric: 0.7330\n",
      "Epoch 57/3000\n",
      "6528/6761 [===========================>..] - ETA: 0s - loss: 0.2836 - accuracy: 0.7742 - f1_metric: 0.7750\n",
      "Epoch 00057: val_f1_metric did not improve from 0.74162\n",
      "6761/6761 [==============================] - 1s 137us/sample - loss: 0.2848 - accuracy: 0.7739 - f1_metric: 0.7742 - val_loss: 1.1519 - val_accuracy: 0.7314 - val_f1_metric: 0.7306\n",
      "Epoch 58/3000\n",
      "6656/6761 [============================>.] - ETA: 0s - loss: 0.2741 - accuracy: 0.7713 - f1_metric: 0.7716\n",
      "Epoch 00058: val_f1_metric did not improve from 0.74162\n",
      "6761/6761 [==============================] - 1s 136us/sample - loss: 0.2729 - accuracy: 0.7712 - f1_metric: 0.7711 - val_loss: 1.1706 - val_accuracy: 0.7372 - val_f1_metric: 0.7365\n",
      "Epoch 59/3000\n",
      "6720/6761 [============================>.] - ETA: 0s - loss: 0.2886 - accuracy: 0.7760 - f1_metric: 0.7766\n",
      "Epoch 00059: val_f1_metric did not improve from 0.74162\n",
      "6761/6761 [==============================] - 1s 136us/sample - loss: 0.2894 - accuracy: 0.7761 - f1_metric: 0.7767 - val_loss: 1.1759 - val_accuracy: 0.7414 - val_f1_metric: 0.7406\n",
      "Epoch 60/3000\n",
      "6272/6761 [==========================>...] - ETA: 0s - loss: 0.2753 - accuracy: 0.7808 - f1_metric: 0.7813\n",
      "Epoch 00060: val_f1_metric did not improve from 0.74162\n",
      "6761/6761 [==============================] - 1s 141us/sample - loss: 0.2813 - accuracy: 0.7809 - f1_metric: 0.7813 - val_loss: 1.1478 - val_accuracy: 0.7352 - val_f1_metric: 0.7349\n",
      "Epoch 61/3000\n",
      "6240/6761 [==========================>...] - ETA: 0s - loss: 0.2910 - accuracy: 0.7811 - f1_metric: 0.7809\n",
      "Epoch 00061: val_f1_metric did not improve from 0.74162\n",
      "6761/6761 [==============================] - 1s 134us/sample - loss: 0.2916 - accuracy: 0.7809 - f1_metric: 0.7816 - val_loss: 1.1284 - val_accuracy: 0.7400 - val_f1_metric: 0.7390\n",
      "Epoch 62/3000\n",
      "6720/6761 [============================>.] - ETA: 0s - loss: 0.3064 - accuracy: 0.7719 - f1_metric: 0.7733\n",
      "Epoch 00062: val_f1_metric did not improve from 0.74162\n",
      "6761/6761 [==============================] - 1s 135us/sample - loss: 0.3053 - accuracy: 0.7724 - f1_metric: 0.7742 - val_loss: 1.1585 - val_accuracy: 0.7352 - val_f1_metric: 0.7346\n",
      "Epoch 63/3000\n",
      "6688/6761 [============================>.] - ETA: 0s - loss: 0.2851 - accuracy: 0.7708 - f1_metric: 0.7716\n",
      "Epoch 00063: val_f1_metric did not improve from 0.74162\n",
      "6761/6761 [==============================] - 1s 136us/sample - loss: 0.2851 - accuracy: 0.7713 - f1_metric: 0.7729 - val_loss: 1.1859 - val_accuracy: 0.7372 - val_f1_metric: 0.7365\n",
      "Epoch 64/3000\n",
      "6720/6761 [============================>.] - ETA: 0s - loss: 0.2950 - accuracy: 0.7731 - f1_metric: 0.7731\n",
      "Epoch 00064: val_f1_metric did not improve from 0.74162\n",
      "6761/6761 [==============================] - 1s 135us/sample - loss: 0.2941 - accuracy: 0.7736 - f1_metric: 0.7736 - val_loss: 1.1538 - val_accuracy: 0.7310 - val_f1_metric: 0.7305\n",
      "Epoch 65/3000\n",
      "6720/6761 [============================>.] - ETA: 0s - loss: 0.2724 - accuracy: 0.7725 - f1_metric: 0.7731\n",
      "Epoch 00065: val_f1_metric improved from 0.74162 to 0.74457, saving model to ./best_model_keras\n",
      "6761/6761 [==============================] - 2s 260us/sample - loss: 0.2727 - accuracy: 0.7724 - f1_metric: 0.7730 - val_loss: 1.1194 - val_accuracy: 0.7452 - val_f1_metric: 0.7446\n",
      "Epoch 66/3000\n",
      "6752/6761 [============================>.] - ETA: 0s - loss: 0.2952 - accuracy: 0.7743 - f1_metric: 0.7745\n",
      "Epoch 00066: val_f1_metric did not improve from 0.74457\n",
      "6761/6761 [==============================] - 1s 136us/sample - loss: 0.2949 - accuracy: 0.7744 - f1_metric: 0.7750 - val_loss: 1.1535 - val_accuracy: 0.7359 - val_f1_metric: 0.7352\n",
      "Epoch 67/3000\n",
      "6720/6761 [============================>.] - ETA: 0s - loss: 0.2778 - accuracy: 0.7753 - f1_metric: 0.7760\n",
      "Epoch 00067: val_f1_metric did not improve from 0.74457\n",
      "6761/6761 [==============================] - 1s 135us/sample - loss: 0.2775 - accuracy: 0.7750 - f1_metric: 0.7761 - val_loss: 1.1116 - val_accuracy: 0.7372 - val_f1_metric: 0.7367\n",
      "Epoch 68/3000\n",
      "6688/6761 [============================>.] - ETA: 0s - loss: 0.2969 - accuracy: 0.7760 - f1_metric: 0.7761\n",
      "Epoch 00068: val_f1_metric improved from 0.74457 to 0.74560, saving model to ./best_model_keras\n",
      "6761/6761 [==============================] - 2s 242us/sample - loss: 0.2979 - accuracy: 0.7756 - f1_metric: 0.7758 - val_loss: 1.1353 - val_accuracy: 0.7462 - val_f1_metric: 0.7456\n",
      "Epoch 69/3000\n",
      "6400/6761 [===========================>..] - ETA: 0s - loss: 0.2944 - accuracy: 0.7789 - f1_metric: 0.7795\n",
      "Epoch 00069: val_f1_metric did not improve from 0.74560\n",
      "6761/6761 [==============================] - 1s 142us/sample - loss: 0.2918 - accuracy: 0.7793 - f1_metric: 0.7800 - val_loss: 1.1196 - val_accuracy: 0.7383 - val_f1_metric: 0.7375\n",
      "Epoch 70/3000\n",
      "6368/6761 [===========================>..] - ETA: 0s - loss: 0.2861 - accuracy: 0.7765 - f1_metric: 0.7769\n",
      "Epoch 00070: val_f1_metric did not improve from 0.74560\n",
      "6761/6761 [==============================] - 1s 133us/sample - loss: 0.2879 - accuracy: 0.7765 - f1_metric: 0.7775 - val_loss: 1.1249 - val_accuracy: 0.7386 - val_f1_metric: 0.7378\n",
      "Epoch 71/3000\n",
      "6720/6761 [============================>.] - ETA: 0s - loss: 0.2731 - accuracy: 0.7802 - f1_metric: 0.7806\n",
      "Epoch 00071: val_f1_metric did not improve from 0.74560\n",
      "6761/6761 [==============================] - 1s 135us/sample - loss: 0.2725 - accuracy: 0.7804 - f1_metric: 0.7800 - val_loss: 1.1967 - val_accuracy: 0.7338 - val_f1_metric: 0.7330\n",
      "Epoch 72/3000\n",
      "6496/6761 [===========================>..] - ETA: 0s - loss: 0.2917 - accuracy: 0.7743 - f1_metric: 0.7742\n",
      "Epoch 00072: val_f1_metric did not improve from 0.74560\n",
      "6761/6761 [==============================] - 1s 155us/sample - loss: 0.2897 - accuracy: 0.7741 - f1_metric: 0.7734 - val_loss: 1.1788 - val_accuracy: 0.7341 - val_f1_metric: 0.7332\n",
      "Epoch 73/3000\n",
      "6336/6761 [===========================>..] - ETA: 0s - loss: 0.2791 - accuracy: 0.7784 - f1_metric: 0.7786\n",
      "Epoch 00073: val_f1_metric did not improve from 0.74560\n",
      "6761/6761 [==============================] - 1s 142us/sample - loss: 0.2809 - accuracy: 0.7771 - f1_metric: 0.7777 - val_loss: 1.1339 - val_accuracy: 0.7321 - val_f1_metric: 0.7313\n",
      "Epoch 74/3000\n",
      "6752/6761 [============================>.] - ETA: 0s - loss: 0.2765 - accuracy: 0.7741 - f1_metric: 0.7743\n",
      "Epoch 00074: val_f1_metric did not improve from 0.74560\n",
      "6761/6761 [==============================] - 1s 135us/sample - loss: 0.2762 - accuracy: 0.7743 - f1_metric: 0.7749 - val_loss: 1.1093 - val_accuracy: 0.7452 - val_f1_metric: 0.7446\n",
      "Epoch 75/3000\n",
      "6272/6761 [==========================>...] - ETA: 0s - loss: 0.2762 - accuracy: 0.7781 - f1_metric: 0.7779\n",
      "Epoch 00075: val_f1_metric improved from 0.74560 to 0.75213, saving model to ./best_model_keras\n",
      "6761/6761 [==============================] - 2s 243us/sample - loss: 0.2732 - accuracy: 0.7793 - f1_metric: 0.7792 - val_loss: 1.1216 - val_accuracy: 0.7528 - val_f1_metric: 0.7521\n",
      "Epoch 76/3000\n",
      "6528/6761 [===========================>..] - ETA: 0s - loss: 0.2744 - accuracy: 0.7832 - f1_metric: 0.7834\n",
      "Epoch 00076: val_f1_metric did not improve from 0.75213\n",
      "6761/6761 [==============================] - 1s 140us/sample - loss: 0.2734 - accuracy: 0.7841 - f1_metric: 0.7838 - val_loss: 1.1325 - val_accuracy: 0.7448 - val_f1_metric: 0.7442\n",
      "Epoch 77/3000\n",
      "6528/6761 [===========================>..] - ETA: 0s - loss: 0.2772 - accuracy: 0.7886 - f1_metric: 0.7893\n",
      "Epoch 00077: val_f1_metric improved from 0.75213 to 0.75272, saving model to ./best_model_keras\n",
      "6761/6761 [==============================] - 2s 268us/sample - loss: 0.2761 - accuracy: 0.7898 - f1_metric: 0.7905 - val_loss: 1.1582 - val_accuracy: 0.7534 - val_f1_metric: 0.7527\n",
      "Epoch 78/3000\n",
      "6560/6761 [============================>.] - ETA: 0s - loss: 0.2775 - accuracy: 0.7823 - f1_metric: 0.7827\n",
      "Epoch 00078: val_f1_metric did not improve from 0.75272\n",
      "6761/6761 [==============================] - 1s 148us/sample - loss: 0.2746 - accuracy: 0.7838 - f1_metric: 0.7844 - val_loss: 1.1809 - val_accuracy: 0.7410 - val_f1_metric: 0.7402\n",
      "Epoch 79/3000\n",
      "6624/6761 [============================>.] - ETA: 0s - loss: 0.2805 - accuracy: 0.7793 - f1_metric: 0.7797\n",
      "Epoch 00079: val_f1_metric did not improve from 0.75272\n",
      "6761/6761 [==============================] - 1s 139us/sample - loss: 0.2789 - accuracy: 0.7798 - f1_metric: 0.7796 - val_loss: 1.1824 - val_accuracy: 0.7466 - val_f1_metric: 0.7457\n",
      "Epoch 80/3000\n",
      "6624/6761 [============================>.] - ETA: 0s - loss: 0.2735 - accuracy: 0.7829 - f1_metric: 0.7825\n",
      "Epoch 00080: val_f1_metric did not improve from 0.75272\n",
      "6761/6761 [==============================] - 1s 139us/sample - loss: 0.2735 - accuracy: 0.7830 - f1_metric: 0.7818 - val_loss: 1.2001 - val_accuracy: 0.7397 - val_f1_metric: 0.7389\n",
      "Epoch 81/3000\n",
      "6688/6761 [============================>.] - ETA: 0s - loss: 0.2839 - accuracy: 0.7815 - f1_metric: 0.7824\n",
      "Epoch 00081: val_f1_metric did not improve from 0.75272\n",
      "6761/6761 [==============================] - 1s 138us/sample - loss: 0.2846 - accuracy: 0.7823 - f1_metric: 0.7835 - val_loss: 1.1575 - val_accuracy: 0.7397 - val_f1_metric: 0.7389\n",
      "Epoch 82/3000\n",
      "6592/6761 [============================>.] - ETA: 0s - loss: 0.2899 - accuracy: 0.7796 - f1_metric: 0.7800\n",
      "Epoch 00082: val_f1_metric did not improve from 0.75272\n",
      "6761/6761 [==============================] - 1s 138us/sample - loss: 0.2894 - accuracy: 0.7789 - f1_metric: 0.7793 - val_loss: 1.1800 - val_accuracy: 0.7338 - val_f1_metric: 0.7330\n",
      "Epoch 83/3000\n",
      "6592/6761 [============================>.] - ETA: 0s - loss: 0.2809 - accuracy: 0.7802 - f1_metric: 0.7806\n",
      "Epoch 00083: val_f1_metric did not improve from 0.75272\n",
      "6761/6761 [==============================] - 1s 139us/sample - loss: 0.2799 - accuracy: 0.7808 - f1_metric: 0.7810 - val_loss: 1.2336 - val_accuracy: 0.7486 - val_f1_metric: 0.7478\n",
      "Epoch 84/3000\n",
      "6688/6761 [============================>.] - ETA: 0s - loss: 0.2772 - accuracy: 0.7880 - f1_metric: 0.7878\n",
      "Epoch 00084: val_f1_metric did not improve from 0.75272\n",
      "6761/6761 [==============================] - 1s 139us/sample - loss: 0.2779 - accuracy: 0.7880 - f1_metric: 0.7878 - val_loss: 1.1520 - val_accuracy: 0.7483 - val_f1_metric: 0.7472\n",
      "Epoch 85/3000\n",
      "6336/6761 [===========================>..] - ETA: 0s - loss: 0.2706 - accuracy: 0.7898 - f1_metric: 0.7896\n",
      "Epoch 00085: val_f1_metric did not improve from 0.75272\n",
      "6761/6761 [==============================] - 1s 142us/sample - loss: 0.2732 - accuracy: 0.7889 - f1_metric: 0.7888 - val_loss: 1.2216 - val_accuracy: 0.7503 - val_f1_metric: 0.7495\n",
      "Epoch 86/3000\n",
      "6688/6761 [============================>.] - ETA: 0s - loss: 0.2732 - accuracy: 0.7827 - f1_metric: 0.7836\n",
      "Epoch 00086: val_f1_metric did not improve from 0.75272\n",
      "6761/6761 [==============================] - 1s 137us/sample - loss: 0.2725 - accuracy: 0.7835 - f1_metric: 0.7848 - val_loss: 1.1874 - val_accuracy: 0.7510 - val_f1_metric: 0.7504\n",
      "Epoch 87/3000\n",
      "6752/6761 [============================>.] - ETA: 0s - loss: 0.2719 - accuracy: 0.7887 - f1_metric: 0.7882\n",
      "Epoch 00087: val_f1_metric did not improve from 0.75272\n",
      "6761/6761 [==============================] - 1s 146us/sample - loss: 0.2717 - accuracy: 0.7889 - f1_metric: 0.7892 - val_loss: 1.1964 - val_accuracy: 0.7479 - val_f1_metric: 0.7471\n",
      "Epoch 88/3000\n",
      "6528/6761 [===========================>..] - ETA: 0s - loss: 0.2768 - accuracy: 0.7863 - f1_metric: 0.7865\n",
      "Epoch 00088: val_f1_metric did not improve from 0.75272\n",
      "6761/6761 [==============================] - 1s 148us/sample - loss: 0.2777 - accuracy: 0.7855 - f1_metric: 0.7857 - val_loss: 1.2828 - val_accuracy: 0.7517 - val_f1_metric: 0.7511\n",
      "Epoch 89/3000\n",
      "6656/6761 [============================>.] - ETA: 0s - loss: 0.2837 - accuracy: 0.7858 - f1_metric: 0.7859\n",
      "Epoch 00089: val_f1_metric did not improve from 0.75272\n",
      "6761/6761 [==============================] - 1s 136us/sample - loss: 0.2827 - accuracy: 0.7863 - f1_metric: 0.7868 - val_loss: 1.1642 - val_accuracy: 0.7497 - val_f1_metric: 0.7490\n",
      "Epoch 90/3000\n",
      "6688/6761 [============================>.] - ETA: 0s - loss: 0.2838 - accuracy: 0.7772 - f1_metric: 0.7780\n",
      "Epoch 00090: val_f1_metric did not improve from 0.75272\n",
      "6761/6761 [==============================] - 1s 139us/sample - loss: 0.2833 - accuracy: 0.7778 - f1_metric: 0.7782 - val_loss: 1.1478 - val_accuracy: 0.7431 - val_f1_metric: 0.7425\n",
      "Epoch 91/3000\n",
      "6688/6761 [============================>.] - ETA: 0s - loss: 0.2785 - accuracy: 0.7756 - f1_metric: 0.7752\n",
      "Epoch 00091: val_f1_metric did not improve from 0.75272\n",
      "6761/6761 [==============================] - 1s 135us/sample - loss: 0.2781 - accuracy: 0.7755 - f1_metric: 0.7758 - val_loss: 1.1989 - val_accuracy: 0.7466 - val_f1_metric: 0.7459\n",
      "Epoch 92/3000\n",
      "6720/6761 [============================>.] - ETA: 0s - loss: 0.2683 - accuracy: 0.7826 - f1_metric: 0.7834\n",
      "Epoch 00092: val_f1_metric did not improve from 0.75272\n",
      "6761/6761 [==============================] - 1s 136us/sample - loss: 0.2685 - accuracy: 0.7823 - f1_metric: 0.7831 - val_loss: 1.2356 - val_accuracy: 0.7514 - val_f1_metric: 0.7508\n",
      "Epoch 93/3000\n",
      "6688/6761 [============================>.] - ETA: 0s - loss: 0.2689 - accuracy: 0.7911 - f1_metric: 0.7918\n",
      "Epoch 00093: val_f1_metric did not improve from 0.75272\n",
      "6761/6761 [==============================] - 1s 135us/sample - loss: 0.2676 - accuracy: 0.7910 - f1_metric: 0.7920 - val_loss: 1.2101 - val_accuracy: 0.7452 - val_f1_metric: 0.7446\n",
      "Epoch 94/3000\n",
      "6752/6761 [============================>.] - ETA: 0s - loss: 0.2624 - accuracy: 0.7900 - f1_metric: 0.7904\n",
      "Epoch 00094: val_f1_metric did not improve from 0.75272\n",
      "6761/6761 [==============================] - 1s 134us/sample - loss: 0.2629 - accuracy: 0.7901 - f1_metric: 0.7909 - val_loss: 1.2726 - val_accuracy: 0.7476 - val_f1_metric: 0.7468\n",
      "Epoch 95/3000\n",
      "6720/6761 [============================>.] - ETA: 0s - loss: 0.2681 - accuracy: 0.7874 - f1_metric: 0.7873\n",
      "Epoch 00095: val_f1_metric did not improve from 0.75272\n",
      "6761/6761 [==============================] - 1s 134us/sample - loss: 0.2698 - accuracy: 0.7867 - f1_metric: 0.7866 - val_loss: 1.3133 - val_accuracy: 0.7500 - val_f1_metric: 0.7492\n",
      "Epoch 96/3000\n",
      "6304/6761 [==========================>...] - ETA: 0s - loss: 0.2678 - accuracy: 0.7922 - f1_metric: 0.7920\n",
      "Epoch 00096: val_f1_metric improved from 0.75272 to 0.75707, saving model to ./best_model_keras\n",
      "6761/6761 [==============================] - 2s 241us/sample - loss: 0.2673 - accuracy: 0.7935 - f1_metric: 0.7933 - val_loss: 1.2805 - val_accuracy: 0.7579 - val_f1_metric: 0.7571\n",
      "Epoch 97/3000\n",
      "6752/6761 [============================>.] - ETA: 0s - loss: 0.2716 - accuracy: 0.7888 - f1_metric: 0.7887\n",
      "Epoch 00097: val_f1_metric did not improve from 0.75707\n",
      "6761/6761 [==============================] - 1s 137us/sample - loss: 0.2719 - accuracy: 0.7889 - f1_metric: 0.7892 - val_loss: 1.2020 - val_accuracy: 0.7452 - val_f1_metric: 0.7444\n",
      "Epoch 98/3000\n",
      "6464/6761 [===========================>..] - ETA: 0s - loss: 0.2810 - accuracy: 0.7816 - f1_metric: 0.7818\n",
      "Epoch 00098: val_f1_metric did not improve from 0.75707\n",
      "6761/6761 [==============================] - 1s 139us/sample - loss: 0.2780 - accuracy: 0.7817 - f1_metric: 0.7827 - val_loss: 1.1463 - val_accuracy: 0.7469 - val_f1_metric: 0.7461\n",
      "Epoch 99/3000\n",
      "6272/6761 [==========================>...] - ETA: 0s - loss: 0.2663 - accuracy: 0.7814 - f1_metric: 0.7817\n",
      "Epoch 00099: val_f1_metric did not improve from 0.75707\n",
      "6761/6761 [==============================] - 1s 134us/sample - loss: 0.2653 - accuracy: 0.7805 - f1_metric: 0.7816 - val_loss: 1.1781 - val_accuracy: 0.7397 - val_f1_metric: 0.7389\n",
      "Epoch 100/3000\n",
      "6752/6761 [============================>.] - ETA: 0s - loss: 0.2638 - accuracy: 0.7807 - f1_metric: 0.7814\n",
      "Epoch 00100: val_f1_metric did not improve from 0.75707\n",
      "6761/6761 [==============================] - 1s 134us/sample - loss: 0.2638 - accuracy: 0.7805 - f1_metric: 0.7809 - val_loss: 1.2061 - val_accuracy: 0.7521 - val_f1_metric: 0.7512\n",
      "Epoch 101/3000\n",
      "6272/6761 [==========================>...] - ETA: 0s - loss: 0.2649 - accuracy: 0.7832 - f1_metric: 0.7842\n",
      "Epoch 00101: val_f1_metric did not improve from 0.75707\n",
      "6761/6761 [==============================] - 1s 134us/sample - loss: 0.2658 - accuracy: 0.7817 - f1_metric: 0.7822 - val_loss: 1.2480 - val_accuracy: 0.7483 - val_f1_metric: 0.7475\n",
      "Epoch 102/3000\n",
      "6272/6761 [==========================>...] - ETA: 0s - loss: 0.2608 - accuracy: 0.7934 - f1_metric: 0.7939\n",
      "Epoch 00102: val_f1_metric did not improve from 0.75707\n",
      "6761/6761 [==============================] - 1s 134us/sample - loss: 0.2586 - accuracy: 0.7917 - f1_metric: 0.7925 - val_loss: 1.2487 - val_accuracy: 0.7559 - val_f1_metric: 0.7551\n",
      "Epoch 103/3000\n",
      "6272/6761 [==========================>...] - ETA: 0s - loss: 0.2613 - accuracy: 0.7895 - f1_metric: 0.7895\n",
      "Epoch 00103: val_f1_metric did not improve from 0.75707\n",
      "6761/6761 [==============================] - 1s 142us/sample - loss: 0.2629 - accuracy: 0.7886 - f1_metric: 0.7886 - val_loss: 1.2224 - val_accuracy: 0.7455 - val_f1_metric: 0.7447\n",
      "Epoch 104/3000\n",
      "6688/6761 [============================>.] - ETA: 0s - loss: 0.2611 - accuracy: 0.7863 - f1_metric: 0.7868\n",
      "Epoch 00104: val_f1_metric did not improve from 0.75707\n",
      "6761/6761 [==============================] - 1s 147us/sample - loss: 0.2611 - accuracy: 0.7872 - f1_metric: 0.7880 - val_loss: 1.2440 - val_accuracy: 0.7472 - val_f1_metric: 0.7466\n",
      "Epoch 105/3000\n",
      "6432/6761 [===========================>..] - ETA: 0s - loss: 0.2561 - accuracy: 0.7882 - f1_metric: 0.7886\n",
      "Epoch 00105: val_f1_metric did not improve from 0.75707\n",
      "6761/6761 [==============================] - 1s 131us/sample - loss: 0.2557 - accuracy: 0.7885 - f1_metric: 0.7877 - val_loss: 1.2692 - val_accuracy: 0.7469 - val_f1_metric: 0.7461\n",
      "Epoch 106/3000\n",
      "6496/6761 [===========================>..] - ETA: 0s - loss: 0.2612 - accuracy: 0.7809 - f1_metric: 0.7816\n",
      "Epoch 00106: val_f1_metric did not improve from 0.75707\n",
      "6761/6761 [==============================] - 1s 130us/sample - loss: 0.2631 - accuracy: 0.7812 - f1_metric: 0.7814 - val_loss: 1.2347 - val_accuracy: 0.7438 - val_f1_metric: 0.7432\n",
      "Epoch 107/3000\n",
      "6528/6761 [===========================>..] - ETA: 0s - loss: 0.2858 - accuracy: 0.7845 - f1_metric: 0.7847\n",
      "Epoch 00107: val_f1_metric did not improve from 0.75707\n",
      "6761/6761 [==============================] - 1s 131us/sample - loss: 0.2840 - accuracy: 0.7860 - f1_metric: 0.7862 - val_loss: 1.2170 - val_accuracy: 0.7379 - val_f1_metric: 0.7374\n",
      "Epoch 108/3000\n",
      "6496/6761 [===========================>..] - ETA: 0s - loss: 0.2722 - accuracy: 0.7786 - f1_metric: 0.7786\n",
      "Epoch 00108: val_f1_metric did not improve from 0.75707\n",
      "6761/6761 [==============================] - 1s 131us/sample - loss: 0.2710 - accuracy: 0.7805 - f1_metric: 0.7808 - val_loss: 1.2616 - val_accuracy: 0.7528 - val_f1_metric: 0.7519\n",
      "Epoch 109/3000\n",
      "6688/6761 [============================>.] - ETA: 0s - loss: 0.2548 - accuracy: 0.7917 - f1_metric: 0.7919\n",
      "Epoch 00109: val_f1_metric did not improve from 0.75707\n",
      "6761/6761 [==============================] - 1s 135us/sample - loss: 0.2546 - accuracy: 0.7912 - f1_metric: 0.7906 - val_loss: 1.2958 - val_accuracy: 0.7541 - val_f1_metric: 0.7533\n",
      "Epoch 110/3000\n",
      "6464/6761 [===========================>..] - ETA: 0s - loss: 0.2665 - accuracy: 0.7890 - f1_metric: 0.7892\n",
      "Epoch 00110: val_f1_metric did not improve from 0.75707\n",
      "6761/6761 [==============================] - 1s 131us/sample - loss: 0.2650 - accuracy: 0.7888 - f1_metric: 0.7890 - val_loss: 1.2418 - val_accuracy: 0.7555 - val_f1_metric: 0.7549\n",
      "Epoch 111/3000\n",
      "6240/6761 [==========================>...] - ETA: 0s - loss: 0.2751 - accuracy: 0.7891 - f1_metric: 0.7896\n",
      "Epoch 00111: val_f1_metric did not improve from 0.75707\n",
      "6761/6761 [==============================] - 1s 133us/sample - loss: 0.2745 - accuracy: 0.7889 - f1_metric: 0.7894 - val_loss: 1.2360 - val_accuracy: 0.7421 - val_f1_metric: 0.7415\n",
      "Epoch 112/3000\n",
      "6432/6761 [===========================>..] - ETA: 0s - loss: 0.2602 - accuracy: 0.7837 - f1_metric: 0.7842\n",
      "Epoch 00112: val_f1_metric did not improve from 0.75707\n",
      "6761/6761 [==============================] - 1s 131us/sample - loss: 0.2599 - accuracy: 0.7851 - f1_metric: 0.7855 - val_loss: 1.2352 - val_accuracy: 0.7438 - val_f1_metric: 0.7432\n",
      "Epoch 113/3000\n",
      "6432/6761 [===========================>..] - ETA: 0s - loss: 0.2436 - accuracy: 0.7858 - f1_metric: 0.7862\n",
      "Epoch 00113: val_f1_metric did not improve from 0.75707\n",
      "6761/6761 [==============================] - 1s 132us/sample - loss: 0.2430 - accuracy: 0.7861 - f1_metric: 0.7869 - val_loss: 1.2813 - val_accuracy: 0.7541 - val_f1_metric: 0.7535\n",
      "Epoch 114/3000\n",
      "6304/6761 [==========================>...] - ETA: 0s - loss: 0.2515 - accuracy: 0.7876 - f1_metric: 0.7883\n",
      "Epoch 00114: val_f1_metric did not improve from 0.75707\n",
      "6761/6761 [==============================] - 1s 134us/sample - loss: 0.2502 - accuracy: 0.7882 - f1_metric: 0.7888 - val_loss: 1.2933 - val_accuracy: 0.7538 - val_f1_metric: 0.7532\n",
      "Epoch 115/3000\n",
      "6688/6761 [============================>.] - ETA: 0s - loss: 0.2540 - accuracy: 0.7889 - f1_metric: 0.7893\n",
      "Epoch 00115: val_f1_metric improved from 0.75707 to 0.75934, saving model to ./best_model_keras\n",
      "6761/6761 [==============================] - 2s 260us/sample - loss: 0.2549 - accuracy: 0.7894 - f1_metric: 0.7890 - val_loss: 1.3024 - val_accuracy: 0.7600 - val_f1_metric: 0.7593\n",
      "Epoch 00115: early stopping\n",
      "CPU times: user 2min 52s, sys: 23 s, total: 3min 15s\n",
      "Wall time: 2min\n"
     ]
    }
   ],
   "source": [
    "%%time\n",
    "history = model.fit(x_train, y_train, epochs=3000, verbose=1,\n",
    "                            batch_size=32, shuffle=True,\n",
    "                            validation_data=(x_cv, y_cv),\n",
    "                            callbacks=[mcp, rlp, es],\n",
    "                            class_weight=class_weights)\n",
    "                            "
   ]
  },
  {
   "cell_type": "markdown",
   "metadata": {},
   "source": [
    "Se visualiza el rendimiento del modelo durante el entrenamiento. Muestra gráficas de la pérdida y la métrica F1 tanto para los conjuntos de entrenamiento como de validación a lo largo de las épocas. Esto ayuda a evaluar el aprendizaje y la generalización del modelo."
   ]
  },
  {
   "cell_type": "code",
   "execution_count": 18,
   "metadata": {
    "execution": {
     "iopub.execute_input": "2024-01-07T19:05:54.549808Z",
     "iopub.status.busy": "2024-01-07T19:05:54.549536Z",
     "iopub.status.idle": "2024-01-07T19:05:54.586507Z",
     "shell.execute_reply": "2024-01-07T19:05:54.585546Z",
     "shell.execute_reply.started": "2024-01-07T19:05:54.549755Z"
    },
    "scrolled": true
   },
   "outputs": [
    {
     "data": {
      "image/png": "[encoded data removed]",
      "text/plain": [
       "<Figure size 432x288 with 1 Axes>"
      ]
     },
     "metadata": {
      "needs_background": "light"
     },
     "output_type": "display_data"
    }
   ],
   "source": [
    "from matplotlib import pyplot as plt\n",
    "%matplotlib inline\n",
    "InteractiveShell.ast_node_interactivity = \"last\"\n",
    "\n",
    "plt.figure()\n",
    "plt.plot(history.history['loss'])\n",
    "plt.plot(history.history['val_loss'])\n",
    "plt.plot(history.history['f1_metric'])\n",
    "plt.plot(history.history['val_f1_metric'])\n",
    "\n",
    "plt.title('Model loss')\n",
    "plt.ylabel('Loss')\n",
    "plt.xlabel('Epoch')\n",
    "plt.legend(['train_loss', 'val_loss', 'f1', 'val_f1'], loc='upper left')\n",
    "plt.show()"
   ]
  },
  {
   "cell_type": "markdown",
   "metadata": {},
   "source": [
    "Se realiza la evaluación final del modelo sobre el conjunto de prueba:\n",
    "\n",
    "1) Carga el mejor modelo guardado.   \n",
    "\n",
    "2) Evalúa el modelo en el conjunto de prueba y obtiene las predicciones.\n",
    "\n",
    "3) Calcula y muestra la matriz de confusión para visualizar el rendimiento del     modelo en clasificar cada clase.\n",
    "\n",
    "4) Calcula las métricas de recall y precisión para cada clase.\n",
    "\n",
    "5) Muestra dos gráficos de barras: uno para el recall y otro para la precisión     por clase, facilitando la comparación visual del rendimiento del modelo en       diferentes clases."
   ]
  },
  {
   "cell_type": "code",
   "execution_count": 19,
   "metadata": {
    "execution": {
     "iopub.status.busy": "2024-01-07T19:05:54.587551Z",
     "iopub.status.idle": "2024-01-07T19:05:54.588021Z"
    }
   },
   "outputs": [
    {
     "data": {
      "image/png": "[encoded data removed]",
      "text/plain": [
       "<Figure size 720x504 with 2 Axes>"
      ]
     },
     "metadata": {
      "needs_background": "light"
     },
     "output_type": "display_data"
    },
    {
     "data": {
      "image/png": "[encoded data removed]",
      "text/plain": [
       "<Figure size 1080x360 with 2 Axes>"
      ]
     },
     "metadata": {
      "needs_background": "light"
     },
     "output_type": "display_data"
    }
   ],
   "source": [
    "import matplotlib.pyplot as plt\n",
    "from sklearn.metrics import confusion_matrix, recall_score, precision_score\n",
    "import numpy as np\n",
    "import seaborn as sns\n",
    "\n",
    "# Carga tu modelo y evalúa los datos de prueba\n",
    "model = load_model(best_model_path)\n",
    "test_res = model.evaluate(x_test, y_test, verbose=0)\n",
    "\n",
    "# Predicciones\n",
    "y_pred = model.predict(x_test)\n",
    "y_pred_classes = np.argmax(y_pred, axis=1)\n",
    "y_true = np.argmax(y_test, axis=1)\n",
    "\n",
    "# Matriz de confusión\n",
    "cm = confusion_matrix(y_true, y_pred_classes)\n",
    "\n",
    "# Recall y Precisión\n",
    "recall = recall_score(y_true, y_pred_classes, average=None)\n",
    "precision = precision_score(y_true, y_pred_classes, average=None)\n",
    "\n",
    "# Gráfico de la matriz de confusión\n",
    "plt.figure(figsize=(10, 7))\n",
    "sns.heatmap(cm, annot=True, fmt='g')\n",
    "plt.xlabel('Predicciones')\n",
    "plt.ylabel('Valores verdaderos')\n",
    "plt.title('Matriz de Confusión')\n",
    "plt.show()\n",
    "\n",
    "# Gráfico de barras para Recall y Precisión\n",
    "fig, ax = plt.subplots(1, 2, figsize=(15, 5))\n",
    "ax[0].bar(['Clase 0', 'Clase 1', 'Clase 2'], recall, color='blue')\n",
    "ax[0].set_title('Recall por Clase')\n",
    "ax[0].set_ylim(0, 1)\n",
    "\n",
    "ax[1].bar(['Clase 0', 'Clase 1', 'Clase 2'], precision, color='green')\n",
    "ax[1].set_title('Precisión por Clase')\n",
    "ax[1].set_ylim(0, 1)\n",
    "\n",
    "plt.show()\n"
   ]
  },
  {
   "cell_type": "code",
   "execution_count": 20,
   "metadata": {
    "execution": {
     "iopub.status.busy": "2024-01-07T19:05:54.589322Z",
     "iopub.status.idle": "2024-01-07T19:05:54.589969Z"
    }
   },
   "outputs": [
    {
     "data": {
      "text/plain": [
       "array([0.43994943, 0.85454545, 0.96296296])"
      ]
     },
     "execution_count": 20,
     "metadata": {},
     "output_type": "execute_result"
    }
   ],
   "source": [
    "recall"
   ]
  },
  {
   "cell_type": "code",
   "execution_count": 21,
   "metadata": {
    "execution": {
     "iopub.status.busy": "2024-01-07T19:05:54.591082Z",
     "iopub.status.idle": "2024-01-07T19:05:54.591729Z"
    }
   },
   "outputs": [
    {
     "data": {
      "text/plain": [
       "array([0.97206704, 0.19665272, 0.17161716])"
      ]
     },
     "execution_count": 21,
     "metadata": {},
     "output_type": "execute_result"
    }
   ],
   "source": [
    "precision"
   ]
  },
  {
   "cell_type": "markdown",
   "metadata": {},
   "source": [
    "Se imprime los resultados de la evaluación del modelo en el conjunto de prueba, mostrando la pérdida (loss), la precisión (accuracy) y la puntuación F1. Estos valores ayudan a comprender el rendimiento general del modelo en datos no vistos."
   ]
  },
  {
   "cell_type": "code",
   "execution_count": 22,
   "metadata": {
    "execution": {
     "iopub.status.busy": "2024-01-07T19:05:54.592934Z",
     "iopub.status.idle": "2024-01-07T19:05:54.593519Z"
    }
   },
   "outputs": [
    {
     "name": "stdout",
     "output_type": "stream",
     "text": [
      "Loss: 0.786787731912401\n",
      "Accuracy: 0.49666666984558105\n",
      "F1 score: 0.49676722288131714\n"
     ]
    }
   ],
   "source": [
    "print(f\"Loss: {test_res[0]}\")\n",
    "print(f\"Accuracy: {test_res[1]}\")\n",
    "print(f\"F1 score: {test_res[2]}\")"
   ]
  },
  {
   "cell_type": "markdown",
   "metadata": {},
   "source": [
    "Se carga el mejor modelo guardado y lo vuelve a guardar con el nombre 'mi_modelo.h5'. Este paso es útil para renombrar y conservar el modelo entrenado para su uso o distribución futura."
   ]
  },
  {
   "cell_type": "code",
   "execution_count": 23,
   "metadata": {
    "execution": {
     "iopub.status.busy": "2024-01-07T19:05:54.594626Z",
     "iopub.status.idle": "2024-01-07T19:05:54.595301Z"
    }
   },
   "outputs": [],
   "source": [
    "model = load_model(best_model_path)\n",
    "model.save('mi_modelo.h5')\n"
   ]
  },
  {
   "cell_type": "markdown",
   "metadata": {},
   "source": [
    "Se implementa una estrategia para optimizar el umbral de clasificación:\n",
    "\n",
    "1) Define una función apply_threshold para ajustar las predicciones basadas en un umbral específico. Si ninguna clase supera el umbral, asigna la clase 0; de lo contrario, selecciona la clase con la mayor probabilidad.\n",
    "\n",
    "2) Itera sobre un rango de posibles umbrales para encontrar el que maximiza el F1 score.\n",
    "\n",
    "3) Calcula el F1 score para cada umbral y actualiza el mejor umbral y el mejor F1 score.\n",
    "\n",
    "4) Finalmente, imprime el mejor umbral encontrado y su correspondiente F1 score.\n",
    "\n",
    "\n",
    "\n",
    "\n",
    "\n",
    "\n",
    "\n"
   ]
  },
  {
   "cell_type": "code",
   "execution_count": 24,
   "metadata": {
    "execution": {
     "iopub.status.busy": "2024-01-07T19:05:54.596418Z",
     "iopub.status.idle": "2024-01-07T19:05:54.597014Z"
    }
   },
   "outputs": [
    {
     "name": "stdout",
     "output_type": "stream",
     "text": [
      "Mejor umbral: 0.7575757575757577\n",
      "Mejor F1 score: 0.4784592105292822\n"
     ]
    },
    {
     "name": "stderr",
     "output_type": "stream",
     "text": [
      "/opt/conda/lib/python3.6/site-packages/sklearn/metrics/classification.py:1437: UndefinedMetricWarning: F-score is ill-defined and being set to 0.0 in labels with no predicted samples.\n",
      "  'precision', 'predicted', average, warn_for)\n"
     ]
    }
   ],
   "source": [
    "import numpy as np\n",
    "from sklearn.metrics import f1_score\n",
    "\n",
    "# Función para aplicar el umbral y ajustar las predicciones\n",
    "def apply_threshold(predictions, threshold):\n",
    "    adjusted_predictions = []\n",
    "    for pred in predictions:\n",
    "        if np.max(pred) < threshold:\n",
    "            # Si ninguna clase supera el umbral, asignamos a la clase 0\n",
    "            adjusted_pred = [1, 0, 0]\n",
    "        else:\n",
    "            # Si alguna clase supera el umbral, seleccionamos la de mayor probabilidad\n",
    "            adjusted_pred = [0, 0, 0]  # Inicialmente, todas las clases se establecen en 0\n",
    "            adjusted_pred[np.argmax(pred)] = 1  # Solo la clase con la mayor probabilidad se establece en 1\n",
    "        adjusted_predictions.append(adjusted_pred)\n",
    "    return np.array(adjusted_predictions)\n",
    "\n",
    "\n",
    "\n",
    "# Define un rango de posibles umbrales\n",
    "thresholds = np.linspace(0, 1, 100)  # 100 umbrales desde 0 a 1\n",
    "\n",
    "# Inicializa el mejor umbral y el mejor F1 score\n",
    "best_threshold = 0\n",
    "best_f1 = 0\n",
    "\n",
    "# Itera sobre los umbrales para encontrar el mejor\n",
    "for threshold in thresholds:\n",
    "    # Aplica el umbral\n",
    "    y_pred_classes = apply_threshold(y_pred, threshold)\n",
    "    y_pred_classes = np.argmax(y_pred_classes, axis=1)\n",
    "\n",
    "    # Calcula el F1 score\n",
    "    f1 = f1_score(y_true, y_pred_classes, average='macro')\n",
    "\n",
    "    # Actualiza el mejor umbral si es necesario\n",
    "    if f1 > best_f1:\n",
    "        best_f1 = f1\n",
    "        best_threshold = threshold\n",
    "\n",
    "# Imprime el mejor umbral y su F1 score\n",
    "print(\"Mejor umbral:\", best_threshold)\n",
    "print(\"Mejor F1 score:\", best_f1)\n"
   ]
  },
  {
   "cell_type": "markdown",
   "metadata": {},
   "source": [
    "Se aplica el mejor umbral encontrado a las predicciones del modelo para ajustar la clasificación final. Utiliza la función apply_threshold para modificar las predicciones según el umbral y luego obtiene la clase final mediante np.argmax, que selecciona el índice de la clase con la probabilidad más alta en cada predicción ajustada."
   ]
  },
  {
   "cell_type": "code",
   "execution_count": 25,
   "metadata": {
    "execution": {
     "iopub.status.busy": "2024-01-07T19:05:54.598261Z",
     "iopub.status.idle": "2024-01-07T19:05:54.598776Z"
    }
   },
   "outputs": [],
   "source": [
    "y_pred_classes = apply_threshold(y_pred, best_threshold)\n",
    "y_pred_classes = np.argmax(y_pred_classes, axis=1)"
   ]
  },
  {
   "cell_type": "markdown",
   "metadata": {},
   "source": [
    "Se calcula y almacena la matriz de confusión, así como las métricas de recall y precisión, usando las predicciones ajustadas con el mejor umbral. Estos cálculos son fundamentales para evaluar el rendimiento detallado del modelo, especialmente después de ajustar las predicciones con el umbral óptimo."
   ]
  },
  {
   "cell_type": "code",
   "execution_count": 26,
   "metadata": {
    "execution": {
     "iopub.status.busy": "2024-01-07T19:05:54.600014Z",
     "iopub.status.idle": "2024-01-07T19:05:54.600586Z"
    }
   },
   "outputs": [],
   "source": [
    "# Matriz de confusión\n",
    "cm = confusion_matrix(y_true, y_pred_classes)\n",
    "\n",
    "# Recall y Precisión\n",
    "recall = recall_score(y_true, y_pred_classes, average=None)\n",
    "precision = precision_score(y_true, y_pred_classes, average=None)\n",
    "\n"
   ]
  },
  {
   "cell_type": "markdown",
   "metadata": {},
   "source": [
    "Se calcula y muestra la puntuación F1 del modelo usando las predicciones ajustadas. Se utiliza el promedio 'macro', lo que significa que se calcula la puntuación F1 de forma independiente para cada clase y luego se toma el promedio de estas puntuaciones. Esto proporciona una medida de la efectividad del modelo en la clasificación equilibrada a través de todas las clases."
   ]
  },
  {
   "cell_type": "code",
   "execution_count": 27,
   "metadata": {
    "execution": {
     "iopub.status.busy": "2024-01-07T19:05:54.601642Z",
     "iopub.status.idle": "2024-01-07T19:05:54.602082Z"
    }
   },
   "outputs": [
    {
     "data": {
      "text/plain": [
       "0.4784592105292822"
      ]
     },
     "execution_count": 27,
     "metadata": {},
     "output_type": "execute_result"
    }
   ],
   "source": [
    "from sklearn.metrics import f1_score\n",
    "\n",
    "f1 = f1_score(y_true, y_pred_classes, average='macro')\n",
    "f1\n"
   ]
  },
  {
   "cell_type": "code",
   "execution_count": 28,
   "metadata": {
    "execution": {
     "iopub.status.busy": "2024-01-07T19:05:54.603337Z",
     "iopub.status.idle": "2024-01-07T19:05:54.603815Z"
    }
   },
   "outputs": [
    {
     "data": {
      "text/plain": [
       "array([0.75094817, 0.70909091, 0.31481481])"
      ]
     },
     "execution_count": 28,
     "metadata": {},
     "output_type": "execute_result"
    }
   ],
   "source": [
    "recall"
   ]
  },
  {
   "cell_type": "code",
   "execution_count": 29,
   "metadata": {
    "execution": {
     "iopub.status.busy": "2024-01-07T19:05:54.604929Z",
     "iopub.status.idle": "2024-01-07T19:05:54.605506Z"
    }
   },
   "outputs": [
    {
     "data": {
      "text/plain": [
       "array([0.91808346, 0.29104478, 0.14285714])"
      ]
     },
     "execution_count": 29,
     "metadata": {},
     "output_type": "execute_result"
    }
   ],
   "source": [
    "precision"
   ]
  },
  {
   "cell_type": "markdown",
   "metadata": {},
   "source": [
    "Se visualiza dos aspectos clave del rendimiento del modelo:\n",
    "\n",
    "Matriz de Confusión: Utiliza Seaborn para crear un mapa de calor de la matriz de confusión, mostrando la cantidad de predicciones correctas e incorrectas para cada clase.\n",
    "\n",
    "Gráficos de Barras para Recall y Precisión: Muestra dos gráficos de barras para visualizar las métricas de recall y precisión para cada una de las tres clases, facilitando la comparación del rendimiento del modelo en términos de evitar falsos negativos y falsos positivos."
   ]
  },
  {
   "cell_type": "code",
   "execution_count": 30,
   "metadata": {
    "execution": {
     "iopub.status.busy": "2024-01-07T19:05:54.606658Z",
     "iopub.status.idle": "2024-01-07T19:05:54.607181Z"
    }
   },
   "outputs": [
    {
     "data": {
      "image/png": "[encoded data removed]",
      "text/plain": [
       "<Figure size 720x504 with 2 Axes>"
      ]
     },
     "metadata": {
      "needs_background": "light"
     },
     "output_type": "display_data"
    },
    {
     "data": {
      "image/png": "[encoded data removed]",
      "text/plain": [
       "<Figure size 1080x360 with 2 Axes>"
      ]
     },
     "metadata": {
      "needs_background": "light"
     },
     "output_type": "display_data"
    }
   ],
   "source": [
    "# Gráfico de la matriz de confusión\n",
    "plt.figure(figsize=(10, 7))\n",
    "sns.heatmap(cm, annot=True, fmt='g')\n",
    "plt.xlabel('Predicciones')\n",
    "plt.ylabel('Valores verdaderos')\n",
    "plt.title('Matriz de Confusión')\n",
    "plt.show()\n",
    "\n",
    "# Gráfico de barras para Recall y Precisión\n",
    "fig, ax = plt.subplots(1, 2, figsize=(15, 5))\n",
    "ax[0].bar(['Clase 0', 'Clase 1', 'Clase 2'], recall, color='blue')\n",
    "ax[0].set_title('Recall por Clase')\n",
    "ax[0].set_ylim(0, 1)\n",
    "\n",
    "ax[1].bar(['Clase 0', 'Clase 1', 'Clase 2'], precision, color='green')\n",
    "ax[1].set_title('Precisión por Clase')\n",
    "ax[1].set_ylim(0, 1)\n",
    "\n",
    "plt.show()\n"
   ]
  },
  {
   "cell_type": "code",
   "execution_count": null,
   "metadata": {},
   "outputs": [],
   "source": []
  }
 ],
 "metadata": {
  "kaggle": {
   "accelerator": "gpu",
   "dataSources": [
    {
     "sourceId": 157914957,
     "sourceType": "kernelVersion"
    }
   ],
   "dockerImageVersionId": 29850,
   "isGpuEnabled": true,
   "isInternetEnabled": true,
   "language": "python",
   "sourceType": "notebook"
  },
  "kernelspec": {
   "display_name": "Python 3",
   "language": "python",
   "name": "python3"
  },
  "language_info": {
   "codemirror_mode": {
    "name": "ipython",
    "version": 3
   },
   "file_extension": ".py",
   "mimetype": "text/x-python",
   "name": "python",
   "nbconvert_exporter": "python",
   "pygments_lexer": "ipython3",
   "version": "3.6.6"
  }
 },
 "nbformat": 4,
 "nbformat_minor": 4
}
