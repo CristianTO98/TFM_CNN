{
 "cells": [
  {
   "cell_type": "markdown",
   "metadata": {},
   "source": [
    "Se importan librerías esenciales, establece una semilla para la reproducibilidad, carga conjuntos de datos de entrenamiento, validación y prueba desde archivos CSV y muestra sus dimensiones para verificar su estructura."
   ]
  },
  {
   "cell_type": "code",
   "execution_count": 1,
   "metadata": {
    "_cell_guid": "",
    "_uuid": "",
    "execution": {
     "iopub.execute_input": "2024-01-08T17:02:41.991581Z",
     "iopub.status.busy": "2024-01-08T17:02:41.991158Z",
     "iopub.status.idle": "2024-01-08T17:02:44.262978Z",
     "shell.execute_reply": "2024-01-08T17:02:44.262297Z",
     "shell.execute_reply.started": "2024-01-08T17:02:41.991509Z"
    },
    "scrolled": true
   },
   "outputs": [
    {
     "name": "stdout",
     "output_type": "stream",
     "text": [
      "Shape of x, y train/cv/test (2519, 225) (2519,) (1080, 225) (1080,) (900, 225) (900,)\n"
     ]
    }
   ],
   "source": [
    "import pandas as pd\n",
    "import pickle \n",
    "import numpy as np\n",
    "from tqdm import tqdm_notebook as tqdm\n",
    "from IPython.core.interactiveshell import InteractiveShell\n",
    "\n",
    "\n",
    "np.random.seed(2)\n",
    "x_train = np.loadtxt(\"/kaggle/input/features-extraction/x_train.csv\", delimiter=\",\")\n",
    "y_train = np.loadtxt(\"/kaggle/input/features-extraction/y_train.csv\", delimiter=\",\")\n",
    "x_cv = np.loadtxt(\"/kaggle/input/features-extraction/x_cv.csv\", delimiter=\",\")\n",
    "y_cv = np.loadtxt(\"/kaggle/input/features-extraction/y_cv.csv\", delimiter=\",\")\n",
    "x_test = np.loadtxt(\"/kaggle/input/features-extraction/x_test.csv\", delimiter=\",\")\n",
    "y_test = np.loadtxt(\"/kaggle/input/features-extraction/y_test.csv\", delimiter=\",\")\n",
    "\n",
    "print(\"Shape of x, y train/cv/test {} {} {} {} {} {}\".format(x_train.shape, \n",
    "                                                             y_train.shape, x_cv.shape, y_cv.shape, x_test.shape, y_test.shape))"
   ]
  },
  {
   "cell_type": "markdown",
   "metadata": {},
   "source": [
    "Se calcula y muestra el porcentaje de cada clase en el conjunto de entrenamiento, lo que ayuda a entender la distribución y posible desbalance de clases."
   ]
  },
  {
   "cell_type": "code",
   "execution_count": 2,
   "metadata": {
    "execution": {
     "iopub.execute_input": "2024-01-08T17:02:44.265194Z",
     "iopub.status.busy": "2024-01-08T17:02:44.264919Z",
     "iopub.status.idle": "2024-01-08T17:02:44.270965Z",
     "shell.execute_reply": "2024-01-08T17:02:44.270033Z",
     "shell.execute_reply.started": "2024-01-08T17:02:44.265144Z"
    }
   },
   "outputs": [
    {
     "name": "stdout",
     "output_type": "stream",
     "text": [
      "percentage of class 0 = 87.97141722905914, class 1 = 6.073838824930529, class 2 = 5.954743946010321\n"
     ]
    }
   ],
   "source": [
    "_labels, _counts = np.unique(y_train, return_counts=True)\n",
    "print(\"percentage of class 0 = {}, class 1 = {}, class 2 = {}\".format(_counts[0]/len(y_train) * 100, _counts[1]/len(y_train) * 100, _counts[2]/len(y_train) * 100))"
   ]
  },
  {
   "cell_type": "markdown",
   "metadata": {},
   "source": [
    "Se utiliza SMOTE (Synthetic Minority Over-sampling Technique) para equilibrar las clases en los conjuntos de entrenamiento y validación:\n",
    "\n",
    "Instalación de imbalanced-learn: Primero, instala la librería imbalanced-learn que proporciona el algoritmo SMOTE.\n",
    "\n",
    "Función balance_classes_with_smote: Esta función aplana y_train si es necesario y luego aplica SMOTE al conjunto de datos. SMOTE crea muestras sintéticas de las clases minoritarias para igualar el número de muestras de la clase mayoritaria.\n",
    "\n",
    "Mezcla de los Datos: Después de aplicar SMOTE, los datos se mezclan para asegurar la aleatoriedad.\n",
    "\n",
    "Aplicación de la Función: Finalmente, la función se aplica a los conjuntos x_train y y_train, y opcionalmente a x_cv y y_cv, para obtener conjuntos de entrenamiento y validación balanceados.\n",
    "\n",
    "SMOTE es una técnica efectiva para tratar con el desequilibrio de clases, especialmente útil cuando las clases minoritarias no están suficientemente representadas."
   ]
  },
  {
   "cell_type": "code",
   "execution_count": 3,
   "metadata": {
    "execution": {
     "iopub.execute_input": "2024-01-08T17:02:44.272448Z",
     "iopub.status.busy": "2024-01-08T17:02:44.272185Z",
     "iopub.status.idle": "2024-01-08T17:02:54.379034Z",
     "shell.execute_reply": "2024-01-08T17:02:54.378322Z",
     "shell.execute_reply.started": "2024-01-08T17:02:44.272400Z"
    }
   },
   "outputs": [
    {
     "name": "stdout",
     "output_type": "stream",
     "text": [
      "Collecting imbalanced-learn==0.4.0\r\n",
      "\u001b[?25l  Downloading https://files.pythonhosted.org/packages/42/73/07459186288bdfbae30c50eca4b54e16473a1e0ceee5f9c79480d6dc9b50/imbalanced_learn-0.4.0-py3-none-any.whl (165kB)\r\n",
      "\u001b[K     |████████████████████████████████| 174kB 6.8MB/s \r\n",
      "\u001b[?25hRequirement already satisfied: scikit-learn>=0.20 in /opt/conda/lib/python3.6/site-packages (from imbalanced-learn==0.4.0) (0.21.3)\r\n",
      "Requirement already satisfied: numpy>=1.8.2 in /opt/conda/lib/python3.6/site-packages (from imbalanced-learn==0.4.0) (1.18.1)\r\n",
      "Requirement already satisfied: scipy>=0.13.3 in /opt/conda/lib/python3.6/site-packages (from imbalanced-learn==0.4.0) (1.4.1)\r\n",
      "Requirement already satisfied: joblib>=0.11 in /opt/conda/lib/python3.6/site-packages (from scikit-learn>=0.20->imbalanced-learn==0.4.0) (0.14.1)\r\n",
      "\u001b[31mERROR: kmeans-smote 0.1.2 has requirement numpy<1.16,>=1.13, but you'll have numpy 1.18.1 which is incompatible.\u001b[0m\r\n",
      "\u001b[31mERROR: kmeans-smote 0.1.2 has requirement scikit-learn<0.21,>=0.19.0, but you'll have scikit-learn 0.21.3 which is incompatible.\u001b[0m\r\n",
      "Installing collected packages: imbalanced-learn\r\n",
      "  Found existing installation: imbalanced-learn 0.6.1\r\n",
      "    Uninstalling imbalanced-learn-0.6.1:\r\n",
      "      Successfully uninstalled imbalanced-learn-0.6.1\r\n",
      "Successfully installed imbalanced-learn-0.4.0\r\n"
     ]
    },
    {
     "name": "stderr",
     "output_type": "stream",
     "text": [
      "/opt/conda/lib/python3.6/site-packages/sklearn/externals/six.py:31: DeprecationWarning: The module is deprecated in version 0.21 and will be removed in version 0.23 since we've dropped support for Python 2.7. Please rely on the official version of six (https://pypi.org/project/six/).\n",
      "  \"(https://pypi.org/project/six/).\", DeprecationWarning)\n"
     ]
    }
   ],
   "source": [
    "!pip install imbalanced-learn==0.4.0\n",
    "from imblearn.over_sampling import SMOTE\n",
    "import numpy as np\n",
    "\n",
    "def balance_classes_with_smote(x_train, y_train):\n",
    "    # Aplanar y_train si es necesario\n",
    "    y_train = y_train.flatten()\n",
    "\n",
    "    # Aplicar SMOTE\n",
    "    smote = SMOTE()\n",
    "    x_train_smote, y_train_smote = smote.fit_resample(x_train, y_train)\n",
    "\n",
    "    # Mezclar los datos\n",
    "    indices = np.arange(len(x_train_smote))\n",
    "    np.random.shuffle(indices)\n",
    "    return x_train_smote[indices], y_train_smote[indices]\n",
    "\n",
    "x_train, y_train = balance_classes_with_smote(x_train, y_train)\n",
    "x_cv, y_cv = balance_classes_with_smote(x_cv, y_cv)"
   ]
  },
  {
   "cell_type": "markdown",
   "metadata": {},
   "source": [
    "Se utiliza np.unique para encontrar y mostrar los valores únicos en y_train y sus respectivos conteos. Esto es útil para verificar la distribución de las clases después de aplicar el balanceo de clases, permitiendo confirmar que las clases ahora están equilibradas en términos de cantidad de muestras."
   ]
  },
  {
   "cell_type": "code",
   "execution_count": 4,
   "metadata": {
    "execution": {
     "iopub.execute_input": "2024-01-08T17:02:54.380842Z",
     "iopub.status.busy": "2024-01-08T17:02:54.380607Z",
     "iopub.status.idle": "2024-01-08T17:02:54.386373Z",
     "shell.execute_reply": "2024-01-08T17:02:54.385664Z",
     "shell.execute_reply.started": "2024-01-08T17:02:54.380803Z"
    }
   },
   "outputs": [
    {
     "name": "stdout",
     "output_type": "stream",
     "text": [
      "[0. 1. 2.]\n",
      "[2216 2216 2216]\n"
     ]
    }
   ],
   "source": [
    "# Usando np.unique para encontrar valores únicos y sus conteos\n",
    "valores_unicos, conteos = np.unique(y_train, return_counts=True)\n",
    "\n",
    "print(valores_unicos)  # Esto mostrará los valores únicos\n",
    "print(conteos) "
   ]
  },
  {
   "cell_type": "code",
   "execution_count": 5,
   "metadata": {
    "execution": {
     "iopub.execute_input": "2024-01-08T17:02:54.389837Z",
     "iopub.status.busy": "2024-01-08T17:02:54.389614Z",
     "iopub.status.idle": "2024-01-08T17:02:54.395897Z",
     "shell.execute_reply": "2024-01-08T17:02:54.395169Z",
     "shell.execute_reply.started": "2024-01-08T17:02:54.389799Z"
    }
   },
   "outputs": [
    {
     "name": "stdout",
     "output_type": "stream",
     "text": [
      "[0. 1. 2.]\n",
      "[950 950 950]\n"
     ]
    }
   ],
   "source": [
    "# Usando np.unique para encontrar valores únicos y sus conteos\n",
    "valores_unicos, conteos = np.unique(y_cv, return_counts=True)\n",
    "\n",
    "print(valores_unicos)  # Esto mostrará los valores únicos\n",
    "print(conteos) "
   ]
  },
  {
   "cell_type": "markdown",
   "metadata": {},
   "source": [
    "Se define una función para remodelar los datos como imágenes y luego aplica esta transformación a los conjuntos de entrenamiento, validación y prueba. Además, agrega una dimensión adicional para los canales de color, asumiendo un formato de imagen en color (3 canales). Finalmente, muestra las dimensiones finales de los conjuntos de datos."
   ]
  },
  {
   "cell_type": "code",
   "execution_count": 6,
   "metadata": {
    "execution": {
     "iopub.execute_input": "2024-01-08T17:02:54.398640Z",
     "iopub.status.busy": "2024-01-08T17:02:54.398409Z",
     "iopub.status.idle": "2024-01-08T17:02:54.488685Z",
     "shell.execute_reply": "2024-01-08T17:02:54.487908Z",
     "shell.execute_reply.started": "2024-01-08T17:02:54.398602Z"
    }
   },
   "outputs": [
    {
     "name": "stdout",
     "output_type": "stream",
     "text": [
      "final shape of x, y train/test (6648, 15, 15, 3) (6648,) (900, 15, 15, 3) (900,)\n"
     ]
    }
   ],
   "source": [
    "def reshape_as_image(x, img_width, img_height):\n",
    "    x_temp = np.zeros((len(x), img_height, img_width))\n",
    "    for i in range(x.shape[0]):\n",
    "        x_temp[i] = np.reshape(x[i], (img_height, img_width))\n",
    "\n",
    "    return x_temp\n",
    "\n",
    "num_features = 225\n",
    "dim = int(np.sqrt(num_features))\n",
    "x_train = reshape_as_image(x_train, dim, dim)\n",
    "x_cv = reshape_as_image(x_cv, dim, dim)\n",
    "x_test = reshape_as_image(x_test, dim, dim)\n",
    "# adding a 1-dim for channels (3)\n",
    "x_train = np.stack((x_train,) * 3, axis=-1)\n",
    "x_test = np.stack((x_test,) * 3, axis=-1)\n",
    "x_cv = np.stack((x_cv,) * 3, axis=-1)\n",
    "print(\"final shape of x, y train/test {} {} {} {}\".format(x_train.shape, y_train.shape, x_test.shape, y_test.shape))"
   ]
  },
  {
   "cell_type": "markdown",
   "metadata": {},
   "source": [
    "Se utiliza Matplotlib para visualizar imágenes aleatorias del conjunto de entrenamiento. Se configura un grid de 3x3 para mostrar 9 imágenes. Cada imagen se selecciona aleatoriamente, se muestra sin ejes y se etiqueta con su índice y clase correspondiente."
   ]
  },
  {
   "cell_type": "code",
   "execution_count": 7,
   "metadata": {
    "execution": {
     "iopub.execute_input": "2024-01-08T17:02:54.490210Z",
     "iopub.status.busy": "2024-01-08T17:02:54.489955Z",
     "iopub.status.idle": "2024-01-08T17:02:55.386961Z",
     "shell.execute_reply": "2024-01-08T17:02:55.386245Z",
     "shell.execute_reply.started": "2024-01-08T17:02:54.490170Z"
    }
   },
   "outputs": [
    {
     "data": {
      "image/png": "[encoded data removed]",
      "text/plain": [
       "<Figure size 1080x1080 with 9 Axes>"
      ]
     },
     "metadata": {
      "needs_background": "light"
     },
     "output_type": "display_data"
    }
   ],
   "source": [
    "from matplotlib import pyplot as plt\n",
    "%matplotlib inline\n",
    "\n",
    "fig = plt.figure(figsize=(15, 15))\n",
    "columns = rows = 3\n",
    "for i in range(1, columns*rows +1):\n",
    "    index = np.random.randint(len(x_train))\n",
    "    img = x_train[index]\n",
    "    fig.add_subplot(rows, columns, i)\n",
    "    plt.axis(\"off\")\n",
    "    plt.title('image_'+str(index)+'_class_'+str(np.argmax(y_train[index])), fontsize=10)\n",
    "    plt.subplots_adjust(wspace=0.2, hspace=0.2)\n",
    "    plt.imshow(img)\n",
    "plt.show()"
   ]
  },
  {
   "cell_type": "markdown",
   "metadata": {},
   "source": [
    "Se define la función \"f1_metric\" que es una métrica de F1 score general y se integra en el entorno de Keras para su uso en modelos de TensorFlow."
   ]
  },
  {
   "cell_type": "code",
   "execution_count": 8,
   "metadata": {
    "execution": {
     "iopub.execute_input": "2024-01-08T17:02:55.388537Z",
     "iopub.status.busy": "2024-01-08T17:02:55.388289Z",
     "iopub.status.idle": "2024-01-08T17:02:59.860388Z",
     "shell.execute_reply": "2024-01-08T17:02:59.859661Z",
     "shell.execute_reply.started": "2024-01-08T17:02:55.388480Z"
    }
   },
   "outputs": [],
   "source": [
    "from sklearn.utils.class_weight import compute_class_weight\n",
    "import tensorflow as tf\n",
    "from tensorflow.keras import backend as K\n",
    "from tensorflow.keras.utils import get_custom_objects\n",
    "\n",
    "\n",
    "def f1_metric(y_true, y_pred):\n",
    "\n",
    "    def recall(y_true, y_pred):\n",
    "        true_positives = K.sum(K.round(K.clip(y_true * y_pred, 0, 1)))  \n",
    "        possible_positives = K.sum(K.round(K.clip(y_true, 0, 1)))\n",
    "        recall = true_positives / (possible_positives + K.epsilon())\n",
    "        return recall\n",
    "\n",
    "    def precision(y_true, y_pred):\n",
    "        true_positives = K.sum(K.round(K.clip(y_true * y_pred, 0, 1)))\n",
    "        predicted_positives = K.sum(K.round(K.clip(y_pred, 0, 1)))\n",
    "        precision = true_positives / (predicted_positives + K.epsilon())\n",
    "        return precision\n",
    "\n",
    "    precision = precision(y_true, y_pred)\n",
    "    recall = recall(y_true, y_pred)\n",
    "\n",
    "    return 2 * ((precision * recall) / (precision + recall + K.epsilon()))\n",
    "\n",
    "get_custom_objects().update({\"f1_metric\": f1_metric})"
   ]
  },
  {
   "cell_type": "markdown",
   "metadata": {},
   "source": [
    "Se aplica codificación one-hot a las etiquetas de los conjuntos de entrenamiento, validación y prueba, transformándolas en formatos compatibles con modelos de clasificación multiclase, y muestra las dimensiones resultantes para cada conjunto."
   ]
  },
  {
   "cell_type": "code",
   "execution_count": 9,
   "metadata": {
    "execution": {
     "iopub.execute_input": "2024-01-08T17:02:59.861736Z",
     "iopub.status.busy": "2024-01-08T17:02:59.861516Z",
     "iopub.status.idle": "2024-01-08T17:02:59.881914Z",
     "shell.execute_reply": "2024-01-08T17:02:59.880986Z",
     "shell.execute_reply.started": "2024-01-08T17:02:59.861698Z"
    }
   },
   "outputs": [
    {
     "name": "stdout",
     "output_type": "stream",
     "text": [
      "y_train (6648, 3)\n",
      "y_cv (2850, 3)\n",
      "y_test (900, 3)\n"
     ]
    }
   ],
   "source": [
    "from sklearn.preprocessing import OneHotEncoder\n",
    "\n",
    "one_hot_enc = OneHotEncoder(sparse=False, categories='auto')  \n",
    "y_train = one_hot_enc.fit_transform(y_train.reshape(-1, 1))\n",
    "print(\"y_train\",y_train.shape)\n",
    "y_cv = one_hot_enc.transform(y_cv.reshape(-1, 1))\n",
    "y_test = one_hot_enc.transform(y_test.reshape(-1, 1))\n",
    "print(\"y_cv\",y_cv.shape)\n",
    "print(\"y_test\",y_test.shape)"
   ]
  },
  {
   "cell_type": "markdown",
   "metadata": {},
   "source": [
    "Se importa diversas clases y funciones de TensorFlow y Keras necesarias para construir y entrenar una red neuronal convolucional (CNN). Incluye componentes para el modelo (como capas y regularizadores), callbacks para el entrenamiento, optimizadores, y métricas de evaluación como F1 y AUC."
   ]
  },
  {
   "cell_type": "code",
   "execution_count": 10,
   "metadata": {
    "execution": {
     "iopub.execute_input": "2024-01-08T17:02:59.883620Z",
     "iopub.status.busy": "2024-01-08T17:02:59.883282Z",
     "iopub.status.idle": "2024-01-08T17:02:59.894256Z",
     "shell.execute_reply": "2024-01-08T17:02:59.893568Z",
     "shell.execute_reply.started": "2024-01-08T17:02:59.883574Z"
    }
   },
   "outputs": [],
   "source": [
    "from tensorflow.keras.models import Sequential, load_model, Model\n",
    "from tensorflow.keras.layers import Dense, Dropout, Flatten, Conv2D, MaxPooling2D, LeakyReLU\n",
    "from tensorflow.keras.callbacks import ModelCheckpoint, EarlyStopping, ReduceLROnPlateau, CSVLogger, Callback\n",
    "from tensorflow.keras import optimizers, regularizers\n",
    "from tensorflow.keras.regularizers import l2, l1, l1_l2\n",
    "from tensorflow.keras.initializers import RandomUniform, RandomNormal\n",
    "import tensorflow as tf\n",
    "from functools import *\n",
    "from sklearn.metrics import f1_score\n",
    "from tensorflow.keras.metrics import AUC\n",
    "\n"
   ]
  },
  {
   "cell_type": "markdown",
   "metadata": {},
   "source": [
    "Se define una función make_model() para construir un modelo de red neuronal convolucional. La función make_model crea un modelo secuencial con capas convolucionales, de pooling, dropout y densas, y devuelve este modelo. Finalmente, se instancia un modelo utilizando esta función."
   ]
  },
  {
   "cell_type": "code",
   "execution_count": 11,
   "metadata": {
    "execution": {
     "iopub.execute_input": "2024-01-08T17:02:59.896087Z",
     "iopub.status.busy": "2024-01-08T17:02:59.895721Z",
     "iopub.status.idle": "2024-01-08T17:03:02.584511Z",
     "shell.execute_reply": "2024-01-08T17:03:02.583871Z",
     "shell.execute_reply.started": "2024-01-08T17:02:59.896015Z"
    }
   },
   "outputs": [],
   "source": [
    "def make_model(filter1=16, act1='relu', filter2=32, act2='relu', do1=.25, do2=.5, dense=32):\n",
    "    input_shape = (15, 15, 3)\n",
    "    cnn = Sequential([\n",
    "        Conv2D(filters=filter1,\n",
    "               kernel_size=3,\n",
    "               padding='same',\n",
    "               activation=act1,\n",
    "               input_shape=input_shape,\n",
    "               name='CONV1'),\n",
    "        Conv2D(filters=filter2,        \n",
    "               kernel_size=3,  \n",
    "               padding='same',\n",
    "               activation=act2,\n",
    "               name='CONV2'),\n",
    "        MaxPooling2D(pool_size=2, name='POOL2'),\n",
    "        Dropout(do1, name='DROP1'),\n",
    "        Flatten(name='FLAT1'),\n",
    "        Dense(dense, activation='relu', name='FC1'),\n",
    "        Dropout(do2, name='DROP2'),\n",
    "        Dense(3, activation='softmax', name='FC2')\n",
    "    ])\n",
    "    \n",
    "    return cnn\n",
    "\n",
    "model = make_model()"
   ]
  },
  {
   "cell_type": "markdown",
   "metadata": {},
   "source": [
    "Se configura callbacks para el entrenamiento del modelo:\n",
    "\n",
    "EarlyStopping detiene el entrenamiento si no hay mejora en la pérdida de validación.\n",
    "ReduceLROnPlateau reduce la tasa de aprendizaje si la pérdida de validación no mejora.\n",
    "ModelCheckpoint guarda el mejor modelo basado en la métrica de validación F1.\n",
    "También establece la ruta para guardar el mejor modelo."
   ]
  },
  {
   "cell_type": "code",
   "execution_count": 12,
   "metadata": {
    "execution": {
     "iopub.execute_input": "2024-01-08T17:03:02.586009Z",
     "iopub.status.busy": "2024-01-08T17:03:02.585743Z",
     "iopub.status.idle": "2024-01-08T17:03:02.593511Z",
     "shell.execute_reply": "2024-01-08T17:03:02.592527Z",
     "shell.execute_reply.started": "2024-01-08T17:03:02.585962Z"
    }
   },
   "outputs": [],
   "source": [
    "import os\n",
    "\n",
    "best_model_path = os.path.join('.', 'best_model_keras')\n",
    "es = EarlyStopping(monitor='val_loss', mode='min', verbose=1,\n",
    "                   patience=100, min_delta=0.0001)\n",
    "rlp = ReduceLROnPlateau(monitor='val_loss', factor=0.02, patience=20, verbose=1, mode='min',\n",
    "                        min_delta=0.001, cooldown=1, min_lr=0.0001)\n",
    "mcp = ModelCheckpoint(best_model_path, monitor='val_f1_metric', verbose=1,\n",
    "                      save_best_only=True, save_weights_only=False, mode='max', period=1)  "
   ]
  },
  {
   "cell_type": "markdown",
   "metadata": {},
   "source": [
    "Se compila el modelo configurando la función de pérdida como 'categorical_crossentropy' (adecuada para clasificación multiclase), el optimizador como 'adam' (un optimizador eficiente y popular), y las métricas para evaluar el modelo incluyen 'accuracy' y la métrica personalizada f1_metric."
   ]
  },
  {
   "cell_type": "code",
   "execution_count": 13,
   "metadata": {
    "execution": {
     "iopub.execute_input": "2024-01-08T17:03:02.595161Z",
     "iopub.status.busy": "2024-01-08T17:03:02.594877Z",
     "iopub.status.idle": "2024-01-08T17:03:02.667303Z",
     "shell.execute_reply": "2024-01-08T17:03:02.666630Z",
     "shell.execute_reply.started": "2024-01-08T17:03:02.595111Z"
    }
   },
   "outputs": [],
   "source": [
    "model.compile(loss='categorical_crossentropy', optimizer='adam', metrics=['accuracy', f1_metric])"
   ]
  },
  {
   "cell_type": "markdown",
   "metadata": {},
   "source": [
    "Se entrena el modelo utilizando el conjunto de entrenamiento con sus respectivos pesos de muestra. Se configura para un máximo de 3000 épocas, con un tamaño de lote de 32, y utilizando los datos de validación cruzada para la evaluación. Incluye los callbacks configurados previamente (ModelCheckpoint, ReduceLROnPlateau, EarlyStopping) y mide el tiempo de entrenamiento con el comando %%time."
   ]
  },
  {
   "cell_type": "code",
   "execution_count": 14,
   "metadata": {
    "execution": {
     "iopub.execute_input": "2024-01-08T17:03:02.668702Z",
     "iopub.status.busy": "2024-01-08T17:03:02.668477Z",
     "iopub.status.idle": "2024-01-08T17:03:21.347321Z",
     "shell.execute_reply": "2024-01-08T17:03:21.346556Z",
     "shell.execute_reply.started": "2024-01-08T17:03:02.668664Z"
    }
   },
   "outputs": [
    {
     "name": "stdout",
     "output_type": "stream",
     "text": [
      "Train on 6648 samples, validate on 2850 samples\n",
      "Epoch 1/3000\n",
      "6528/6648 [============================>.] - ETA: 0s - loss: 0.7473 - accuracy: 0.6327 - f1_metric: 0.5441\n",
      "Epoch 00001: val_f1_metric improved from -inf to 0.69260, saving model to ./best_model_keras\n",
      "6648/6648 [==============================] - 5s 741us/sample - loss: 0.7445 - accuracy: 0.6352 - f1_metric: 0.5485 - val_loss: 0.6266 - val_accuracy: 0.7039 - val_f1_metric: 0.6926\n",
      "Epoch 2/3000\n",
      "6240/6648 [===========================>..] - ETA: 0s - loss: 0.5885 - accuracy: 0.7330 - f1_metric: 0.7257\n",
      "Epoch 00002: val_f1_metric improved from 0.69260 to 0.71832, saving model to ./best_model_keras\n",
      "6648/6648 [==============================] - 2s 252us/sample - loss: 0.5854 - accuracy: 0.7360 - f1_metric: 0.7291 - val_loss: 0.5842 - val_accuracy: 0.7256 - val_f1_metric: 0.7183\n",
      "Epoch 3/3000\n",
      "6560/6648 [============================>.] - ETA: 0s - loss: 0.5555 - accuracy: 0.7537 - f1_metric: 0.7506\n",
      "Epoch 00003: val_f1_metric did not improve from 0.71832\n",
      "6648/6648 [==============================] - 1s 127us/sample - loss: 0.5553 - accuracy: 0.7535 - f1_metric: 0.7505 - val_loss: 0.5663 - val_accuracy: 0.7228 - val_f1_metric: 0.7153\n",
      "Epoch 4/3000\n",
      "6560/6648 [============================>.] - ETA: 0s - loss: 0.5409 - accuracy: 0.7642 - f1_metric: 0.7621\n",
      "Epoch 00004: val_f1_metric improved from 0.71832 to 0.72977, saving model to ./best_model_keras\n",
      "6648/6648 [==============================] - 2s 236us/sample - loss: 0.5423 - accuracy: 0.7637 - f1_metric: 0.7616 - val_loss: 0.5685 - val_accuracy: 0.7379 - val_f1_metric: 0.7298\n",
      "Epoch 5/3000\n",
      "6560/6648 [============================>.] - ETA: 0s - loss: 0.5255 - accuracy: 0.7694 - f1_metric: 0.7687\n",
      "Epoch 00005: val_f1_metric did not improve from 0.72977\n",
      "6648/6648 [==============================] - 1s 127us/sample - loss: 0.5268 - accuracy: 0.7679 - f1_metric: 0.7672 - val_loss: 0.6008 - val_accuracy: 0.7242 - val_f1_metric: 0.7167\n",
      "Epoch 6/3000\n",
      "6592/6648 [============================>.] - ETA: 0s - loss: 0.5185 - accuracy: 0.7681 - f1_metric: 0.7677\n",
      "Epoch 00006: val_f1_metric did not improve from 0.72977\n",
      "6648/6648 [==============================] - 1s 126us/sample - loss: 0.5183 - accuracy: 0.7685 - f1_metric: 0.7682 - val_loss: 0.5567 - val_accuracy: 0.7326 - val_f1_metric: 0.7250\n",
      "Epoch 7/3000\n",
      "6560/6648 [============================>.] - ETA: 0s - loss: 0.5127 - accuracy: 0.7750 - f1_metric: 0.7742\n",
      "Epoch 00007: val_f1_metric improved from 0.72977 to 0.73090, saving model to ./best_model_keras\n",
      "6648/6648 [==============================] - 2s 259us/sample - loss: 0.5121 - accuracy: 0.7750 - f1_metric: 0.7743 - val_loss: 0.5620 - val_accuracy: 0.7386 - val_f1_metric: 0.7309\n",
      "Epoch 8/3000\n",
      "6560/6648 [============================>.] - ETA: 0s - loss: 0.4960 - accuracy: 0.7858 - f1_metric: 0.7854\n",
      "Epoch 00008: val_f1_metric did not improve from 0.73090\n",
      "6648/6648 [==============================] - 1s 128us/sample - loss: 0.4959 - accuracy: 0.7863 - f1_metric: 0.7858 - val_loss: 0.5697 - val_accuracy: 0.7165 - val_f1_metric: 0.7090\n",
      "Epoch 9/3000\n",
      "6560/6648 [============================>.] - ETA: 0s - loss: 0.4856 - accuracy: 0.7924 - f1_metric: 0.7909\n",
      "Epoch 00009: val_f1_metric did not improve from 0.73090\n",
      "6648/6648 [==============================] - 1s 126us/sample - loss: 0.4847 - accuracy: 0.7926 - f1_metric: 0.7911 - val_loss: 0.5722 - val_accuracy: 0.7368 - val_f1_metric: 0.7292\n",
      "Epoch 10/3000\n",
      "6624/6648 [============================>.] - ETA: 0s - loss: 0.4785 - accuracy: 0.7976 - f1_metric: 0.7969\n",
      "Epoch 00010: val_f1_metric improved from 0.73090 to 0.73889, saving model to ./best_model_keras\n",
      "6648/6648 [==============================] - 2s 234us/sample - loss: 0.4786 - accuracy: 0.7972 - f1_metric: 0.7965 - val_loss: 0.5475 - val_accuracy: 0.7467 - val_f1_metric: 0.7389\n",
      "Epoch 11/3000\n",
      "6560/6648 [============================>.] - ETA: 0s - loss: 0.4730 - accuracy: 0.7933 - f1_metric: 0.7932\n",
      "Epoch 00011: val_f1_metric did not improve from 0.73889\n",
      "6648/6648 [==============================] - 1s 128us/sample - loss: 0.4734 - accuracy: 0.7932 - f1_metric: 0.7929 - val_loss: 0.5501 - val_accuracy: 0.7421 - val_f1_metric: 0.7344\n",
      "Epoch 12/3000\n",
      "6368/6648 [===========================>..] - ETA: 0s - loss: 0.4732 - accuracy: 0.7966 - f1_metric: 0.7958\n",
      "Epoch 00012: val_f1_metric improved from 0.73889 to 0.74201, saving model to ./best_model_keras\n",
      "6648/6648 [==============================] - 2s 238us/sample - loss: 0.4707 - accuracy: 0.7987 - f1_metric: 0.7979 - val_loss: 0.5483 - val_accuracy: 0.7498 - val_f1_metric: 0.7420\n",
      "Epoch 13/3000\n",
      "6528/6648 [============================>.] - ETA: 0s - loss: 0.4630 - accuracy: 0.8015 - f1_metric: 0.8014\n",
      "Epoch 00013: val_f1_metric did not improve from 0.74201\n",
      "6648/6648 [==============================] - 1s 128us/sample - loss: 0.4626 - accuracy: 0.8016 - f1_metric: 0.8013 - val_loss: 0.6071 - val_accuracy: 0.6930 - val_f1_metric: 0.6858\n",
      "Epoch 14/3000\n",
      "6560/6648 [============================>.] - ETA: 0s - loss: 0.4521 - accuracy: 0.8067 - f1_metric: 0.8064\n",
      "Epoch 00014: val_f1_metric did not improve from 0.74201\n",
      "6648/6648 [==============================] - 1s 128us/sample - loss: 0.4528 - accuracy: 0.8070 - f1_metric: 0.8066 - val_loss: 0.5639 - val_accuracy: 0.7463 - val_f1_metric: 0.7385\n",
      "Epoch 15/3000\n",
      "6464/6648 [============================>.] - ETA: 0s - loss: 0.4481 - accuracy: 0.8113 - f1_metric: 0.8109\n",
      "Epoch 00015: val_f1_metric did not improve from 0.74201\n",
      "6648/6648 [==============================] - 1s 128us/sample - loss: 0.4474 - accuracy: 0.8123 - f1_metric: 0.8121 - val_loss: 0.5568 - val_accuracy: 0.7449 - val_f1_metric: 0.7372\n",
      "Epoch 16/3000\n",
      "6592/6648 [============================>.] - ETA: 0s - loss: 0.4471 - accuracy: 0.8092 - f1_metric: 0.8083\n",
      "Epoch 00016: val_f1_metric did not improve from 0.74201\n",
      "6648/6648 [==============================] - 1s 125us/sample - loss: 0.4472 - accuracy: 0.8094 - f1_metric: 0.8084 - val_loss: 0.6710 - val_accuracy: 0.7154 - val_f1_metric: 0.7080\n",
      "Epoch 17/3000\n",
      "6560/6648 [============================>.] - ETA: 0s - loss: 0.4382 - accuracy: 0.8134 - f1_metric: 0.8127\n",
      "Epoch 00017: val_f1_metric improved from 0.74201 to 0.74340, saving model to ./best_model_keras\n",
      "6648/6648 [==============================] - 2s 236us/sample - loss: 0.4373 - accuracy: 0.8142 - f1_metric: 0.8136 - val_loss: 0.5700 - val_accuracy: 0.7512 - val_f1_metric: 0.7434\n",
      "Epoch 18/3000\n",
      "6560/6648 [============================>.] - ETA: 0s - loss: 0.4436 - accuracy: 0.8134 - f1_metric: 0.8129\n",
      "Epoch 00018: val_f1_metric did not improve from 0.74340\n",
      "6648/6648 [==============================] - 1s 128us/sample - loss: 0.4439 - accuracy: 0.8129 - f1_metric: 0.8122 - val_loss: 0.6204 - val_accuracy: 0.7084 - val_f1_metric: 0.7010\n",
      "Epoch 19/3000\n",
      "6560/6648 [============================>.] - ETA: 0s - loss: 0.4311 - accuracy: 0.8189 - f1_metric: 0.8193\n",
      "Epoch 00019: val_f1_metric did not improve from 0.74340\n",
      "6648/6648 [==============================] - 1s 126us/sample - loss: 0.4309 - accuracy: 0.8187 - f1_metric: 0.8192 - val_loss: 0.6720 - val_accuracy: 0.7018 - val_f1_metric: 0.6944\n",
      "Epoch 20/3000\n",
      "6592/6648 [============================>.] - ETA: 0s - loss: 0.4265 - accuracy: 0.8216 - f1_metric: 0.8219\n",
      "Epoch 00020: val_f1_metric did not improve from 0.74340\n",
      "6648/6648 [==============================] - 1s 126us/sample - loss: 0.4269 - accuracy: 0.8213 - f1_metric: 0.8215 - val_loss: 0.6547 - val_accuracy: 0.7123 - val_f1_metric: 0.7049\n",
      "Epoch 21/3000\n",
      "6560/6648 [============================>.] - ETA: 0s - loss: 0.4167 - accuracy: 0.8282 - f1_metric: 0.8280\n",
      "Epoch 00021: val_f1_metric did not improve from 0.74340\n",
      "6648/6648 [==============================] - 1s 126us/sample - loss: 0.4171 - accuracy: 0.8285 - f1_metric: 0.8284 - val_loss: 0.7521 - val_accuracy: 0.6674 - val_f1_metric: 0.6604\n",
      "Epoch 22/3000\n",
      "6304/6648 [===========================>..] - ETA: 0s - loss: 0.4342 - accuracy: 0.8157 - f1_metric: 0.8151\n",
      "Epoch 00022: val_f1_metric did not improve from 0.74340\n",
      "6648/6648 [==============================] - 1s 129us/sample - loss: 0.4313 - accuracy: 0.8172 - f1_metric: 0.8169 - val_loss: 0.6011 - val_accuracy: 0.7218 - val_f1_metric: 0.7142\n",
      "Epoch 23/3000\n",
      "6560/6648 [============================>.] - ETA: 0s - loss: 0.4113 - accuracy: 0.8293 - f1_metric: 0.8290\n",
      "Epoch 00023: val_f1_metric did not improve from 0.74340\n",
      "6648/6648 [==============================] - 1s 126us/sample - loss: 0.4118 - accuracy: 0.8291 - f1_metric: 0.8288 - val_loss: 0.5952 - val_accuracy: 0.7323 - val_f1_metric: 0.7247\n",
      "Epoch 24/3000\n",
      "6528/6648 [============================>.] - ETA: 0s - loss: 0.4011 - accuracy: 0.8352 - f1_metric: 0.8351\n",
      "Epoch 00024: val_f1_metric did not improve from 0.74340\n",
      "6648/6648 [==============================] - 1s 126us/sample - loss: 0.4026 - accuracy: 0.8339 - f1_metric: 0.8338 - val_loss: 0.7131 - val_accuracy: 0.6895 - val_f1_metric: 0.6823\n",
      "Epoch 25/3000\n",
      "6560/6648 [============================>.] - ETA: 0s - loss: 0.4056 - accuracy: 0.8329 - f1_metric: 0.8328\n",
      "Epoch 00025: val_f1_metric did not improve from 0.74340\n",
      "6648/6648 [==============================] - 1s 126us/sample - loss: 0.4062 - accuracy: 0.8327 - f1_metric: 0.8325 - val_loss: 0.6672 - val_accuracy: 0.7182 - val_f1_metric: 0.7108\n",
      "Epoch 26/3000\n",
      "6528/6648 [============================>.] - ETA: 0s - loss: 0.4034 - accuracy: 0.8332 - f1_metric: 0.8332\n",
      "Epoch 00026: val_f1_metric did not improve from 0.74340\n",
      "6648/6648 [==============================] - 1s 127us/sample - loss: 0.4023 - accuracy: 0.8338 - f1_metric: 0.8337 - val_loss: 0.7067 - val_accuracy: 0.7025 - val_f1_metric: 0.6951\n",
      "Epoch 27/3000\n",
      "6560/6648 [============================>.] - ETA: 0s - loss: 0.4035 - accuracy: 0.8354 - f1_metric: 0.8351\n",
      "Epoch 00027: val_f1_metric did not improve from 0.74340\n",
      "6648/6648 [==============================] - 1s 126us/sample - loss: 0.4030 - accuracy: 0.8354 - f1_metric: 0.8353 - val_loss: 0.6729 - val_accuracy: 0.7074 - val_f1_metric: 0.7000\n",
      "Epoch 28/3000\n",
      "6592/6648 [============================>.] - ETA: 0s - loss: 0.4024 - accuracy: 0.8357 - f1_metric: 0.8354\n",
      "Epoch 00028: val_f1_metric did not improve from 0.74340\n",
      "6648/6648 [==============================] - 1s 126us/sample - loss: 0.4014 - accuracy: 0.8362 - f1_metric: 0.8360 - val_loss: 0.6966 - val_accuracy: 0.7060 - val_f1_metric: 0.6986\n",
      "Epoch 29/3000\n",
      "6560/6648 [============================>.] - ETA: 0s - loss: 0.3862 - accuracy: 0.8396 - f1_metric: 0.8396\n",
      "Epoch 00029: val_f1_metric did not improve from 0.74340\n",
      "6648/6648 [==============================] - 1s 127us/sample - loss: 0.3848 - accuracy: 0.8406 - f1_metric: 0.8407 - val_loss: 0.8030 - val_accuracy: 0.6786 - val_f1_metric: 0.6715\n",
      "Epoch 30/3000\n",
      "6592/6648 [============================>.] - ETA: 0s - loss: 0.3813 - accuracy: 0.8469 - f1_metric: 0.8465\n",
      "Epoch 00030: val_f1_metric did not improve from 0.74340\n",
      "\n",
      "Epoch 00030: ReduceLROnPlateau reducing learning rate to 0.0001.\n",
      "6648/6648 [==============================] - 1s 126us/sample - loss: 0.3819 - accuracy: 0.8469 - f1_metric: 0.8464 - val_loss: 0.6562 - val_accuracy: 0.7168 - val_f1_metric: 0.7094\n",
      "Epoch 31/3000\n",
      "6560/6648 [============================>.] - ETA: 0s - loss: 0.3683 - accuracy: 0.8511 - f1_metric: 0.8513\n",
      "Epoch 00031: val_f1_metric did not improve from 0.74340\n",
      "6648/6648 [==============================] - 1s 126us/sample - loss: 0.3674 - accuracy: 0.8515 - f1_metric: 0.8519 - val_loss: 0.7352 - val_accuracy: 0.6954 - val_f1_metric: 0.6882\n",
      "Epoch 32/3000\n",
      "6624/6648 [============================>.] - ETA: 0s - loss: 0.3610 - accuracy: 0.8554 - f1_metric: 0.8555\n",
      "Epoch 00032: val_f1_metric did not improve from 0.74340\n",
      "6648/6648 [==============================] - 1s 126us/sample - loss: 0.3617 - accuracy: 0.8548 - f1_metric: 0.8548 - val_loss: 0.7975 - val_accuracy: 0.6828 - val_f1_metric: 0.6757\n",
      "Epoch 33/3000\n",
      "6560/6648 [============================>.] - ETA: 0s - loss: 0.3594 - accuracy: 0.8538 - f1_metric: 0.8535\n",
      "Epoch 00033: val_f1_metric did not improve from 0.74340\n",
      "6648/6648 [==============================] - 1s 133us/sample - loss: 0.3595 - accuracy: 0.8533 - f1_metric: 0.8530 - val_loss: 0.8037 - val_accuracy: 0.6884 - val_f1_metric: 0.6812\n",
      "Epoch 34/3000\n",
      "6432/6648 [============================>.] - ETA: 0s - loss: 0.3606 - accuracy: 0.8563 - f1_metric: 0.8563\n",
      "Epoch 00034: val_f1_metric did not improve from 0.74340\n",
      "6648/6648 [==============================] - 1s 148us/sample - loss: 0.3593 - accuracy: 0.8568 - f1_metric: 0.8566 - val_loss: 0.8109 - val_accuracy: 0.6818 - val_f1_metric: 0.6747\n",
      "Epoch 35/3000\n",
      "6240/6648 [===========================>..] - ETA: 0s - loss: 0.3501 - accuracy: 0.8596 - f1_metric: 0.8597\n",
      "Epoch 00035: val_f1_metric did not improve from 0.74340\n",
      "6648/6648 [==============================] - 1s 132us/sample - loss: 0.3493 - accuracy: 0.8594 - f1_metric: 0.8594 - val_loss: 0.8253 - val_accuracy: 0.6884 - val_f1_metric: 0.6812\n",
      "Epoch 36/3000\n",
      "6560/6648 [============================>.] - ETA: 0s - loss: 0.3547 - accuracy: 0.8575 - f1_metric: 0.8570\n",
      "Epoch 00036: val_f1_metric did not improve from 0.74340\n",
      "6648/6648 [==============================] - 1s 126us/sample - loss: 0.3549 - accuracy: 0.8574 - f1_metric: 0.8568 - val_loss: 0.8417 - val_accuracy: 0.6811 - val_f1_metric: 0.6740\n",
      "Epoch 37/3000\n",
      "6592/6648 [============================>.] - ETA: 0s - loss: 0.3508 - accuracy: 0.8627 - f1_metric: 0.8627\n",
      "Epoch 00037: val_f1_metric did not improve from 0.74340\n",
      "6648/6648 [==============================] - 1s 126us/sample - loss: 0.3506 - accuracy: 0.8630 - f1_metric: 0.8629 - val_loss: 0.8514 - val_accuracy: 0.6860 - val_f1_metric: 0.6788\n",
      "Epoch 38/3000\n",
      "6624/6648 [============================>.] - ETA: 0s - loss: 0.3516 - accuracy: 0.8611 - f1_metric: 0.8611\n",
      "Epoch 00038: val_f1_metric did not improve from 0.74340\n",
      "6648/6648 [==============================] - 1s 126us/sample - loss: 0.3511 - accuracy: 0.8615 - f1_metric: 0.8616 - val_loss: 0.8084 - val_accuracy: 0.6944 - val_f1_metric: 0.6872\n",
      "Epoch 39/3000\n",
      "6560/6648 [============================>.] - ETA: 0s - loss: 0.3554 - accuracy: 0.8550 - f1_metric: 0.8551\n",
      "Epoch 00039: val_f1_metric did not improve from 0.74340\n",
      "6648/6648 [==============================] - 1s 127us/sample - loss: 0.3546 - accuracy: 0.8556 - f1_metric: 0.8557 - val_loss: 0.8073 - val_accuracy: 0.6940 - val_f1_metric: 0.6868\n",
      "Epoch 40/3000\n",
      "6464/6648 [============================>.] - ETA: 0s - loss: 0.3493 - accuracy: 0.8605 - f1_metric: 0.8601\n",
      "Epoch 00040: val_f1_metric did not improve from 0.74340\n",
      "6648/6648 [==============================] - 1s 131us/sample - loss: 0.3506 - accuracy: 0.8594 - f1_metric: 0.8590 - val_loss: 0.8849 - val_accuracy: 0.6825 - val_f1_metric: 0.6753\n",
      "Epoch 41/3000\n",
      "6496/6648 [============================>.] - ETA: 0s - loss: 0.3474 - accuracy: 0.8599 - f1_metric: 0.8597\n",
      "Epoch 00041: val_f1_metric did not improve from 0.74340\n",
      "6648/6648 [==============================] - 1s 130us/sample - loss: 0.3462 - accuracy: 0.8607 - f1_metric: 0.8606 - val_loss: 0.8435 - val_accuracy: 0.6849 - val_f1_metric: 0.6778\n",
      "Epoch 42/3000\n",
      "6368/6648 [===========================>..] - ETA: 0s - loss: 0.3483 - accuracy: 0.8604 - f1_metric: 0.8600\n",
      "Epoch 00042: val_f1_metric did not improve from 0.74340\n",
      "6648/6648 [==============================] - 1s 130us/sample - loss: 0.3471 - accuracy: 0.8612 - f1_metric: 0.8609 - val_loss: 0.8717 - val_accuracy: 0.6814 - val_f1_metric: 0.6743\n",
      "Epoch 43/3000\n",
      "6560/6648 [============================>.] - ETA: 0s - loss: 0.3506 - accuracy: 0.8634 - f1_metric: 0.8628\n",
      "Epoch 00043: val_f1_metric did not improve from 0.74340\n",
      "6648/6648 [==============================] - 1s 127us/sample - loss: 0.3510 - accuracy: 0.8631 - f1_metric: 0.8624 - val_loss: 0.8746 - val_accuracy: 0.6825 - val_f1_metric: 0.6753\n",
      "Epoch 44/3000\n",
      "6560/6648 [============================>.] - ETA: 0s - loss: 0.3433 - accuracy: 0.8657 - f1_metric: 0.8651\n",
      "Epoch 00044: val_f1_metric did not improve from 0.74340\n",
      "6648/6648 [==============================] - 1s 127us/sample - loss: 0.3440 - accuracy: 0.8655 - f1_metric: 0.8650 - val_loss: 0.8491 - val_accuracy: 0.6849 - val_f1_metric: 0.6778\n",
      "Epoch 45/3000\n",
      "6208/6648 [===========================>..] - ETA: 0s - loss: 0.3399 - accuracy: 0.8647 - f1_metric: 0.8641\n",
      "Epoch 00045: val_f1_metric did not improve from 0.74340\n",
      "6648/6648 [==============================] - 1s 132us/sample - loss: 0.3423 - accuracy: 0.8631 - f1_metric: 0.8625 - val_loss: 0.9077 - val_accuracy: 0.6800 - val_f1_metric: 0.6729\n",
      "Epoch 46/3000\n",
      "6528/6648 [============================>.] - ETA: 0s - loss: 0.3494 - accuracy: 0.8600 - f1_metric: 0.8595\n",
      "Epoch 00046: val_f1_metric did not improve from 0.74340\n",
      "6648/6648 [==============================] - 1s 127us/sample - loss: 0.3489 - accuracy: 0.8606 - f1_metric: 0.8598 - val_loss: 0.9043 - val_accuracy: 0.6800 - val_f1_metric: 0.6729\n",
      "Epoch 47/3000\n",
      "6528/6648 [============================>.] - ETA: 0s - loss: 0.3464 - accuracy: 0.8615 - f1_metric: 0.8615\n",
      "Epoch 00047: val_f1_metric did not improve from 0.74340\n",
      "6648/6648 [==============================] - 1s 128us/sample - loss: 0.3449 - accuracy: 0.8621 - f1_metric: 0.8622 - val_loss: 0.8942 - val_accuracy: 0.6828 - val_f1_metric: 0.6757\n",
      "Epoch 48/3000\n",
      "6592/6648 [============================>.] - ETA: 0s - loss: 0.3482 - accuracy: 0.8583 - f1_metric: 0.8586\n",
      "Epoch 00048: val_f1_metric did not improve from 0.74340\n",
      "6648/6648 [==============================] - 1s 127us/sample - loss: 0.3484 - accuracy: 0.8579 - f1_metric: 0.8579 - val_loss: 0.8804 - val_accuracy: 0.6839 - val_f1_metric: 0.6767\n",
      "Epoch 49/3000\n",
      "6528/6648 [============================>.] - ETA: 0s - loss: 0.3461 - accuracy: 0.8594 - f1_metric: 0.8594\n",
      "Epoch 00049: val_f1_metric did not improve from 0.74340\n",
      "6648/6648 [==============================] - 1s 128us/sample - loss: 0.3477 - accuracy: 0.8588 - f1_metric: 0.8587 - val_loss: 0.8647 - val_accuracy: 0.6835 - val_f1_metric: 0.6764\n",
      "Epoch 50/3000\n",
      "6592/6648 [============================>.] - ETA: 0s - loss: 0.3448 - accuracy: 0.8606 - f1_metric: 0.8600\n",
      "Epoch 00050: val_f1_metric did not improve from 0.74340\n",
      "6648/6648 [==============================] - 1s 127us/sample - loss: 0.3438 - accuracy: 0.8613 - f1_metric: 0.8608 - val_loss: 0.9191 - val_accuracy: 0.6842 - val_f1_metric: 0.6771\n",
      "Epoch 51/3000\n",
      "6560/6648 [============================>.] - ETA: 0s - loss: 0.3435 - accuracy: 0.8662 - f1_metric: 0.8663\n",
      "Epoch 00051: val_f1_metric did not improve from 0.74340\n",
      "6648/6648 [==============================] - 1s 127us/sample - loss: 0.3437 - accuracy: 0.8658 - f1_metric: 0.8659 - val_loss: 0.8697 - val_accuracy: 0.6821 - val_f1_metric: 0.6750\n",
      "Epoch 52/3000\n",
      "6560/6648 [============================>.] - ETA: 0s - loss: 0.3382 - accuracy: 0.8648 - f1_metric: 0.8648\n",
      "Epoch 00052: val_f1_metric did not improve from 0.74340\n",
      "6648/6648 [==============================] - 1s 127us/sample - loss: 0.3391 - accuracy: 0.8645 - f1_metric: 0.8644 - val_loss: 0.9061 - val_accuracy: 0.6719 - val_f1_metric: 0.6649\n",
      "Epoch 53/3000\n",
      "6592/6648 [============================>.] - ETA: 0s - loss: 0.3433 - accuracy: 0.8621 - f1_metric: 0.8620\n",
      "Epoch 00053: val_f1_metric did not improve from 0.74340\n",
      "6648/6648 [==============================] - 1s 126us/sample - loss: 0.3435 - accuracy: 0.8622 - f1_metric: 0.8621 - val_loss: 0.9458 - val_accuracy: 0.6811 - val_f1_metric: 0.6740\n",
      "Epoch 54/3000\n",
      "6560/6648 [============================>.] - ETA: 0s - loss: 0.3359 - accuracy: 0.8674 - f1_metric: 0.8674\n",
      "Epoch 00054: val_f1_metric did not improve from 0.74340\n",
      "6648/6648 [==============================] - 1s 127us/sample - loss: 0.3356 - accuracy: 0.8672 - f1_metric: 0.8673 - val_loss: 0.9024 - val_accuracy: 0.6814 - val_f1_metric: 0.6743\n",
      "Epoch 55/3000\n",
      "6560/6648 [============================>.] - ETA: 0s - loss: 0.3323 - accuracy: 0.8663 - f1_metric: 0.8664\n",
      "Epoch 00055: val_f1_metric did not improve from 0.74340\n",
      "6648/6648 [==============================] - 1s 126us/sample - loss: 0.3318 - accuracy: 0.8667 - f1_metric: 0.8669 - val_loss: 0.9571 - val_accuracy: 0.6723 - val_f1_metric: 0.6653\n",
      "Epoch 56/3000\n",
      "6560/6648 [============================>.] - ETA: 0s - loss: 0.3394 - accuracy: 0.8614 - f1_metric: 0.8606\n",
      "Epoch 00056: val_f1_metric did not improve from 0.74340\n",
      "6648/6648 [==============================] - 1s 126us/sample - loss: 0.3391 - accuracy: 0.8615 - f1_metric: 0.8607 - val_loss: 0.9807 - val_accuracy: 0.6698 - val_f1_metric: 0.6628\n",
      "Epoch 57/3000\n",
      "6336/6648 [===========================>..] - ETA: 0s - loss: 0.3412 - accuracy: 0.8640 - f1_metric: 0.8637\n",
      "Epoch 00057: val_f1_metric did not improve from 0.74340\n",
      "6648/6648 [==============================] - 1s 131us/sample - loss: 0.3402 - accuracy: 0.8643 - f1_metric: 0.8640 - val_loss: 0.9006 - val_accuracy: 0.6828 - val_f1_metric: 0.6757\n",
      "Epoch 58/3000\n",
      "6624/6648 [============================>.] - ETA: 0s - loss: 0.3401 - accuracy: 0.8641 - f1_metric: 0.8638\n",
      "Epoch 00058: val_f1_metric did not improve from 0.74340\n",
      "6648/6648 [==============================] - 1s 126us/sample - loss: 0.3400 - accuracy: 0.8643 - f1_metric: 0.8640 - val_loss: 0.9276 - val_accuracy: 0.6793 - val_f1_metric: 0.6722\n",
      "Epoch 59/3000\n",
      "6336/6648 [===========================>..] - ETA: 0s - loss: 0.3442 - accuracy: 0.8647 - f1_metric: 0.8637\n",
      "Epoch 00059: val_f1_metric did not improve from 0.74340\n",
      "6648/6648 [==============================] - 1s 123us/sample - loss: 0.3419 - accuracy: 0.8655 - f1_metric: 0.8646 - val_loss: 0.9753 - val_accuracy: 0.6695 - val_f1_metric: 0.6625\n",
      "Epoch 60/3000\n",
      "6368/6648 [===========================>..] - ETA: 0s - loss: 0.3361 - accuracy: 0.8662 - f1_metric: 0.8665\n",
      "Epoch 00060: val_f1_metric did not improve from 0.74340\n",
      "6648/6648 [==============================] - 1s 122us/sample - loss: 0.3389 - accuracy: 0.8649 - f1_metric: 0.8653 - val_loss: 0.9366 - val_accuracy: 0.6740 - val_f1_metric: 0.6670\n",
      "Epoch 61/3000\n",
      "6304/6648 [===========================>..] - ETA: 0s - loss: 0.3301 - accuracy: 0.8658 - f1_metric: 0.8658\n",
      "Epoch 00061: val_f1_metric did not improve from 0.74340\n",
      "6648/6648 [==============================] - 1s 122us/sample - loss: 0.3315 - accuracy: 0.8654 - f1_metric: 0.8654 - val_loss: 0.9465 - val_accuracy: 0.6768 - val_f1_metric: 0.6698\n",
      "Epoch 62/3000\n",
      "6304/6648 [===========================>..] - ETA: 0s - loss: 0.3389 - accuracy: 0.8671 - f1_metric: 0.8665\n",
      "Epoch 00062: val_f1_metric did not improve from 0.74340\n",
      "6648/6648 [==============================] - 1s 123us/sample - loss: 0.3392 - accuracy: 0.8661 - f1_metric: 0.8656 - val_loss: 0.9356 - val_accuracy: 0.6761 - val_f1_metric: 0.6691\n",
      "Epoch 63/3000\n",
      "6304/6648 [===========================>..] - ETA: 0s - loss: 0.3282 - accuracy: 0.8687 - f1_metric: 0.8683\n",
      "Epoch 00063: val_f1_metric did not improve from 0.74340\n",
      "6648/6648 [==============================] - 1s 123us/sample - loss: 0.3283 - accuracy: 0.8690 - f1_metric: 0.8686 - val_loss: 0.9653 - val_accuracy: 0.6674 - val_f1_metric: 0.6604\n",
      "Epoch 64/3000\n",
      "6336/6648 [===========================>..] - ETA: 0s - loss: 0.3359 - accuracy: 0.8682 - f1_metric: 0.8680\n",
      "Epoch 00064: val_f1_metric did not improve from 0.74340\n",
      "6648/6648 [==============================] - 1s 122us/sample - loss: 0.3360 - accuracy: 0.8682 - f1_metric: 0.8680 - val_loss: 0.9496 - val_accuracy: 0.6747 - val_f1_metric: 0.6677\n",
      "Epoch 65/3000\n",
      "6272/6648 [===========================>..] - ETA: 0s - loss: 0.3390 - accuracy: 0.8619 - f1_metric: 0.8614\n",
      "Epoch 00065: val_f1_metric did not improve from 0.74340\n",
      "6648/6648 [==============================] - 1s 123us/sample - loss: 0.3382 - accuracy: 0.8627 - f1_metric: 0.8623 - val_loss: 0.9549 - val_accuracy: 0.6730 - val_f1_metric: 0.6660\n",
      "Epoch 66/3000\n",
      "6144/6648 [==========================>...] - ETA: 0s - loss: 0.3289 - accuracy: 0.8698 - f1_metric: 0.8694\n",
      "Epoch 00066: val_f1_metric did not improve from 0.74340\n",
      "6648/6648 [==============================] - 1s 123us/sample - loss: 0.3293 - accuracy: 0.8706 - f1_metric: 0.8702 - val_loss: 0.9416 - val_accuracy: 0.6737 - val_f1_metric: 0.6667\n",
      "Epoch 67/3000\n",
      "6240/6648 [===========================>..] - ETA: 0s - loss: 0.3335 - accuracy: 0.8670 - f1_metric: 0.8664\n",
      "Epoch 00067: val_f1_metric did not improve from 0.74340\n",
      "6648/6648 [==============================] - 1s 122us/sample - loss: 0.3353 - accuracy: 0.8645 - f1_metric: 0.8639 - val_loss: 0.9750 - val_accuracy: 0.6705 - val_f1_metric: 0.6635\n",
      "Epoch 68/3000\n",
      "6368/6648 [===========================>..] - ETA: 0s - loss: 0.3263 - accuracy: 0.8717 - f1_metric: 0.8718\n",
      "Epoch 00068: val_f1_metric did not improve from 0.74340\n",
      "6648/6648 [==============================] - 1s 122us/sample - loss: 0.3286 - accuracy: 0.8700 - f1_metric: 0.8701 - val_loss: 1.0132 - val_accuracy: 0.6751 - val_f1_metric: 0.6681\n",
      "Epoch 69/3000\n",
      "6560/6648 [============================>.] - ETA: 0s - loss: 0.3273 - accuracy: 0.8701 - f1_metric: 0.8703\n",
      "Epoch 00069: val_f1_metric did not improve from 0.74340\n",
      "6648/6648 [==============================] - 1s 127us/sample - loss: 0.3279 - accuracy: 0.8697 - f1_metric: 0.8699 - val_loss: 0.9863 - val_accuracy: 0.6716 - val_f1_metric: 0.6646\n",
      "Epoch 70/3000\n",
      "6272/6648 [===========================>..] - ETA: 0s - loss: 0.3313 - accuracy: 0.8665 - f1_metric: 0.8669\n",
      "Epoch 00070: val_f1_metric did not improve from 0.74340\n",
      "6648/6648 [==============================] - 1s 123us/sample - loss: 0.3326 - accuracy: 0.8661 - f1_metric: 0.8662 - val_loss: 0.9805 - val_accuracy: 0.6723 - val_f1_metric: 0.6653\n",
      "Epoch 71/3000\n",
      "6528/6648 [============================>.] - ETA: 0s - loss: 0.3351 - accuracy: 0.8666 - f1_metric: 0.8660\n",
      "Epoch 00071: val_f1_metric did not improve from 0.74340\n",
      "6648/6648 [==============================] - 1s 142us/sample - loss: 0.3340 - accuracy: 0.8676 - f1_metric: 0.8670 - val_loss: 0.9929 - val_accuracy: 0.6730 - val_f1_metric: 0.6660\n",
      "Epoch 72/3000\n",
      "6176/6648 [==========================>...] - ETA: 0s - loss: 0.3327 - accuracy: 0.8663 - f1_metric: 0.8661\n",
      "Epoch 00072: val_f1_metric did not improve from 0.74340\n",
      "6648/6648 [==============================] - 1s 134us/sample - loss: 0.3341 - accuracy: 0.8655 - f1_metric: 0.8655 - val_loss: 0.9632 - val_accuracy: 0.6758 - val_f1_metric: 0.6687\n",
      "Epoch 73/3000\n",
      "6560/6648 [============================>.] - ETA: 0s - loss: 0.3234 - accuracy: 0.8744 - f1_metric: 0.8740\n",
      "Epoch 00073: val_f1_metric did not improve from 0.74340\n",
      "6648/6648 [==============================] - 1s 126us/sample - loss: 0.3239 - accuracy: 0.8741 - f1_metric: 0.8735 - val_loss: 1.0106 - val_accuracy: 0.6684 - val_f1_metric: 0.6615\n",
      "Epoch 74/3000\n",
      "6592/6648 [============================>.] - ETA: 0s - loss: 0.3275 - accuracy: 0.8712 - f1_metric: 0.8710\n",
      "Epoch 00074: val_f1_metric did not improve from 0.74340\n",
      "6648/6648 [==============================] - 1s 127us/sample - loss: 0.3273 - accuracy: 0.8712 - f1_metric: 0.8710 - val_loss: 1.0132 - val_accuracy: 0.6688 - val_f1_metric: 0.6618\n",
      "Epoch 75/3000\n",
      "6624/6648 [============================>.] - ETA: 0s - loss: 0.3286 - accuracy: 0.8691 - f1_metric: 0.8686\n",
      "Epoch 00075: val_f1_metric did not improve from 0.74340\n",
      "6648/6648 [==============================] - 1s 126us/sample - loss: 0.3295 - accuracy: 0.8690 - f1_metric: 0.8684 - val_loss: 1.0386 - val_accuracy: 0.6709 - val_f1_metric: 0.6639\n",
      "Epoch 76/3000\n",
      "6368/6648 [===========================>..] - ETA: 0s - loss: 0.3317 - accuracy: 0.8656 - f1_metric: 0.8651\n",
      "Epoch 00076: val_f1_metric did not improve from 0.74340\n",
      "6648/6648 [==============================] - 1s 131us/sample - loss: 0.3335 - accuracy: 0.8642 - f1_metric: 0.8638 - val_loss: 1.0232 - val_accuracy: 0.6677 - val_f1_metric: 0.6608\n",
      "Epoch 77/3000\n",
      "6560/6648 [============================>.] - ETA: 0s - loss: 0.3279 - accuracy: 0.8694 - f1_metric: 0.8693\n",
      "Epoch 00077: val_f1_metric did not improve from 0.74340\n",
      "6648/6648 [==============================] - 1s 128us/sample - loss: 0.3286 - accuracy: 0.8687 - f1_metric: 0.8686 - val_loss: 1.0034 - val_accuracy: 0.6681 - val_f1_metric: 0.6611\n",
      "Epoch 78/3000\n",
      "6560/6648 [============================>.] - ETA: 0s - loss: 0.3267 - accuracy: 0.8684 - f1_metric: 0.8687\n",
      "Epoch 00078: val_f1_metric did not improve from 0.74340\n",
      "6648/6648 [==============================] - 1s 127us/sample - loss: 0.3261 - accuracy: 0.8688 - f1_metric: 0.8691 - val_loss: 1.0418 - val_accuracy: 0.6646 - val_f1_metric: 0.6576\n",
      "Epoch 79/3000\n",
      "6112/6648 [==========================>...] - ETA: 0s - loss: 0.3263 - accuracy: 0.8676 - f1_metric: 0.8676\n",
      "Epoch 00079: val_f1_metric did not improve from 0.74340\n",
      "6648/6648 [==============================] - 1s 125us/sample - loss: 0.3244 - accuracy: 0.8690 - f1_metric: 0.8691 - val_loss: 1.0599 - val_accuracy: 0.6646 - val_f1_metric: 0.6576\n",
      "Epoch 80/3000\n",
      "6624/6648 [============================>.] - ETA: 0s - loss: 0.3301 - accuracy: 0.8673 - f1_metric: 0.8677\n",
      "Epoch 00080: val_f1_metric did not improve from 0.74340\n",
      "6648/6648 [==============================] - 1s 125us/sample - loss: 0.3301 - accuracy: 0.8675 - f1_metric: 0.8680 - val_loss: 1.0285 - val_accuracy: 0.6712 - val_f1_metric: 0.6642\n",
      "Epoch 81/3000\n",
      "6336/6648 [===========================>..] - ETA: 0s - loss: 0.3261 - accuracy: 0.8712 - f1_metric: 0.8704\n",
      "Epoch 00081: val_f1_metric did not improve from 0.74340\n",
      "6648/6648 [==============================] - 1s 130us/sample - loss: 0.3275 - accuracy: 0.8709 - f1_metric: 0.8701 - val_loss: 1.0217 - val_accuracy: 0.6688 - val_f1_metric: 0.6618\n",
      "Epoch 82/3000\n",
      "6592/6648 [============================>.] - ETA: 0s - loss: 0.3260 - accuracy: 0.8727 - f1_metric: 0.8725\n",
      "Epoch 00082: val_f1_metric did not improve from 0.74340\n",
      "6648/6648 [==============================] - 1s 126us/sample - loss: 0.3255 - accuracy: 0.8730 - f1_metric: 0.8728 - val_loss: 1.0315 - val_accuracy: 0.6709 - val_f1_metric: 0.6639\n",
      "Epoch 83/3000\n",
      "6592/6648 [============================>.] - ETA: 0s - loss: 0.3253 - accuracy: 0.8704 - f1_metric: 0.8704\n",
      "Epoch 00083: val_f1_metric did not improve from 0.74340\n",
      "6648/6648 [==============================] - 1s 126us/sample - loss: 0.3257 - accuracy: 0.8702 - f1_metric: 0.8700 - val_loss: 0.9993 - val_accuracy: 0.6719 - val_f1_metric: 0.6649\n",
      "Epoch 84/3000\n",
      "6560/6648 [============================>.] - ETA: 0s - loss: 0.3296 - accuracy: 0.8686 - f1_metric: 0.8686\n",
      "Epoch 00084: val_f1_metric did not improve from 0.74340\n",
      "6648/6648 [==============================] - 1s 127us/sample - loss: 0.3283 - accuracy: 0.8693 - f1_metric: 0.8693 - val_loss: 1.0101 - val_accuracy: 0.6695 - val_f1_metric: 0.6625\n",
      "Epoch 85/3000\n",
      "6560/6648 [============================>.] - ETA: 0s - loss: 0.3209 - accuracy: 0.8712 - f1_metric: 0.8711\n",
      "Epoch 00085: val_f1_metric did not improve from 0.74340\n",
      "6648/6648 [==============================] - 1s 126us/sample - loss: 0.3203 - accuracy: 0.8711 - f1_metric: 0.8710 - val_loss: 1.1024 - val_accuracy: 0.6653 - val_f1_metric: 0.6583\n",
      "Epoch 86/3000\n",
      "6560/6648 [============================>.] - ETA: 0s - loss: 0.3278 - accuracy: 0.8680 - f1_metric: 0.8676\n",
      "Epoch 00086: val_f1_metric did not improve from 0.74340\n",
      "6648/6648 [==============================] - 1s 126us/sample - loss: 0.3280 - accuracy: 0.8684 - f1_metric: 0.8680 - val_loss: 1.0570 - val_accuracy: 0.6712 - val_f1_metric: 0.6642\n",
      "Epoch 87/3000\n",
      "6592/6648 [============================>.] - ETA: 0s - loss: 0.3248 - accuracy: 0.8723 - f1_metric: 0.8718\n",
      "Epoch 00087: val_f1_metric did not improve from 0.74340\n",
      "6648/6648 [==============================] - 1s 126us/sample - loss: 0.3243 - accuracy: 0.8726 - f1_metric: 0.8722 - val_loss: 1.1188 - val_accuracy: 0.6660 - val_f1_metric: 0.6590\n",
      "Epoch 88/3000\n",
      "6592/6648 [============================>.] - ETA: 0s - loss: 0.3224 - accuracy: 0.8739 - f1_metric: 0.8736\n",
      "Epoch 00088: val_f1_metric did not improve from 0.74340\n",
      "6648/6648 [==============================] - 1s 125us/sample - loss: 0.3226 - accuracy: 0.8738 - f1_metric: 0.8733 - val_loss: 1.0895 - val_accuracy: 0.6684 - val_f1_metric: 0.6615\n",
      "Epoch 89/3000\n",
      "6592/6648 [============================>.] - ETA: 0s - loss: 0.3247 - accuracy: 0.8735 - f1_metric: 0.8727\n",
      "Epoch 00089: val_f1_metric did not improve from 0.74340\n",
      "6648/6648 [==============================] - 1s 126us/sample - loss: 0.3250 - accuracy: 0.8735 - f1_metric: 0.8727 - val_loss: 1.0515 - val_accuracy: 0.6695 - val_f1_metric: 0.6625\n",
      "Epoch 90/3000\n",
      "6560/6648 [============================>.] - ETA: 0s - loss: 0.3294 - accuracy: 0.8692 - f1_metric: 0.8682\n",
      "Epoch 00090: val_f1_metric did not improve from 0.74340\n",
      "6648/6648 [==============================] - 1s 127us/sample - loss: 0.3299 - accuracy: 0.8693 - f1_metric: 0.8683 - val_loss: 1.0270 - val_accuracy: 0.6726 - val_f1_metric: 0.6656\n",
      "Epoch 91/3000\n",
      "6624/6648 [============================>.] - ETA: 0s - loss: 0.3295 - accuracy: 0.8688 - f1_metric: 0.8681\n",
      "Epoch 00091: val_f1_metric did not improve from 0.74340\n",
      "6648/6648 [==============================] - 1s 126us/sample - loss: 0.3292 - accuracy: 0.8691 - f1_metric: 0.8685 - val_loss: 1.0363 - val_accuracy: 0.6705 - val_f1_metric: 0.6635\n",
      "Epoch 92/3000\n",
      "6592/6648 [============================>.] - ETA: 0s - loss: 0.3233 - accuracy: 0.8715 - f1_metric: 0.8710\n",
      "Epoch 00092: val_f1_metric did not improve from 0.74340\n",
      "6648/6648 [==============================] - 1s 127us/sample - loss: 0.3250 - accuracy: 0.8708 - f1_metric: 0.8701 - val_loss: 1.0574 - val_accuracy: 0.6684 - val_f1_metric: 0.6615\n",
      "Epoch 93/3000\n",
      "6336/6648 [===========================>..] - ETA: 0s - loss: 0.3284 - accuracy: 0.8670 - f1_metric: 0.8670\n",
      "Epoch 00093: val_f1_metric did not improve from 0.74340\n",
      "6648/6648 [==============================] - 1s 131us/sample - loss: 0.3269 - accuracy: 0.8670 - f1_metric: 0.8671 - val_loss: 1.0532 - val_accuracy: 0.6702 - val_f1_metric: 0.6632\n",
      "Epoch 94/3000\n",
      "6592/6648 [============================>.] - ETA: 0s - loss: 0.3214 - accuracy: 0.8723 - f1_metric: 0.8720\n",
      "Epoch 00094: val_f1_metric did not improve from 0.74340\n",
      "6648/6648 [==============================] - 1s 126us/sample - loss: 0.3210 - accuracy: 0.8726 - f1_metric: 0.8723 - val_loss: 1.0918 - val_accuracy: 0.6628 - val_f1_metric: 0.6559\n",
      "Epoch 95/3000\n",
      "6560/6648 [============================>.] - ETA: 0s - loss: 0.3162 - accuracy: 0.8748 - f1_metric: 0.8746\n",
      "Epoch 00095: val_f1_metric did not improve from 0.74340\n",
      "6648/6648 [==============================] - 1s 126us/sample - loss: 0.3163 - accuracy: 0.8753 - f1_metric: 0.8751 - val_loss: 1.0712 - val_accuracy: 0.6663 - val_f1_metric: 0.6594\n",
      "Epoch 96/3000\n",
      "6592/6648 [============================>.] - ETA: 0s - loss: 0.3236 - accuracy: 0.8726 - f1_metric: 0.8722\n",
      "Epoch 00096: val_f1_metric did not improve from 0.74340\n",
      "6648/6648 [==============================] - 1s 126us/sample - loss: 0.3236 - accuracy: 0.8727 - f1_metric: 0.8724 - val_loss: 1.0596 - val_accuracy: 0.6688 - val_f1_metric: 0.6618\n",
      "Epoch 97/3000\n",
      "6624/6648 [============================>.] - ETA: 0s - loss: 0.3224 - accuracy: 0.8706 - f1_metric: 0.8699\n",
      "Epoch 00097: val_f1_metric did not improve from 0.74340\n",
      "6648/6648 [==============================] - 1s 125us/sample - loss: 0.3227 - accuracy: 0.8705 - f1_metric: 0.8697 - val_loss: 1.0874 - val_accuracy: 0.6691 - val_f1_metric: 0.6622\n",
      "Epoch 98/3000\n",
      "6624/6648 [============================>.] - ETA: 0s - loss: 0.3117 - accuracy: 0.8777 - f1_metric: 0.8777\n",
      "Epoch 00098: val_f1_metric did not improve from 0.74340\n",
      "6648/6648 [==============================] - 1s 125us/sample - loss: 0.3111 - accuracy: 0.8782 - f1_metric: 0.8783 - val_loss: 1.1276 - val_accuracy: 0.6618 - val_f1_metric: 0.6549\n",
      "Epoch 99/3000\n",
      "6560/6648 [============================>.] - ETA: 0s - loss: 0.3194 - accuracy: 0.8758 - f1_metric: 0.8752\n",
      "Epoch 00099: val_f1_metric did not improve from 0.74340\n",
      "6648/6648 [==============================] - 1s 127us/sample - loss: 0.3182 - accuracy: 0.8762 - f1_metric: 0.8757 - val_loss: 1.0813 - val_accuracy: 0.6684 - val_f1_metric: 0.6615\n",
      "Epoch 100/3000\n",
      "6624/6648 [============================>.] - ETA: 0s - loss: 0.3161 - accuracy: 0.8736 - f1_metric: 0.8740\n",
      "Epoch 00100: val_f1_metric did not improve from 0.74340\n",
      "6648/6648 [==============================] - 1s 126us/sample - loss: 0.3159 - accuracy: 0.8738 - f1_metric: 0.8742 - val_loss: 1.1041 - val_accuracy: 0.6639 - val_f1_metric: 0.6569\n",
      "Epoch 101/3000\n",
      "6560/6648 [============================>.] - ETA: 0s - loss: 0.3212 - accuracy: 0.8716 - f1_metric: 0.8713\n",
      "Epoch 00101: val_f1_metric did not improve from 0.74340\n",
      "6648/6648 [==============================] - 1s 126us/sample - loss: 0.3205 - accuracy: 0.8723 - f1_metric: 0.8719 - val_loss: 1.0818 - val_accuracy: 0.6709 - val_f1_metric: 0.6639\n",
      "Epoch 102/3000\n",
      "6336/6648 [===========================>..] - ETA: 0s - loss: 0.3184 - accuracy: 0.8752 - f1_metric: 0.8748\n",
      "Epoch 00102: val_f1_metric did not improve from 0.74340\n",
      "6648/6648 [==============================] - 1s 131us/sample - loss: 0.3192 - accuracy: 0.8744 - f1_metric: 0.8741 - val_loss: 1.1573 - val_accuracy: 0.6635 - val_f1_metric: 0.6566\n",
      "Epoch 103/3000\n",
      "6432/6648 [============================>.] - ETA: 0s - loss: 0.3115 - accuracy: 0.8752 - f1_metric: 0.8751\n",
      "Epoch 00103: val_f1_metric did not improve from 0.74340\n",
      "6648/6648 [==============================] - 1s 130us/sample - loss: 0.3132 - accuracy: 0.8747 - f1_metric: 0.8746 - val_loss: 1.0669 - val_accuracy: 0.6698 - val_f1_metric: 0.6628\n",
      "Epoch 104/3000\n",
      "6336/6648 [===========================>..] - ETA: 0s - loss: 0.3168 - accuracy: 0.8723 - f1_metric: 0.8719\n",
      "Epoch 00104: val_f1_metric did not improve from 0.74340\n",
      "6648/6648 [==============================] - 1s 138us/sample - loss: 0.3176 - accuracy: 0.8723 - f1_metric: 0.8719 - val_loss: 1.1427 - val_accuracy: 0.6618 - val_f1_metric: 0.6549\n",
      "Epoch 105/3000\n",
      "6368/6648 [===========================>..] - ETA: 0s - loss: 0.3214 - accuracy: 0.8715 - f1_metric: 0.8708\n",
      "Epoch 00105: val_f1_metric did not improve from 0.74340\n",
      "6648/6648 [==============================] - 1s 131us/sample - loss: 0.3207 - accuracy: 0.8732 - f1_metric: 0.8726 - val_loss: 1.1082 - val_accuracy: 0.6628 - val_f1_metric: 0.6559\n",
      "Epoch 106/3000\n",
      "6400/6648 [===========================>..] - ETA: 0s - loss: 0.3171 - accuracy: 0.8730 - f1_metric: 0.8727\n",
      "Epoch 00106: val_f1_metric did not improve from 0.74340\n",
      "6648/6648 [==============================] - 1s 130us/sample - loss: 0.3175 - accuracy: 0.8727 - f1_metric: 0.8725 - val_loss: 1.0928 - val_accuracy: 0.6656 - val_f1_metric: 0.6587\n",
      "Epoch 107/3000\n",
      "6304/6648 [===========================>..] - ETA: 0s - loss: 0.3204 - accuracy: 0.8715 - f1_metric: 0.8713\n",
      "Epoch 00107: val_f1_metric did not improve from 0.74340\n",
      "6648/6648 [==============================] - 1s 132us/sample - loss: 0.3182 - accuracy: 0.8729 - f1_metric: 0.8727 - val_loss: 1.0543 - val_accuracy: 0.6712 - val_f1_metric: 0.6642\n",
      "Epoch 108/3000\n",
      "6496/6648 [============================>.] - ETA: 0s - loss: 0.3119 - accuracy: 0.8799 - f1_metric: 0.8794\n",
      "Epoch 00108: val_f1_metric did not improve from 0.74340\n",
      "6648/6648 [==============================] - 1s 148us/sample - loss: 0.3125 - accuracy: 0.8792 - f1_metric: 0.8785 - val_loss: 1.1805 - val_accuracy: 0.6600 - val_f1_metric: 0.6531\n",
      "Epoch 109/3000\n",
      "6624/6648 [============================>.] - ETA: 0s - loss: 0.3096 - accuracy: 0.8753 - f1_metric: 0.8753\n",
      "Epoch 00109: val_f1_metric did not improve from 0.74340\n",
      "6648/6648 [==============================] - 1s 135us/sample - loss: 0.3092 - accuracy: 0.8756 - f1_metric: 0.8757 - val_loss: 1.0838 - val_accuracy: 0.6663 - val_f1_metric: 0.6594\n",
      "Epoch 110/3000\n",
      "6464/6648 [============================>.] - ETA: 0s - loss: 0.3129 - accuracy: 0.8764 - f1_metric: 0.8758\n",
      "Epoch 00110: val_f1_metric did not improve from 0.74340\n",
      "6648/6648 [==============================] - 1s 131us/sample - loss: 0.3132 - accuracy: 0.8762 - f1_metric: 0.8755 - val_loss: 1.1114 - val_accuracy: 0.6618 - val_f1_metric: 0.6549\n",
      "Epoch 00110: early stopping\n",
      "CPU times: user 2min 15s, sys: 16.3 s, total: 2min 31s\n",
      "Wall time: 1min 42s\n"
     ]
    }
   ],
   "source": [
    "%%time\n",
    "history = model.fit(x_train, y_train, epochs=3000, verbose=1,\n",
    "                            batch_size=32, shuffle=True,\n",
    "                            validation_data=(x_cv, y_cv),\n",
    "                            callbacks=[mcp, rlp, es])\n",
    "                            "
   ]
  },
  {
   "cell_type": "markdown",
   "metadata": {},
   "source": [
    "Se visualiza el rendimiento del modelo durante el entrenamiento. Muestra gráficas de la pérdida y la métrica F1 tanto para los conjuntos de entrenamiento como de validación a lo largo de las épocas. Esto ayuda a evaluar el aprendizaje y la generalización del modelo."
   ]
  },
  {
   "cell_type": "code",
   "execution_count": 15,
   "metadata": {
    "execution": {
     "iopub.execute_input": "2024-01-08T17:03:21.349188Z",
     "iopub.status.busy": "2024-01-08T17:03:21.348827Z",
     "iopub.status.idle": "2024-01-08T17:03:21.385121Z",
     "shell.execute_reply": "2024-01-08T17:03:21.384114Z",
     "shell.execute_reply.started": "2024-01-08T17:03:21.349027Z"
    },
    "scrolled": true
   },
   "outputs": [
    {
     "data": {
      "image/png": "[encoded data removed]",
      "text/plain": [
       "<Figure size 432x288 with 1 Axes>"
      ]
     },
     "metadata": {
      "needs_background": "light"
     },
     "output_type": "display_data"
    }
   ],
   "source": [
    "from matplotlib import pyplot as plt\n",
    "%matplotlib inline\n",
    "InteractiveShell.ast_node_interactivity = \"last\"\n",
    "\n",
    "plt.figure()\n",
    "plt.plot(history.history['loss'])\n",
    "plt.plot(history.history['val_loss'])\n",
    "plt.plot(history.history['f1_metric'])\n",
    "plt.plot(history.history['val_f1_metric'])\n",
    "\n",
    "plt.title('Model loss')\n",
    "plt.ylabel('Loss')\n",
    "plt.xlabel('Epoch')\n",
    "plt.legend(['train_loss', 'val_loss', 'f1', 'val_f1'], loc='upper left')\n",
    "plt.show()"
   ]
  },
  {
   "cell_type": "markdown",
   "metadata": {},
   "source": [
    "Se realiza la evaluación final del modelo sobre el conjunto de prueba:\n",
    "\n",
    "1) Carga el mejor modelo guardado.   \n",
    "\n",
    "2) Evalúa el modelo en el conjunto de prueba y obtiene las predicciones.\n",
    "\n",
    "3) Calcula y muestra la matriz de confusión para visualizar el rendimiento del     modelo en clasificar cada clase.\n",
    "\n",
    "4) Calcula las métricas de recall y precisión para cada clase.\n",
    "\n",
    "5) Muestra dos gráficos de barras: uno para el recall y otro para la precisión     por clase, facilitando la comparación visual del rendimiento del modelo en       diferentes clases."
   ]
  },
  {
   "cell_type": "code",
   "execution_count": 16,
   "metadata": {
    "execution": {
     "iopub.status.busy": "2024-01-08T17:03:21.385967Z",
     "iopub.status.idle": "2024-01-08T17:03:21.386477Z"
    }
   },
   "outputs": [
    {
     "data": {
      "image/png": "[encoded data removed]",
      "text/plain": [
       "<Figure size 720x504 with 2 Axes>"
      ]
     },
     "metadata": {
      "needs_background": "light"
     },
     "output_type": "display_data"
    },
    {
     "data": {
      "image/png": "[encoded data removed]",
      "text/plain": [
       "<Figure size 1080x360 with 2 Axes>"
      ]
     },
     "metadata": {
      "needs_background": "light"
     },
     "output_type": "display_data"
    }
   ],
   "source": [
    "import matplotlib.pyplot as plt\n",
    "from sklearn.metrics import confusion_matrix, recall_score, precision_score\n",
    "import numpy as np\n",
    "import seaborn as sns\n",
    "\n",
    "# Carga tu modelo y evalúa los datos de prueba\n",
    "model = load_model(best_model_path)\n",
    "test_res = model.evaluate(x_test, y_test, verbose=0)\n",
    "\n",
    "# Predicciones\n",
    "y_pred = model.predict(x_test)\n",
    "y_pred_classes = np.argmax(y_pred, axis=1)\n",
    "y_true = np.argmax(y_test, axis=1)\n",
    "\n",
    "# Matriz de confusión\n",
    "cm = confusion_matrix(y_true, y_pred_classes)\n",
    "\n",
    "# Recall y Precisión\n",
    "recall = recall_score(y_true, y_pred_classes, average=None)\n",
    "precision = precision_score(y_true, y_pred_classes, average=None)\n",
    "\n",
    "# Gráfico de la matriz de confusión\n",
    "plt.figure(figsize=(10, 7))\n",
    "sns.heatmap(cm, annot=True, fmt='g')\n",
    "plt.xlabel('Predicciones')\n",
    "plt.ylabel('Valores verdaderos')\n",
    "plt.title('Matriz de Confusión')\n",
    "plt.show()\n",
    "\n",
    "# Gráfico de barras para Recall y Precisión\n",
    "fig, ax = plt.subplots(1, 2, figsize=(15, 5))\n",
    "ax[0].bar(['Clase 0', 'Clase 1', 'Clase 2'], recall, color='blue')\n",
    "ax[0].set_title('Recall por Clase')\n",
    "ax[0].set_ylim(0, 1)\n",
    "\n",
    "ax[1].bar(['Clase 0', 'Clase 1', 'Clase 2'], precision, color='green')\n",
    "ax[1].set_title('Precisión por Clase')\n",
    "ax[1].set_ylim(0, 1)\n",
    "\n",
    "plt.show()\n"
   ]
  },
  {
   "cell_type": "code",
   "execution_count": 17,
   "metadata": {
    "execution": {
     "iopub.status.busy": "2024-01-08T17:03:21.387404Z",
     "iopub.status.idle": "2024-01-08T17:03:21.387824Z"
    }
   },
   "outputs": [
    {
     "data": {
      "text/plain": [
       "array([0.49810367, 0.90909091, 0.83333333])"
      ]
     },
     "execution_count": 17,
     "metadata": {},
     "output_type": "execute_result"
    }
   ],
   "source": [
    "recall"
   ]
  },
  {
   "cell_type": "code",
   "execution_count": 18,
   "metadata": {
    "execution": {
     "iopub.status.busy": "2024-01-08T17:03:21.388681Z",
     "iopub.status.idle": "2024-01-08T17:03:21.389145Z"
    }
   },
   "outputs": [
    {
     "data": {
      "text/plain": [
       "array([0.96568627, 0.2283105 , 0.16483516])"
      ]
     },
     "execution_count": 18,
     "metadata": {},
     "output_type": "execute_result"
    }
   ],
   "source": [
    "precision"
   ]
  },
  {
   "cell_type": "markdown",
   "metadata": {},
   "source": [
    "Se imprime los resultados de la evaluación del modelo en el conjunto de prueba, mostrando la pérdida (loss), la precisión (accuracy) y la puntuación F1. Estos valores ayudan a comprender el rendimiento general del modelo en datos no vistos."
   ]
  },
  {
   "cell_type": "code",
   "execution_count": 19,
   "metadata": {
    "execution": {
     "iopub.status.busy": "2024-01-08T17:03:21.390148Z",
     "iopub.status.idle": "2024-01-08T17:03:21.390476Z"
    }
   },
   "outputs": [
    {
     "name": "stdout",
     "output_type": "stream",
     "text": [
      "Loss: 0.7563110521104601\n",
      "Accuracy: 0.5433333516120911\n",
      "F1 score: 0.5420258045196533\n"
     ]
    }
   ],
   "source": [
    "print(f\"Loss: {test_res[0]}\")\n",
    "print(f\"Accuracy: {test_res[1]}\")\n",
    "print(f\"F1 score: {test_res[2]}\")"
   ]
  },
  {
   "cell_type": "markdown",
   "metadata": {},
   "source": [
    "Se carga el mejor modelo guardado y lo vuelve a guardar con el nombre 'mi_modelo.h5'. Este paso es útil para renombrar y conservar el modelo entrenado para su uso o distribución futura."
   ]
  },
  {
   "cell_type": "code",
   "execution_count": 20,
   "metadata": {
    "execution": {
     "iopub.status.busy": "2024-01-08T17:03:21.391404Z",
     "iopub.status.idle": "2024-01-08T17:03:21.391811Z"
    }
   },
   "outputs": [],
   "source": [
    "model = load_model(best_model_path)\n",
    "model.save('mi_modelo.h5')\n"
   ]
  },
  {
   "cell_type": "markdown",
   "metadata": {},
   "source": [
    "Se implementa una estrategia para optimizar el umbral de clasificación:\n",
    "\n",
    "1) Define una función apply_threshold para ajustar las predicciones basadas en un umbral específico. Si ninguna clase supera el umbral, asigna la clase 0; de lo contrario, selecciona la clase con la mayor probabilidad.\n",
    "\n",
    "2) Itera sobre un rango de posibles umbrales para encontrar el que maximiza el F1 score.\n",
    "\n",
    "3) Calcula el F1 score para cada umbral y actualiza el mejor umbral y el mejor F1 score.\n",
    "\n",
    "4) Finalmente, imprime el mejor umbral encontrado y su correspondiente F1 score.\n",
    "\n",
    "\n",
    "\n",
    "\n",
    "\n",
    "\n",
    "\n"
   ]
  },
  {
   "cell_type": "code",
   "execution_count": 21,
   "metadata": {
    "execution": {
     "iopub.status.busy": "2024-01-08T17:03:21.392800Z",
     "iopub.status.idle": "2024-01-08T17:03:21.393312Z"
    }
   },
   "outputs": [
    {
     "name": "stdout",
     "output_type": "stream",
     "text": [
      "Mejor umbral: 0.8080808080808082\n",
      "Mejor F1 score: 0.49791278735324046\n"
     ]
    },
    {
     "name": "stderr",
     "output_type": "stream",
     "text": [
      "/opt/conda/lib/python3.6/site-packages/sklearn/metrics/classification.py:1437: UndefinedMetricWarning: F-score is ill-defined and being set to 0.0 in labels with no predicted samples.\n",
      "  'precision', 'predicted', average, warn_for)\n"
     ]
    }
   ],
   "source": [
    "import numpy as np\n",
    "from sklearn.metrics import f1_score\n",
    "\n",
    "# Función para aplicar el umbral y ajustar las predicciones\n",
    "def apply_threshold(predictions, threshold):\n",
    "    adjusted_predictions = []\n",
    "    for pred in predictions:\n",
    "        if np.max(pred) < threshold:\n",
    "            # Si ninguna clase supera el umbral, asignamos a la clase 0\n",
    "            adjusted_pred = [1, 0, 0]\n",
    "        else:\n",
    "            # Si alguna clase supera el umbral, seleccionamos la de mayor probabilidad\n",
    "            adjusted_pred = [0, 0, 0]  # Inicialmente, todas las clases se establecen en 0\n",
    "            adjusted_pred[np.argmax(pred)] = 1  # Solo la clase con la mayor probabilidad se establece en 1\n",
    "        adjusted_predictions.append(adjusted_pred)\n",
    "    return np.array(adjusted_predictions)\n",
    "\n",
    "\n",
    "\n",
    "# Define un rango de posibles umbrales\n",
    "thresholds = np.linspace(0, 1, 100)  # 100 umbrales desde 0 a 1\n",
    "\n",
    "# Inicializa el mejor umbral y el mejor F1 score\n",
    "best_threshold = 0\n",
    "best_f1 = 0\n",
    "\n",
    "# Itera sobre los umbrales para encontrar el mejor\n",
    "for threshold in thresholds:\n",
    "    # Aplica el umbral\n",
    "    y_pred_classes = apply_threshold(y_pred, threshold)\n",
    "    y_pred_classes = np.argmax(y_pred_classes, axis=1)\n",
    "\n",
    "    # Calcula el F1 score\n",
    "    f1 = f1_score(y_true, y_pred_classes, average='macro')\n",
    "\n",
    "    # Actualiza el mejor umbral si es necesario\n",
    "    if f1 > best_f1:\n",
    "        best_f1 = f1\n",
    "        best_threshold = threshold\n",
    "\n",
    "# Imprime el mejor umbral y su F1 score\n",
    "print(\"Mejor umbral:\", best_threshold)\n",
    "print(\"Mejor F1 score:\", best_f1)\n"
   ]
  },
  {
   "cell_type": "markdown",
   "metadata": {},
   "source": [
    "Se aplica el mejor umbral encontrado a las predicciones del modelo para ajustar la clasificación final. Utiliza la función apply_threshold para modificar las predicciones según el umbral y luego obtiene la clase final mediante np.argmax, que selecciona el índice de la clase con la probabilidad más alta en cada predicción ajustada."
   ]
  },
  {
   "cell_type": "code",
   "execution_count": 22,
   "metadata": {
    "execution": {
     "iopub.status.busy": "2024-01-08T17:03:21.394377Z",
     "iopub.status.idle": "2024-01-08T17:03:21.395125Z"
    }
   },
   "outputs": [],
   "source": [
    "y_pred_classes = apply_threshold(y_pred, best_threshold)\n",
    "y_pred_classes = np.argmax(y_pred_classes, axis=1)"
   ]
  },
  {
   "cell_type": "markdown",
   "metadata": {},
   "source": [
    "Se calcula y almacena la matriz de confusión, así como las métricas de recall y precisión, usando las predicciones ajustadas con el mejor umbral. Estos cálculos son fundamentales para evaluar el rendimiento detallado del modelo, especialmente después de ajustar las predicciones con el umbral óptimo."
   ]
  },
  {
   "cell_type": "code",
   "execution_count": 23,
   "metadata": {
    "execution": {
     "iopub.status.busy": "2024-01-08T17:03:21.396226Z",
     "iopub.status.idle": "2024-01-08T17:03:21.396582Z"
    }
   },
   "outputs": [],
   "source": [
    "# Matriz de confusión\n",
    "cm = confusion_matrix(y_true, y_pred_classes)\n",
    "\n",
    "# Recall y Precisión\n",
    "recall = recall_score(y_true, y_pred_classes, average=None)\n",
    "precision = precision_score(y_true, y_pred_classes, average=None)\n",
    "\n"
   ]
  },
  {
   "cell_type": "markdown",
   "metadata": {},
   "source": [
    "Se calcula y muestra la puntuación F1 del modelo usando las predicciones ajustadas. Se utiliza el promedio 'macro', lo que significa que se calcula la puntuación F1 de forma independiente para cada clase y luego se toma el promedio de estas puntuaciones. Esto proporciona una medida de la efectividad del modelo en la clasificación equilibrada a través de todas las clases."
   ]
  },
  {
   "cell_type": "code",
   "execution_count": 24,
   "metadata": {
    "execution": {
     "iopub.status.busy": "2024-01-08T17:03:21.397827Z",
     "iopub.status.idle": "2024-01-08T17:03:21.398352Z"
    }
   },
   "outputs": [
    {
     "data": {
      "text/plain": [
       "0.49791278735324046"
      ]
     },
     "execution_count": 24,
     "metadata": {},
     "output_type": "execute_result"
    }
   ],
   "source": [
    "from sklearn.metrics import f1_score\n",
    "\n",
    "f1 = f1_score(y_true, y_pred_classes, average='macro')\n",
    "f1\n"
   ]
  },
  {
   "cell_type": "code",
   "execution_count": 25,
   "metadata": {
    "execution": {
     "iopub.status.busy": "2024-01-08T17:03:21.399573Z",
     "iopub.status.idle": "2024-01-08T17:03:21.400034Z"
    }
   },
   "outputs": [
    {
     "data": {
      "text/plain": [
       "array([0.83565107, 0.67272727, 0.2037037 ])"
      ]
     },
     "execution_count": 25,
     "metadata": {},
     "output_type": "execute_result"
    }
   ],
   "source": [
    "recall"
   ]
  },
  {
   "cell_type": "code",
   "execution_count": 26,
   "metadata": {
    "execution": {
     "iopub.status.busy": "2024-01-08T17:03:21.401013Z",
     "iopub.status.idle": "2024-01-08T17:03:21.401778Z"
    }
   },
   "outputs": [
    {
     "data": {
      "text/plain": [
       "array([0.91551247, 0.31092437, 0.18644068])"
      ]
     },
     "execution_count": 26,
     "metadata": {},
     "output_type": "execute_result"
    }
   ],
   "source": [
    "precision"
   ]
  },
  {
   "cell_type": "markdown",
   "metadata": {},
   "source": [
    "Se visualiza dos aspectos clave del rendimiento del modelo:\n",
    "\n",
    "Matriz de Confusión: Utiliza Seaborn para crear un mapa de calor de la matriz de confusión, mostrando la cantidad de predicciones correctas e incorrectas para cada clase.\n",
    "\n",
    "Gráficos de Barras para Recall y Precisión: Muestra dos gráficos de barras para visualizar las métricas de recall y precisión para cada una de las tres clases, facilitando la comparación del rendimiento del modelo en términos de evitar falsos negativos y falsos positivos."
   ]
  },
  {
   "cell_type": "code",
   "execution_count": 27,
   "metadata": {
    "execution": {
     "iopub.status.busy": "2024-01-08T17:03:21.402840Z",
     "iopub.status.idle": "2024-01-08T17:03:21.403309Z"
    }
   },
   "outputs": [
    {
     "data": {
      "image/png": "[encoded data removed]",
      "text/plain": [
       "<Figure size 720x504 with 2 Axes>"
      ]
     },
     "metadata": {
      "needs_background": "light"
     },
     "output_type": "display_data"
    },
    {
     "data": {
      "image/png": "[encoded data removed]",
      "text/plain": [
       "<Figure size 1080x360 with 2 Axes>"
      ]
     },
     "metadata": {
      "needs_background": "light"
     },
     "output_type": "display_data"
    }
   ],
   "source": [
    "# Gráfico de la matriz de confusión\n",
    "plt.figure(figsize=(10, 7))\n",
    "sns.heatmap(cm, annot=True, fmt='g')\n",
    "plt.xlabel('Predicciones')\n",
    "plt.ylabel('Valores verdaderos')\n",
    "plt.title('Matriz de Confusión')\n",
    "plt.show()\n",
    "\n",
    "# Gráfico de barras para Recall y Precisión\n",
    "fig, ax = plt.subplots(1, 2, figsize=(15, 5))\n",
    "ax[0].bar(['Clase 0', 'Clase 1', 'Clase 2'], recall, color='blue')\n",
    "ax[0].set_title('Recall por Clase')\n",
    "ax[0].set_ylim(0, 1)\n",
    "\n",
    "ax[1].bar(['Clase 0', 'Clase 1', 'Clase 2'], precision, color='green')\n",
    "ax[1].set_title('Precisión por Clase')\n",
    "ax[1].set_ylim(0, 1)\n",
    "\n",
    "plt.show()\n"
   ]
  },
  {
   "cell_type": "code",
   "execution_count": null,
   "metadata": {},
   "outputs": [],
   "source": []
  }
 ],
 "metadata": {
  "kaggle": {
   "accelerator": "gpu",
   "dataSources": [
    {
     "sourceId": 157914957,
     "sourceType": "kernelVersion"
    }
   ],
   "dockerImageVersionId": 29850,
   "isGpuEnabled": true,
   "isInternetEnabled": true,
   "language": "python",
   "sourceType": "notebook"
  },
  "kernelspec": {
   "display_name": "Python 3",
   "language": "python",
   "name": "python3"
  },
  "language_info": {
   "codemirror_mode": {
    "name": "ipython",
    "version": 3
   },
   "file_extension": ".py",
   "mimetype": "text/x-python",
   "name": "python",
   "nbconvert_exporter": "python",
   "pygments_lexer": "ipython3",
   "version": "3.6.6"
  }
 },
 "nbformat": 4,
 "nbformat_minor": 4
}
