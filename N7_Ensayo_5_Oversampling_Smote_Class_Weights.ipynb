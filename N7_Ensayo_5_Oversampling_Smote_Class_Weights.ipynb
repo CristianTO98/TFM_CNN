{
 "cells": [
  {
   "cell_type": "markdown",
   "metadata": {},
   "source": [
    "Se importan librerías esenciales, establece una semilla para la reproducibilidad, carga conjuntos de datos de entrenamiento, validación y prueba desde archivos CSV y muestra sus dimensiones para verificar su estructura."
   ]
  },
  {
   "cell_type": "code",
   "execution_count": 1,
   "metadata": {
    "_cell_guid": "",
    "_uuid": "",
    "execution": {
     "iopub.execute_input": "2024-01-08T17:02:41.991581Z",
     "iopub.status.busy": "2024-01-08T17:02:41.991158Z",
     "iopub.status.idle": "2024-01-08T17:02:44.262978Z",
     "shell.execute_reply": "2024-01-08T17:02:44.262297Z",
     "shell.execute_reply.started": "2024-01-08T17:02:41.991509Z"
    },
    "scrolled": true
   },
   "outputs": [
    {
     "name": "stdout",
     "output_type": "stream",
     "text": [
      "Shape of x, y train/cv/test (2519, 225) (2519,) (1080, 225) (1080,) (900, 225) (900,)\n"
     ]
    }
   ],
   "source": [
    "import pandas as pd\n",
    "import pickle \n",
    "import numpy as np\n",
    "from tqdm import tqdm_notebook as tqdm\n",
    "from IPython.core.interactiveshell import InteractiveShell\n",
    "\n",
    "\n",
    "np.random.seed(2)\n",
    "x_train = np.loadtxt(\"/kaggle/input/features-extraction/x_train.csv\", delimiter=\",\")\n",
    "y_train = np.loadtxt(\"/kaggle/input/features-extraction/y_train.csv\", delimiter=\",\")\n",
    "x_cv = np.loadtxt(\"/kaggle/input/features-extraction/x_cv.csv\", delimiter=\",\")\n",
    "y_cv = np.loadtxt(\"/kaggle/input/features-extraction/y_cv.csv\", delimiter=\",\")\n",
    "x_test = np.loadtxt(\"/kaggle/input/features-extraction/x_test.csv\", delimiter=\",\")\n",
    "y_test = np.loadtxt(\"/kaggle/input/features-extraction/y_test.csv\", delimiter=\",\")\n",
    "\n",
    "print(\"Shape of x, y train/cv/test {} {} {} {} {} {}\".format(x_train.shape, \n",
    "                                                             y_train.shape, x_cv.shape, y_cv.shape, x_test.shape, y_test.shape))"
   ]
  },
  {
   "cell_type": "markdown",
   "metadata": {},
   "source": [
    "Se calcula y muestra el porcentaje de cada clase en el conjunto de entrenamiento, lo que ayuda a entender la distribución y posible desbalance de clases."
   ]
  },
  {
   "cell_type": "code",
   "execution_count": 2,
   "metadata": {
    "execution": {
     "iopub.execute_input": "2024-01-08T17:02:44.265194Z",
     "iopub.status.busy": "2024-01-08T17:02:44.264919Z",
     "iopub.status.idle": "2024-01-08T17:02:44.270965Z",
     "shell.execute_reply": "2024-01-08T17:02:44.270033Z",
     "shell.execute_reply.started": "2024-01-08T17:02:44.265144Z"
    }
   },
   "outputs": [
    {
     "name": "stdout",
     "output_type": "stream",
     "text": [
      "percentage of class 0 = 87.97141722905914, class 1 = 6.073838824930529, class 2 = 5.954743946010321\n"
     ]
    }
   ],
   "source": [
    "_labels, _counts = np.unique(y_train, return_counts=True)\n",
    "print(\"percentage of class 0 = {}, class 1 = {}, class 2 = {}\".format(_counts[0]/len(y_train) * 100, _counts[1]/len(y_train) * 100, _counts[2]/len(y_train) * 100))"
   ]
  },
  {
   "cell_type": "markdown",
   "metadata": {},
   "source": [
    "Se utiliza SMOTE (Synthetic Minority Over-sampling Technique) para equilibrar las clases en los conjuntos de entrenamiento y validación:\n",
    "\n",
    "Instalación de imbalanced-learn: Primero, instala la librería imbalanced-learn que proporciona el algoritmo SMOTE.\n",
    "\n",
    "Función balance_classes_with_smote: Esta función aplana y_train si es necesario y luego aplica SMOTE al conjunto de datos. SMOTE crea muestras sintéticas de las clases minoritarias para igualar el número de muestras de la clase mayoritaria.\n",
    "\n",
    "Mezcla de los Datos: Después de aplicar SMOTE, los datos se mezclan para asegurar la aleatoriedad.\n",
    "\n",
    "Aplicación de la Función: Finalmente, la función se aplica a los conjuntos x_train y y_train, y opcionalmente a x_cv y y_cv, para obtener conjuntos de entrenamiento y validación balanceados.\n",
    "\n",
    "SMOTE es una técnica efectiva para tratar con el desequilibrio de clases, especialmente útil cuando las clases minoritarias no están suficientemente representadas."
   ]
  },
  {
   "cell_type": "code",
   "execution_count": 3,
   "metadata": {
    "execution": {
     "iopub.execute_input": "2024-01-08T17:02:44.272448Z",
     "iopub.status.busy": "2024-01-08T17:02:44.272185Z",
     "iopub.status.idle": "2024-01-08T17:02:54.379034Z",
     "shell.execute_reply": "2024-01-08T17:02:54.378322Z",
     "shell.execute_reply.started": "2024-01-08T17:02:44.2724Z"
    }
   },
   "outputs": [
    {
     "name": "stdout",
     "output_type": "stream",
     "text": [
      "Collecting imbalanced-learn==0.4.0\r\n",
      "\u001b[?25l  Downloading https://files.pythonhosted.org/packages/42/73/07459186288bdfbae30c50eca4b54e16473a1e0ceee5f9c79480d6dc9b50/imbalanced_learn-0.4.0-py3-none-any.whl (165kB)\r\n",
      "\u001b[K     |████████████████████████████████| 174kB 4.6MB/s \r\n",
      "\u001b[?25hRequirement already satisfied: scikit-learn>=0.20 in /opt/conda/lib/python3.6/site-packages (from imbalanced-learn==0.4.0) (0.21.3)\r\n",
      "Requirement already satisfied: scipy>=0.13.3 in /opt/conda/lib/python3.6/site-packages (from imbalanced-learn==0.4.0) (1.4.1)\r\n",
      "Requirement already satisfied: numpy>=1.8.2 in /opt/conda/lib/python3.6/site-packages (from imbalanced-learn==0.4.0) (1.18.1)\r\n",
      "Requirement already satisfied: joblib>=0.11 in /opt/conda/lib/python3.6/site-packages (from scikit-learn>=0.20->imbalanced-learn==0.4.0) (0.14.1)\r\n",
      "\u001b[31mERROR: kmeans-smote 0.1.2 has requirement numpy<1.16,>=1.13, but you'll have numpy 1.18.1 which is incompatible.\u001b[0m\r\n",
      "\u001b[31mERROR: kmeans-smote 0.1.2 has requirement scikit-learn<0.21,>=0.19.0, but you'll have scikit-learn 0.21.3 which is incompatible.\u001b[0m\r\n",
      "Installing collected packages: imbalanced-learn\r\n",
      "  Found existing installation: imbalanced-learn 0.6.1\r\n",
      "    Uninstalling imbalanced-learn-0.6.1:\r\n",
      "      Successfully uninstalled imbalanced-learn-0.6.1\r\n",
      "Successfully installed imbalanced-learn-0.4.0\r\n"
     ]
    },
    {
     "name": "stderr",
     "output_type": "stream",
     "text": [
      "/opt/conda/lib/python3.6/site-packages/sklearn/externals/six.py:31: DeprecationWarning: The module is deprecated in version 0.21 and will be removed in version 0.23 since we've dropped support for Python 2.7. Please rely on the official version of six (https://pypi.org/project/six/).\n",
      "  \"(https://pypi.org/project/six/).\", DeprecationWarning)\n"
     ]
    }
   ],
   "source": [
    "!pip install imbalanced-learn==0.4.0\n",
    "from imblearn.over_sampling import SMOTE\n",
    "import numpy as np\n",
    "\n",
    "def balance_classes_with_smote(x_train, y_train):\n",
    "    # Aplanar y_train si es necesario\n",
    "    y_train = y_train.flatten()\n",
    "\n",
    "    # Aplicar SMOTE\n",
    "    smote = SMOTE()\n",
    "    x_train_smote, y_train_smote = smote.fit_resample(x_train, y_train)\n",
    "\n",
    "    # Mezclar los datos\n",
    "    indices = np.arange(len(x_train_smote))\n",
    "    np.random.shuffle(indices)\n",
    "    return x_train_smote[indices], y_train_smote[indices]\n",
    "\n",
    "x_train, y_train = balance_classes_with_smote(x_train, y_train)\n",
    "x_cv, y_cv = balance_classes_with_smote(x_cv, y_cv)"
   ]
  },
  {
   "cell_type": "markdown",
   "metadata": {},
   "source": [
    "Se utiliza np.unique para encontrar y mostrar los valores únicos en y_train y sus respectivos conteos. Esto es útil para verificar la distribución de las clases después de aplicar el balanceo de clases, permitiendo confirmar que las clases ahora están equilibradas en términos de cantidad de muestras."
   ]
  },
  {
   "cell_type": "code",
   "execution_count": 4,
   "metadata": {
    "execution": {
     "iopub.execute_input": "2024-01-08T17:02:54.380842Z",
     "iopub.status.busy": "2024-01-08T17:02:54.380607Z",
     "iopub.status.idle": "2024-01-08T17:02:54.386373Z",
     "shell.execute_reply": "2024-01-08T17:02:54.385664Z",
     "shell.execute_reply.started": "2024-01-08T17:02:54.380803Z"
    }
   },
   "outputs": [
    {
     "name": "stdout",
     "output_type": "stream",
     "text": [
      "[0. 1. 2.]\n",
      "[2216 2216 2216]\n"
     ]
    }
   ],
   "source": [
    "# Usando np.unique para encontrar valores únicos y sus conteos\n",
    "valores_unicos, conteos = np.unique(y_train, return_counts=True)\n",
    "\n",
    "print(valores_unicos)  # Esto mostrará los valores únicos\n",
    "print(conteos) "
   ]
  },
  {
   "cell_type": "code",
   "execution_count": 5,
   "metadata": {
    "execution": {
     "iopub.execute_input": "2024-01-08T17:02:54.389837Z",
     "iopub.status.busy": "2024-01-08T17:02:54.389614Z",
     "iopub.status.idle": "2024-01-08T17:02:54.395897Z",
     "shell.execute_reply": "2024-01-08T17:02:54.395169Z",
     "shell.execute_reply.started": "2024-01-08T17:02:54.389799Z"
    }
   },
   "outputs": [
    {
     "name": "stdout",
     "output_type": "stream",
     "text": [
      "[0. 1. 2.]\n",
      "[950 950 950]\n"
     ]
    }
   ],
   "source": [
    "# Usando np.unique para encontrar valores únicos y sus conteos\n",
    "valores_unicos, conteos = np.unique(y_cv, return_counts=True)\n",
    "\n",
    "print(valores_unicos)  # Esto mostrará los valores únicos\n",
    "print(conteos) "
   ]
  },
  {
   "cell_type": "markdown",
   "metadata": {},
   "source": [
    "Se define una función para remodelar los datos como imágenes y luego aplica esta transformación a los conjuntos de entrenamiento, validación y prueba. Además, agrega una dimensión adicional para los canales de color, asumiendo un formato de imagen en color (3 canales). Finalmente, muestra las dimensiones finales de los conjuntos de datos."
   ]
  },
  {
   "cell_type": "code",
   "execution_count": 6,
   "metadata": {
    "execution": {
     "iopub.execute_input": "2024-01-08T17:02:54.39864Z",
     "iopub.status.busy": "2024-01-08T17:02:54.398409Z",
     "iopub.status.idle": "2024-01-08T17:02:54.488685Z",
     "shell.execute_reply": "2024-01-08T17:02:54.487908Z",
     "shell.execute_reply.started": "2024-01-08T17:02:54.398602Z"
    }
   },
   "outputs": [
    {
     "name": "stdout",
     "output_type": "stream",
     "text": [
      "final shape of x, y train/test (6648, 15, 15, 3) (6648,) (900, 15, 15, 3) (900,)\n"
     ]
    }
   ],
   "source": [
    "def reshape_as_image(x, img_width, img_height):\n",
    "    x_temp = np.zeros((len(x), img_height, img_width))\n",
    "    for i in range(x.shape[0]):\n",
    "        x_temp[i] = np.reshape(x[i], (img_height, img_width))\n",
    "\n",
    "    return x_temp\n",
    "\n",
    "num_features = 225\n",
    "dim = int(np.sqrt(num_features))\n",
    "x_train = reshape_as_image(x_train, dim, dim)\n",
    "x_cv = reshape_as_image(x_cv, dim, dim)\n",
    "x_test = reshape_as_image(x_test, dim, dim)\n",
    "# adding a 1-dim for channels (3)\n",
    "x_train = np.stack((x_train,) * 3, axis=-1)\n",
    "x_test = np.stack((x_test,) * 3, axis=-1)\n",
    "x_cv = np.stack((x_cv,) * 3, axis=-1)\n",
    "print(\"final shape of x, y train/test {} {} {} {}\".format(x_train.shape, y_train.shape, x_test.shape, y_test.shape))"
   ]
  },
  {
   "cell_type": "markdown",
   "metadata": {},
   "source": [
    "Se utiliza Matplotlib para visualizar imágenes aleatorias del conjunto de entrenamiento. Se configura un grid de 3x3 para mostrar 9 imágenes. Cada imagen se selecciona aleatoriamente, se muestra sin ejes y se etiqueta con su índice y clase correspondiente."
   ]
  },
  {
   "cell_type": "code",
   "execution_count": 7,
   "metadata": {
    "execution": {
     "iopub.execute_input": "2024-01-08T17:02:54.49021Z",
     "iopub.status.busy": "2024-01-08T17:02:54.489955Z",
     "iopub.status.idle": "2024-01-08T17:02:55.386961Z",
     "shell.execute_reply": "2024-01-08T17:02:55.386245Z",
     "shell.execute_reply.started": "2024-01-08T17:02:54.49017Z"
    }
   },
   "outputs": [
    {
     "data": {
      "image/png": "[encoded data removed]",
      "text/plain": [
       "<Figure size 1080x1080 with 9 Axes>"
      ]
     },
     "metadata": {
      "needs_background": "light"
     },
     "output_type": "display_data"
    }
   ],
   "source": [
    "from matplotlib import pyplot as plt\n",
    "%matplotlib inline\n",
    "\n",
    "fig = plt.figure(figsize=(15, 15))\n",
    "columns = rows = 3\n",
    "for i in range(1, columns*rows +1):\n",
    "    index = np.random.randint(len(x_train))\n",
    "    img = x_train[index]\n",
    "    fig.add_subplot(rows, columns, i)\n",
    "    plt.axis(\"off\")\n",
    "    plt.title('image_'+str(index)+'_class_'+str(np.argmax(y_train[index])), fontsize=10)\n",
    "    plt.subplots_adjust(wspace=0.2, hspace=0.2)\n",
    "    plt.imshow(img)\n",
    "plt.show()"
   ]
  },
  {
   "cell_type": "markdown",
   "metadata": {},
   "source": [
    "Se define la función \"f1_metric\" que es una métrica de F1 score general y se integra en el entorno de Keras para su uso en modelos de TensorFlow."
   ]
  },
  {
   "cell_type": "code",
   "execution_count": 8,
   "metadata": {
    "execution": {
     "iopub.execute_input": "2024-01-08T17:02:55.388537Z",
     "iopub.status.busy": "2024-01-08T17:02:55.388289Z",
     "iopub.status.idle": "2024-01-08T17:02:59.860388Z",
     "shell.execute_reply": "2024-01-08T17:02:59.859661Z",
     "shell.execute_reply.started": "2024-01-08T17:02:55.38848Z"
    }
   },
   "outputs": [],
   "source": [
    "from sklearn.utils.class_weight import compute_class_weight\n",
    "import tensorflow as tf\n",
    "from tensorflow.keras import backend as K\n",
    "from tensorflow.keras.utils import get_custom_objects\n",
    "\n",
    "def f1_metric(y_true, y_pred):\n",
    "\n",
    "    def recall(y_true, y_pred):\n",
    "        true_positives = K.sum(K.round(K.clip(y_true * y_pred, 0, 1)))  # mistake: y_pred of 0.3 is also considered 1\n",
    "        possible_positives = K.sum(K.round(K.clip(y_true, 0, 1)))\n",
    "        recall = true_positives / (possible_positives + K.epsilon())\n",
    "        return recall\n",
    "\n",
    "    def precision(y_true, y_pred):\n",
    "        true_positives = K.sum(K.round(K.clip(y_true * y_pred, 0, 1)))\n",
    "        predicted_positives = K.sum(K.round(K.clip(y_pred, 0, 1)))\n",
    "        precision = true_positives / (predicted_positives + K.epsilon())\n",
    "        return precision\n",
    "\n",
    "    precision = precision(y_true, y_pred)\n",
    "    recall = recall(y_true, y_pred)\n",
    "\n",
    "    return 2 * ((precision * recall) / (precision + recall + K.epsilon()))\n",
    "\n",
    "get_custom_objects().update({\"f1_metric\": f1_metric})"
   ]
  },
  {
   "cell_type": "markdown",
   "metadata": {},
   "source": [
    "Se aplica codificación one-hot a las etiquetas de los conjuntos de entrenamiento, validación y prueba, transformándolas en formatos compatibles con modelos de clasificación multiclase, y muestra las dimensiones resultantes para cada conjunto."
   ]
  },
  {
   "cell_type": "code",
   "execution_count": 9,
   "metadata": {
    "execution": {
     "iopub.execute_input": "2024-01-08T17:02:59.861736Z",
     "iopub.status.busy": "2024-01-08T17:02:59.861516Z",
     "iopub.status.idle": "2024-01-08T17:02:59.881914Z",
     "shell.execute_reply": "2024-01-08T17:02:59.880986Z",
     "shell.execute_reply.started": "2024-01-08T17:02:59.861698Z"
    }
   },
   "outputs": [
    {
     "name": "stdout",
     "output_type": "stream",
     "text": [
      "y_train (6648, 3)\n",
      "y_cv (2850, 3)\n",
      "y_test (900, 3)\n"
     ]
    }
   ],
   "source": [
    "from sklearn.preprocessing import OneHotEncoder\n",
    "\n",
    "one_hot_enc = OneHotEncoder(sparse=False, categories='auto')  \n",
    "y_train = one_hot_enc.fit_transform(y_train.reshape(-1, 1))\n",
    "print(\"y_train\",y_train.shape)\n",
    "y_cv = one_hot_enc.transform(y_cv.reshape(-1, 1))\n",
    "y_test = one_hot_enc.transform(y_test.reshape(-1, 1))\n",
    "print(\"y_cv\",y_cv.shape)\n",
    "print(\"y_test\",y_test.shape)"
   ]
  },
  {
   "cell_type": "markdown",
   "metadata": {},
   "source": [
    "Se importa diversas clases y funciones de TensorFlow y Keras necesarias para construir y entrenar una red neuronal convolucional (CNN). Incluye componentes para el modelo (como capas y regularizadores), callbacks para el entrenamiento, optimizadores, y métricas de evaluación como F1 y AUC."
   ]
  },
  {
   "cell_type": "code",
   "execution_count": 10,
   "metadata": {
    "execution": {
     "iopub.execute_input": "2024-01-08T17:02:59.88362Z",
     "iopub.status.busy": "2024-01-08T17:02:59.883282Z",
     "iopub.status.idle": "2024-01-08T17:02:59.894256Z",
     "shell.execute_reply": "2024-01-08T17:02:59.893568Z",
     "shell.execute_reply.started": "2024-01-08T17:02:59.883574Z"
    }
   },
   "outputs": [],
   "source": [
    "from tensorflow.keras.models import Sequential, load_model, Model\n",
    "from tensorflow.keras.layers import Dense, Dropout, Flatten, Conv2D, MaxPooling2D, LeakyReLU\n",
    "from tensorflow.keras.callbacks import ModelCheckpoint, EarlyStopping, ReduceLROnPlateau, CSVLogger, Callback\n",
    "from tensorflow.keras import optimizers, regularizers\n",
    "from tensorflow.keras.regularizers import l2, l1, l1_l2\n",
    "from tensorflow.keras.initializers import RandomUniform, RandomNormal\n",
    "import tensorflow as tf\n",
    "from functools import *\n",
    "from sklearn.metrics import f1_score\n",
    "from tensorflow.keras.metrics import AUC\n",
    "\n"
   ]
  },
  {
   "cell_type": "markdown",
   "metadata": {},
   "source": [
    "Se define una función make_model para construir un modelo de red neuronal convolucional. La función make_model crea un modelo secuencial con capas convolucionales, de pooling, dropout y densas, y devuelve este modelo. Finalmente, se instancia un modelo utilizando esta función."
   ]
  },
  {
   "cell_type": "code",
   "execution_count": 11,
   "metadata": {
    "execution": {
     "iopub.execute_input": "2024-01-08T17:02:59.896087Z",
     "iopub.status.busy": "2024-01-08T17:02:59.895721Z",
     "iopub.status.idle": "2024-01-08T17:03:02.584511Z",
     "shell.execute_reply": "2024-01-08T17:03:02.583871Z",
     "shell.execute_reply.started": "2024-01-08T17:02:59.896015Z"
    }
   },
   "outputs": [],
   "source": [
    "def make_model(filter1=16, act1='relu', filter2=32, act2='relu', do1=.25, do2=.5, dense=32):\n",
    "    input_shape = (15, 15, 3)\n",
    "    cnn = Sequential([\n",
    "        Conv2D(filters=filter1,\n",
    "               kernel_size=3,\n",
    "               padding='same',\n",
    "               activation=act1,\n",
    "               input_shape=input_shape,\n",
    "               name='CONV1'),\n",
    "        Conv2D(filters=filter2,        \n",
    "               kernel_size=3,  \n",
    "               padding='same',\n",
    "               activation=act2,\n",
    "               name='CONV2'),\n",
    "        MaxPooling2D(pool_size=2, name='POOL2'),\n",
    "        Dropout(do1, name='DROP1'),\n",
    "        Flatten(name='FLAT1'),\n",
    "        Dense(dense, activation='relu', name='FC1'),\n",
    "        Dropout(do2, name='DROP2'),\n",
    "        Dense(3, activation='softmax', name='FC2')\n",
    "    ])\n",
    "    \n",
    "    return cnn\n",
    "\n",
    "model = make_model()"
   ]
  },
  {
   "cell_type": "markdown",
   "metadata": {},
   "source": [
    "Se configura callbacks para el entrenamiento del modelo:\n",
    "\n",
    "EarlyStopping detiene el entrenamiento si no hay mejora en la pérdida de validación.\n",
    "ReduceLROnPlateau reduce la tasa de aprendizaje si la pérdida de validación no mejora.\n",
    "ModelCheckpoint guarda el mejor modelo basado en la métrica de validación F1.\n",
    "También establece la ruta para guardar el mejor modelo."
   ]
  },
  {
   "cell_type": "code",
   "execution_count": 12,
   "metadata": {
    "execution": {
     "iopub.execute_input": "2024-01-08T17:03:02.586009Z",
     "iopub.status.busy": "2024-01-08T17:03:02.585743Z",
     "iopub.status.idle": "2024-01-08T17:03:02.593511Z",
     "shell.execute_reply": "2024-01-08T17:03:02.592527Z",
     "shell.execute_reply.started": "2024-01-08T17:03:02.585962Z"
    }
   },
   "outputs": [],
   "source": [
    "import os\n",
    "\n",
    "best_model_path = os.path.join('.', 'best_model_keras')\n",
    "es = EarlyStopping(monitor='val_loss', mode='min', verbose=1,\n",
    "                   patience=100, min_delta=0.0001)\n",
    "rlp = ReduceLROnPlateau(monitor='val_loss', factor=0.02, patience=20, verbose=1, mode='min',\n",
    "                        min_delta=0.001, cooldown=1, min_lr=0.0001)\n",
    "mcp = ModelCheckpoint(best_model_path, monitor='val_f1_metric', verbose=1,\n",
    "                      save_best_only=True, save_weights_only=False, mode='max', period=1)  "
   ]
  },
  {
   "cell_type": "markdown",
   "metadata": {},
   "source": [
    "Se compila el modelo configurando la función de pérdida como 'categorical_crossentropy' (adecuada para clasificación multiclase), el optimizador como 'adam' (un optimizador eficiente y popular), y las métricas para evaluar el modelo incluyen 'accuracy' y la métrica personalizada f1_metric."
   ]
  },
  {
   "cell_type": "code",
   "execution_count": 13,
   "metadata": {
    "execution": {
     "iopub.execute_input": "2024-01-08T17:03:02.595161Z",
     "iopub.status.busy": "2024-01-08T17:03:02.594877Z",
     "iopub.status.idle": "2024-01-08T17:03:02.667303Z",
     "shell.execute_reply": "2024-01-08T17:03:02.66663Z",
     "shell.execute_reply.started": "2024-01-08T17:03:02.595111Z"
    }
   },
   "outputs": [],
   "source": [
    "model.compile(loss='categorical_crossentropy', optimizer='adam', metrics=['accuracy', f1_metric])"
   ]
  },
  {
   "cell_type": "markdown",
   "metadata": {},
   "source": [
    "Se establecen los pesos calculados en los notebooks anteriores(Ensayo 1) para las clases del dataset."
   ]
  },
  {
   "cell_type": "code",
   "execution_count": 14,
   "metadata": {},
   "outputs": [],
   "source": [
    "class_weights = {\n",
    "    0: 0.37891095,  # Peso para la clase 0\n",
    "    1: 5.48801743,  # Peso para la clase 1\n",
    "    2: 5.59777778   # Peso para la clase 2\n",
    "}"
   ]
  },
  {
   "cell_type": "markdown",
   "metadata": {},
   "source": [
    "Se entrena el modelo utilizando el conjunto de entrenamiento con sus respectivos pesos de muestra. Se configura para un máximo de 3000 épocas, con un tamaño de lote de 32, y utilizando los datos de validación cruzada para la evaluación. Incluye los callbacks configurados previamente (ModelCheckpoint, ReduceLROnPlateau, EarlyStopping) y mide el tiempo de entrenamiento con el comando %%time."
   ]
  },
  {
   "cell_type": "code",
   "execution_count": 15,
   "metadata": {
    "execution": {
     "iopub.execute_input": "2024-01-08T17:03:02.668702Z",
     "iopub.status.busy": "2024-01-08T17:03:02.668477Z",
     "iopub.status.idle": "2024-01-08T17:03:21.347321Z",
     "shell.execute_reply": "2024-01-08T17:03:21.346556Z",
     "shell.execute_reply.started": "2024-01-08T17:03:02.668664Z"
    }
   },
   "outputs": [
    {
     "name": "stdout",
     "output_type": "stream",
     "text": [
      "Train on 6648 samples, validate on 2850 samples\n",
      "Epoch 1/3000\n",
      "6624/6648 [============================>.] - ETA: 0s - loss: 1.1585 - accuracy: 0.6327 - f1_metric: 0.6208\n",
      "Epoch 00001: val_f1_metric improved from -inf to 0.66165, saving model to ./best_model_keras\n",
      "6648/6648 [==============================] - 5s 775us/sample - loss: 1.1587 - accuracy: 0.6319 - f1_metric: 0.6199 - val_loss: 0.5951 - val_accuracy: 0.6670 - val_f1_metric: 0.6616\n",
      "Epoch 2/3000\n",
      "6208/6648 [===========================>..] - ETA: 0s - loss: 0.6276 - accuracy: 0.6733 - f1_metric: 0.6723\n",
      "Epoch 00002: val_f1_metric improved from 0.66165 to 0.66563, saving model to ./best_model_keras\n",
      "6648/6648 [==============================] - 2s 248us/sample - loss: 0.6278 - accuracy: 0.6742 - f1_metric: 0.6729 - val_loss: 0.5335 - val_accuracy: 0.6737 - val_f1_metric: 0.6656\n",
      "Epoch 3/3000\n",
      "6208/6648 [===========================>..] - ETA: 0s - loss: 0.6035 - accuracy: 0.6804 - f1_metric: 0.6783\n",
      "Epoch 00003: val_f1_metric improved from 0.66563 to 0.67119, saving model to ./best_model_keras\n",
      "6648/6648 [==============================] - 2s 251us/sample - loss: 0.6004 - accuracy: 0.6828 - f1_metric: 0.6799 - val_loss: 0.5509 - val_accuracy: 0.6828 - val_f1_metric: 0.6712\n",
      "Epoch 4/3000\n",
      "6208/6648 [===========================>..] - ETA: 0s - loss: 0.5387 - accuracy: 0.6956 - f1_metric: 0.6923\n",
      "Epoch 00004: val_f1_metric improved from 0.67119 to 0.69841, saving model to ./best_model_keras\n",
      "6648/6648 [==============================] - 2s 265us/sample - loss: 0.5350 - accuracy: 0.6957 - f1_metric: 0.6930 - val_loss: 0.5122 - val_accuracy: 0.7070 - val_f1_metric: 0.6984\n",
      "Epoch 5/3000\n",
      "6176/6648 [==========================>...] - ETA: 0s - loss: 0.5354 - accuracy: 0.7016 - f1_metric: 0.6988\n",
      "Epoch 00005: val_f1_metric improved from 0.69841 to 0.70408, saving model to ./best_model_keras\n",
      "6648/6648 [==============================] - 2s 245us/sample - loss: 0.5321 - accuracy: 0.7029 - f1_metric: 0.7004 - val_loss: 0.5138 - val_accuracy: 0.7116 - val_f1_metric: 0.7041\n",
      "Epoch 6/3000\n",
      "6144/6648 [==========================>...] - ETA: 0s - loss: 0.5021 - accuracy: 0.7173 - f1_metric: 0.7166\n",
      "Epoch 00006: val_f1_metric did not improve from 0.70408\n",
      "6648/6648 [==============================] - 1s 137us/sample - loss: 0.5030 - accuracy: 0.7171 - f1_metric: 0.7164 - val_loss: 0.5221 - val_accuracy: 0.6996 - val_f1_metric: 0.6922\n",
      "Epoch 7/3000\n",
      "6176/6648 [==========================>...] - ETA: 0s - loss: 0.5000 - accuracy: 0.7194 - f1_metric: 0.7179\n",
      "Epoch 00007: val_f1_metric improved from 0.70408 to 0.71645, saving model to ./best_model_keras\n",
      "6648/6648 [==============================] - 2s 244us/sample - loss: 0.4999 - accuracy: 0.7192 - f1_metric: 0.7176 - val_loss: 0.4984 - val_accuracy: 0.7242 - val_f1_metric: 0.7165\n",
      "Epoch 8/3000\n",
      "6208/6648 [===========================>..] - ETA: 0s - loss: 0.4835 - accuracy: 0.7247 - f1_metric: 0.7242\n",
      "Epoch 00008: val_f1_metric improved from 0.71645 to 0.72187, saving model to ./best_model_keras\n",
      "6648/6648 [==============================] - 2s 245us/sample - loss: 0.4791 - accuracy: 0.7285 - f1_metric: 0.7279 - val_loss: 0.5483 - val_accuracy: 0.7295 - val_f1_metric: 0.7219\n",
      "Epoch 9/3000\n",
      "6400/6648 [===========================>..] - ETA: 0s - loss: 0.4643 - accuracy: 0.7361 - f1_metric: 0.7358\n",
      "Epoch 00009: val_f1_metric did not improve from 0.72187\n",
      "6648/6648 [==============================] - 1s 141us/sample - loss: 0.4643 - accuracy: 0.7374 - f1_metric: 0.7371 - val_loss: 0.5227 - val_accuracy: 0.7221 - val_f1_metric: 0.7146\n",
      "Epoch 10/3000\n",
      "6240/6648 [===========================>..] - ETA: 0s - loss: 0.4785 - accuracy: 0.7287 - f1_metric: 0.7282\n",
      "Epoch 00010: val_f1_metric improved from 0.72187 to 0.72257, saving model to ./best_model_keras\n",
      "6648/6648 [==============================] - 2s 259us/sample - loss: 0.4766 - accuracy: 0.7291 - f1_metric: 0.7286 - val_loss: 0.5079 - val_accuracy: 0.7302 - val_f1_metric: 0.7226\n",
      "Epoch 11/3000\n",
      "6176/6648 [==========================>...] - ETA: 0s - loss: 0.4494 - accuracy: 0.7443 - f1_metric: 0.7442\n",
      "Epoch 00011: val_f1_metric improved from 0.72257 to 0.72917, saving model to ./best_model_keras\n",
      "6648/6648 [==============================] - 2s 244us/sample - loss: 0.4483 - accuracy: 0.7450 - f1_metric: 0.7451 - val_loss: 0.5870 - val_accuracy: 0.7368 - val_f1_metric: 0.7292\n",
      "Epoch 12/3000\n",
      "6176/6648 [==========================>...] - ETA: 0s - loss: 0.4390 - accuracy: 0.7492 - f1_metric: 0.7494\n",
      "Epoch 00012: val_f1_metric improved from 0.72917 to 0.73229, saving model to ./best_model_keras\n",
      "6648/6648 [==============================] - 2s 243us/sample - loss: 0.4411 - accuracy: 0.7477 - f1_metric: 0.7481 - val_loss: 0.5134 - val_accuracy: 0.7400 - val_f1_metric: 0.7323\n",
      "Epoch 13/3000\n",
      "6176/6648 [==========================>...] - ETA: 0s - loss: 0.4333 - accuracy: 0.7557 - f1_metric: 0.7554\n",
      "Epoch 00013: val_f1_metric improved from 0.73229 to 0.73958, saving model to ./best_model_keras\n",
      "6648/6648 [==============================] - 2s 252us/sample - loss: 0.4322 - accuracy: 0.7553 - f1_metric: 0.7550 - val_loss: 0.5008 - val_accuracy: 0.7474 - val_f1_metric: 0.7396\n",
      "Epoch 14/3000\n",
      "6272/6648 [===========================>..] - ETA: 0s - loss: 0.4331 - accuracy: 0.7537 - f1_metric: 0.7539\n",
      "Epoch 00014: val_f1_metric improved from 0.73958 to 0.74340, saving model to ./best_model_keras\n",
      "6648/6648 [==============================] - 2s 252us/sample - loss: 0.4297 - accuracy: 0.7559 - f1_metric: 0.7561 - val_loss: 0.5290 - val_accuracy: 0.7512 - val_f1_metric: 0.7434\n",
      "Epoch 15/3000\n",
      "6336/6648 [===========================>..] - ETA: 0s - loss: 0.4389 - accuracy: 0.7478 - f1_metric: 0.7475\n",
      "Epoch 00015: val_f1_metric did not improve from 0.74340\n",
      "6648/6648 [==============================] - 1s 134us/sample - loss: 0.4380 - accuracy: 0.7486 - f1_metric: 0.7482 - val_loss: 0.5291 - val_accuracy: 0.7400 - val_f1_metric: 0.7323\n",
      "Epoch 16/3000\n",
      "6368/6648 [===========================>..] - ETA: 0s - loss: 0.4099 - accuracy: 0.7655 - f1_metric: 0.7655\n",
      "Epoch 00016: val_f1_metric did not improve from 0.74340\n",
      "6648/6648 [==============================] - 1s 140us/sample - loss: 0.4108 - accuracy: 0.7650 - f1_metric: 0.7650 - val_loss: 0.5794 - val_accuracy: 0.7470 - val_f1_metric: 0.7392\n",
      "Epoch 17/3000\n",
      "6208/6648 [===========================>..] - ETA: 0s - loss: 0.4232 - accuracy: 0.7592 - f1_metric: 0.7589\n",
      "Epoch 00017: val_f1_metric did not improve from 0.74340\n",
      "6648/6648 [==============================] - 1s 135us/sample - loss: 0.4240 - accuracy: 0.7575 - f1_metric: 0.7572 - val_loss: 0.5568 - val_accuracy: 0.7386 - val_f1_metric: 0.7309\n",
      "Epoch 18/3000\n",
      "6208/6648 [===========================>..] - ETA: 0s - loss: 0.4129 - accuracy: 0.7621 - f1_metric: 0.7621\n",
      "Epoch 00018: val_f1_metric did not improve from 0.74340\n",
      "6648/6648 [==============================] - 1s 134us/sample - loss: 0.4099 - accuracy: 0.7637 - f1_metric: 0.7637 - val_loss: 0.6336 - val_accuracy: 0.7407 - val_f1_metric: 0.7330\n",
      "Epoch 19/3000\n",
      "6208/6648 [===========================>..] - ETA: 0s - loss: 0.3973 - accuracy: 0.7755 - f1_metric: 0.7755\n",
      "Epoch 00019: val_f1_metric did not improve from 0.74340\n",
      "6648/6648 [==============================] - 1s 134us/sample - loss: 0.3976 - accuracy: 0.7744 - f1_metric: 0.7746 - val_loss: 0.5031 - val_accuracy: 0.7509 - val_f1_metric: 0.7431\n",
      "Epoch 20/3000\n",
      "6176/6648 [==========================>...] - ETA: 0s - loss: 0.3954 - accuracy: 0.7790 - f1_metric: 0.7789\n",
      "Epoch 00020: val_f1_metric improved from 0.74340 to 0.74583, saving model to ./best_model_keras\n",
      "6648/6648 [==============================] - 2s 243us/sample - loss: 0.3970 - accuracy: 0.7768 - f1_metric: 0.7766 - val_loss: 0.5560 - val_accuracy: 0.7537 - val_f1_metric: 0.7458\n",
      "Epoch 21/3000\n",
      "6208/6648 [===========================>..] - ETA: 0s - loss: 0.4013 - accuracy: 0.7709 - f1_metric: 0.7710\n",
      "Epoch 00021: val_f1_metric did not improve from 0.74583\n",
      "6648/6648 [==============================] - 1s 135us/sample - loss: 0.3983 - accuracy: 0.7724 - f1_metric: 0.7725 - val_loss: 0.5380 - val_accuracy: 0.7316 - val_f1_metric: 0.7240\n",
      "Epoch 22/3000\n",
      "6272/6648 [===========================>..] - ETA: 0s - loss: 0.4054 - accuracy: 0.7616 - f1_metric: 0.7618\n",
      "Epoch 00022: val_f1_metric improved from 0.74583 to 0.74826, saving model to ./best_model_keras\n",
      "6648/6648 [==============================] - 2s 257us/sample - loss: 0.4034 - accuracy: 0.7632 - f1_metric: 0.7635 - val_loss: 0.5640 - val_accuracy: 0.7561 - val_f1_metric: 0.7483\n",
      "Epoch 23/3000\n",
      "6144/6648 [==========================>...] - ETA: 0s - loss: 0.3866 - accuracy: 0.7746 - f1_metric: 0.7747\n",
      "Epoch 00023: val_f1_metric improved from 0.74826 to 0.75903, saving model to ./best_model_keras\n",
      "6648/6648 [==============================] - 2s 245us/sample - loss: 0.3868 - accuracy: 0.7739 - f1_metric: 0.7741 - val_loss: 0.7192 - val_accuracy: 0.7670 - val_f1_metric: 0.7590\n",
      "Epoch 24/3000\n",
      "6528/6648 [============================>.] - ETA: 0s - loss: 0.4005 - accuracy: 0.7679 - f1_metric: 0.7679\n",
      "Epoch 00024: val_f1_metric did not improve from 0.75903\n",
      "6648/6648 [==============================] - 1s 143us/sample - loss: 0.3997 - accuracy: 0.7685 - f1_metric: 0.7685 - val_loss: 0.5646 - val_accuracy: 0.7456 - val_f1_metric: 0.7378\n",
      "Epoch 25/3000\n",
      "6208/6648 [===========================>..] - ETA: 0s - loss: 0.3767 - accuracy: 0.7792 - f1_metric: 0.7789\n",
      "Epoch 00025: val_f1_metric did not improve from 0.75903\n",
      "6648/6648 [==============================] - 1s 135us/sample - loss: 0.3777 - accuracy: 0.7799 - f1_metric: 0.7796 - val_loss: 0.6890 - val_accuracy: 0.7604 - val_f1_metric: 0.7524\n",
      "Epoch 26/3000\n",
      "6368/6648 [===========================>..] - ETA: 0s - loss: 0.3908 - accuracy: 0.7794 - f1_metric: 0.7796\n",
      "Epoch 00026: val_f1_metric did not improve from 0.75903\n",
      "6648/6648 [==============================] - 1s 135us/sample - loss: 0.3914 - accuracy: 0.7780 - f1_metric: 0.7781 - val_loss: 0.5286 - val_accuracy: 0.7498 - val_f1_metric: 0.7420\n",
      "Epoch 27/3000\n",
      "6432/6648 [============================>.] - ETA: 0s - loss: 0.3993 - accuracy: 0.7659 - f1_metric: 0.7657\n",
      "Epoch 00027: val_f1_metric did not improve from 0.75903\n",
      "\n",
      "Epoch 00027: ReduceLROnPlateau reducing learning rate to 0.0001.\n",
      "6648/6648 [==============================] - 1s 132us/sample - loss: 0.3969 - accuracy: 0.7682 - f1_metric: 0.7681 - val_loss: 0.6746 - val_accuracy: 0.7618 - val_f1_metric: 0.7538\n",
      "Epoch 28/3000\n",
      "6432/6648 [============================>.] - ETA: 0s - loss: 0.3582 - accuracy: 0.7923 - f1_metric: 0.7926\n",
      "Epoch 00028: val_f1_metric improved from 0.75903 to 0.76181, saving model to ./best_model_keras\n",
      "6648/6648 [==============================] - 2s 240us/sample - loss: 0.3579 - accuracy: 0.7929 - f1_metric: 0.7933 - val_loss: 0.7129 - val_accuracy: 0.7698 - val_f1_metric: 0.7618\n",
      "Epoch 29/3000\n",
      "6464/6648 [============================>.] - ETA: 0s - loss: 0.3523 - accuracy: 0.7973 - f1_metric: 0.7974\n",
      "Epoch 00029: val_f1_metric did not improve from 0.76181\n",
      "6648/6648 [==============================] - 1s 132us/sample - loss: 0.3535 - accuracy: 0.7968 - f1_metric: 0.7969 - val_loss: 0.6978 - val_accuracy: 0.7667 - val_f1_metric: 0.7587\n",
      "Epoch 30/3000\n",
      "6432/6648 [============================>.] - ETA: 0s - loss: 0.3417 - accuracy: 0.8018 - f1_metric: 0.8017\n",
      "Epoch 00030: val_f1_metric did not improve from 0.76181\n",
      "6648/6648 [==============================] - 1s 132us/sample - loss: 0.3431 - accuracy: 0.8005 - f1_metric: 0.8003 - val_loss: 0.7556 - val_accuracy: 0.7663 - val_f1_metric: 0.7583\n",
      "Epoch 31/3000\n",
      "6496/6648 [============================>.] - ETA: 0s - loss: 0.3471 - accuracy: 0.8045 - f1_metric: 0.8045\n",
      "Epoch 00031: val_f1_metric did not improve from 0.76181\n",
      "6648/6648 [==============================] - 1s 131us/sample - loss: 0.3478 - accuracy: 0.8040 - f1_metric: 0.8038 - val_loss: 0.8540 - val_accuracy: 0.7628 - val_f1_metric: 0.7549\n",
      "Epoch 32/3000\n",
      "6368/6648 [===========================>..] - ETA: 0s - loss: 0.3387 - accuracy: 0.8075 - f1_metric: 0.8075\n",
      "Epoch 00032: val_f1_metric did not improve from 0.76181\n",
      "6648/6648 [==============================] - 1s 131us/sample - loss: 0.3393 - accuracy: 0.8067 - f1_metric: 0.8070 - val_loss: 0.8367 - val_accuracy: 0.7677 - val_f1_metric: 0.7597\n",
      "Epoch 33/3000\n",
      "6528/6648 [============================>.] - ETA: 0s - loss: 0.3430 - accuracy: 0.8061 - f1_metric: 0.8060\n",
      "Epoch 00033: val_f1_metric did not improve from 0.76181\n",
      "6648/6648 [==============================] - 1s 130us/sample - loss: 0.3430 - accuracy: 0.8058 - f1_metric: 0.8057 - val_loss: 0.8601 - val_accuracy: 0.7646 - val_f1_metric: 0.7566\n",
      "Epoch 34/3000\n",
      "6368/6648 [===========================>..] - ETA: 0s - loss: 0.3357 - accuracy: 0.8097 - f1_metric: 0.8095\n",
      "Epoch 00034: val_f1_metric did not improve from 0.76181\n",
      "6648/6648 [==============================] - 1s 132us/sample - loss: 0.3348 - accuracy: 0.8097 - f1_metric: 0.8097 - val_loss: 0.9782 - val_accuracy: 0.7642 - val_f1_metric: 0.7562\n",
      "Epoch 35/3000\n",
      "6112/6648 [==========================>...] - ETA: 0s - loss: 0.3359 - accuracy: 0.8102 - f1_metric: 0.8102\n",
      "Epoch 00035: val_f1_metric did not improve from 0.76181\n",
      "6648/6648 [==============================] - 1s 136us/sample - loss: 0.3395 - accuracy: 0.8079 - f1_metric: 0.8079 - val_loss: 0.8669 - val_accuracy: 0.7681 - val_f1_metric: 0.7601\n",
      "Epoch 36/3000\n",
      "6272/6648 [===========================>..] - ETA: 0s - loss: 0.3360 - accuracy: 0.8087 - f1_metric: 0.8088\n",
      "Epoch 00036: val_f1_metric did not improve from 0.76181\n",
      "6648/6648 [==============================] - 1s 135us/sample - loss: 0.3345 - accuracy: 0.8097 - f1_metric: 0.8100 - val_loss: 0.9821 - val_accuracy: 0.7632 - val_f1_metric: 0.7552\n",
      "Epoch 37/3000\n",
      "6208/6648 [===========================>..] - ETA: 0s - loss: 0.3417 - accuracy: 0.8061 - f1_metric: 0.8062\n",
      "Epoch 00037: val_f1_metric did not improve from 0.76181\n",
      "6648/6648 [==============================] - 1s 135us/sample - loss: 0.3388 - accuracy: 0.8084 - f1_metric: 0.8085 - val_loss: 1.0698 - val_accuracy: 0.7649 - val_f1_metric: 0.7569\n",
      "Epoch 38/3000\n",
      "6208/6648 [===========================>..] - ETA: 0s - loss: 0.3326 - accuracy: 0.8115 - f1_metric: 0.8113\n",
      "Epoch 00038: val_f1_metric did not improve from 0.76181\n",
      "6648/6648 [==============================] - 1s 135us/sample - loss: 0.3341 - accuracy: 0.8118 - f1_metric: 0.8117 - val_loss: 0.9218 - val_accuracy: 0.7688 - val_f1_metric: 0.7608\n",
      "Epoch 39/3000\n",
      "6272/6648 [===========================>..] - ETA: 0s - loss: 0.3333 - accuracy: 0.8088 - f1_metric: 0.8089\n",
      "Epoch 00039: val_f1_metric did not improve from 0.76181\n",
      "6648/6648 [==============================] - 1s 134us/sample - loss: 0.3338 - accuracy: 0.8090 - f1_metric: 0.8090 - val_loss: 0.9154 - val_accuracy: 0.7656 - val_f1_metric: 0.7576\n",
      "Epoch 40/3000\n",
      "6304/6648 [===========================>..] - ETA: 0s - loss: 0.3277 - accuracy: 0.8138 - f1_metric: 0.8138\n",
      "Epoch 00040: val_f1_metric did not improve from 0.76181\n",
      "6648/6648 [==============================] - 1s 134us/sample - loss: 0.3268 - accuracy: 0.8144 - f1_metric: 0.8144 - val_loss: 1.0284 - val_accuracy: 0.7681 - val_f1_metric: 0.7601\n",
      "Epoch 41/3000\n",
      "6176/6648 [==========================>...] - ETA: 0s - loss: 0.3259 - accuracy: 0.8156 - f1_metric: 0.8156\n",
      "Epoch 00041: val_f1_metric did not improve from 0.76181\n",
      "6648/6648 [==============================] - 1s 135us/sample - loss: 0.3260 - accuracy: 0.8166 - f1_metric: 0.8165 - val_loss: 1.0078 - val_accuracy: 0.7656 - val_f1_metric: 0.7576\n",
      "Epoch 42/3000\n",
      "6208/6648 [===========================>..] - ETA: 0s - loss: 0.3279 - accuracy: 0.8133 - f1_metric: 0.8132\n",
      "Epoch 00042: val_f1_metric did not improve from 0.76181\n",
      "6648/6648 [==============================] - 1s 135us/sample - loss: 0.3264 - accuracy: 0.8142 - f1_metric: 0.8143 - val_loss: 0.9886 - val_accuracy: 0.7660 - val_f1_metric: 0.7580\n",
      "Epoch 43/3000\n",
      "6176/6648 [==========================>...] - ETA: 0s - loss: 0.3310 - accuracy: 0.8125 - f1_metric: 0.8125\n",
      "Epoch 00043: val_f1_metric did not improve from 0.76181\n",
      "6648/6648 [==============================] - 1s 134us/sample - loss: 0.3302 - accuracy: 0.8132 - f1_metric: 0.8131 - val_loss: 1.0622 - val_accuracy: 0.7611 - val_f1_metric: 0.7531\n",
      "Epoch 44/3000\n",
      "6208/6648 [===========================>..] - ETA: 0s - loss: 0.3274 - accuracy: 0.8167 - f1_metric: 0.8167\n",
      "Epoch 00044: val_f1_metric did not improve from 0.76181\n",
      "6648/6648 [==============================] - 1s 156us/sample - loss: 0.3284 - accuracy: 0.8172 - f1_metric: 0.8173 - val_loss: 1.1631 - val_accuracy: 0.7628 - val_f1_metric: 0.7549\n",
      "Epoch 45/3000\n",
      "6368/6648 [===========================>..] - ETA: 0s - loss: 0.3290 - accuracy: 0.8112 - f1_metric: 0.8112\n",
      "Epoch 00045: val_f1_metric did not improve from 0.76181\n",
      "6648/6648 [==============================] - 1s 140us/sample - loss: 0.3268 - accuracy: 0.8118 - f1_metric: 0.8118 - val_loss: 1.1232 - val_accuracy: 0.7667 - val_f1_metric: 0.7587\n",
      "Epoch 46/3000\n",
      "6304/6648 [===========================>..] - ETA: 0s - loss: 0.3269 - accuracy: 0.8185 - f1_metric: 0.8187\n",
      "Epoch 00046: val_f1_metric did not improve from 0.76181\n",
      "6648/6648 [==============================] - 1s 139us/sample - loss: 0.3273 - accuracy: 0.8177 - f1_metric: 0.8177 - val_loss: 1.1292 - val_accuracy: 0.7614 - val_f1_metric: 0.7535\n",
      "Epoch 47/3000\n",
      "6144/6648 [==========================>...] - ETA: 0s - loss: 0.3210 - accuracy: 0.8177 - f1_metric: 0.8179\n",
      "Epoch 00047: val_f1_metric did not improve from 0.76181\n",
      "6648/6648 [==============================] - 1s 135us/sample - loss: 0.3254 - accuracy: 0.8148 - f1_metric: 0.8150 - val_loss: 1.0591 - val_accuracy: 0.7618 - val_f1_metric: 0.7538\n",
      "Epoch 48/3000\n",
      "6624/6648 [============================>.] - ETA: 0s - loss: 0.3238 - accuracy: 0.8155 - f1_metric: 0.8154\n",
      "Epoch 00048: val_f1_metric did not improve from 0.76181\n",
      "6648/6648 [==============================] - 1s 136us/sample - loss: 0.3244 - accuracy: 0.8145 - f1_metric: 0.8141 - val_loss: 1.1345 - val_accuracy: 0.7663 - val_f1_metric: 0.7583\n",
      "Epoch 49/3000\n",
      "6208/6648 [===========================>..] - ETA: 0s - loss: 0.3258 - accuracy: 0.8146 - f1_metric: 0.8145\n",
      "Epoch 00049: val_f1_metric did not improve from 0.76181\n",
      "6648/6648 [==============================] - 1s 134us/sample - loss: 0.3265 - accuracy: 0.8142 - f1_metric: 0.8142 - val_loss: 1.0802 - val_accuracy: 0.7667 - val_f1_metric: 0.7587\n",
      "Epoch 50/3000\n",
      "6176/6648 [==========================>...] - ETA: 0s - loss: 0.3345 - accuracy: 0.8110 - f1_metric: 0.8109\n",
      "Epoch 00050: val_f1_metric did not improve from 0.76181\n",
      "6648/6648 [==============================] - 1s 134us/sample - loss: 0.3315 - accuracy: 0.8127 - f1_metric: 0.8126 - val_loss: 1.1467 - val_accuracy: 0.7635 - val_f1_metric: 0.7556\n",
      "Epoch 51/3000\n",
      "6176/6648 [==========================>...] - ETA: 0s - loss: 0.3333 - accuracy: 0.8107 - f1_metric: 0.8107\n",
      "Epoch 00051: val_f1_metric did not improve from 0.76181\n",
      "6648/6648 [==============================] - 1s 134us/sample - loss: 0.3273 - accuracy: 0.8142 - f1_metric: 0.8142 - val_loss: 1.3247 - val_accuracy: 0.7649 - val_f1_metric: 0.7569\n",
      "Epoch 52/3000\n",
      "6272/6648 [===========================>..] - ETA: 0s - loss: 0.3209 - accuracy: 0.8178 - f1_metric: 0.8178\n",
      "Epoch 00052: val_f1_metric improved from 0.76181 to 0.76285, saving model to ./best_model_keras\n",
      "6648/6648 [==============================] - 2s 242us/sample - loss: 0.3216 - accuracy: 0.8172 - f1_metric: 0.8171 - val_loss: 1.1645 - val_accuracy: 0.7709 - val_f1_metric: 0.7628\n",
      "Epoch 53/3000\n",
      "6240/6648 [===========================>..] - ETA: 0s - loss: 0.3211 - accuracy: 0.8192 - f1_metric: 0.8193\n",
      "Epoch 00053: val_f1_metric did not improve from 0.76285\n",
      "6648/6648 [==============================] - 1s 135us/sample - loss: 0.3210 - accuracy: 0.8193 - f1_metric: 0.8193 - val_loss: 1.1179 - val_accuracy: 0.7684 - val_f1_metric: 0.7604\n",
      "Epoch 54/3000\n",
      "6496/6648 [============================>.] - ETA: 0s - loss: 0.3214 - accuracy: 0.8174 - f1_metric: 0.8174\n",
      "Epoch 00054: val_f1_metric did not improve from 0.76285\n",
      "6648/6648 [==============================] - 1s 138us/sample - loss: 0.3222 - accuracy: 0.8169 - f1_metric: 0.8170 - val_loss: 0.9915 - val_accuracy: 0.7684 - val_f1_metric: 0.7604\n",
      "Epoch 55/3000\n",
      "6176/6648 [==========================>...] - ETA: 0s - loss: 0.3173 - accuracy: 0.8221 - f1_metric: 0.8221\n",
      "Epoch 00055: val_f1_metric did not improve from 0.76285\n",
      "6648/6648 [==============================] - 1s 135us/sample - loss: 0.3199 - accuracy: 0.8218 - f1_metric: 0.8216 - val_loss: 1.1548 - val_accuracy: 0.7698 - val_f1_metric: 0.7618\n",
      "Epoch 56/3000\n",
      "6464/6648 [============================>.] - ETA: 0s - loss: 0.3161 - accuracy: 0.8201 - f1_metric: 0.8201\n",
      "Epoch 00056: val_f1_metric did not improve from 0.76285\n",
      "6648/6648 [==============================] - 1s 138us/sample - loss: 0.3163 - accuracy: 0.8198 - f1_metric: 0.8198 - val_loss: 1.2578 - val_accuracy: 0.7674 - val_f1_metric: 0.7594\n",
      "Epoch 57/3000\n",
      "6176/6648 [==========================>...] - ETA: 0s - loss: 0.3227 - accuracy: 0.8156 - f1_metric: 0.8156\n",
      "Epoch 00057: val_f1_metric did not improve from 0.76285\n",
      "6648/6648 [==============================] - 1s 134us/sample - loss: 0.3192 - accuracy: 0.8178 - f1_metric: 0.8176 - val_loss: 1.3127 - val_accuracy: 0.7670 - val_f1_metric: 0.7590\n",
      "Epoch 58/3000\n",
      "6560/6648 [============================>.] - ETA: 0s - loss: 0.3200 - accuracy: 0.8206 - f1_metric: 0.8205\n",
      "Epoch 00058: val_f1_metric did not improve from 0.76285\n",
      "6648/6648 [==============================] - 1s 138us/sample - loss: 0.3187 - accuracy: 0.8216 - f1_metric: 0.8218 - val_loss: 1.3004 - val_accuracy: 0.7632 - val_f1_metric: 0.7552\n",
      "Epoch 59/3000\n",
      "6176/6648 [==========================>...] - ETA: 0s - loss: 0.3162 - accuracy: 0.8212 - f1_metric: 0.8212\n",
      "Epoch 00059: val_f1_metric did not improve from 0.76285\n",
      "6648/6648 [==============================] - 1s 135us/sample - loss: 0.3200 - accuracy: 0.8175 - f1_metric: 0.8174 - val_loss: 1.3541 - val_accuracy: 0.7614 - val_f1_metric: 0.7535\n",
      "Epoch 60/3000\n",
      "6208/6648 [===========================>..] - ETA: 0s - loss: 0.3077 - accuracy: 0.8228 - f1_metric: 0.8228\n",
      "Epoch 00060: val_f1_metric did not improve from 0.76285\n",
      "6648/6648 [==============================] - 1s 134us/sample - loss: 0.3108 - accuracy: 0.8218 - f1_metric: 0.8218 - val_loss: 1.4734 - val_accuracy: 0.7565 - val_f1_metric: 0.7486\n",
      "Epoch 61/3000\n",
      "6240/6648 [===========================>..] - ETA: 0s - loss: 0.3191 - accuracy: 0.8200 - f1_metric: 0.8201\n",
      "Epoch 00061: val_f1_metric did not improve from 0.76285\n",
      "6648/6648 [==============================] - 1s 134us/sample - loss: 0.3198 - accuracy: 0.8187 - f1_metric: 0.8187 - val_loss: 1.3748 - val_accuracy: 0.7635 - val_f1_metric: 0.7556\n",
      "Epoch 62/3000\n",
      "6176/6648 [==========================>...] - ETA: 0s - loss: 0.3226 - accuracy: 0.8206 - f1_metric: 0.8207\n",
      "Epoch 00062: val_f1_metric did not improve from 0.76285\n",
      "6648/6648 [==============================] - 1s 134us/sample - loss: 0.3232 - accuracy: 0.8204 - f1_metric: 0.8205 - val_loss: 1.3276 - val_accuracy: 0.7639 - val_f1_metric: 0.7559\n",
      "Epoch 63/3000\n",
      "6208/6648 [===========================>..] - ETA: 0s - loss: 0.3152 - accuracy: 0.8214 - f1_metric: 0.8213\n",
      "Epoch 00063: val_f1_metric did not improve from 0.76285\n",
      "6648/6648 [==============================] - 1s 133us/sample - loss: 0.3138 - accuracy: 0.8225 - f1_metric: 0.8223 - val_loss: 1.1991 - val_accuracy: 0.7656 - val_f1_metric: 0.7576\n",
      "Epoch 64/3000\n",
      "6176/6648 [==========================>...] - ETA: 0s - loss: 0.3211 - accuracy: 0.8196 - f1_metric: 0.8197\n",
      "Epoch 00064: val_f1_metric did not improve from 0.76285\n",
      "6648/6648 [==============================] - 1s 134us/sample - loss: 0.3197 - accuracy: 0.8210 - f1_metric: 0.8211 - val_loss: 1.3060 - val_accuracy: 0.7649 - val_f1_metric: 0.7569\n",
      "Epoch 65/3000\n",
      "6240/6648 [===========================>..] - ETA: 0s - loss: 0.3208 - accuracy: 0.8167 - f1_metric: 0.8169\n",
      "Epoch 00065: val_f1_metric did not improve from 0.76285\n",
      "6648/6648 [==============================] - 1s 134us/sample - loss: 0.3185 - accuracy: 0.8178 - f1_metric: 0.8180 - val_loss: 1.2499 - val_accuracy: 0.7614 - val_f1_metric: 0.7535\n",
      "Epoch 66/3000\n",
      "6304/6648 [===========================>..] - ETA: 0s - loss: 0.3130 - accuracy: 0.8233 - f1_metric: 0.8233\n",
      "Epoch 00066: val_f1_metric did not improve from 0.76285\n",
      "6648/6648 [==============================] - 1s 134us/sample - loss: 0.3133 - accuracy: 0.8228 - f1_metric: 0.8229 - val_loss: 1.1154 - val_accuracy: 0.7684 - val_f1_metric: 0.7604\n",
      "Epoch 67/3000\n",
      "6400/6648 [===========================>..] - ETA: 0s - loss: 0.3045 - accuracy: 0.8241 - f1_metric: 0.8242\n",
      "Epoch 00067: val_f1_metric did not improve from 0.76285\n",
      "6648/6648 [==============================] - 1s 139us/sample - loss: 0.3054 - accuracy: 0.8231 - f1_metric: 0.8233 - val_loss: 1.3982 - val_accuracy: 0.7607 - val_f1_metric: 0.7528\n",
      "Epoch 68/3000\n",
      "6240/6648 [===========================>..] - ETA: 0s - loss: 0.3130 - accuracy: 0.8200 - f1_metric: 0.8200\n",
      "Epoch 00068: val_f1_metric did not improve from 0.76285\n",
      "6648/6648 [==============================] - 1s 134us/sample - loss: 0.3133 - accuracy: 0.8198 - f1_metric: 0.8199 - val_loss: 1.3908 - val_accuracy: 0.7586 - val_f1_metric: 0.7507\n",
      "Epoch 69/3000\n",
      "6272/6648 [===========================>..] - ETA: 0s - loss: 0.3179 - accuracy: 0.8232 - f1_metric: 0.8232\n",
      "Epoch 00069: val_f1_metric did not improve from 0.76285\n",
      "6648/6648 [==============================] - 1s 133us/sample - loss: 0.3172 - accuracy: 0.8236 - f1_metric: 0.8237 - val_loss: 1.3083 - val_accuracy: 0.7572 - val_f1_metric: 0.7493\n",
      "Epoch 70/3000\n",
      "6176/6648 [==========================>...] - ETA: 0s - loss: 0.3114 - accuracy: 0.8219 - f1_metric: 0.8219\n",
      "Epoch 00070: val_f1_metric did not improve from 0.76285\n",
      "6648/6648 [==============================] - 1s 134us/sample - loss: 0.3100 - accuracy: 0.8225 - f1_metric: 0.8225 - val_loss: 1.5022 - val_accuracy: 0.7593 - val_f1_metric: 0.7514\n",
      "Epoch 71/3000\n",
      "6176/6648 [==========================>...] - ETA: 0s - loss: 0.3100 - accuracy: 0.8233 - f1_metric: 0.8233\n",
      "Epoch 00071: val_f1_metric did not improve from 0.76285\n",
      "6648/6648 [==============================] - 1s 135us/sample - loss: 0.3080 - accuracy: 0.8248 - f1_metric: 0.8248 - val_loss: 1.4464 - val_accuracy: 0.7646 - val_f1_metric: 0.7566\n",
      "Epoch 72/3000\n",
      "6208/6648 [===========================>..] - ETA: 0s - loss: 0.3050 - accuracy: 0.8233 - f1_metric: 0.8233\n",
      "Epoch 00072: val_f1_metric did not improve from 0.76285\n",
      "6648/6648 [==============================] - 1s 134us/sample - loss: 0.3073 - accuracy: 0.8227 - f1_metric: 0.8227 - val_loss: 1.4551 - val_accuracy: 0.7554 - val_f1_metric: 0.7476\n",
      "Epoch 73/3000\n",
      "6208/6648 [===========================>..] - ETA: 0s - loss: 0.3119 - accuracy: 0.8222 - f1_metric: 0.8222\n",
      "Epoch 00073: val_f1_metric did not improve from 0.76285\n",
      "6648/6648 [==============================] - 1s 133us/sample - loss: 0.3115 - accuracy: 0.8221 - f1_metric: 0.8219 - val_loss: 1.5359 - val_accuracy: 0.7540 - val_f1_metric: 0.7462\n",
      "Epoch 74/3000\n",
      "6208/6648 [===========================>..] - ETA: 0s - loss: 0.3083 - accuracy: 0.8235 - f1_metric: 0.8235\n",
      "Epoch 00074: val_f1_metric did not improve from 0.76285\n",
      "6648/6648 [==============================] - 1s 134us/sample - loss: 0.3088 - accuracy: 0.8233 - f1_metric: 0.8234 - val_loss: 1.5461 - val_accuracy: 0.7526 - val_f1_metric: 0.7448\n",
      "Epoch 75/3000\n",
      "6272/6648 [===========================>..] - ETA: 0s - loss: 0.3089 - accuracy: 0.8251 - f1_metric: 0.8251\n",
      "Epoch 00075: val_f1_metric did not improve from 0.76285\n",
      "6648/6648 [==============================] - 1s 134us/sample - loss: 0.3116 - accuracy: 0.8246 - f1_metric: 0.8246 - val_loss: 1.4178 - val_accuracy: 0.7618 - val_f1_metric: 0.7538\n",
      "Epoch 76/3000\n",
      "6176/6648 [==========================>...] - ETA: 0s - loss: 0.3102 - accuracy: 0.8199 - f1_metric: 0.8200\n",
      "Epoch 00076: val_f1_metric did not improve from 0.76285\n",
      "6648/6648 [==============================] - 1s 134us/sample - loss: 0.3169 - accuracy: 0.8190 - f1_metric: 0.8191 - val_loss: 1.4570 - val_accuracy: 0.7593 - val_f1_metric: 0.7514\n",
      "Epoch 77/3000\n",
      "6240/6648 [===========================>..] - ETA: 0s - loss: 0.3103 - accuracy: 0.8204 - f1_metric: 0.8204\n",
      "Epoch 00077: val_f1_metric did not improve from 0.76285\n",
      "6648/6648 [==============================] - 1s 134us/sample - loss: 0.3088 - accuracy: 0.8215 - f1_metric: 0.8214 - val_loss: 1.5613 - val_accuracy: 0.7540 - val_f1_metric: 0.7462\n",
      "Epoch 78/3000\n",
      "6624/6648 [============================>.] - ETA: 0s - loss: 0.3000 - accuracy: 0.8264 - f1_metric: 0.8264\n",
      "Epoch 00078: val_f1_metric did not improve from 0.76285\n",
      "6648/6648 [==============================] - 1s 163us/sample - loss: 0.3005 - accuracy: 0.8260 - f1_metric: 0.8258 - val_loss: 1.4902 - val_accuracy: 0.7628 - val_f1_metric: 0.7549\n",
      "Epoch 79/3000\n",
      "6432/6648 [============================>.] - ETA: 0s - loss: 0.3114 - accuracy: 0.8249 - f1_metric: 0.8249\n",
      "Epoch 00079: val_f1_metric did not improve from 0.76285\n",
      "6648/6648 [==============================] - 1s 139us/sample - loss: 0.3108 - accuracy: 0.8254 - f1_metric: 0.8253 - val_loss: 1.5376 - val_accuracy: 0.7495 - val_f1_metric: 0.7417\n",
      "Epoch 80/3000\n",
      "6272/6648 [===========================>..] - ETA: 0s - loss: 0.3014 - accuracy: 0.8299 - f1_metric: 0.8299\n",
      "Epoch 00080: val_f1_metric did not improve from 0.76285\n",
      "6648/6648 [==============================] - 1s 133us/sample - loss: 0.3006 - accuracy: 0.8294 - f1_metric: 0.8295 - val_loss: 1.4214 - val_accuracy: 0.7516 - val_f1_metric: 0.7437\n",
      "Epoch 81/3000\n",
      "6208/6648 [===========================>..] - ETA: 0s - loss: 0.3100 - accuracy: 0.8228 - f1_metric: 0.8228\n",
      "Epoch 00081: val_f1_metric did not improve from 0.76285\n",
      "6648/6648 [==============================] - 1s 134us/sample - loss: 0.3093 - accuracy: 0.8222 - f1_metric: 0.8221 - val_loss: 1.3677 - val_accuracy: 0.7554 - val_f1_metric: 0.7476\n",
      "Epoch 82/3000\n",
      "6336/6648 [===========================>..] - ETA: 0s - loss: 0.2990 - accuracy: 0.8292 - f1_metric: 0.8291\n",
      "Epoch 00082: val_f1_metric did not improve from 0.76285\n",
      "6648/6648 [==============================] - 1s 133us/sample - loss: 0.3002 - accuracy: 0.8281 - f1_metric: 0.8279 - val_loss: 1.4478 - val_accuracy: 0.7575 - val_f1_metric: 0.7497\n",
      "Epoch 83/3000\n",
      "6176/6648 [==========================>...] - ETA: 0s - loss: 0.2966 - accuracy: 0.8301 - f1_metric: 0.8301\n",
      "Epoch 00083: val_f1_metric did not improve from 0.76285\n",
      "6648/6648 [==============================] - 1s 134us/sample - loss: 0.2971 - accuracy: 0.8294 - f1_metric: 0.8293 - val_loss: 1.5166 - val_accuracy: 0.7509 - val_f1_metric: 0.7431\n",
      "Epoch 84/3000\n",
      "6304/6648 [===========================>..] - ETA: 0s - loss: 0.3019 - accuracy: 0.8273 - f1_metric: 0.8274\n",
      "Epoch 00084: val_f1_metric did not improve from 0.76285\n",
      "6648/6648 [==============================] - 1s 133us/sample - loss: 0.3013 - accuracy: 0.8282 - f1_metric: 0.8284 - val_loss: 1.6512 - val_accuracy: 0.7484 - val_f1_metric: 0.7406\n",
      "Epoch 85/3000\n",
      "6304/6648 [===========================>..] - ETA: 0s - loss: 0.3002 - accuracy: 0.8279 - f1_metric: 0.8279\n",
      "Epoch 00085: val_f1_metric did not improve from 0.76285\n",
      "6648/6648 [==============================] - 1s 133us/sample - loss: 0.3029 - accuracy: 0.8264 - f1_metric: 0.8263 - val_loss: 1.7138 - val_accuracy: 0.7509 - val_f1_metric: 0.7431\n",
      "Epoch 86/3000\n",
      "6240/6648 [===========================>..] - ETA: 0s - loss: 0.3025 - accuracy: 0.8279 - f1_metric: 0.8279\n",
      "Epoch 00086: val_f1_metric did not improve from 0.76285\n",
      "6648/6648 [==============================] - 1s 134us/sample - loss: 0.3056 - accuracy: 0.8264 - f1_metric: 0.8262 - val_loss: 1.3877 - val_accuracy: 0.7614 - val_f1_metric: 0.7535\n",
      "Epoch 87/3000\n",
      "6176/6648 [==========================>...] - ETA: 0s - loss: 0.2948 - accuracy: 0.8298 - f1_metric: 0.8298\n",
      "Epoch 00087: val_f1_metric did not improve from 0.76285\n",
      "6648/6648 [==============================] - 1s 135us/sample - loss: 0.2986 - accuracy: 0.8275 - f1_metric: 0.8274 - val_loss: 1.5066 - val_accuracy: 0.7554 - val_f1_metric: 0.7476\n",
      "Epoch 88/3000\n",
      "6208/6648 [===========================>..] - ETA: 0s - loss: 0.2992 - accuracy: 0.8280 - f1_metric: 0.8279\n",
      "Epoch 00088: val_f1_metric did not improve from 0.76285\n",
      "6648/6648 [==============================] - 1s 134us/sample - loss: 0.2995 - accuracy: 0.8272 - f1_metric: 0.8271 - val_loss: 1.4333 - val_accuracy: 0.7611 - val_f1_metric: 0.7531\n",
      "Epoch 89/3000\n",
      "6528/6648 [============================>.] - ETA: 0s - loss: 0.2967 - accuracy: 0.8294 - f1_metric: 0.8294\n",
      "Epoch 00089: val_f1_metric did not improve from 0.76285\n",
      "6648/6648 [==============================] - 1s 140us/sample - loss: 0.2966 - accuracy: 0.8291 - f1_metric: 0.8291 - val_loss: 1.7630 - val_accuracy: 0.7502 - val_f1_metric: 0.7424\n",
      "Epoch 90/3000\n",
      "6240/6648 [===========================>..] - ETA: 0s - loss: 0.3012 - accuracy: 0.8271 - f1_metric: 0.8270\n",
      "Epoch 00090: val_f1_metric did not improve from 0.76285\n",
      "6648/6648 [==============================] - 1s 134us/sample - loss: 0.3017 - accuracy: 0.8266 - f1_metric: 0.8265 - val_loss: 1.6484 - val_accuracy: 0.7523 - val_f1_metric: 0.7444\n",
      "Epoch 91/3000\n",
      "6208/6648 [===========================>..] - ETA: 0s - loss: 0.2980 - accuracy: 0.8305 - f1_metric: 0.8305\n",
      "Epoch 00091: val_f1_metric did not improve from 0.76285\n",
      "6648/6648 [==============================] - 1s 135us/sample - loss: 0.2975 - accuracy: 0.8303 - f1_metric: 0.8302 - val_loss: 1.4646 - val_accuracy: 0.7628 - val_f1_metric: 0.7549\n",
      "Epoch 92/3000\n",
      "6464/6648 [============================>.] - ETA: 0s - loss: 0.2970 - accuracy: 0.8312 - f1_metric: 0.8312\n",
      "Epoch 00092: val_f1_metric did not improve from 0.76285\n",
      "6648/6648 [==============================] - 1s 143us/sample - loss: 0.2968 - accuracy: 0.8309 - f1_metric: 0.8309 - val_loss: 1.6771 - val_accuracy: 0.7540 - val_f1_metric: 0.7462\n",
      "Epoch 93/3000\n",
      "6208/6648 [===========================>..] - ETA: 0s - loss: 0.2981 - accuracy: 0.8293 - f1_metric: 0.8293\n",
      "Epoch 00093: val_f1_metric did not improve from 0.76285\n",
      "6648/6648 [==============================] - 1s 135us/sample - loss: 0.2971 - accuracy: 0.8303 - f1_metric: 0.8304 - val_loss: 1.7220 - val_accuracy: 0.7579 - val_f1_metric: 0.7500\n",
      "Epoch 94/3000\n",
      "6240/6648 [===========================>..] - ETA: 0s - loss: 0.3019 - accuracy: 0.8229 - f1_metric: 0.8229\n",
      "Epoch 00094: val_f1_metric did not improve from 0.76285\n",
      "6648/6648 [==============================] - 1s 134us/sample - loss: 0.3011 - accuracy: 0.8236 - f1_metric: 0.8236 - val_loss: 1.6048 - val_accuracy: 0.7540 - val_f1_metric: 0.7462\n",
      "Epoch 95/3000\n",
      "6304/6648 [===========================>..] - ETA: 0s - loss: 0.2971 - accuracy: 0.8317 - f1_metric: 0.8317\n",
      "Epoch 00095: val_f1_metric did not improve from 0.76285\n",
      "6648/6648 [==============================] - 1s 134us/sample - loss: 0.2984 - accuracy: 0.8308 - f1_metric: 0.8308 - val_loss: 1.6905 - val_accuracy: 0.7547 - val_f1_metric: 0.7469\n",
      "Epoch 96/3000\n",
      "6304/6648 [===========================>..] - ETA: 0s - loss: 0.3000 - accuracy: 0.8277 - f1_metric: 0.8278\n",
      "Epoch 00096: val_f1_metric did not improve from 0.76285\n",
      "6648/6648 [==============================] - 1s 133us/sample - loss: 0.3002 - accuracy: 0.8276 - f1_metric: 0.8277 - val_loss: 1.6493 - val_accuracy: 0.7505 - val_f1_metric: 0.7427\n",
      "Epoch 97/3000\n",
      "6240/6648 [===========================>..] - ETA: 0s - loss: 0.2948 - accuracy: 0.8309 - f1_metric: 0.8308\n",
      "Epoch 00097: val_f1_metric did not improve from 0.76285\n",
      "6648/6648 [==============================] - 1s 134us/sample - loss: 0.2931 - accuracy: 0.8320 - f1_metric: 0.8319 - val_loss: 1.5655 - val_accuracy: 0.7551 - val_f1_metric: 0.7472\n",
      "Epoch 98/3000\n",
      "6240/6648 [===========================>..] - ETA: 0s - loss: 0.2952 - accuracy: 0.8322 - f1_metric: 0.8321\n",
      "Epoch 00098: val_f1_metric did not improve from 0.76285\n",
      "6648/6648 [==============================] - 1s 133us/sample - loss: 0.2963 - accuracy: 0.8327 - f1_metric: 0.8327 - val_loss: 1.6322 - val_accuracy: 0.7596 - val_f1_metric: 0.7517\n",
      "Epoch 99/3000\n",
      "6272/6648 [===========================>..] - ETA: 0s - loss: 0.2979 - accuracy: 0.8292 - f1_metric: 0.8291\n",
      "Epoch 00099: val_f1_metric did not improve from 0.76285\n",
      "6648/6648 [==============================] - 1s 134us/sample - loss: 0.3002 - accuracy: 0.8276 - f1_metric: 0.8274 - val_loss: 1.4881 - val_accuracy: 0.7505 - val_f1_metric: 0.7427\n",
      "Epoch 100/3000\n",
      "6240/6648 [===========================>..] - ETA: 0s - loss: 0.2943 - accuracy: 0.8290 - f1_metric: 0.8289\n",
      "Epoch 00100: val_f1_metric did not improve from 0.76285\n",
      "6648/6648 [==============================] - 1s 140us/sample - loss: 0.2932 - accuracy: 0.8293 - f1_metric: 0.8291 - val_loss: 1.8184 - val_accuracy: 0.7519 - val_f1_metric: 0.7441\n",
      "Epoch 101/3000\n",
      "6272/6648 [===========================>..] - ETA: 0s - loss: 0.2968 - accuracy: 0.8275 - f1_metric: 0.8276\n",
      "Epoch 00101: val_f1_metric did not improve from 0.76285\n",
      "6648/6648 [==============================] - 1s 134us/sample - loss: 0.2960 - accuracy: 0.8284 - f1_metric: 0.8285 - val_loss: 1.7652 - val_accuracy: 0.7544 - val_f1_metric: 0.7465\n",
      "Epoch 102/3000\n",
      "6176/6648 [==========================>...] - ETA: 0s - loss: 0.2890 - accuracy: 0.8355 - f1_metric: 0.8355\n",
      "Epoch 00102: val_f1_metric did not improve from 0.76285\n",
      "6648/6648 [==============================] - 1s 135us/sample - loss: 0.2948 - accuracy: 0.8329 - f1_metric: 0.8329 - val_loss: 1.5493 - val_accuracy: 0.7523 - val_f1_metric: 0.7444\n",
      "Epoch 103/3000\n",
      "6240/6648 [===========================>..] - ETA: 0s - loss: 0.2981 - accuracy: 0.8296 - f1_metric: 0.8296\n",
      "Epoch 00103: val_f1_metric did not improve from 0.76285\n",
      "6648/6648 [==============================] - 1s 134us/sample - loss: 0.2962 - accuracy: 0.8308 - f1_metric: 0.8307 - val_loss: 1.5636 - val_accuracy: 0.7519 - val_f1_metric: 0.7441\n",
      "Epoch 104/3000\n",
      "6176/6648 [==========================>...] - ETA: 0s - loss: 0.2974 - accuracy: 0.8293 - f1_metric: 0.8294\n",
      "Epoch 00104: val_f1_metric did not improve from 0.76285\n",
      "6648/6648 [==============================] - 1s 134us/sample - loss: 0.2980 - accuracy: 0.8287 - f1_metric: 0.8289 - val_loss: 1.5511 - val_accuracy: 0.7551 - val_f1_metric: 0.7472\n",
      "Epoch 105/3000\n",
      "6176/6648 [==========================>...] - ETA: 0s - loss: 0.2914 - accuracy: 0.8301 - f1_metric: 0.8301\n",
      "Epoch 00105: val_f1_metric did not improve from 0.76285\n",
      "6648/6648 [==============================] - 1s 134us/sample - loss: 0.2908 - accuracy: 0.8305 - f1_metric: 0.8305 - val_loss: 1.8305 - val_accuracy: 0.7442 - val_f1_metric: 0.7365\n",
      "Epoch 106/3000\n",
      "6208/6648 [===========================>..] - ETA: 0s - loss: 0.2944 - accuracy: 0.8283 - f1_metric: 0.8283\n",
      "Epoch 00106: val_f1_metric did not improve from 0.76285\n",
      "6648/6648 [==============================] - 1s 134us/sample - loss: 0.2943 - accuracy: 0.8290 - f1_metric: 0.8289 - val_loss: 1.7905 - val_accuracy: 0.7495 - val_f1_metric: 0.7417\n",
      "Epoch 107/3000\n",
      "6208/6648 [===========================>..] - ETA: 0s - loss: 0.2892 - accuracy: 0.8347 - f1_metric: 0.8347\n",
      "Epoch 00107: val_f1_metric did not improve from 0.76285\n",
      "6648/6648 [==============================] - 1s 134us/sample - loss: 0.2901 - accuracy: 0.8341 - f1_metric: 0.8342 - val_loss: 1.6133 - val_accuracy: 0.7568 - val_f1_metric: 0.7490\n",
      "Epoch 00107: early stopping\n",
      "CPU times: user 2min 41s, sys: 21.2 s, total: 3min 2s\n",
      "Wall time: 1min 52s\n"
     ]
    }
   ],
   "source": [
    "%%time\n",
    "history = model.fit(x_train, y_train, epochs=3000, verbose=1,\n",
    "                            batch_size=32, shuffle=True,\n",
    "                            validation_data=(x_cv, y_cv),\n",
    "                            callbacks=[mcp, rlp, es],\n",
    "                            class_weight = class_weights)"
   ]
  },
  {
   "cell_type": "markdown",
   "metadata": {},
   "source": [
    "Se visualiza el rendimiento del modelo durante el entrenamiento. Muestra gráficas de la pérdida y la métrica F1 tanto para los conjuntos de entrenamiento como de validación a lo largo de las épocas. Esto ayuda a evaluar el aprendizaje y la generalización del modelo."
   ]
  },
  {
   "cell_type": "code",
   "execution_count": 16,
   "metadata": {
    "execution": {
     "iopub.execute_input": "2024-01-08T17:03:21.349188Z",
     "iopub.status.busy": "2024-01-08T17:03:21.348827Z",
     "iopub.status.idle": "2024-01-08T17:03:21.385121Z",
     "shell.execute_reply": "2024-01-08T17:03:21.384114Z",
     "shell.execute_reply.started": "2024-01-08T17:03:21.349027Z"
    },
    "scrolled": true
   },
   "outputs": [
    {
     "data": {
      "image/png": "[encoded data removed]",
      "text/plain": [
       "<Figure size 432x288 with 1 Axes>"
      ]
     },
     "metadata": {
      "needs_background": "light"
     },
     "output_type": "display_data"
    }
   ],
   "source": [
    "from matplotlib import pyplot as plt\n",
    "%matplotlib inline\n",
    "InteractiveShell.ast_node_interactivity = \"last\"\n",
    "\n",
    "plt.figure()\n",
    "plt.plot(history.history['loss'])\n",
    "plt.plot(history.history['val_loss'])\n",
    "plt.plot(history.history['f1_metric'])\n",
    "plt.plot(history.history['val_f1_metric'])\n",
    "\n",
    "plt.title('Model loss')\n",
    "plt.ylabel('Loss')\n",
    "plt.xlabel('Epoch')\n",
    "plt.legend(['train_loss', 'val_loss', 'f1', 'val_f1'], loc='upper left')\n",
    "plt.show()"
   ]
  },
  {
   "cell_type": "markdown",
   "metadata": {},
   "source": [
    "Se realiza la evaluación final del modelo sobre el conjunto de prueba:\n",
    "\n",
    "1) Carga el mejor modelo guardado.   \n",
    "\n",
    "2) Evalúa el modelo en el conjunto de prueba y obtiene las predicciones.\n",
    "\n",
    "3) Calcula y muestra la matriz de confusión para visualizar el rendimiento del     modelo en clasificar cada clase.\n",
    "\n",
    "4) Calcula las métricas de recall y precisión para cada clase.\n",
    "\n",
    "5) Muestra dos gráficos de barras: uno para el recall y otro para la precisión     por clase, facilitando la comparación visual del rendimiento del modelo en       diferentes clases."
   ]
  },
  {
   "cell_type": "code",
   "execution_count": 17,
   "metadata": {
    "execution": {
     "iopub.status.busy": "2024-01-08T17:03:21.385967Z",
     "iopub.status.idle": "2024-01-08T17:03:21.386477Z"
    }
   },
   "outputs": [
    {
     "data": {
      "image/png": "[encoded data removed]",
      "text/plain": [
       "<Figure size 720x504 with 2 Axes>"
      ]
     },
     "metadata": {
      "needs_background": "light"
     },
     "output_type": "display_data"
    },
    {
     "data": {
      "image/png": "[encoded data removed]",
      "text/plain": [
       "<Figure size 1080x360 with 2 Axes>"
      ]
     },
     "metadata": {
      "needs_background": "light"
     },
     "output_type": "display_data"
    }
   ],
   "source": [
    "import matplotlib.pyplot as plt\n",
    "from sklearn.metrics import confusion_matrix, recall_score, precision_score\n",
    "import numpy as np\n",
    "import seaborn as sns\n",
    "\n",
    "# Carga tu modelo y evalúa los datos de prueba\n",
    "model = load_model(best_model_path)\n",
    "test_res = model.evaluate(x_test, y_test, verbose=0)\n",
    "\n",
    "# Predicciones\n",
    "y_pred = model.predict(x_test)\n",
    "y_pred_classes = np.argmax(y_pred, axis=1)\n",
    "y_true = np.argmax(y_test, axis=1)\n",
    "\n",
    "# Matriz de confusión\n",
    "cm = confusion_matrix(y_true, y_pred_classes)\n",
    "\n",
    "# Recall y Precisión\n",
    "recall = recall_score(y_true, y_pred_classes, average=None)\n",
    "precision = precision_score(y_true, y_pred_classes, average=None)\n",
    "\n",
    "# Gráfico de la matriz de confusión\n",
    "plt.figure(figsize=(10, 7))\n",
    "sns.heatmap(cm, annot=True, fmt='g')\n",
    "plt.xlabel('Predicciones')\n",
    "plt.ylabel('Valores verdaderos')\n",
    "plt.title('Matriz de Confusión')\n",
    "plt.show()\n",
    "\n",
    "# Gráfico de barras para Recall y Precisión\n",
    "fig, ax = plt.subplots(1, 2, figsize=(15, 5))\n",
    "ax[0].bar(['Clase 0', 'Clase 1', 'Clase 2'], recall, color='blue')\n",
    "ax[0].set_title('Recall por Clase')\n",
    "ax[0].set_ylim(0, 1)\n",
    "\n",
    "ax[1].bar(['Clase 0', 'Clase 1', 'Clase 2'], precision, color='green')\n",
    "ax[1].set_title('Precisión por Clase')\n",
    "ax[1].set_ylim(0, 1)\n",
    "\n",
    "plt.show()\n"
   ]
  },
  {
   "cell_type": "code",
   "execution_count": 18,
   "metadata": {
    "execution": {
     "iopub.status.busy": "2024-01-08T17:03:21.387404Z",
     "iopub.status.idle": "2024-01-08T17:03:21.387824Z"
    }
   },
   "outputs": [
    {
     "data": {
      "text/plain": [
       "array([0.49178255, 0.89090909, 0.83333333])"
      ]
     },
     "execution_count": 18,
     "metadata": {},
     "output_type": "execute_result"
    }
   ],
   "source": [
    "recall"
   ]
  },
  {
   "cell_type": "code",
   "execution_count": 19,
   "metadata": {
    "execution": {
     "iopub.status.busy": "2024-01-08T17:03:21.388681Z",
     "iopub.status.idle": "2024-01-08T17:03:21.389145Z"
    }
   },
   "outputs": [
    {
     "data": {
      "text/plain": [
       "array([0.96287129, 0.22685185, 0.16071429])"
      ]
     },
     "execution_count": 19,
     "metadata": {},
     "output_type": "execute_result"
    }
   ],
   "source": [
    "precision"
   ]
  },
  {
   "cell_type": "markdown",
   "metadata": {},
   "source": [
    "Se imprime los resultados de la evaluación del modelo en el conjunto de prueba, mostrando la pérdida (loss), la precisión (accuracy) y la puntuación F1. Estos valores ayudan a comprender el rendimiento general del modelo en datos no vistos."
   ]
  },
  {
   "cell_type": "code",
   "execution_count": 20,
   "metadata": {
    "execution": {
     "iopub.status.busy": "2024-01-08T17:03:21.390148Z",
     "iopub.status.idle": "2024-01-08T17:03:21.390476Z"
    }
   },
   "outputs": [
    {
     "name": "stdout",
     "output_type": "stream",
     "text": [
      "Loss: 1.6806201373206244\n",
      "Accuracy: 0.5366666913032532\n",
      "F1 score: 0.5355603098869324\n"
     ]
    }
   ],
   "source": [
    "print(f\"Loss: {test_res[0]}\")\n",
    "print(f\"Accuracy: {test_res[1]}\")\n",
    "print(f\"F1 score: {test_res[2]}\")"
   ]
  },
  {
   "cell_type": "markdown",
   "metadata": {},
   "source": [
    "Se carga el mejor modelo guardado y lo vuelve a guardar con el nombre 'mi_modelo.h5'. Este paso es útil para renombrar y conservar el modelo entrenado para su uso o distribución futura."
   ]
  },
  {
   "cell_type": "code",
   "execution_count": 21,
   "metadata": {
    "execution": {
     "iopub.status.busy": "2024-01-08T17:03:21.391404Z",
     "iopub.status.idle": "2024-01-08T17:03:21.391811Z"
    }
   },
   "outputs": [],
   "source": [
    "model = load_model(best_model_path)\n",
    "model.save('mi_modelo.h5')\n"
   ]
  },
  {
   "cell_type": "markdown",
   "metadata": {},
   "source": [
    "Se implementa una estrategia para optimizar el umbral de clasificación:\n",
    "\n",
    "1) Define una función apply_threshold para ajustar las predicciones basadas en un umbral específico. Si ninguna clase supera el umbral, asigna la clase 0; de lo contrario, selecciona la clase con la mayor probabilidad.\n",
    "\n",
    "2) Itera sobre un rango de posibles umbrales para encontrar el que maximiza el F1 score.\n",
    "\n",
    "3) Calcula el F1 score para cada umbral y actualiza el mejor umbral y el mejor F1 score.\n",
    "\n",
    "4) Finalmente, imprime el mejor umbral encontrado y su correspondiente F1 score.\n",
    "\n",
    "\n",
    "\n",
    "\n",
    "\n",
    "\n",
    "\n"
   ]
  },
  {
   "cell_type": "code",
   "execution_count": 22,
   "metadata": {
    "execution": {
     "iopub.status.busy": "2024-01-08T17:03:21.3928Z",
     "iopub.status.idle": "2024-01-08T17:03:21.393312Z"
    }
   },
   "outputs": [
    {
     "name": "stdout",
     "output_type": "stream",
     "text": [
      "Mejor umbral: 0.9696969696969697\n",
      "Mejor F1 score: 0.49393031149502536\n"
     ]
    },
    {
     "name": "stderr",
     "output_type": "stream",
     "text": [
      "/opt/conda/lib/python3.6/site-packages/sklearn/metrics/classification.py:1437: UndefinedMetricWarning: F-score is ill-defined and being set to 0.0 in labels with no predicted samples.\n",
      "  'precision', 'predicted', average, warn_for)\n"
     ]
    }
   ],
   "source": [
    "import numpy as np\n",
    "from sklearn.metrics import f1_score\n",
    "\n",
    "# Función para aplicar el umbral y ajustar las predicciones\n",
    "def apply_threshold(predictions, threshold):\n",
    "    adjusted_predictions = []\n",
    "    for pred in predictions:\n",
    "        if np.max(pred) < threshold:\n",
    "            # Si ninguna clase supera el umbral, asignamos a la clase 0\n",
    "            adjusted_pred = [1, 0, 0]\n",
    "        else:\n",
    "            # Si alguna clase supera el umbral, seleccionamos la de mayor probabilidad\n",
    "            adjusted_pred = [0, 0, 0]  # Inicialmente, todas las clases se establecen en 0\n",
    "            adjusted_pred[np.argmax(pred)] = 1  # Solo la clase con la mayor probabilidad se establece en 1\n",
    "        adjusted_predictions.append(adjusted_pred)\n",
    "    return np.array(adjusted_predictions)\n",
    "\n",
    "\n",
    "\n",
    "# Define un rango de posibles umbrales\n",
    "thresholds = np.linspace(0, 1, 100)  # 100 umbrales desde 0 a 1\n",
    "\n",
    "# Inicializa el mejor umbral y el mejor F1 score\n",
    "best_threshold = 0\n",
    "best_f1 = 0\n",
    "\n",
    "# Itera sobre los umbrales para encontrar el mejor\n",
    "for threshold in thresholds:\n",
    "    # Aplica el umbral\n",
    "    y_pred_classes = apply_threshold(y_pred, threshold)\n",
    "    y_pred_classes = np.argmax(y_pred_classes, axis=1)\n",
    "\n",
    "    # Calcula el F1 score\n",
    "    f1 = f1_score(y_true, y_pred_classes, average='macro')\n",
    "\n",
    "    # Actualiza el mejor umbral si es necesario\n",
    "    if f1 > best_f1:\n",
    "        best_f1 = f1\n",
    "        best_threshold = threshold\n",
    "\n",
    "# Imprime el mejor umbral y su F1 score\n",
    "print(\"Mejor umbral:\", best_threshold)\n",
    "print(\"Mejor F1 score:\", best_f1)\n"
   ]
  },
  {
   "cell_type": "markdown",
   "metadata": {},
   "source": [
    "Se aplica el mejor umbral encontrado a las predicciones del modelo para ajustar la clasificación final. Utiliza la función apply_threshold para modificar las predicciones según el umbral y luego obtiene la clase final mediante np.argmax, que selecciona el índice de la clase con la probabilidad más alta en cada predicción ajustada."
   ]
  },
  {
   "cell_type": "code",
   "execution_count": 23,
   "metadata": {
    "execution": {
     "iopub.status.busy": "2024-01-08T17:03:21.394377Z",
     "iopub.status.idle": "2024-01-08T17:03:21.395125Z"
    }
   },
   "outputs": [],
   "source": [
    "y_pred_classes = apply_threshold(y_pred, best_threshold)\n",
    "y_pred_classes = np.argmax(y_pred_classes, axis=1)"
   ]
  },
  {
   "cell_type": "markdown",
   "metadata": {},
   "source": [
    "Se calcula y almacena la matriz de confusión, así como las métricas de recall y precisión, usando las predicciones ajustadas con el mejor umbral. Estos cálculos son fundamentales para evaluar el rendimiento detallado del modelo, especialmente después de ajustar las predicciones con el umbral óptimo."
   ]
  },
  {
   "cell_type": "code",
   "execution_count": 24,
   "metadata": {
    "execution": {
     "iopub.status.busy": "2024-01-08T17:03:21.396226Z",
     "iopub.status.idle": "2024-01-08T17:03:21.396582Z"
    }
   },
   "outputs": [],
   "source": [
    "# Matriz de confusión\n",
    "cm = confusion_matrix(y_true, y_pred_classes)\n",
    "\n",
    "# Recall y Precisión\n",
    "recall = recall_score(y_true, y_pred_classes, average=None)\n",
    "precision = precision_score(y_true, y_pred_classes, average=None)\n",
    "\n"
   ]
  },
  {
   "cell_type": "markdown",
   "metadata": {},
   "source": [
    "Se calcula y muestra la puntuación F1 del modelo usando las predicciones ajustadas. Se utiliza el promedio 'macro', lo que significa que se calcula la puntuación F1 de forma independiente para cada clase y luego se toma el promedio de estas puntuaciones. Esto proporciona una medida de la efectividad del modelo en la clasificación equilibrada a través de todas las clases."
   ]
  },
  {
   "cell_type": "code",
   "execution_count": 25,
   "metadata": {
    "execution": {
     "iopub.status.busy": "2024-01-08T17:03:21.397827Z",
     "iopub.status.idle": "2024-01-08T17:03:21.398352Z"
    }
   },
   "outputs": [
    {
     "data": {
      "text/plain": [
       "0.49393031149502536"
      ]
     },
     "execution_count": 25,
     "metadata": {},
     "output_type": "execute_result"
    }
   ],
   "source": [
    "from sklearn.metrics import f1_score\n",
    "\n",
    "f1 = f1_score(y_true, y_pred_classes, average='macro')\n",
    "f1\n"
   ]
  },
  {
   "cell_type": "code",
   "execution_count": 26,
   "metadata": {
    "execution": {
     "iopub.status.busy": "2024-01-08T17:03:21.399573Z",
     "iopub.status.idle": "2024-01-08T17:03:21.400034Z"
    }
   },
   "outputs": [
    {
     "data": {
      "text/plain": [
       "array([0.68773704, 0.72727273, 0.61111111])"
      ]
     },
     "execution_count": 26,
     "metadata": {},
     "output_type": "execute_result"
    }
   ],
   "source": [
    "recall"
   ]
  },
  {
   "cell_type": "code",
   "execution_count": 27,
   "metadata": {
    "execution": {
     "iopub.status.busy": "2024-01-08T17:03:21.401013Z",
     "iopub.status.idle": "2024-01-08T17:03:21.401778Z"
    }
   },
   "outputs": [
    {
     "data": {
      "text/plain": [
       "array([0.93793103, 0.27586207, 0.18857143])"
      ]
     },
     "execution_count": 27,
     "metadata": {},
     "output_type": "execute_result"
    }
   ],
   "source": [
    "precision"
   ]
  },
  {
   "cell_type": "markdown",
   "metadata": {},
   "source": [
    "Se visualiza dos aspectos clave del rendimiento del modelo:\n",
    "\n",
    "Matriz de Confusión: Utiliza Seaborn para crear un mapa de calor de la matriz de confusión, mostrando la cantidad de predicciones correctas e incorrectas para cada clase.\n",
    "\n",
    "Gráficos de Barras para Recall y Precisión: Muestra dos gráficos de barras para visualizar las métricas de recall y precisión para cada una de las tres clases, facilitando la comparación del rendimiento del modelo en términos de evitar falsos negativos y falsos positivos."
   ]
  },
  {
   "cell_type": "code",
   "execution_count": 28,
   "metadata": {
    "execution": {
     "iopub.status.busy": "2024-01-08T17:03:21.40284Z",
     "iopub.status.idle": "2024-01-08T17:03:21.403309Z"
    }
   },
   "outputs": [
    {
     "data": {
      "image/png": "[encoded data removed]",
      "text/plain": [
       "<Figure size 720x504 with 2 Axes>"
      ]
     },
     "metadata": {
      "needs_background": "light"
     },
     "output_type": "display_data"
    },
    {
     "data": {
      "image/png": "[encoded data removed]",
      "text/plain": [
       "<Figure size 1080x360 with 2 Axes>"
      ]
     },
     "metadata": {
      "needs_background": "light"
     },
     "output_type": "display_data"
    }
   ],
   "source": [
    "# Gráfico de la matriz de confusión\n",
    "plt.figure(figsize=(10, 7))\n",
    "sns.heatmap(cm, annot=True, fmt='g')\n",
    "plt.xlabel('Predicciones')\n",
    "plt.ylabel('Valores verdaderos')\n",
    "plt.title('Matriz de Confusión')\n",
    "plt.show()\n",
    "\n",
    "# Gráfico de barras para Recall y Precisión\n",
    "fig, ax = plt.subplots(1, 2, figsize=(15, 5))\n",
    "ax[0].bar(['Clase 0', 'Clase 1', 'Clase 2'], recall, color='blue')\n",
    "ax[0].set_title('Recall por Clase')\n",
    "ax[0].set_ylim(0, 1)\n",
    "\n",
    "ax[1].bar(['Clase 0', 'Clase 1', 'Clase 2'], precision, color='green')\n",
    "ax[1].set_title('Precisión por Clase')\n",
    "ax[1].set_ylim(0, 1)\n",
    "\n",
    "plt.show()\n"
   ]
  },
  {
   "cell_type": "code",
   "execution_count": null,
   "metadata": {},
   "outputs": [],
   "source": []
  }
 ],
 "metadata": {
  "kaggle": {
   "accelerator": "gpu",
   "dataSources": [
    {
     "sourceId": 157914957,
     "sourceType": "kernelVersion"
    }
   ],
   "dockerImageVersionId": 29850,
   "isGpuEnabled": true,
   "isInternetEnabled": true,
   "language": "python",
   "sourceType": "notebook"
  },
  "kernelspec": {
   "display_name": "Python 3",
   "language": "python",
   "name": "python3"
  },
  "language_info": {
   "codemirror_mode": {
    "name": "ipython",
    "version": 3
   },
   "file_extension": ".py",
   "mimetype": "text/x-python",
   "name": "python",
   "nbconvert_exporter": "python",
   "pygments_lexer": "ipython3",
   "version": "3.6.6"
  }
 },
 "nbformat": 4,
 "nbformat_minor": 4
}
