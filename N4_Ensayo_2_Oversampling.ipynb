{
 "cells": [
  {
   "cell_type": "markdown",
   "metadata": {},
   "source": [
    "Se importan librerías esenciales, establece una semilla para la reproducibilidad, carga conjuntos de datos de entrenamiento, validación y prueba desde archivos CSV y muestra sus dimensiones para verificar su estructura."
   ]
  },
  {
   "cell_type": "code",
   "execution_count": 1,
   "metadata": {
    "_cell_guid": "",
    "_uuid": "",
    "execution": {
     "iopub.execute_input": "2024-01-07T18:35:25.212460Z",
     "iopub.status.busy": "2024-01-07T18:35:25.212099Z",
     "iopub.status.idle": "2024-01-07T18:35:26.563653Z",
     "shell.execute_reply": "2024-01-07T18:35:26.562829Z",
     "shell.execute_reply.started": "2024-01-07T18:35:25.212401Z"
    },
    "scrolled": true
   },
   "outputs": [
    {
     "name": "stdout",
     "output_type": "stream",
     "text": [
      "Shape of x, y train/cv/test (2519, 225) (2519,) (1080, 225) (1080,) (900, 225) (900,)\n"
     ]
    }
   ],
   "source": [
    "import pandas as pd\n",
    "import pickle \n",
    "import numpy as np\n",
    "from tqdm import tqdm_notebook as tqdm\n",
    "from IPython.core.interactiveshell import InteractiveShell\n",
    "\n",
    "\n",
    "np.random.seed(2)\n",
    "x_train = np.loadtxt(\"/kaggle/input/features-extraction/x_train.csv\", delimiter=\",\")\n",
    "y_train = np.loadtxt(\"/kaggle/input/features-extraction/y_train.csv\", delimiter=\",\")\n",
    "x_cv = np.loadtxt(\"/kaggle/input/features-extraction/x_cv.csv\", delimiter=\",\")\n",
    "y_cv = np.loadtxt(\"/kaggle/input/features-extraction/y_cv.csv\", delimiter=\",\")\n",
    "x_test = np.loadtxt(\"/kaggle/input/features-extraction/x_test.csv\", delimiter=\",\")\n",
    "y_test = np.loadtxt(\"/kaggle/input/features-extraction/y_test.csv\", delimiter=\",\")\n",
    "\n",
    "print(\"Shape of x, y train/cv/test {} {} {} {} {} {}\".format(x_train.shape, \n",
    "                                                             y_train.shape, x_cv.shape, y_cv.shape, x_test.shape, y_test.shape))"
   ]
  },
  {
   "cell_type": "markdown",
   "metadata": {},
   "source": [
    "Se calcula y muestra el porcentaje de cada clase en el conjunto de entrenamiento, lo que ayuda a entender la distribución y posible desbalance de clases."
   ]
  },
  {
   "cell_type": "code",
   "execution_count": 2,
   "metadata": {
    "execution": {
     "iopub.execute_input": "2024-01-07T18:35:26.565863Z",
     "iopub.status.busy": "2024-01-07T18:35:26.565604Z",
     "iopub.status.idle": "2024-01-07T18:35:26.571963Z",
     "shell.execute_reply": "2024-01-07T18:35:26.571010Z",
     "shell.execute_reply.started": "2024-01-07T18:35:26.565813Z"
    }
   },
   "outputs": [
    {
     "name": "stdout",
     "output_type": "stream",
     "text": [
      "percentage of class 0 = 87.97141722905914, class 1 = 6.073838824930529, class 2 = 5.954743946010321\n"
     ]
    }
   ],
   "source": [
    "_labels, _counts = np.unique(y_train, return_counts=True)\n",
    "print(\"percentage of class 0 = {}, class 1 = {}, class 2 = {}\".format(_counts[0]/len(y_train) * 100, _counts[1]/len(y_train) * 100, _counts[2]/len(y_train) * 100))"
   ]
  },
  {
   "cell_type": "markdown",
   "metadata": {},
   "source": [
    "Se define una función para remodelar los datos como imágenes y luego aplica esta transformación a los conjuntos de entrenamiento, validación y prueba. Además, agrega una dimensión adicional para los canales de color, asumiendo un formato de imagen en color (3 canales). Finalmente, muestra las dimensiones finales de los conjuntos de datos."
   ]
  },
  {
   "cell_type": "code",
   "execution_count": 3,
   "metadata": {
    "execution": {
     "iopub.execute_input": "2024-01-07T18:35:26.573539Z",
     "iopub.status.busy": "2024-01-07T18:35:26.573291Z",
     "iopub.status.idle": "2024-01-07T18:35:26.614696Z",
     "shell.execute_reply": "2024-01-07T18:35:26.613974Z",
     "shell.execute_reply.started": "2024-01-07T18:35:26.573496Z"
    }
   },
   "outputs": [
    {
     "name": "stdout",
     "output_type": "stream",
     "text": [
      "final shape of x, y train/test (2519, 15, 15, 3) (2519,) (900, 15, 15, 3) (900,)\n"
     ]
    }
   ],
   "source": [
    "def reshape_as_image(x, img_width, img_height):\n",
    "    x_temp = np.zeros((len(x), img_height, img_width))\n",
    "    for i in range(x.shape[0]):\n",
    "        x_temp[i] = np.reshape(x[i], (img_height, img_width))\n",
    "\n",
    "    return x_temp\n",
    "\n",
    "num_features = 225\n",
    "dim = int(np.sqrt(num_features))\n",
    "x_train = reshape_as_image(x_train, dim, dim)\n",
    "x_cv = reshape_as_image(x_cv, dim, dim)\n",
    "x_test = reshape_as_image(x_test, dim, dim)\n",
    "# adding a 1-dim for channels (3)\n",
    "x_train = np.stack((x_train,) * 3, axis=-1)\n",
    "x_test = np.stack((x_test,) * 3, axis=-1)\n",
    "x_cv = np.stack((x_cv,) * 3, axis=-1)\n",
    "print(\"final shape of x, y train/test {} {} {} {}\".format(x_train.shape, y_train.shape, x_test.shape, y_test.shape))"
   ]
  },
  {
   "cell_type": "markdown",
   "metadata": {},
   "source": [
    "Se implementa un procedimiento de balanceo de clases para conjuntos de datos de entrenamiento y validación:\n",
    "\n",
    "1) Función balance_classes: Balancea las clases en los conjuntos x_train y y_train. Si y_train tiene más de una dimensión, la aplana. Separa x_train en conjuntos por categoría y luego utiliza la técnica de data augmentation para las clases minoritarias hasta que todas las clases tengan el mismo número de muestras.\n",
    "\n",
    "2) Data Augmentation: Utiliza ImageDataGenerator de Keras para generar nuevas imágenes a través de transformaciones como rotación, cambio de escala y volteo horizontal.\n",
    "\n",
    "3) Reconstrucción y Mezcla de Datos: Combina los conjuntos balanceados y mezcla los datos para asegurar la aleatoriedad.\n",
    "\n",
    "4) Aplicación de la Función: Ejecuta balance_classes en los conjuntos x_train y y_train, y opcionalmente en x_cv y y_cv, para obtener conjuntos de entrenamiento y validación con clases balanceadas."
   ]
  },
  {
   "cell_type": "code",
   "execution_count": 4,
   "metadata": {
    "execution": {
     "iopub.execute_input": "2024-01-07T18:35:26.616258Z",
     "iopub.status.busy": "2024-01-07T18:35:26.616026Z",
     "iopub.status.idle": "2024-01-07T18:35:28.556438Z",
     "shell.execute_reply": "2024-01-07T18:35:28.555737Z",
     "shell.execute_reply.started": "2024-01-07T18:35:26.616211Z"
    }
   },
   "outputs": [
    {
     "name": "stderr",
     "output_type": "stream",
     "text": [
      "Using TensorFlow backend.\n"
     ]
    }
   ],
   "source": [
    "from keras.preprocessing.image import ImageDataGenerator\n",
    "import numpy as np\n",
    "\n",
    "def balance_classes(x_train, y_train):\n",
    "    # Aplanar y_train si es necesario\n",
    "    y_train = y_train.flatten()\n",
    "\n",
    "    # Separar x_train en conjuntos por categoría\n",
    "    unique_classes = np.unique(y_train)\n",
    "    class_datasets = {label: x_train[y_train == label] for label in unique_classes}\n",
    "\n",
    "    # Determinar el tamaño del conjunto mayor\n",
    "    max_size = max(len(dataset) for dataset in class_datasets.values())\n",
    "\n",
    "    # Data augmentation para clases minoritarias\n",
    "    datagen = ImageDataGenerator(\n",
    "    rotation_range=20,\n",
    "    width_shift_range=0.2,\n",
    "    height_shift_range=0.2,\n",
    "    shear_range=0.2,\n",
    "    zoom_range=0.2,\n",
    "    horizontal_flip=True,\n",
    "    fill_mode='nearest')\n",
    "    for label, dataset in class_datasets.items():\n",
    "        while len(dataset) < max_size:\n",
    "            for x_batch in datagen.flow(dataset, batch_size=len(dataset), shuffle=False):\n",
    "                dataset = np.concatenate([dataset, x_batch])\n",
    "                if len(dataset) >= max_size:\n",
    "                    break\n",
    "        class_datasets[label] = dataset\n",
    "\n",
    "    # Reconstruir x_train y y_train\n",
    "    new_x_train = np.concatenate(list(class_datasets.values()))\n",
    "    new_y_train = np.concatenate([np.full(len(dataset), label) for label, dataset in class_datasets.items()])\n",
    "\n",
    "    # Mezclar los datos\n",
    "    indices = np.arange(len(new_x_train))\n",
    "    np.random.shuffle(indices)\n",
    "    return new_x_train[indices], new_y_train[indices]\n",
    "\n",
    "x_train, y_train = balance_classes(x_train, y_train)\n",
    "x_cv, y_cv = balance_classes(x_cv, y_cv)"
   ]
  },
  {
   "cell_type": "markdown",
   "metadata": {},
   "source": [
    "Se utiliza np.unique para encontrar y mostrar los valores únicos en y_train y sus respectivos conteos. Esto es útil para verificar la distribución de las clases después de aplicar el balanceo de clases, permitiendo confirmar que las clases ahora están equilibradas en términos de cantidad de muestras."
   ]
  },
  {
   "cell_type": "code",
   "execution_count": 5,
   "metadata": {
    "execution": {
     "iopub.execute_input": "2024-01-07T18:35:28.560353Z",
     "iopub.status.busy": "2024-01-07T18:35:28.560017Z",
     "iopub.status.idle": "2024-01-07T18:35:28.565943Z",
     "shell.execute_reply": "2024-01-07T18:35:28.565114Z",
     "shell.execute_reply.started": "2024-01-07T18:35:28.560289Z"
    }
   },
   "outputs": [
    {
     "name": "stdout",
     "output_type": "stream",
     "text": [
      "[0. 1. 2.]\n",
      "[2216 2295 2250]\n"
     ]
    }
   ],
   "source": [
    "# Usando np.unique para encontrar valores únicos y sus conteos\n",
    "valores_unicos, conteos = np.unique(y_train, return_counts=True)\n",
    "\n",
    "print(valores_unicos)  # Esto mostrará los valores únicos\n",
    "print(conteos) "
   ]
  },
  {
   "cell_type": "code",
   "execution_count": 6,
   "metadata": {
    "execution": {
     "iopub.execute_input": "2024-01-07T18:35:28.569153Z",
     "iopub.status.busy": "2024-01-07T18:35:28.568828Z",
     "iopub.status.idle": "2024-01-07T18:35:28.577207Z",
     "shell.execute_reply": "2024-01-07T18:35:28.576469Z",
     "shell.execute_reply.started": "2024-01-07T18:35:28.569092Z"
    }
   },
   "outputs": [
    {
     "name": "stdout",
     "output_type": "stream",
     "text": [
      "[0. 1. 2.]\n",
      "[950 975 975]\n"
     ]
    }
   ],
   "source": [
    "# Usando np.unique para encontrar valores únicos y sus conteos\n",
    "valores_unicos, conteos = np.unique(y_cv, return_counts=True)\n",
    "\n",
    "print(valores_unicos)  # Esto mostrará los valores únicos\n",
    "print(conteos) "
   ]
  },
  {
   "cell_type": "markdown",
   "metadata": {},
   "source": [
    "Se utiliza Matplotlib para visualizar imágenes aleatorias del conjunto de entrenamiento. Se configura un grid de 3x3 para mostrar 9 imágenes. Cada imagen se selecciona aleatoriamente, se muestra sin ejes y se etiqueta con su índice y clase correspondiente."
   ]
  },
  {
   "cell_type": "code",
   "execution_count": 7,
   "metadata": {
    "execution": {
     "iopub.execute_input": "2024-01-07T18:35:28.578753Z",
     "iopub.status.busy": "2024-01-07T18:35:28.578502Z",
     "iopub.status.idle": "2024-01-07T18:35:29.399309Z",
     "shell.execute_reply": "2024-01-07T18:35:29.398367Z",
     "shell.execute_reply.started": "2024-01-07T18:35:28.578710Z"
    }
   },
   "outputs": [
    {
     "data": {
      "image/png": "[encoded data removed]",
      "text/plain": [
       "<Figure size 1080x1080 with 9 Axes>"
      ]
     },
     "metadata": {
      "needs_background": "light"
     },
     "output_type": "display_data"
    }
   ],
   "source": [
    "from matplotlib import pyplot as plt\n",
    "%matplotlib inline\n",
    "\n",
    "fig = plt.figure(figsize=(15, 15))\n",
    "columns = rows = 3\n",
    "for i in range(1, columns*rows +1):\n",
    "    index = np.random.randint(len(x_train))\n",
    "    img = x_train[index]\n",
    "    fig.add_subplot(rows, columns, i)\n",
    "    plt.axis(\"off\")\n",
    "    plt.title('image_'+str(index)+'_class_'+str(np.argmax(y_train[index])), fontsize=10)\n",
    "    plt.subplots_adjust(wspace=0.2, hspace=0.2)\n",
    "    plt.imshow(img)\n",
    "plt.show()"
   ]
  },
  {
   "cell_type": "markdown",
   "metadata": {},
   "source": [
    "Se define la función \"f1_metric\" que es una métrica de F1 score general y se integra en el entorno de Keras para su uso en modelos de TensorFlow."
   ]
  },
  {
   "cell_type": "code",
   "execution_count": 8,
   "metadata": {
    "execution": {
     "iopub.execute_input": "2024-01-07T18:35:29.401257Z",
     "iopub.status.busy": "2024-01-07T18:35:29.400923Z",
     "iopub.status.idle": "2024-01-07T18:35:29.538469Z",
     "shell.execute_reply": "2024-01-07T18:35:29.537790Z",
     "shell.execute_reply.started": "2024-01-07T18:35:29.401196Z"
    }
   },
   "outputs": [],
   "source": [
    "from sklearn.utils.class_weight import compute_class_weight\n",
    "import tensorflow as tf\n",
    "from tensorflow.keras import backend as K\n",
    "from tensorflow.keras.utils import get_custom_objects\n",
    "\n",
    "\n",
    "def f1_metric(y_true, y_pred):\n",
    "\n",
    "    def recall(y_true, y_pred):\n",
    "        true_positives = K.sum(K.round(K.clip(y_true * y_pred, 0, 1)))  \n",
    "        possible_positives = K.sum(K.round(K.clip(y_true, 0, 1)))\n",
    "        recall = true_positives / (possible_positives + K.epsilon())\n",
    "        return recall\n",
    "\n",
    "    def precision(y_true, y_pred):\n",
    "        true_positives = K.sum(K.round(K.clip(y_true * y_pred, 0, 1)))\n",
    "        predicted_positives = K.sum(K.round(K.clip(y_pred, 0, 1)))\n",
    "        precision = true_positives / (predicted_positives + K.epsilon())\n",
    "        return precision\n",
    "\n",
    "    precision = precision(y_true, y_pred)\n",
    "    recall = recall(y_true, y_pred)\n",
    "\n",
    "    return 2 * ((precision * recall) / (precision + recall + K.epsilon()))\n",
    "\n",
    "get_custom_objects().update({\"f1_metric\": f1_metric})"
   ]
  },
  {
   "cell_type": "markdown",
   "metadata": {},
   "source": [
    "Se calcula y muestra el porcentaje de cada clase en el conjunto de entrenamiento para identificar la distribución y posible desbalance de clases."
   ]
  },
  {
   "cell_type": "code",
   "execution_count": 10,
   "metadata": {
    "execution": {
     "iopub.execute_input": "2024-01-07T18:35:29.833393Z",
     "iopub.status.busy": "2024-01-07T18:35:29.833049Z",
     "iopub.status.idle": "2024-01-07T18:35:29.846946Z",
     "shell.execute_reply": "2024-01-07T18:35:29.846245Z",
     "shell.execute_reply.started": "2024-01-07T18:35:29.833331Z"
    }
   },
   "outputs": [
    {
     "name": "stdout",
     "output_type": "stream",
     "text": [
      "percentage of class 0 = 32.77621653601538, class 1 = 33.94468273923976, class 2 = 33.27910072474486\n"
     ]
    }
   ],
   "source": [
    "_labels, _counts = np.unique(y_train, return_counts=True)\n",
    "print(\"percentage of class 0 = {}, class 1 = {}, class 2 = {}\".format(_counts[0]/len(y_train) * 100, _counts[1]/len(y_train) * 100, _counts[2]/len(y_train) * 100))"
   ]
  },
  {
   "cell_type": "markdown",
   "metadata": {},
   "source": [
    "Se aplica codificación one-hot a las etiquetas de los conjuntos de entrenamiento, validación y prueba, transformándolas en formatos compatibles con modelos de clasificación multiclase, y muestra las dimensiones resultantes para cada conjunto."
   ]
  },
  {
   "cell_type": "code",
   "execution_count": 11,
   "metadata": {
    "execution": {
     "iopub.execute_input": "2024-01-07T18:35:29.848321Z",
     "iopub.status.busy": "2024-01-07T18:35:29.848063Z",
     "iopub.status.idle": "2024-01-07T18:35:29.861591Z",
     "shell.execute_reply": "2024-01-07T18:35:29.860644Z",
     "shell.execute_reply.started": "2024-01-07T18:35:29.848272Z"
    }
   },
   "outputs": [
    {
     "name": "stdout",
     "output_type": "stream",
     "text": [
      "y_train (6761, 3)\n",
      "y_cv (2900, 3)\n",
      "y_test (900, 3)\n"
     ]
    }
   ],
   "source": [
    "from sklearn.preprocessing import OneHotEncoder\n",
    "\n",
    "one_hot_enc = OneHotEncoder(sparse=False, categories='auto')  \n",
    "y_train = one_hot_enc.fit_transform(y_train.reshape(-1, 1))\n",
    "print(\"y_train\",y_train.shape)\n",
    "y_cv = one_hot_enc.transform(y_cv.reshape(-1, 1))\n",
    "y_test = one_hot_enc.transform(y_test.reshape(-1, 1))\n",
    "print(\"y_cv\",y_cv.shape)\n",
    "print(\"y_test\",y_test.shape)"
   ]
  },
  {
   "cell_type": "markdown",
   "metadata": {},
   "source": [
    "Se importa diversas clases y funciones de TensorFlow y Keras necesarias para construir y entrenar una red neuronal convolucional (CNN). Incluye componentes para el modelo (como capas y regularizadores), callbacks para el entrenamiento, optimizadores, y métricas de evaluación como F1 y AUC."
   ]
  },
  {
   "cell_type": "code",
   "execution_count": 12,
   "metadata": {
    "execution": {
     "iopub.execute_input": "2024-01-07T18:35:29.863087Z",
     "iopub.status.busy": "2024-01-07T18:35:29.862796Z",
     "iopub.status.idle": "2024-01-07T18:35:29.895995Z",
     "shell.execute_reply": "2024-01-07T18:35:29.895320Z",
     "shell.execute_reply.started": "2024-01-07T18:35:29.863024Z"
    }
   },
   "outputs": [],
   "source": [
    "from tensorflow.keras.models import Sequential, load_model, Model\n",
    "from tensorflow.keras.layers import Dense, Dropout, Flatten, Conv2D, MaxPooling2D, LeakyReLU\n",
    "from tensorflow.keras.callbacks import ModelCheckpoint, EarlyStopping, ReduceLROnPlateau, CSVLogger, Callback\n",
    "from tensorflow.keras import optimizers, regularizers\n",
    "from tensorflow.keras.regularizers import l2, l1, l1_l2\n",
    "from tensorflow.keras.initializers import RandomUniform, RandomNormal\n",
    "import tensorflow as tf\n",
    "from functools import *\n",
    "from sklearn.metrics import f1_score\n",
    "from tensorflow.keras.metrics import AUC\n",
    "\n"
   ]
  },
  {
   "cell_type": "markdown",
   "metadata": {},
   "source": [
    "Se define una función make_model() para construir un modelo de red neuronal convolucional. La función make_model crea un modelo secuencial con capas convolucionales, de pooling, dropout y densas, y devuelve este modelo. Finalmente, se instancia un modelo utilizando esta función."
   ]
  },
  {
   "cell_type": "code",
   "execution_count": 13,
   "metadata": {
    "execution": {
     "iopub.execute_input": "2024-01-07T18:35:29.897293Z",
     "iopub.status.busy": "2024-01-07T18:35:29.897043Z",
     "iopub.status.idle": "2024-01-07T18:35:32.519660Z",
     "shell.execute_reply": "2024-01-07T18:35:32.519016Z",
     "shell.execute_reply.started": "2024-01-07T18:35:29.897243Z"
    }
   },
   "outputs": [],
   "source": [
    "def make_model(filter1=16, act1='relu', filter2=32, act2='relu', do1=.25, do2=.5, dense=32):\n",
    "    input_shape = (15, 15, 3)\n",
    "    cnn = Sequential([\n",
    "        Conv2D(filters=filter1,\n",
    "               kernel_size=3,\n",
    "               padding='same',\n",
    "               activation=act1,\n",
    "               input_shape=input_shape,\n",
    "               name='CONV1'),\n",
    "        Conv2D(filters=filter2,        \n",
    "               kernel_size=3,  \n",
    "               padding='same',\n",
    "               activation=act2,\n",
    "               name='CONV2'),\n",
    "        MaxPooling2D(pool_size=2, name='POOL2'),\n",
    "        Dropout(do1, name='DROP1'),\n",
    "        Flatten(name='FLAT1'),\n",
    "        Dense(dense, activation='relu', name='FC1'),\n",
    "        Dropout(do2, name='DROP2'),\n",
    "        Dense(3, activation='softmax', name='FC2')\n",
    "    ])\n",
    "    \n",
    "    return cnn\n",
    "\n",
    "model = make_model()"
   ]
  },
  {
   "cell_type": "markdown",
   "metadata": {},
   "source": [
    "Se configura callbacks para el entrenamiento del modelo:\n",
    "\n",
    "EarlyStopping detiene el entrenamiento si no hay mejora en la pérdida de validación.\n",
    "ReduceLROnPlateau reduce la tasa de aprendizaje si la pérdida de validación no mejora.\n",
    "ModelCheckpoint guarda el mejor modelo basado en la métrica de validación F1.\n",
    "También establece la ruta para guardar el mejor modelo."
   ]
  },
  {
   "cell_type": "code",
   "execution_count": 14,
   "metadata": {
    "execution": {
     "iopub.execute_input": "2024-01-07T18:35:32.521072Z",
     "iopub.status.busy": "2024-01-07T18:35:32.520806Z",
     "iopub.status.idle": "2024-01-07T18:35:32.528379Z",
     "shell.execute_reply": "2024-01-07T18:35:32.527654Z",
     "shell.execute_reply.started": "2024-01-07T18:35:32.521024Z"
    }
   },
   "outputs": [],
   "source": [
    "import os\n",
    "\n",
    "best_model_path = os.path.join('.', 'best_model_keras')\n",
    "es = EarlyStopping(monitor='val_loss', mode='min', verbose=1,\n",
    "                   patience=100, min_delta=0.0001)\n",
    "rlp = ReduceLROnPlateau(monitor='val_loss', factor=0.02, patience=20, verbose=1, mode='min',\n",
    "                        min_delta=0.001, cooldown=1, min_lr=0.0001)\n",
    "mcp = ModelCheckpoint(best_model_path, monitor='val_f1_metric', verbose=1,\n",
    "                      save_best_only=True, save_weights_only=False, mode='max', period=1)  # val_f1_metric"
   ]
  },
  {
   "cell_type": "markdown",
   "metadata": {},
   "source": [
    "Se compila el modelo configurando la función de pérdida como 'categorical_crossentropy' (adecuada para clasificación multiclase), el optimizador como 'adam' (un optimizador eficiente y popular), y las métricas para evaluar el modelo incluyen 'accuracy' y la métrica personalizada f1_metric."
   ]
  },
  {
   "cell_type": "code",
   "execution_count": 15,
   "metadata": {
    "execution": {
     "iopub.execute_input": "2024-01-07T18:35:32.529765Z",
     "iopub.status.busy": "2024-01-07T18:35:32.529531Z",
     "iopub.status.idle": "2024-01-07T18:35:32.597176Z",
     "shell.execute_reply": "2024-01-07T18:35:32.596638Z",
     "shell.execute_reply.started": "2024-01-07T18:35:32.529725Z"
    }
   },
   "outputs": [],
   "source": [
    "model.compile(loss='categorical_crossentropy', optimizer='adam', metrics=['accuracy', f1_metric])"
   ]
  },
  {
   "cell_type": "markdown",
   "metadata": {},
   "source": [
    "Se entrena el modelo utilizando el conjunto de entrenamiento con sus respectivos pesos de muestra. Se configura para un máximo de 3000 épocas, con un tamaño de lote de 32, y utilizando los datos de validación cruzada para la evaluación. Incluye los callbacks configurados previamente (ModelCheckpoint, ReduceLROnPlateau, EarlyStopping) y mide el tiempo de entrenamiento con el comando %%time."
   ]
  },
  {
   "cell_type": "code",
   "execution_count": 16,
   "metadata": {
    "execution": {
     "iopub.execute_input": "2024-01-07T18:35:32.598439Z",
     "iopub.status.busy": "2024-01-07T18:35:32.598232Z",
     "iopub.status.idle": "2024-01-07T18:37:35.454574Z",
     "shell.execute_reply": "2024-01-07T18:37:35.453700Z",
     "shell.execute_reply.started": "2024-01-07T18:35:32.598402Z"
    }
   },
   "outputs": [
    {
     "name": "stdout",
     "output_type": "stream",
     "text": [
      "Train on 6761 samples, validate on 2900 samples\n",
      "Epoch 1/3000\n",
      "6656/6761 [============================>.] - ETA: 0s - loss: 0.6748 - accuracy: 0.7060 - f1_metric: 0.6309\n",
      "Epoch 00001: val_f1_metric improved from -inf to 0.86283, saving model to ./best_model_keras\n",
      "6761/6761 [==============================] - 6s 858us/sample - loss: 0.6708 - accuracy: 0.7085 - f1_metric: 0.6338 - val_loss: 0.4015 - val_accuracy: 0.8669 - val_f1_metric: 0.8628\n",
      "Epoch 2/3000\n",
      "6624/6761 [============================>.] - ETA: 0s - loss: 0.4308 - accuracy: 0.8386 - f1_metric: 0.8328\n",
      "Epoch 00002: val_f1_metric improved from 0.86283 to 0.88056, saving model to ./best_model_keras\n",
      "6761/6761 [==============================] - 2s 286us/sample - loss: 0.4299 - accuracy: 0.8394 - f1_metric: 0.8340 - val_loss: 0.3269 - val_accuracy: 0.8814 - val_f1_metric: 0.8806\n",
      "Epoch 3/3000\n",
      "6528/6761 [===========================>..] - ETA: 0s - loss: 0.3624 - accuracy: 0.8722 - f1_metric: 0.8701\n",
      "Epoch 00003: val_f1_metric improved from 0.88056 to 0.89607, saving model to ./best_model_keras\n",
      "6761/6761 [==============================] - 2s 277us/sample - loss: 0.3594 - accuracy: 0.8732 - f1_metric: 0.8718 - val_loss: 0.2919 - val_accuracy: 0.8962 - val_f1_metric: 0.8961\n",
      "Epoch 4/3000\n",
      "6752/6761 [============================>.] - ETA: 0s - loss: 0.3131 - accuracy: 0.8891 - f1_metric: 0.8877\n",
      "Epoch 00004: val_f1_metric improved from 0.89607 to 0.90781, saving model to ./best_model_keras\n",
      "6761/6761 [==============================] - 2s 289us/sample - loss: 0.3132 - accuracy: 0.8891 - f1_metric: 0.8874 - val_loss: 0.2720 - val_accuracy: 0.9083 - val_f1_metric: 0.9078\n",
      "Epoch 5/3000\n",
      "6304/6761 [==========================>...] - ETA: 0s - loss: 0.2942 - accuracy: 0.8997 - f1_metric: 0.8959\n",
      "Epoch 00005: val_f1_metric improved from 0.90781 to 0.90784, saving model to ./best_model_keras\n",
      "6761/6761 [==============================] - 2s 305us/sample - loss: 0.2911 - accuracy: 0.9002 - f1_metric: 0.8969 - val_loss: 0.2683 - val_accuracy: 0.9079 - val_f1_metric: 0.9078\n",
      "Epoch 6/3000\n",
      "6400/6761 [===========================>..] - ETA: 0s - loss: 0.2882 - accuracy: 0.9020 - f1_metric: 0.9009\n",
      "Epoch 00006: val_f1_metric improved from 0.90784 to 0.90941, saving model to ./best_model_keras\n",
      "6761/6761 [==============================] - 2s 299us/sample - loss: 0.2866 - accuracy: 0.9025 - f1_metric: 0.9017 - val_loss: 0.2494 - val_accuracy: 0.9097 - val_f1_metric: 0.9094\n",
      "Epoch 7/3000\n",
      "6720/6761 [============================>.] - ETA: 0s - loss: 0.2639 - accuracy: 0.9109 - f1_metric: 0.9091\n",
      "Epoch 00007: val_f1_metric improved from 0.90941 to 0.91297, saving model to ./best_model_keras\n",
      "6761/6761 [==============================] - 2s 285us/sample - loss: 0.2634 - accuracy: 0.9110 - f1_metric: 0.9088 - val_loss: 0.2522 - val_accuracy: 0.9131 - val_f1_metric: 0.9130\n",
      "Epoch 8/3000\n",
      "6272/6761 [==========================>...] - ETA: 0s - loss: 0.2466 - accuracy: 0.9176 - f1_metric: 0.9158\n",
      "Epoch 00008: val_f1_metric did not improve from 0.91297\n",
      "6761/6761 [==============================] - 1s 144us/sample - loss: 0.2512 - accuracy: 0.9148 - f1_metric: 0.9122 - val_loss: 0.2601 - val_accuracy: 0.9093 - val_f1_metric: 0.9089\n",
      "Epoch 9/3000\n",
      "6400/6761 [===========================>..] - ETA: 0s - loss: 0.2417 - accuracy: 0.9191 - f1_metric: 0.9175\n",
      "Epoch 00009: val_f1_metric did not improve from 0.91297\n",
      "6761/6761 [==============================] - 1s 140us/sample - loss: 0.2437 - accuracy: 0.9184 - f1_metric: 0.9172 - val_loss: 0.2795 - val_accuracy: 0.8983 - val_f1_metric: 0.8984\n",
      "Epoch 10/3000\n",
      "6528/6761 [===========================>..] - ETA: 0s - loss: 0.2358 - accuracy: 0.9182 - f1_metric: 0.9165\n",
      "Epoch 00010: val_f1_metric improved from 0.91297 to 0.91315, saving model to ./best_model_keras\n",
      "6761/6761 [==============================] - 2s 277us/sample - loss: 0.2361 - accuracy: 0.9189 - f1_metric: 0.9171 - val_loss: 0.2556 - val_accuracy: 0.9138 - val_f1_metric: 0.9132\n",
      "Epoch 11/3000\n",
      "6368/6761 [===========================>..] - ETA: 0s - loss: 0.2234 - accuracy: 0.9232 - f1_metric: 0.9219\n",
      "Epoch 00011: val_f1_metric did not improve from 0.91315\n",
      "6761/6761 [==============================] - 1s 154us/sample - loss: 0.2215 - accuracy: 0.9241 - f1_metric: 0.9222 - val_loss: 0.2708 - val_accuracy: 0.9090 - val_f1_metric: 0.9087\n",
      "Epoch 12/3000\n",
      "6592/6761 [============================>.] - ETA: 0s - loss: 0.2229 - accuracy: 0.9202 - f1_metric: 0.9194\n",
      "Epoch 00012: val_f1_metric did not improve from 0.91315\n",
      "6761/6761 [==============================] - 1s 148us/sample - loss: 0.2229 - accuracy: 0.9204 - f1_metric: 0.9199 - val_loss: 0.2487 - val_accuracy: 0.9117 - val_f1_metric: 0.9115\n",
      "Epoch 13/3000\n",
      "6464/6761 [===========================>..] - ETA: 0s - loss: 0.2166 - accuracy: 0.9231 - f1_metric: 0.9220\n",
      "Epoch 00013: val_f1_metric did not improve from 0.91315\n",
      "6761/6761 [==============================] - 1s 149us/sample - loss: 0.2158 - accuracy: 0.9232 - f1_metric: 0.9223 - val_loss: 0.2456 - val_accuracy: 0.9121 - val_f1_metric: 0.9120\n",
      "Epoch 14/3000\n",
      "6400/6761 [===========================>..] - ETA: 0s - loss: 0.2102 - accuracy: 0.9316 - f1_metric: 0.9302\n",
      "Epoch 00014: val_f1_metric did not improve from 0.91315\n",
      "6761/6761 [==============================] - 1s 143us/sample - loss: 0.2127 - accuracy: 0.9306 - f1_metric: 0.9288 - val_loss: 0.2512 - val_accuracy: 0.9128 - val_f1_metric: 0.9127\n",
      "Epoch 15/3000\n",
      "6336/6761 [===========================>..] - ETA: 0s - loss: 0.2149 - accuracy: 0.9249 - f1_metric: 0.9239\n",
      "Epoch 00015: val_f1_metric did not improve from 0.91315\n",
      "6761/6761 [==============================] - 1s 144us/sample - loss: 0.2131 - accuracy: 0.9255 - f1_metric: 0.9245 - val_loss: 0.2698 - val_accuracy: 0.9034 - val_f1_metric: 0.9032\n",
      "Epoch 16/3000\n",
      "6656/6761 [============================>.] - ETA: 0s - loss: 0.1994 - accuracy: 0.9306 - f1_metric: 0.9303\n",
      "Epoch 00016: val_f1_metric did not improve from 0.91315\n",
      "6761/6761 [==============================] - 1s 155us/sample - loss: 0.2004 - accuracy: 0.9302 - f1_metric: 0.9298 - val_loss: 0.2509 - val_accuracy: 0.9124 - val_f1_metric: 0.9122\n",
      "Epoch 17/3000\n",
      "6656/6761 [============================>.] - ETA: 0s - loss: 0.1904 - accuracy: 0.9318 - f1_metric: 0.9315\n",
      "Epoch 00017: val_f1_metric improved from 0.91315 to 0.91420, saving model to ./best_model_keras\n",
      "6761/6761 [==============================] - 2s 293us/sample - loss: 0.1909 - accuracy: 0.9317 - f1_metric: 0.9316 - val_loss: 0.2585 - val_accuracy: 0.9145 - val_f1_metric: 0.9142\n",
      "Epoch 18/3000\n",
      "6496/6761 [===========================>..] - ETA: 0s - loss: 0.1964 - accuracy: 0.9300 - f1_metric: 0.9302\n",
      "Epoch 00018: val_f1_metric did not improve from 0.91420\n",
      "6761/6761 [==============================] - 1s 148us/sample - loss: 0.1977 - accuracy: 0.9287 - f1_metric: 0.9285 - val_loss: 0.2651 - val_accuracy: 0.9086 - val_f1_metric: 0.9084\n",
      "Epoch 19/3000\n",
      "6688/6761 [============================>.] - ETA: 0s - loss: 0.1970 - accuracy: 0.9315 - f1_metric: 0.9312\n",
      "Epoch 00019: val_f1_metric improved from 0.91420 to 0.91712, saving model to ./best_model_keras\n",
      "6761/6761 [==============================] - 2s 281us/sample - loss: 0.1979 - accuracy: 0.9314 - f1_metric: 0.9309 - val_loss: 0.2575 - val_accuracy: 0.9176 - val_f1_metric: 0.9171\n",
      "Epoch 20/3000\n",
      "6656/6761 [============================>.] - ETA: 0s - loss: 0.1906 - accuracy: 0.9339 - f1_metric: 0.9339\n",
      "Epoch 00020: val_f1_metric did not improve from 0.91712\n",
      "6761/6761 [==============================] - 1s 158us/sample - loss: 0.1891 - accuracy: 0.9346 - f1_metric: 0.9348 - val_loss: 0.2527 - val_accuracy: 0.9128 - val_f1_metric: 0.9126\n",
      "Epoch 21/3000\n",
      "6368/6761 [===========================>..] - ETA: 0s - loss: 0.1956 - accuracy: 0.9285 - f1_metric: 0.9285\n",
      "Epoch 00021: val_f1_metric did not improve from 0.91712\n",
      "6761/6761 [==============================] - 1s 152us/sample - loss: 0.1921 - accuracy: 0.9299 - f1_metric: 0.9301 - val_loss: 0.2526 - val_accuracy: 0.9166 - val_f1_metric: 0.9164\n",
      "Epoch 22/3000\n",
      "6336/6761 [===========================>..] - ETA: 0s - loss: 0.1790 - accuracy: 0.9351 - f1_metric: 0.9350\n",
      "Epoch 00022: val_f1_metric did not improve from 0.91712\n",
      "6761/6761 [==============================] - 1s 144us/sample - loss: 0.1808 - accuracy: 0.9343 - f1_metric: 0.9341 - val_loss: 0.2631 - val_accuracy: 0.9117 - val_f1_metric: 0.9116\n",
      "Epoch 23/3000\n",
      "6720/6761 [============================>.] - ETA: 0s - loss: 0.1783 - accuracy: 0.9356 - f1_metric: 0.9356\n",
      "Epoch 00023: val_f1_metric did not improve from 0.91712\n",
      "6761/6761 [==============================] - 1s 150us/sample - loss: 0.1781 - accuracy: 0.9355 - f1_metric: 0.9354 - val_loss: 0.2588 - val_accuracy: 0.9148 - val_f1_metric: 0.9146\n",
      "Epoch 24/3000\n",
      "6368/6761 [===========================>..] - ETA: 0s - loss: 0.1784 - accuracy: 0.9340 - f1_metric: 0.9341\n",
      "Epoch 00024: val_f1_metric did not improve from 0.91712\n",
      "6761/6761 [==============================] - 1s 155us/sample - loss: 0.1803 - accuracy: 0.9329 - f1_metric: 0.9328 - val_loss: 0.2546 - val_accuracy: 0.9141 - val_f1_metric: 0.9139\n",
      "Epoch 25/3000\n",
      "6720/6761 [============================>.] - ETA: 0s - loss: 0.1726 - accuracy: 0.9387 - f1_metric: 0.9387\n",
      "Epoch 00025: val_f1_metric did not improve from 0.91712\n",
      "6761/6761 [==============================] - 1s 152us/sample - loss: 0.1723 - accuracy: 0.9388 - f1_metric: 0.9387 - val_loss: 0.2752 - val_accuracy: 0.9152 - val_f1_metric: 0.9147\n",
      "Epoch 26/3000\n",
      "6560/6761 [============================>.] - ETA: 0s - loss: 0.1802 - accuracy: 0.9326 - f1_metric: 0.9323\n",
      "Epoch 00026: val_f1_metric did not improve from 0.91712\n",
      "6761/6761 [==============================] - 1s 146us/sample - loss: 0.1794 - accuracy: 0.9327 - f1_metric: 0.9322 - val_loss: 0.2566 - val_accuracy: 0.9172 - val_f1_metric: 0.9170\n",
      "Epoch 27/3000\n",
      "6336/6761 [===========================>..] - ETA: 0s - loss: 0.1655 - accuracy: 0.9388 - f1_metric: 0.9386\n",
      "Epoch 00027: val_f1_metric did not improve from 0.91712\n",
      "6761/6761 [==============================] - 1s 152us/sample - loss: 0.1671 - accuracy: 0.9382 - f1_metric: 0.9382 - val_loss: 0.2839 - val_accuracy: 0.9090 - val_f1_metric: 0.9089\n",
      "Epoch 28/3000\n",
      "6752/6761 [============================>.] - ETA: 0s - loss: 0.1822 - accuracy: 0.9334 - f1_metric: 0.9335\n",
      "Epoch 00028: val_f1_metric did not improve from 0.91712\n",
      "6761/6761 [==============================] - 1s 146us/sample - loss: 0.1823 - accuracy: 0.9333 - f1_metric: 0.9333 - val_loss: 0.2956 - val_accuracy: 0.9131 - val_f1_metric: 0.9127\n",
      "Epoch 29/3000\n",
      "6720/6761 [============================>.] - ETA: 0s - loss: 0.1737 - accuracy: 0.9369 - f1_metric: 0.9367\n",
      "Epoch 00029: val_f1_metric improved from 0.91712 to 0.91751, saving model to ./best_model_keras\n",
      "6761/6761 [==============================] - 2s 282us/sample - loss: 0.1736 - accuracy: 0.9368 - f1_metric: 0.9365 - val_loss: 0.2806 - val_accuracy: 0.9176 - val_f1_metric: 0.9175\n",
      "Epoch 30/3000\n",
      "6304/6761 [==========================>...] - ETA: 0s - loss: 0.1753 - accuracy: 0.9361 - f1_metric: 0.9359\n",
      "Epoch 00030: val_f1_metric improved from 0.91751 to 0.91765, saving model to ./best_model_keras\n",
      "6761/6761 [==============================] - 2s 289us/sample - loss: 0.1770 - accuracy: 0.9357 - f1_metric: 0.9356 - val_loss: 0.2695 - val_accuracy: 0.9179 - val_f1_metric: 0.9177\n",
      "Epoch 31/3000\n",
      "6720/6761 [============================>.] - ETA: 0s - loss: 0.1732 - accuracy: 0.9387 - f1_metric: 0.9385\n",
      "Epoch 00031: val_f1_metric did not improve from 0.91765\n",
      "6761/6761 [==============================] - 1s 168us/sample - loss: 0.1735 - accuracy: 0.9385 - f1_metric: 0.9378 - val_loss: 0.2722 - val_accuracy: 0.9100 - val_f1_metric: 0.9095\n",
      "Epoch 32/3000\n",
      "6528/6761 [===========================>..] - ETA: 0s - loss: 0.1731 - accuracy: 0.9364 - f1_metric: 0.9365\n",
      "Epoch 00032: val_f1_metric improved from 0.91765 to 0.91786, saving model to ./best_model_keras\n",
      "6761/6761 [==============================] - 2s 291us/sample - loss: 0.1718 - accuracy: 0.9368 - f1_metric: 0.9372 - val_loss: 0.2591 - val_accuracy: 0.9179 - val_f1_metric: 0.9179\n",
      "Epoch 33/3000\n",
      "6336/6761 [===========================>..] - ETA: 0s - loss: 0.1634 - accuracy: 0.9416 - f1_metric: 0.9417\n",
      "Epoch 00033: val_f1_metric did not improve from 0.91786\n",
      "\n",
      "Epoch 00033: ReduceLROnPlateau reducing learning rate to 0.0001.\n",
      "6761/6761 [==============================] - 1s 154us/sample - loss: 0.1642 - accuracy: 0.9413 - f1_metric: 0.9417 - val_loss: 0.2820 - val_accuracy: 0.9162 - val_f1_metric: 0.9159\n",
      "Epoch 34/3000\n",
      "6624/6761 [============================>.] - ETA: 0s - loss: 0.1569 - accuracy: 0.9404 - f1_metric: 0.9404\n",
      "Epoch 00034: val_f1_metric improved from 0.91786 to 0.91884, saving model to ./best_model_keras\n",
      "6761/6761 [==============================] - 2s 279us/sample - loss: 0.1565 - accuracy: 0.9407 - f1_metric: 0.9405 - val_loss: 0.2822 - val_accuracy: 0.9193 - val_f1_metric: 0.9188\n",
      "Epoch 35/3000\n",
      "6432/6761 [===========================>..] - ETA: 0s - loss: 0.1553 - accuracy: 0.9415 - f1_metric: 0.9418\n",
      "Epoch 00035: val_f1_metric did not improve from 0.91884\n",
      "6761/6761 [==============================] - 1s 153us/sample - loss: 0.1535 - accuracy: 0.9423 - f1_metric: 0.9427 - val_loss: 0.2779 - val_accuracy: 0.9183 - val_f1_metric: 0.9178\n",
      "Epoch 36/3000\n",
      "6336/6761 [===========================>..] - ETA: 0s - loss: 0.1518 - accuracy: 0.9433 - f1_metric: 0.9434\n",
      "Epoch 00036: val_f1_metric improved from 0.91884 to 0.92005, saving model to ./best_model_keras\n",
      "6761/6761 [==============================] - 2s 303us/sample - loss: 0.1507 - accuracy: 0.9438 - f1_metric: 0.9441 - val_loss: 0.2794 - val_accuracy: 0.9203 - val_f1_metric: 0.9201\n",
      "Epoch 37/3000\n",
      "6624/6761 [============================>.] - ETA: 0s - loss: 0.1504 - accuracy: 0.9446 - f1_metric: 0.9447\n",
      "Epoch 00037: val_f1_metric did not improve from 0.92005\n",
      "6761/6761 [==============================] - 1s 148us/sample - loss: 0.1494 - accuracy: 0.9448 - f1_metric: 0.9452 - val_loss: 0.2864 - val_accuracy: 0.9193 - val_f1_metric: 0.9190\n",
      "Epoch 38/3000\n",
      "6624/6761 [============================>.] - ETA: 0s - loss: 0.1465 - accuracy: 0.9454 - f1_metric: 0.9451\n",
      "Epoch 00038: val_f1_metric did not improve from 0.92005\n",
      "6761/6761 [==============================] - 1s 147us/sample - loss: 0.1455 - accuracy: 0.9460 - f1_metric: 0.9460 - val_loss: 0.2844 - val_accuracy: 0.9200 - val_f1_metric: 0.9195\n",
      "Epoch 39/3000\n",
      "6752/6761 [============================>.] - ETA: 0s - loss: 0.1476 - accuracy: 0.9425 - f1_metric: 0.9424\n",
      "Epoch 00039: val_f1_metric did not improve from 0.92005\n",
      "6761/6761 [==============================] - 1s 156us/sample - loss: 0.1475 - accuracy: 0.9426 - f1_metric: 0.9426 - val_loss: 0.2858 - val_accuracy: 0.9172 - val_f1_metric: 0.9168\n",
      "Epoch 40/3000\n",
      "6656/6761 [============================>.] - ETA: 0s - loss: 0.1451 - accuracy: 0.9455 - f1_metric: 0.9455\n",
      "Epoch 00040: val_f1_metric improved from 0.92005 to 0.92021, saving model to ./best_model_keras\n",
      "6761/6761 [==============================] - 2s 287us/sample - loss: 0.1467 - accuracy: 0.9445 - f1_metric: 0.9447 - val_loss: 0.2834 - val_accuracy: 0.9207 - val_f1_metric: 0.9202\n",
      "Epoch 41/3000\n",
      "6464/6761 [===========================>..] - ETA: 0s - loss: 0.1453 - accuracy: 0.9466 - f1_metric: 0.9465\n",
      "Epoch 00041: val_f1_metric did not improve from 0.92021\n",
      "6761/6761 [==============================] - 1s 154us/sample - loss: 0.1452 - accuracy: 0.9469 - f1_metric: 0.9469 - val_loss: 0.2847 - val_accuracy: 0.9207 - val_f1_metric: 0.9202\n",
      "Epoch 42/3000\n",
      "6656/6761 [============================>.] - ETA: 0s - loss: 0.1454 - accuracy: 0.9471 - f1_metric: 0.9471\n",
      "Epoch 00042: val_f1_metric did not improve from 0.92021\n",
      "6761/6761 [==============================] - 1s 147us/sample - loss: 0.1452 - accuracy: 0.9470 - f1_metric: 0.9465 - val_loss: 0.2872 - val_accuracy: 0.9197 - val_f1_metric: 0.9194\n",
      "Epoch 43/3000\n",
      "6560/6761 [============================>.] - ETA: 0s - loss: 0.1459 - accuracy: 0.9441 - f1_metric: 0.9441\n",
      "Epoch 00043: val_f1_metric did not improve from 0.92021\n",
      "6761/6761 [==============================] - 1s 150us/sample - loss: 0.1449 - accuracy: 0.9447 - f1_metric: 0.9449 - val_loss: 0.2891 - val_accuracy: 0.9197 - val_f1_metric: 0.9192\n",
      "Epoch 44/3000\n",
      "6464/6761 [===========================>..] - ETA: 0s - loss: 0.1423 - accuracy: 0.9462 - f1_metric: 0.9462\n",
      "Epoch 00044: val_f1_metric did not improve from 0.92021\n",
      "6761/6761 [==============================] - 1s 150us/sample - loss: 0.1425 - accuracy: 0.9460 - f1_metric: 0.9463 - val_loss: 0.2851 - val_accuracy: 0.9190 - val_f1_metric: 0.9187\n",
      "Epoch 45/3000\n",
      "6624/6761 [============================>.] - ETA: 0s - loss: 0.1446 - accuracy: 0.9447 - f1_metric: 0.9449\n",
      "Epoch 00045: val_f1_metric improved from 0.92021 to 0.92074, saving model to ./best_model_keras\n",
      "6761/6761 [==============================] - 2s 281us/sample - loss: 0.1446 - accuracy: 0.9445 - f1_metric: 0.9448 - val_loss: 0.2876 - val_accuracy: 0.9210 - val_f1_metric: 0.9207\n",
      "Epoch 46/3000\n",
      "6464/6761 [===========================>..] - ETA: 0s - loss: 0.1409 - accuracy: 0.9466 - f1_metric: 0.9466\n",
      "Epoch 00046: val_f1_metric did not improve from 0.92074\n",
      "6761/6761 [==============================] - 1s 152us/sample - loss: 0.1395 - accuracy: 0.9475 - f1_metric: 0.9477 - val_loss: 0.2933 - val_accuracy: 0.9183 - val_f1_metric: 0.9178\n",
      "Epoch 47/3000\n",
      "6720/6761 [============================>.] - ETA: 0s - loss: 0.1422 - accuracy: 0.9463 - f1_metric: 0.9462\n",
      "Epoch 00047: val_f1_metric did not improve from 0.92074\n",
      "6761/6761 [==============================] - 1s 156us/sample - loss: 0.1424 - accuracy: 0.9460 - f1_metric: 0.9461 - val_loss: 0.2938 - val_accuracy: 0.9183 - val_f1_metric: 0.9181\n",
      "Epoch 48/3000\n",
      "6464/6761 [===========================>..] - ETA: 0s - loss: 0.1411 - accuracy: 0.9471 - f1_metric: 0.9470\n",
      "Epoch 00048: val_f1_metric did not improve from 0.92074\n",
      "6761/6761 [==============================] - 1s 160us/sample - loss: 0.1394 - accuracy: 0.9479 - f1_metric: 0.9480 - val_loss: 0.2963 - val_accuracy: 0.9179 - val_f1_metric: 0.9178\n",
      "Epoch 49/3000\n",
      "6624/6761 [============================>.] - ETA: 0s - loss: 0.1406 - accuracy: 0.9470 - f1_metric: 0.9471\n",
      "Epoch 00049: val_f1_metric did not improve from 0.92074\n",
      "6761/6761 [==============================] - 1s 157us/sample - loss: 0.1406 - accuracy: 0.9470 - f1_metric: 0.9474 - val_loss: 0.2892 - val_accuracy: 0.9176 - val_f1_metric: 0.9175\n",
      "Epoch 50/3000\n",
      "6688/6761 [============================>.] - ETA: 0s - loss: 0.1419 - accuracy: 0.9472 - f1_metric: 0.9471\n",
      "Epoch 00050: val_f1_metric did not improve from 0.92074\n",
      "6761/6761 [==============================] - 1s 156us/sample - loss: 0.1433 - accuracy: 0.9466 - f1_metric: 0.9456 - val_loss: 0.2918 - val_accuracy: 0.9197 - val_f1_metric: 0.9192\n",
      "Epoch 51/3000\n",
      "6624/6761 [============================>.] - ETA: 0s - loss: 0.1392 - accuracy: 0.9469 - f1_metric: 0.9469\n",
      "Epoch 00051: val_f1_metric did not improve from 0.92074\n",
      "6761/6761 [==============================] - 1s 148us/sample - loss: 0.1405 - accuracy: 0.9460 - f1_metric: 0.9458 - val_loss: 0.2982 - val_accuracy: 0.9152 - val_f1_metric: 0.9149\n",
      "Epoch 52/3000\n",
      "6432/6761 [===========================>..] - ETA: 0s - loss: 0.1444 - accuracy: 0.9450 - f1_metric: 0.9451\n",
      "Epoch 00052: val_f1_metric did not improve from 0.92074\n",
      "6761/6761 [==============================] - 1s 152us/sample - loss: 0.1437 - accuracy: 0.9453 - f1_metric: 0.9456 - val_loss: 0.2986 - val_accuracy: 0.9166 - val_f1_metric: 0.9163\n",
      "Epoch 53/3000\n",
      "6720/6761 [============================>.] - ETA: 0s - loss: 0.1383 - accuracy: 0.9481 - f1_metric: 0.9482\n",
      "Epoch 00053: val_f1_metric did not improve from 0.92074\n",
      "6761/6761 [==============================] - 1s 157us/sample - loss: 0.1383 - accuracy: 0.9479 - f1_metric: 0.9482 - val_loss: 0.2986 - val_accuracy: 0.9172 - val_f1_metric: 0.9170\n",
      "Epoch 54/3000\n",
      "6496/6761 [===========================>..] - ETA: 0s - loss: 0.1459 - accuracy: 0.9438 - f1_metric: 0.9439\n",
      "Epoch 00054: val_f1_metric did not improve from 0.92074\n",
      "6761/6761 [==============================] - 1s 151us/sample - loss: 0.1447 - accuracy: 0.9448 - f1_metric: 0.9451 - val_loss: 0.2950 - val_accuracy: 0.9203 - val_f1_metric: 0.9199\n",
      "Epoch 55/3000\n",
      "6688/6761 [============================>.] - ETA: 0s - loss: 0.1401 - accuracy: 0.9480 - f1_metric: 0.9480\n",
      "Epoch 00055: val_f1_metric did not improve from 0.92074\n",
      "6761/6761 [==============================] - 1s 145us/sample - loss: 0.1401 - accuracy: 0.9481 - f1_metric: 0.9483 - val_loss: 0.2958 - val_accuracy: 0.9166 - val_f1_metric: 0.9164\n",
      "Epoch 56/3000\n",
      "6624/6761 [============================>.] - ETA: 0s - loss: 0.1384 - accuracy: 0.9470 - f1_metric: 0.9469\n",
      "Epoch 00056: val_f1_metric did not improve from 0.92074\n",
      "6761/6761 [==============================] - 1s 155us/sample - loss: 0.1377 - accuracy: 0.9472 - f1_metric: 0.9473 - val_loss: 0.3023 - val_accuracy: 0.9203 - val_f1_metric: 0.9201\n",
      "Epoch 57/3000\n",
      "6528/6761 [===========================>..] - ETA: 0s - loss: 0.1414 - accuracy: 0.9461 - f1_metric: 0.9462\n",
      "Epoch 00057: val_f1_metric did not improve from 0.92074\n",
      "6761/6761 [==============================] - 1s 170us/sample - loss: 0.1406 - accuracy: 0.9466 - f1_metric: 0.9469 - val_loss: 0.2913 - val_accuracy: 0.9210 - val_f1_metric: 0.9207\n",
      "Epoch 58/3000\n",
      "6624/6761 [============================>.] - ETA: 0s - loss: 0.1398 - accuracy: 0.9479 - f1_metric: 0.9479\n",
      "Epoch 00058: val_f1_metric did not improve from 0.92074\n",
      "6761/6761 [==============================] - 1s 155us/sample - loss: 0.1407 - accuracy: 0.9470 - f1_metric: 0.9472 - val_loss: 0.2909 - val_accuracy: 0.9179 - val_f1_metric: 0.9177\n",
      "Epoch 59/3000\n",
      "6720/6761 [============================>.] - ETA: 0s - loss: 0.1387 - accuracy: 0.9487 - f1_metric: 0.9487\n",
      "Epoch 00059: val_f1_metric did not improve from 0.92074\n",
      "6761/6761 [==============================] - 1s 156us/sample - loss: 0.1381 - accuracy: 0.9490 - f1_metric: 0.9491 - val_loss: 0.2982 - val_accuracy: 0.9197 - val_f1_metric: 0.9194\n",
      "Epoch 60/3000\n",
      "6656/6761 [============================>.] - ETA: 0s - loss: 0.1361 - accuracy: 0.9474 - f1_metric: 0.9473\n",
      "Epoch 00060: val_f1_metric did not improve from 0.92074\n",
      "6761/6761 [==============================] - 1s 146us/sample - loss: 0.1368 - accuracy: 0.9470 - f1_metric: 0.9472 - val_loss: 0.2887 - val_accuracy: 0.9183 - val_f1_metric: 0.9182\n",
      "Epoch 61/3000\n",
      "6400/6761 [===========================>..] - ETA: 0s - loss: 0.1390 - accuracy: 0.9481 - f1_metric: 0.9481\n",
      "Epoch 00061: val_f1_metric did not improve from 0.92074\n",
      "6761/6761 [==============================] - 1s 141us/sample - loss: 0.1389 - accuracy: 0.9481 - f1_metric: 0.9483 - val_loss: 0.2941 - val_accuracy: 0.9197 - val_f1_metric: 0.9195\n",
      "Epoch 62/3000\n",
      "6400/6761 [===========================>..] - ETA: 0s - loss: 0.1370 - accuracy: 0.9486 - f1_metric: 0.9485\n",
      "Epoch 00062: val_f1_metric did not improve from 0.92074\n",
      "6761/6761 [==============================] - 1s 144us/sample - loss: 0.1384 - accuracy: 0.9478 - f1_metric: 0.9479 - val_loss: 0.2915 - val_accuracy: 0.9179 - val_f1_metric: 0.9178\n",
      "Epoch 63/3000\n",
      "6560/6761 [============================>.] - ETA: 0s - loss: 0.1359 - accuracy: 0.9492 - f1_metric: 0.9492\n",
      "Epoch 00063: val_f1_metric did not improve from 0.92074\n",
      "6761/6761 [==============================] - 1s 149us/sample - loss: 0.1352 - accuracy: 0.9494 - f1_metric: 0.9492 - val_loss: 0.2916 - val_accuracy: 0.9200 - val_f1_metric: 0.9197\n",
      "Epoch 64/3000\n",
      "6496/6761 [===========================>..] - ETA: 0s - loss: 0.1416 - accuracy: 0.9467 - f1_metric: 0.9468\n",
      "Epoch 00064: val_f1_metric did not improve from 0.92074\n",
      "6761/6761 [==============================] - 1s 150us/sample - loss: 0.1396 - accuracy: 0.9479 - f1_metric: 0.9482 - val_loss: 0.2962 - val_accuracy: 0.9203 - val_f1_metric: 0.9199\n",
      "Epoch 65/3000\n",
      "6304/6761 [==========================>...] - ETA: 0s - loss: 0.1385 - accuracy: 0.9469 - f1_metric: 0.9468\n",
      "Epoch 00065: val_f1_metric did not improve from 0.92074\n",
      "6761/6761 [==============================] - 1s 144us/sample - loss: 0.1379 - accuracy: 0.9469 - f1_metric: 0.9471 - val_loss: 0.2955 - val_accuracy: 0.9193 - val_f1_metric: 0.9192\n",
      "Epoch 66/3000\n",
      "6656/6761 [============================>.] - ETA: 0s - loss: 0.1413 - accuracy: 0.9464 - f1_metric: 0.9464\n",
      "Epoch 00066: val_f1_metric did not improve from 0.92074\n",
      "6761/6761 [==============================] - 1s 147us/sample - loss: 0.1403 - accuracy: 0.9470 - f1_metric: 0.9472 - val_loss: 0.2943 - val_accuracy: 0.9190 - val_f1_metric: 0.9187\n",
      "Epoch 67/3000\n",
      "6624/6761 [============================>.] - ETA: 0s - loss: 0.1388 - accuracy: 0.9472 - f1_metric: 0.9472\n",
      "Epoch 00067: val_f1_metric did not improve from 0.92074\n",
      "6761/6761 [==============================] - 1s 149us/sample - loss: 0.1375 - accuracy: 0.9478 - f1_metric: 0.9476 - val_loss: 0.2945 - val_accuracy: 0.9179 - val_f1_metric: 0.9177\n",
      "Epoch 68/3000\n",
      "6400/6761 [===========================>..] - ETA: 0s - loss: 0.1365 - accuracy: 0.9492 - f1_metric: 0.9492\n",
      "Epoch 00068: val_f1_metric did not improve from 0.92074\n",
      "6761/6761 [==============================] - 1s 149us/sample - loss: 0.1361 - accuracy: 0.9493 - f1_metric: 0.9491 - val_loss: 0.2985 - val_accuracy: 0.9190 - val_f1_metric: 0.9188\n",
      "Epoch 69/3000\n",
      "6432/6761 [===========================>..] - ETA: 0s - loss: 0.1362 - accuracy: 0.9492 - f1_metric: 0.9491\n",
      "Epoch 00069: val_f1_metric improved from 0.92074 to 0.92090, saving model to ./best_model_keras\n",
      "6761/6761 [==============================] - 2s 281us/sample - loss: 0.1377 - accuracy: 0.9487 - f1_metric: 0.9488 - val_loss: 0.2996 - val_accuracy: 0.9210 - val_f1_metric: 0.9209\n",
      "Epoch 70/3000\n",
      "6656/6761 [============================>.] - ETA: 0s - loss: 0.1322 - accuracy: 0.9479 - f1_metric: 0.9479\n",
      "Epoch 00070: val_f1_metric did not improve from 0.92090\n",
      "6761/6761 [==============================] - 1s 147us/sample - loss: 0.1331 - accuracy: 0.9473 - f1_metric: 0.9476 - val_loss: 0.3017 - val_accuracy: 0.9176 - val_f1_metric: 0.9173\n",
      "Epoch 71/3000\n",
      "6496/6761 [===========================>..] - ETA: 0s - loss: 0.1381 - accuracy: 0.9478 - f1_metric: 0.9479\n",
      "Epoch 00071: val_f1_metric did not improve from 0.92090\n",
      "6761/6761 [==============================] - 1s 149us/sample - loss: 0.1381 - accuracy: 0.9475 - f1_metric: 0.9477 - val_loss: 0.3022 - val_accuracy: 0.9183 - val_f1_metric: 0.9182\n",
      "Epoch 72/3000\n",
      "6368/6761 [===========================>..] - ETA: 0s - loss: 0.1361 - accuracy: 0.9469 - f1_metric: 0.9469\n",
      "Epoch 00072: val_f1_metric did not improve from 0.92090\n",
      "6761/6761 [==============================] - 1s 154us/sample - loss: 0.1345 - accuracy: 0.9478 - f1_metric: 0.9476 - val_loss: 0.3053 - val_accuracy: 0.9169 - val_f1_metric: 0.9166\n",
      "Epoch 73/3000\n",
      "6464/6761 [===========================>..] - ETA: 0s - loss: 0.1378 - accuracy: 0.9452 - f1_metric: 0.9451\n",
      "Epoch 00073: val_f1_metric did not improve from 0.92090\n",
      "6761/6761 [==============================] - 1s 152us/sample - loss: 0.1376 - accuracy: 0.9456 - f1_metric: 0.9452 - val_loss: 0.3000 - val_accuracy: 0.9190 - val_f1_metric: 0.9187\n",
      "Epoch 74/3000\n",
      "6688/6761 [============================>.] - ETA: 0s - loss: 0.1376 - accuracy: 0.9502 - f1_metric: 0.9501\n",
      "Epoch 00074: val_f1_metric did not improve from 0.92090\n",
      "6761/6761 [==============================] - 1s 145us/sample - loss: 0.1376 - accuracy: 0.9502 - f1_metric: 0.9502 - val_loss: 0.3128 - val_accuracy: 0.9148 - val_f1_metric: 0.9146\n",
      "Epoch 75/3000\n",
      "6432/6761 [===========================>..] - ETA: 0s - loss: 0.1318 - accuracy: 0.9496 - f1_metric: 0.9498\n",
      "Epoch 00075: val_f1_metric did not improve from 0.92090\n",
      "6761/6761 [==============================] - 1s 142us/sample - loss: 0.1334 - accuracy: 0.9491 - f1_metric: 0.9494 - val_loss: 0.3136 - val_accuracy: 0.9210 - val_f1_metric: 0.9207\n",
      "Epoch 76/3000\n",
      "6752/6761 [============================>.] - ETA: 0s - loss: 0.1351 - accuracy: 0.9507 - f1_metric: 0.9507\n",
      "Epoch 00076: val_f1_metric did not improve from 0.92090\n",
      "6761/6761 [==============================] - 1s 147us/sample - loss: 0.1352 - accuracy: 0.9506 - f1_metric: 0.9504 - val_loss: 0.3018 - val_accuracy: 0.9207 - val_f1_metric: 0.9204\n",
      "Epoch 77/3000\n",
      "6528/6761 [===========================>..] - ETA: 0s - loss: 0.1360 - accuracy: 0.9478 - f1_metric: 0.9477\n",
      "Epoch 00077: val_f1_metric did not improve from 0.92090\n",
      "6761/6761 [==============================] - 1s 147us/sample - loss: 0.1356 - accuracy: 0.9478 - f1_metric: 0.9479 - val_loss: 0.3021 - val_accuracy: 0.9159 - val_f1_metric: 0.9157\n",
      "Epoch 78/3000\n",
      "6496/6761 [===========================>..] - ETA: 0s - loss: 0.1330 - accuracy: 0.9481 - f1_metric: 0.9480\n",
      "Epoch 00078: val_f1_metric did not improve from 0.92090\n",
      "6761/6761 [==============================] - 1s 150us/sample - loss: 0.1343 - accuracy: 0.9472 - f1_metric: 0.9472 - val_loss: 0.3090 - val_accuracy: 0.9193 - val_f1_metric: 0.9190\n",
      "Epoch 79/3000\n",
      "6272/6761 [==========================>...] - ETA: 0s - loss: 0.1335 - accuracy: 0.9488 - f1_metric: 0.9489\n",
      "Epoch 00079: val_f1_metric did not improve from 0.92090\n",
      "6761/6761 [==============================] - 1s 142us/sample - loss: 0.1367 - accuracy: 0.9476 - f1_metric: 0.9475 - val_loss: 0.2984 - val_accuracy: 0.9186 - val_f1_metric: 0.9185\n",
      "Epoch 80/3000\n",
      "6368/6761 [===========================>..] - ETA: 0s - loss: 0.1332 - accuracy: 0.9483 - f1_metric: 0.9484\n",
      "Epoch 00080: val_f1_metric did not improve from 0.92090\n",
      "6761/6761 [==============================] - 1s 141us/sample - loss: 0.1328 - accuracy: 0.9488 - f1_metric: 0.9491 - val_loss: 0.3110 - val_accuracy: 0.9190 - val_f1_metric: 0.9187\n",
      "Epoch 81/3000\n",
      "6560/6761 [============================>.] - ETA: 0s - loss: 0.1341 - accuracy: 0.9480 - f1_metric: 0.9481\n",
      "Epoch 00081: val_f1_metric did not improve from 0.92090\n",
      "6761/6761 [==============================] - 1s 139us/sample - loss: 0.1335 - accuracy: 0.9484 - f1_metric: 0.9486 - val_loss: 0.3027 - val_accuracy: 0.9190 - val_f1_metric: 0.9187\n",
      "Epoch 82/3000\n",
      "6720/6761 [============================>.] - ETA: 0s - loss: 0.1370 - accuracy: 0.9484 - f1_metric: 0.9484\n",
      "Epoch 00082: val_f1_metric did not improve from 0.92090\n",
      "6761/6761 [==============================] - 1s 146us/sample - loss: 0.1369 - accuracy: 0.9484 - f1_metric: 0.9482 - val_loss: 0.3000 - val_accuracy: 0.9200 - val_f1_metric: 0.9199\n",
      "Epoch 83/3000\n",
      "6688/6761 [============================>.] - ETA: 0s - loss: 0.1351 - accuracy: 0.9474 - f1_metric: 0.9474\n",
      "Epoch 00083: val_f1_metric did not improve from 0.92090\n",
      "6761/6761 [==============================] - 1s 146us/sample - loss: 0.1348 - accuracy: 0.9476 - f1_metric: 0.9478 - val_loss: 0.2987 - val_accuracy: 0.9183 - val_f1_metric: 0.9180\n",
      "Epoch 84/3000\n",
      "6432/6761 [===========================>..] - ETA: 0s - loss: 0.1257 - accuracy: 0.9523 - f1_metric: 0.9523\n",
      "Epoch 00084: val_f1_metric did not improve from 0.92090\n",
      "6761/6761 [==============================] - 1s 139us/sample - loss: 0.1267 - accuracy: 0.9516 - f1_metric: 0.9513 - val_loss: 0.3096 - val_accuracy: 0.9172 - val_f1_metric: 0.9168\n",
      "Epoch 85/3000\n",
      "6400/6761 [===========================>..] - ETA: 0s - loss: 0.1313 - accuracy: 0.9492 - f1_metric: 0.9491\n",
      "Epoch 00085: val_f1_metric did not improve from 0.92090\n",
      "6761/6761 [==============================] - 1s 139us/sample - loss: 0.1305 - accuracy: 0.9499 - f1_metric: 0.9499 - val_loss: 0.3110 - val_accuracy: 0.9186 - val_f1_metric: 0.9185\n",
      "Epoch 86/3000\n",
      "6592/6761 [============================>.] - ETA: 0s - loss: 0.1293 - accuracy: 0.9502 - f1_metric: 0.9504\n",
      "Epoch 00086: val_f1_metric did not improve from 0.92090\n",
      "6761/6761 [==============================] - 1s 139us/sample - loss: 0.1299 - accuracy: 0.9499 - f1_metric: 0.9502 - val_loss: 0.3158 - val_accuracy: 0.9186 - val_f1_metric: 0.9183\n",
      "Epoch 87/3000\n",
      "6528/6761 [===========================>..] - ETA: 0s - loss: 0.1391 - accuracy: 0.9455 - f1_metric: 0.9456\n",
      "Epoch 00087: val_f1_metric did not improve from 0.92090\n",
      "6761/6761 [==============================] - 1s 168us/sample - loss: 0.1389 - accuracy: 0.9454 - f1_metric: 0.9454 - val_loss: 0.3087 - val_accuracy: 0.9203 - val_f1_metric: 0.9199\n",
      "Epoch 88/3000\n",
      "6592/6761 [============================>.] - ETA: 0s - loss: 0.1367 - accuracy: 0.9496 - f1_metric: 0.9496\n",
      "Epoch 00088: val_f1_metric did not improve from 0.92090\n",
      "6761/6761 [==============================] - 1s 172us/sample - loss: 0.1360 - accuracy: 0.9500 - f1_metric: 0.9502 - val_loss: 0.2973 - val_accuracy: 0.9200 - val_f1_metric: 0.9199\n",
      "Epoch 89/3000\n",
      "6432/6761 [===========================>..] - ETA: 0s - loss: 0.1296 - accuracy: 0.9499 - f1_metric: 0.9499\n",
      "Epoch 00089: val_f1_metric did not improve from 0.92090\n",
      "6761/6761 [==============================] - 1s 151us/sample - loss: 0.1303 - accuracy: 0.9494 - f1_metric: 0.9496 - val_loss: 0.3184 - val_accuracy: 0.9197 - val_f1_metric: 0.9194\n",
      "Epoch 90/3000\n",
      "6688/6761 [============================>.] - ETA: 0s - loss: 0.1321 - accuracy: 0.9484 - f1_metric: 0.9484\n",
      "Epoch 00090: val_f1_metric did not improve from 0.92090\n",
      "6761/6761 [==============================] - 1s 147us/sample - loss: 0.1312 - accuracy: 0.9490 - f1_metric: 0.9491 - val_loss: 0.3136 - val_accuracy: 0.9148 - val_f1_metric: 0.9146\n",
      "Epoch 91/3000\n",
      "6656/6761 [============================>.] - ETA: 0s - loss: 0.1302 - accuracy: 0.9504 - f1_metric: 0.9504\n",
      "Epoch 00091: val_f1_metric did not improve from 0.92090\n",
      "6761/6761 [==============================] - 1s 145us/sample - loss: 0.1308 - accuracy: 0.9500 - f1_metric: 0.9494 - val_loss: 0.3215 - val_accuracy: 0.9155 - val_f1_metric: 0.9151\n",
      "Epoch 92/3000\n",
      "6624/6761 [============================>.] - ETA: 0s - loss: 0.1282 - accuracy: 0.9514 - f1_metric: 0.9514\n",
      "Epoch 00092: val_f1_metric did not improve from 0.92090\n",
      "6761/6761 [==============================] - 1s 148us/sample - loss: 0.1295 - accuracy: 0.9507 - f1_metric: 0.9505 - val_loss: 0.3156 - val_accuracy: 0.9169 - val_f1_metric: 0.9168\n",
      "Epoch 93/3000\n",
      "6304/6761 [==========================>...] - ETA: 0s - loss: 0.1332 - accuracy: 0.9480 - f1_metric: 0.9480\n",
      "Epoch 00093: val_f1_metric did not improve from 0.92090\n",
      "6761/6761 [==============================] - 1s 152us/sample - loss: 0.1342 - accuracy: 0.9481 - f1_metric: 0.9483 - val_loss: 0.3131 - val_accuracy: 0.9162 - val_f1_metric: 0.9161\n",
      "Epoch 94/3000\n",
      "6624/6761 [============================>.] - ETA: 0s - loss: 0.1377 - accuracy: 0.9476 - f1_metric: 0.9476\n",
      "Epoch 00094: val_f1_metric did not improve from 0.92090\n",
      "6761/6761 [==============================] - 1s 146us/sample - loss: 0.1374 - accuracy: 0.9478 - f1_metric: 0.9472 - val_loss: 0.3140 - val_accuracy: 0.9203 - val_f1_metric: 0.9201\n",
      "Epoch 95/3000\n",
      "6528/6761 [===========================>..] - ETA: 0s - loss: 0.1303 - accuracy: 0.9496 - f1_metric: 0.9494\n",
      "Epoch 00095: val_f1_metric did not improve from 0.92090\n",
      "6761/6761 [==============================] - 1s 140us/sample - loss: 0.1300 - accuracy: 0.9499 - f1_metric: 0.9499 - val_loss: 0.3124 - val_accuracy: 0.9176 - val_f1_metric: 0.9175\n",
      "Epoch 96/3000\n",
      "6432/6761 [===========================>..] - ETA: 0s - loss: 0.1329 - accuracy: 0.9493 - f1_metric: 0.9494\n",
      "Epoch 00096: val_f1_metric did not improve from 0.92090\n",
      "6761/6761 [==============================] - 1s 140us/sample - loss: 0.1338 - accuracy: 0.9488 - f1_metric: 0.9487 - val_loss: 0.3086 - val_accuracy: 0.9155 - val_f1_metric: 0.9152\n",
      "Epoch 97/3000\n",
      "6336/6761 [===========================>..] - ETA: 0s - loss: 0.1324 - accuracy: 0.9501 - f1_metric: 0.9502\n",
      "Epoch 00097: val_f1_metric did not improve from 0.92090\n",
      "6761/6761 [==============================] - 1s 146us/sample - loss: 0.1323 - accuracy: 0.9506 - f1_metric: 0.9508 - val_loss: 0.3118 - val_accuracy: 0.9162 - val_f1_metric: 0.9161\n",
      "Epoch 98/3000\n",
      "6368/6761 [===========================>..] - ETA: 0s - loss: 0.1315 - accuracy: 0.9494 - f1_metric: 0.9494\n",
      "Epoch 00098: val_f1_metric did not improve from 0.92090\n",
      "6761/6761 [==============================] - 1s 160us/sample - loss: 0.1309 - accuracy: 0.9496 - f1_metric: 0.9487 - val_loss: 0.3066 - val_accuracy: 0.9200 - val_f1_metric: 0.9195\n",
      "Epoch 99/3000\n",
      "6752/6761 [============================>.] - ETA: 0s - loss: 0.1287 - accuracy: 0.9511 - f1_metric: 0.9511\n",
      "Epoch 00099: val_f1_metric did not improve from 0.92090\n",
      "6761/6761 [==============================] - 1s 146us/sample - loss: 0.1286 - accuracy: 0.9512 - f1_metric: 0.9514 - val_loss: 0.3061 - val_accuracy: 0.9207 - val_f1_metric: 0.9204\n",
      "Epoch 100/3000\n",
      "6304/6761 [==========================>...] - ETA: 0s - loss: 0.1329 - accuracy: 0.9496 - f1_metric: 0.9496\n",
      "Epoch 00100: val_f1_metric did not improve from 0.92090\n",
      "6761/6761 [==============================] - 1s 144us/sample - loss: 0.1316 - accuracy: 0.9499 - f1_metric: 0.9497 - val_loss: 0.3142 - val_accuracy: 0.9207 - val_f1_metric: 0.9202\n",
      "Epoch 101/3000\n",
      "6304/6761 [==========================>...] - ETA: 0s - loss: 0.1289 - accuracy: 0.9505 - f1_metric: 0.9506\n",
      "Epoch 00101: val_f1_metric did not improve from 0.92090\n",
      "6761/6761 [==============================] - 1s 143us/sample - loss: 0.1305 - accuracy: 0.9497 - f1_metric: 0.9496 - val_loss: 0.3176 - val_accuracy: 0.9203 - val_f1_metric: 0.9201\n",
      "Epoch 102/3000\n",
      "6528/6761 [===========================>..] - ETA: 0s - loss: 0.1307 - accuracy: 0.9487 - f1_metric: 0.9487\n",
      "Epoch 00102: val_f1_metric did not improve from 0.92090\n",
      "6761/6761 [==============================] - 1s 143us/sample - loss: 0.1305 - accuracy: 0.9491 - f1_metric: 0.9489 - val_loss: 0.3154 - val_accuracy: 0.9166 - val_f1_metric: 0.9164\n",
      "Epoch 103/3000\n",
      "6656/6761 [============================>.] - ETA: 0s - loss: 0.1324 - accuracy: 0.9503 - f1_metric: 0.9503\n",
      "Epoch 00103: val_f1_metric did not improve from 0.92090\n",
      "6761/6761 [==============================] - 1s 156us/sample - loss: 0.1330 - accuracy: 0.9497 - f1_metric: 0.9496 - val_loss: 0.3120 - val_accuracy: 0.9207 - val_f1_metric: 0.9204\n",
      "Epoch 104/3000\n",
      "6400/6761 [===========================>..] - ETA: 0s - loss: 0.1327 - accuracy: 0.9481 - f1_metric: 0.9482\n",
      "Epoch 00104: val_f1_metric improved from 0.92090 to 0.92109, saving model to ./best_model_keras\n",
      "6761/6761 [==============================] - 2s 297us/sample - loss: 0.1340 - accuracy: 0.9472 - f1_metric: 0.9474 - val_loss: 0.3112 - val_accuracy: 0.9214 - val_f1_metric: 0.9211\n",
      "Epoch 105/3000\n",
      "6336/6761 [===========================>..] - ETA: 0s - loss: 0.1314 - accuracy: 0.9500 - f1_metric: 0.9499\n",
      "Epoch 00105: val_f1_metric did not improve from 0.92109\n",
      "6761/6761 [==============================] - 1s 143us/sample - loss: 0.1299 - accuracy: 0.9506 - f1_metric: 0.9507 - val_loss: 0.3097 - val_accuracy: 0.9203 - val_f1_metric: 0.9202\n",
      "Epoch 106/3000\n",
      "6336/6761 [===========================>..] - ETA: 0s - loss: 0.1300 - accuracy: 0.9503 - f1_metric: 0.9504\n",
      "Epoch 00106: val_f1_metric did not improve from 0.92109\n",
      "6761/6761 [==============================] - 1s 144us/sample - loss: 0.1303 - accuracy: 0.9500 - f1_metric: 0.9502 - val_loss: 0.3093 - val_accuracy: 0.9186 - val_f1_metric: 0.9183\n",
      "Epoch 107/3000\n",
      "6496/6761 [===========================>..] - ETA: 0s - loss: 0.1298 - accuracy: 0.9504 - f1_metric: 0.9504\n",
      "Epoch 00107: val_f1_metric did not improve from 0.92109\n",
      "6761/6761 [==============================] - 1s 156us/sample - loss: 0.1303 - accuracy: 0.9503 - f1_metric: 0.9501 - val_loss: 0.3141 - val_accuracy: 0.9172 - val_f1_metric: 0.9170\n",
      "Epoch 108/3000\n",
      "6432/6761 [===========================>..] - ETA: 0s - loss: 0.1319 - accuracy: 0.9476 - f1_metric: 0.9477\n",
      "Epoch 00108: val_f1_metric did not improve from 0.92109\n",
      "6761/6761 [==============================] - 1s 148us/sample - loss: 0.1320 - accuracy: 0.9476 - f1_metric: 0.9479 - val_loss: 0.3167 - val_accuracy: 0.9207 - val_f1_metric: 0.9204\n",
      "Epoch 109/3000\n",
      "6496/6761 [===========================>..] - ETA: 0s - loss: 0.1336 - accuracy: 0.9486 - f1_metric: 0.9486\n",
      "Epoch 00109: val_f1_metric did not improve from 0.92109\n",
      "6761/6761 [==============================] - 1s 150us/sample - loss: 0.1318 - accuracy: 0.9494 - f1_metric: 0.9493 - val_loss: 0.3171 - val_accuracy: 0.9148 - val_f1_metric: 0.9146\n",
      "Epoch 110/3000\n",
      "6752/6761 [============================>.] - ETA: 0s - loss: 0.1320 - accuracy: 0.9496 - f1_metric: 0.9496\n",
      "Epoch 00110: val_f1_metric did not improve from 0.92109\n",
      "6761/6761 [==============================] - 1s 143us/sample - loss: 0.1321 - accuracy: 0.9496 - f1_metric: 0.9494 - val_loss: 0.3100 - val_accuracy: 0.9197 - val_f1_metric: 0.9195\n",
      "Epoch 111/3000\n",
      "6720/6761 [============================>.] - ETA: 0s - loss: 0.1296 - accuracy: 0.9496 - f1_metric: 0.9495\n",
      "Epoch 00111: val_f1_metric did not improve from 0.92109\n",
      "6761/6761 [==============================] - 1s 145us/sample - loss: 0.1291 - accuracy: 0.9499 - f1_metric: 0.9499 - val_loss: 0.3145 - val_accuracy: 0.9176 - val_f1_metric: 0.9171\n",
      "Epoch 112/3000\n",
      "6656/6761 [============================>.] - ETA: 0s - loss: 0.1316 - accuracy: 0.9506 - f1_metric: 0.9505\n",
      "Epoch 00112: val_f1_metric did not improve from 0.92109\n",
      "6761/6761 [==============================] - 1s 155us/sample - loss: 0.1315 - accuracy: 0.9507 - f1_metric: 0.9509 - val_loss: 0.3200 - val_accuracy: 0.9169 - val_f1_metric: 0.9168\n",
      "Epoch 113/3000\n",
      "6560/6761 [============================>.] - ETA: 0s - loss: 0.1308 - accuracy: 0.9498 - f1_metric: 0.9499\n",
      "Epoch 00113: val_f1_metric did not improve from 0.92109\n",
      "6761/6761 [==============================] - 1s 150us/sample - loss: 0.1302 - accuracy: 0.9500 - f1_metric: 0.9499 - val_loss: 0.3143 - val_accuracy: 0.9166 - val_f1_metric: 0.9161\n",
      "Epoch 00113: early stopping\n",
      "CPU times: user 2min 59s, sys: 22.4 s, total: 3min 21s\n",
      "Wall time: 2min 16s\n"
     ]
    }
   ],
   "source": [
    "%%time\n",
    "history = model.fit(x_train, y_train, epochs=3000, verbose=1,\n",
    "                            batch_size=32, shuffle=True,\n",
    "                            validation_data=(x_cv, y_cv),\n",
    "                            callbacks=[mcp, rlp, es])\n",
    "                            "
   ]
  },
  {
   "cell_type": "markdown",
   "metadata": {},
   "source": [
    "Se visualiza el rendimiento del modelo durante el entrenamiento. Muestra gráficas de la pérdida y la métrica F1 tanto para los conjuntos de entrenamiento como de validación a lo largo de las épocas. Esto ayuda a evaluar el aprendizaje y la generalización del modelo."
   ]
  },
  {
   "cell_type": "code",
   "execution_count": 17,
   "metadata": {
    "execution": {
     "iopub.execute_input": "2024-01-07T18:37:35.456767Z",
     "iopub.status.busy": "2024-01-07T18:37:35.456422Z",
     "iopub.status.idle": "2024-01-07T18:37:35.743174Z",
     "shell.execute_reply": "2024-01-07T18:37:35.742083Z",
     "shell.execute_reply.started": "2024-01-07T18:37:35.456691Z"
    },
    "scrolled": true
   },
   "outputs": [
    {
     "data": {
      "image/png": "[encoded data removed]",
      "text/plain": [
       "<Figure size 432x288 with 1 Axes>"
      ]
     },
     "metadata": {
      "needs_background": "light"
     },
     "output_type": "display_data"
    }
   ],
   "source": [
    "from matplotlib import pyplot as plt\n",
    "%matplotlib inline\n",
    "InteractiveShell.ast_node_interactivity = \"last\"\n",
    "\n",
    "plt.figure()\n",
    "plt.plot(history.history['loss'])\n",
    "plt.plot(history.history['val_loss'])\n",
    "plt.plot(history.history['f1_metric'])\n",
    "plt.plot(history.history['val_f1_metric'])\n",
    "\n",
    "plt.title('Model loss')\n",
    "plt.ylabel('Loss')\n",
    "plt.xlabel('Epoch')\n",
    "plt.legend(['train_loss', 'val_loss', 'f1', 'val_f1'], loc='upper left')\n",
    "plt.show()"
   ]
  },
  {
   "cell_type": "markdown",
   "metadata": {},
   "source": [
    "Se realiza la evaluación final del modelo sobre el conjunto de prueba:\n",
    "\n",
    "1) Carga el mejor modelo guardado.   \n",
    "\n",
    "2) Evalúa el modelo en el conjunto de prueba y obtiene las predicciones.\n",
    "\n",
    "3) Calcula y muestra la matriz de confusión para visualizar el rendimiento del     modelo en clasificar cada clase.\n",
    "\n",
    "4) Calcula las métricas de recall y precisión para cada clase.\n",
    "\n",
    "5) Muestra dos gráficos de barras: uno para el recall y otro para la precisión     por clase, facilitando la comparación visual del rendimiento del modelo en       diferentes clases."
   ]
  },
  {
   "cell_type": "code",
   "execution_count": 18,
   "metadata": {
    "execution": {
     "iopub.execute_input": "2024-01-07T18:37:35.745594Z",
     "iopub.status.busy": "2024-01-07T18:37:35.744997Z",
     "iopub.status.idle": "2024-01-07T18:37:37.527055Z",
     "shell.execute_reply": "2024-01-07T18:37:37.525768Z",
     "shell.execute_reply.started": "2024-01-07T18:37:35.745525Z"
    }
   },
   "outputs": [
    {
     "name": "stderr",
     "output_type": "stream",
     "text": [
      "/opt/conda/lib/python3.6/site-packages/sklearn/metrics/classification.py:1437: UndefinedMetricWarning: Precision is ill-defined and being set to 0.0 in labels with no predicted samples.\n",
      "  'precision', 'predicted', average, warn_for)\n"
     ]
    },
    {
     "data": {
      "image/png": "[encoded data removed]",
      "text/plain": [
       "<Figure size 720x504 with 2 Axes>"
      ]
     },
     "metadata": {
      "needs_background": "light"
     },
     "output_type": "display_data"
    },
    {
     "data": {
      "image/png": "[encoded data removed]",
      "text/plain": [
       "<Figure size 1080x360 with 2 Axes>"
      ]
     },
     "metadata": {
      "needs_background": "light"
     },
     "output_type": "display_data"
    }
   ],
   "source": [
    "import matplotlib.pyplot as plt\n",
    "from sklearn.metrics import confusion_matrix, recall_score, precision_score\n",
    "import numpy as np\n",
    "import seaborn as sns\n",
    "\n",
    "# Carga tu modelo y evalúa los datos de prueba\n",
    "model = load_model(best_model_path)\n",
    "test_res = model.evaluate(x_test, y_test, verbose=0)\n",
    "\n",
    "# Predicciones\n",
    "y_pred = model.predict(x_test)\n",
    "y_pred_classes = np.argmax(y_pred, axis=1)\n",
    "y_true = np.argmax(y_test, axis=1)\n",
    "\n",
    "# Matriz de confusión\n",
    "cm = confusion_matrix(y_true, y_pred_classes)\n",
    "\n",
    "# Recall y Precisión\n",
    "recall = recall_score(y_true, y_pred_classes, average=None)\n",
    "precision = precision_score(y_true, y_pred_classes, average=None)\n",
    "\n",
    "# Gráfico de la matriz de confusión\n",
    "plt.figure(figsize=(10, 7))\n",
    "sns.heatmap(cm, annot=True, fmt='g')\n",
    "plt.xlabel('Predicciones')\n",
    "plt.ylabel('Valores verdaderos')\n",
    "plt.title('Matriz de Confusión')\n",
    "plt.show()\n",
    "\n",
    "# Gráfico de barras para Recall y Precisión\n",
    "fig, ax = plt.subplots(1, 2, figsize=(15, 5))\n",
    "ax[0].bar(['Clase 0', 'Clase 1', 'Clase 2'], recall, color='blue')\n",
    "ax[0].set_title('Recall por Clase')\n",
    "ax[0].set_ylim(0, 1)\n",
    "\n",
    "ax[1].bar(['Clase 0', 'Clase 1', 'Clase 2'], precision, color='green')\n",
    "ax[1].set_title('Precisión por Clase')\n",
    "ax[1].set_ylim(0, 1)\n",
    "\n",
    "plt.show()\n"
   ]
  },
  {
   "cell_type": "code",
   "execution_count": 19,
   "metadata": {
    "execution": {
     "iopub.execute_input": "2024-01-07T18:37:37.529260Z",
     "iopub.status.busy": "2024-01-07T18:37:37.528834Z",
     "iopub.status.idle": "2024-01-07T18:37:37.542522Z",
     "shell.execute_reply": "2024-01-07T18:37:37.541124Z",
     "shell.execute_reply.started": "2024-01-07T18:37:37.529176Z"
    }
   },
   "outputs": [
    {
     "data": {
      "text/plain": [
       "array([0.99620733, 0.03636364, 0.        ])"
      ]
     },
     "execution_count": 19,
     "metadata": {},
     "output_type": "execute_result"
    }
   ],
   "source": [
    "recall"
   ]
  },
  {
   "cell_type": "code",
   "execution_count": 20,
   "metadata": {
    "execution": {
     "iopub.execute_input": "2024-01-07T18:37:37.545394Z",
     "iopub.status.busy": "2024-01-07T18:37:37.544795Z",
     "iopub.status.idle": "2024-01-07T18:37:37.553636Z",
     "shell.execute_reply": "2024-01-07T18:37:37.552372Z",
     "shell.execute_reply.started": "2024-01-07T18:37:37.545153Z"
    }
   },
   "outputs": [
    {
     "data": {
      "text/plain": [
       "array([0.88044693, 0.4       , 0.        ])"
      ]
     },
     "execution_count": 20,
     "metadata": {},
     "output_type": "execute_result"
    }
   ],
   "source": [
    "precision"
   ]
  },
  {
   "cell_type": "markdown",
   "metadata": {},
   "source": [
    "Se imprime los resultados de la evaluación del modelo en el conjunto de prueba, mostrando la pérdida (loss), la precisión (accuracy) y la puntuación F1. Estos valores ayudan a comprender el rendimiento general del modelo en datos no vistos."
   ]
  },
  {
   "cell_type": "code",
   "execution_count": 21,
   "metadata": {
    "execution": {
     "iopub.execute_input": "2024-01-07T18:37:37.557281Z",
     "iopub.status.busy": "2024-01-07T18:37:37.555851Z",
     "iopub.status.idle": "2024-01-07T18:37:37.566244Z",
     "shell.execute_reply": "2024-01-07T18:37:37.564805Z",
     "shell.execute_reply.started": "2024-01-07T18:37:37.556668Z"
    }
   },
   "outputs": [
    {
     "name": "stdout",
     "output_type": "stream",
     "text": [
      "Loss: 0.3420594964424769\n",
      "Accuracy: 0.8777777552604675\n",
      "F1 score: 0.8814654350280762\n"
     ]
    }
   ],
   "source": [
    "print(f\"Loss: {test_res[0]}\")\n",
    "print(f\"Accuracy: {test_res[1]}\")\n",
    "print(f\"F1 score: {test_res[2]}\")"
   ]
  },
  {
   "cell_type": "markdown",
   "metadata": {},
   "source": [
    "Se carga el mejor modelo guardado y lo vuelve a guardar con el nombre 'mi_modelo.h5'. Este paso es útil para renombrar y conservar el modelo entrenado para su uso o distribución futura."
   ]
  },
  {
   "cell_type": "code",
   "execution_count": 22,
   "metadata": {
    "execution": {
     "iopub.execute_input": "2024-01-07T18:37:37.568955Z",
     "iopub.status.busy": "2024-01-07T18:37:37.568333Z",
     "iopub.status.idle": "2024-01-07T18:37:38.102859Z",
     "shell.execute_reply": "2024-01-07T18:37:38.102024Z",
     "shell.execute_reply.started": "2024-01-07T18:37:37.568714Z"
    }
   },
   "outputs": [],
   "source": [
    "model = load_model(best_model_path)\n",
    "model.save('mi_modelo.h5')\n"
   ]
  },
  {
   "cell_type": "markdown",
   "metadata": {},
   "source": [
    "Se implementa una estrategia para optimizar el umbral de clasificación:\n",
    "\n",
    "1) Define una función apply_threshold para ajustar las predicciones basadas en un umbral específico. Si ninguna clase supera el umbral, asigna la clase 0; de lo contrario, selecciona la clase con la mayor probabilidad.\n",
    "\n",
    "2) Itera sobre un rango de posibles umbrales para encontrar el que maximiza el F1 score.\n",
    "\n",
    "3) Calcula el F1 score para cada umbral y actualiza el mejor umbral y el mejor F1 score.\n",
    "\n",
    "4) Finalmente, imprime el mejor umbral encontrado y su correspondiente F1 score.\n",
    "\n",
    "\n",
    "\n",
    "\n",
    "\n",
    "\n",
    "\n"
   ]
  },
  {
   "cell_type": "code",
   "execution_count": 23,
   "metadata": {
    "execution": {
     "iopub.execute_input": "2024-01-07T18:37:38.106705Z",
     "iopub.status.busy": "2024-01-07T18:37:38.106362Z",
     "iopub.status.idle": "2024-01-07T18:37:39.730688Z",
     "shell.execute_reply": "2024-01-07T18:37:39.729869Z",
     "shell.execute_reply.started": "2024-01-07T18:37:38.106661Z"
    }
   },
   "outputs": [
    {
     "name": "stderr",
     "output_type": "stream",
     "text": [
      "/opt/conda/lib/python3.6/site-packages/sklearn/metrics/classification.py:1437: UndefinedMetricWarning: F-score is ill-defined and being set to 0.0 in labels with no predicted samples.\n",
      "  'precision', 'predicted', average, warn_for)\n"
     ]
    },
    {
     "name": "stdout",
     "output_type": "stream",
     "text": [
      "Mejor umbral: 0.0\n",
      "Mejor F1 score: 0.3338078291814947\n"
     ]
    }
   ],
   "source": [
    "import numpy as np\n",
    "from sklearn.metrics import f1_score\n",
    "\n",
    "# Función para aplicar el umbral y ajustar las predicciones\n",
    "def apply_threshold(predictions, threshold):\n",
    "    adjusted_predictions = []\n",
    "    for pred in predictions:\n",
    "        if np.max(pred) < threshold:\n",
    "            # Si ninguna clase supera el umbral, asignamos a la clase 0\n",
    "            adjusted_pred = [1, 0, 0]\n",
    "        else:\n",
    "            # Si alguna clase supera el umbral, seleccionamos la de mayor probabilidad\n",
    "            adjusted_pred = [0, 0, 0]  # Inicialmente, todas las clases se establecen en 0\n",
    "            adjusted_pred[np.argmax(pred)] = 1  # Solo la clase con la mayor probabilidad se establece en 1\n",
    "        adjusted_predictions.append(adjusted_pred)\n",
    "    return np.array(adjusted_predictions)\n",
    "\n",
    "\n",
    "\n",
    "# Define un rango de posibles umbrales\n",
    "thresholds = np.linspace(0, 1, 100)  # 100 umbrales desde 0 a 1\n",
    "\n",
    "# Inicializa el mejor umbral y el mejor F1 score\n",
    "best_threshold = 0\n",
    "best_f1 = 0\n",
    "\n",
    "# Itera sobre los umbrales para encontrar el mejor\n",
    "for threshold in thresholds:\n",
    "    # Aplica el umbral\n",
    "    y_pred_classes = apply_threshold(y_pred, threshold)\n",
    "    y_pred_classes = np.argmax(y_pred_classes, axis=1)\n",
    "\n",
    "    # Calcula el F1 score\n",
    "    f1 = f1_score(y_true, y_pred_classes, average='macro')\n",
    "\n",
    "    # Actualiza el mejor umbral si es necesario\n",
    "    if f1 > best_f1:\n",
    "        best_f1 = f1\n",
    "        best_threshold = threshold\n",
    "\n",
    "# Imprime el mejor umbral y su F1 score\n",
    "print(\"Mejor umbral:\", best_threshold)\n",
    "print(\"Mejor F1 score:\", best_f1)\n"
   ]
  },
  {
   "cell_type": "markdown",
   "metadata": {},
   "source": [
    "Se aplica el mejor umbral encontrado a las predicciones del modelo para ajustar la clasificación final. Utiliza la función apply_threshold para modificar las predicciones según el umbral y luego obtiene la clase final mediante np.argmax, que selecciona el índice de la clase con la probabilidad más alta en cada predicción ajustada."
   ]
  },
  {
   "cell_type": "code",
   "execution_count": 24,
   "metadata": {
    "execution": {
     "iopub.execute_input": "2024-01-07T18:37:39.732567Z",
     "iopub.status.busy": "2024-01-07T18:37:39.732226Z",
     "iopub.status.idle": "2024-01-07T18:37:39.769047Z",
     "shell.execute_reply": "2024-01-07T18:37:39.768119Z",
     "shell.execute_reply.started": "2024-01-07T18:37:39.732500Z"
    }
   },
   "outputs": [],
   "source": [
    "y_pred_classes = apply_threshold(y_pred, best_threshold)\n",
    "y_pred_classes = np.argmax(y_pred_classes, axis=1)"
   ]
  },
  {
   "cell_type": "markdown",
   "metadata": {},
   "source": [
    "Se calcula y almacena la matriz de confusión, así como las métricas de recall y precisión, usando las predicciones ajustadas con el mejor umbral. Estos cálculos son fundamentales para evaluar el rendimiento detallado del modelo, especialmente después de ajustar las predicciones con el umbral óptimo."
   ]
  },
  {
   "cell_type": "code",
   "execution_count": 25,
   "metadata": {
    "execution": {
     "iopub.execute_input": "2024-01-07T18:37:39.770908Z",
     "iopub.status.busy": "2024-01-07T18:37:39.770480Z",
     "iopub.status.idle": "2024-01-07T18:37:39.782301Z",
     "shell.execute_reply": "2024-01-07T18:37:39.781733Z",
     "shell.execute_reply.started": "2024-01-07T18:37:39.770816Z"
    }
   },
   "outputs": [],
   "source": [
    "# Matriz de confusión\n",
    "cm = confusion_matrix(y_true, y_pred_classes)\n",
    "\n",
    "# Recall y Precisión\n",
    "recall = recall_score(y_true, y_pred_classes, average=None)\n",
    "precision = precision_score(y_true, y_pred_classes, average=None)\n",
    "\n"
   ]
  },
  {
   "cell_type": "markdown",
   "metadata": {},
   "source": [
    "Se calcula y muestra la puntuación F1 del modelo usando las predicciones ajustadas. Se utiliza el promedio 'macro', lo que significa que se calcula la puntuación F1 de forma independiente para cada clase y luego se toma el promedio de estas puntuaciones. Esto proporciona una medida de la efectividad del modelo en la clasificación equilibrada a través de todas las clases."
   ]
  },
  {
   "cell_type": "code",
   "execution_count": 26,
   "metadata": {
    "execution": {
     "iopub.execute_input": "2024-01-07T18:37:39.783975Z",
     "iopub.status.busy": "2024-01-07T18:37:39.783571Z",
     "iopub.status.idle": "2024-01-07T18:37:39.793075Z",
     "shell.execute_reply": "2024-01-07T18:37:39.792274Z",
     "shell.execute_reply.started": "2024-01-07T18:37:39.783910Z"
    }
   },
   "outputs": [
    {
     "data": {
      "text/plain": [
       "0.3338078291814947"
      ]
     },
     "execution_count": 26,
     "metadata": {},
     "output_type": "execute_result"
    }
   ],
   "source": [
    "from sklearn.metrics import f1_score\n",
    "\n",
    "f1 = f1_score(y_true, y_pred_classes, average='macro')\n",
    "f1\n"
   ]
  },
  {
   "cell_type": "code",
   "execution_count": 27,
   "metadata": {
    "execution": {
     "iopub.execute_input": "2024-01-07T18:37:39.794498Z",
     "iopub.status.busy": "2024-01-07T18:37:39.794278Z",
     "iopub.status.idle": "2024-01-07T18:37:39.805163Z",
     "shell.execute_reply": "2024-01-07T18:37:39.804402Z",
     "shell.execute_reply.started": "2024-01-07T18:37:39.794460Z"
    }
   },
   "outputs": [
    {
     "data": {
      "text/plain": [
       "array([0.99620733, 0.03636364, 0.        ])"
      ]
     },
     "execution_count": 27,
     "metadata": {},
     "output_type": "execute_result"
    }
   ],
   "source": [
    "recall"
   ]
  },
  {
   "cell_type": "code",
   "execution_count": 28,
   "metadata": {
    "execution": {
     "iopub.execute_input": "2024-01-07T18:37:39.806874Z",
     "iopub.status.busy": "2024-01-07T18:37:39.806565Z",
     "iopub.status.idle": "2024-01-07T18:37:39.815801Z",
     "shell.execute_reply": "2024-01-07T18:37:39.814993Z",
     "shell.execute_reply.started": "2024-01-07T18:37:39.806817Z"
    }
   },
   "outputs": [
    {
     "data": {
      "text/plain": [
       "array([0.88044693, 0.4       , 0.        ])"
      ]
     },
     "execution_count": 28,
     "metadata": {},
     "output_type": "execute_result"
    }
   ],
   "source": [
    "precision"
   ]
  },
  {
   "cell_type": "markdown",
   "metadata": {},
   "source": [
    "Se visualiza dos aspectos clave del rendimiento del modelo:\n",
    "\n",
    "Matriz de Confusión: Utiliza Seaborn para crear un mapa de calor de la matriz de confusión, mostrando la cantidad de predicciones correctas e incorrectas para cada clase.\n",
    "\n",
    "Gráficos de Barras para Recall y Precisión: Muestra dos gráficos de barras para visualizar las métricas de recall y precisión para cada una de las tres clases, facilitando la comparación del rendimiento del modelo en términos de evitar falsos negativos y falsos positivos."
   ]
  },
  {
   "cell_type": "code",
   "execution_count": 29,
   "metadata": {
    "execution": {
     "iopub.execute_input": "2024-01-07T18:37:39.817658Z",
     "iopub.status.busy": "2024-01-07T18:37:39.817138Z",
     "iopub.status.idle": "2024-01-07T18:37:40.563611Z",
     "shell.execute_reply": "2024-01-07T18:37:40.562508Z",
     "shell.execute_reply.started": "2024-01-07T18:37:39.817413Z"
    }
   },
   "outputs": [
    {
     "data": {
      "image/png": "[encoded data removed]",
      "text/plain": [
       "<Figure size 720x504 with 2 Axes>"
      ]
     },
     "metadata": {
      "needs_background": "light"
     },
     "output_type": "display_data"
    },
    {
     "data": {
      "image/png": "[encoded data removed]",
      "text/plain": [
       "<Figure size 1080x360 with 2 Axes>"
      ]
     },
     "metadata": {
      "needs_background": "light"
     },
     "output_type": "display_data"
    }
   ],
   "source": [
    "# Gráfico de la matriz de confusión\n",
    "plt.figure(figsize=(10, 7))\n",
    "sns.heatmap(cm, annot=True, fmt='g')\n",
    "plt.xlabel('Predicciones')\n",
    "plt.ylabel('Valores verdaderos')\n",
    "plt.title('Matriz de Confusión')\n",
    "plt.show()\n",
    "\n",
    "# Gráfico de barras para Recall y Precisión\n",
    "fig, ax = plt.subplots(1, 2, figsize=(15, 5))\n",
    "ax[0].bar(['Clase 0', 'Clase 1', 'Clase 2'], recall, color='blue')\n",
    "ax[0].set_title('Recall por Clase')\n",
    "ax[0].set_ylim(0, 1)\n",
    "\n",
    "ax[1].bar(['Clase 0', 'Clase 1', 'Clase 2'], precision, color='green')\n",
    "ax[1].set_title('Precisión por Clase')\n",
    "ax[1].set_ylim(0, 1)\n",
    "\n",
    "plt.show()\n"
   ]
  },
  {
   "cell_type": "code",
   "execution_count": null,
   "metadata": {},
   "outputs": [],
   "source": []
  }
 ],
 "metadata": {
  "kaggle": {
   "accelerator": "gpu",
   "dataSources": [
    {
     "sourceId": 157914957,
     "sourceType": "kernelVersion"
    }
   ],
   "dockerImageVersionId": 29850,
   "isGpuEnabled": true,
   "isInternetEnabled": true,
   "language": "python",
   "sourceType": "notebook"
  },
  "kernelspec": {
   "display_name": "Python 3",
   "language": "python",
   "name": "python3"
  },
  "language_info": {
   "codemirror_mode": {
    "name": "ipython",
    "version": 3
   },
   "file_extension": ".py",
   "mimetype": "text/x-python",
   "name": "python",
   "nbconvert_exporter": "python",
   "pygments_lexer": "ipython3",
   "version": "3.6.6"
  }
 },
 "nbformat": 4,
 "nbformat_minor": 4
}
