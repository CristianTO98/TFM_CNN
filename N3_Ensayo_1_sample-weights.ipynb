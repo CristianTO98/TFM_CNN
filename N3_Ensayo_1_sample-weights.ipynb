{
 "cells": [
  {
   "cell_type": "markdown",
   "metadata": {},
   "source": [
    "Se importan librerías esenciales, establece una semilla para la reproducibilidad, carga conjuntos de datos de entrenamiento, validación y prueba desde archivos CSV y muestra sus dimensiones para verificar su estructura."
   ]
  },
  {
   "cell_type": "code",
   "execution_count": 1,
   "metadata": {
    "_cell_guid": "",
    "_uuid": "",
    "execution": {
     "iopub.execute_input": "2024-01-12T15:27:15.715968Z",
     "iopub.status.busy": "2024-01-12T15:27:15.715269Z",
     "iopub.status.idle": "2024-01-12T15:27:17.059656Z",
     "shell.execute_reply": "2024-01-12T15:27:17.058933Z",
     "shell.execute_reply.started": "2024-01-12T15:27:15.715679Z"
    },
    "scrolled": true
   },
   "outputs": [
    {
     "name": "stdout",
     "output_type": "stream",
     "text": [
      "Shape of x, y train/cv/test (2519, 225) (2519,) (1080, 225) (1080,) (900, 225) (900,)\n"
     ]
    }
   ],
   "source": [
    "import pandas as pd\n",
    "import pickle \n",
    "import numpy as np\n",
    "from tqdm import tqdm_notebook as tqdm\n",
    "from IPython.core.interactiveshell import InteractiveShell\n",
    "\n",
    "\n",
    "np.random.seed(2)\n",
    "x_train = np.loadtxt(\"/kaggle/input/features-extraction/x_train.csv\", delimiter=\",\")\n",
    "y_train = np.loadtxt(\"/kaggle/input/features-extraction/y_train.csv\", delimiter=\",\")\n",
    "x_cv = np.loadtxt(\"/kaggle/input/features-extraction/x_cv.csv\", delimiter=\",\")\n",
    "y_cv = np.loadtxt(\"/kaggle/input/features-extraction/y_cv.csv\", delimiter=\",\")\n",
    "x_test = np.loadtxt(\"/kaggle/input/features-extraction/x_test.csv\", delimiter=\",\")\n",
    "y_test = np.loadtxt(\"/kaggle/input/features-extraction/y_test.csv\", delimiter=\",\")\n",
    "\n",
    "print(\"Shape of x, y train/cv/test {} {} {} {} {} {}\".format(x_train.shape, \n",
    "                                                             y_train.shape, x_cv.shape, y_cv.shape, x_test.shape, y_test.shape))"
   ]
  },
  {
   "cell_type": "markdown",
   "metadata": {},
   "source": [
    "Se calcula y muestra el porcentaje de cada clase en el conjunto de entrenamiento, lo que ayuda a entender la distribución y posible desbalance de clases."
   ]
  },
  {
   "cell_type": "code",
   "execution_count": 2,
   "metadata": {
    "execution": {
     "iopub.execute_input": "2024-01-12T15:27:17.061786Z",
     "iopub.status.busy": "2024-01-12T15:27:17.061511Z",
     "iopub.status.idle": "2024-01-12T15:27:17.067599Z",
     "shell.execute_reply": "2024-01-12T15:27:17.066652Z",
     "shell.execute_reply.started": "2024-01-12T15:27:17.061736Z"
    }
   },
   "outputs": [
    {
     "name": "stdout",
     "output_type": "stream",
     "text": [
      "percentage of class 0 = 87.97141722905914, class 1 = 6.073838824930529, class 2 = 5.954743946010321\n"
     ]
    }
   ],
   "source": [
    "_labels, _counts = np.unique(y_train, return_counts=True)\n",
    "print(\"percentage of class 0 = {}, class 1 = {}, class 2 = {}\".format(_counts[0]/len(y_train) * 100, _counts[1]/len(y_train) * 100, _counts[2]/len(y_train) * 100))"
   ]
  },
  {
   "cell_type": "markdown",
   "metadata": {},
   "source": [
    "Se define una función para remodelar los datos como imágenes y luego aplica esta transformación a los conjuntos de entrenamiento, validación y prueba. Además, agrega una dimensión adicional para los canales de color, asumiendo un formato de imagen en color (3 canales). Finalmente, muestra las dimensiones finales de los conjuntos de datos."
   ]
  },
  {
   "cell_type": "code",
   "execution_count": 3,
   "metadata": {
    "execution": {
     "iopub.execute_input": "2024-01-12T15:27:17.069431Z",
     "iopub.status.busy": "2024-01-12T15:27:17.069105Z",
     "iopub.status.idle": "2024-01-12T15:27:17.117447Z",
     "shell.execute_reply": "2024-01-12T15:27:17.116728Z",
     "shell.execute_reply.started": "2024-01-12T15:27:17.069374Z"
    }
   },
   "outputs": [
    {
     "name": "stdout",
     "output_type": "stream",
     "text": [
      "final shape of x, y train/test (2519, 15, 15, 3) (2519,) (900, 15, 15, 3) (900,)\n"
     ]
    }
   ],
   "source": [
    "def reshape_as_image(x, img_width, img_height):\n",
    "    x_temp = np.zeros((len(x), img_height, img_width))\n",
    "    for i in range(x.shape[0]):\n",
    "        x_temp[i] = np.reshape(x[i], (img_height, img_width))\n",
    "\n",
    "    return x_temp\n",
    "\n",
    "num_features = 225\n",
    "dim = int(np.sqrt(num_features))\n",
    "x_train = reshape_as_image(x_train, dim, dim)\n",
    "x_cv = reshape_as_image(x_cv, dim, dim)\n",
    "x_test = reshape_as_image(x_test, dim, dim)\n",
    "# adding a 1-dim for channels (3)\n",
    "x_train = np.stack((x_train,) * 3, axis=-1)\n",
    "x_test = np.stack((x_test,) * 3, axis=-1)\n",
    "x_cv = np.stack((x_cv,) * 3, axis=-1)\n",
    "print(\"final shape of x, y train/test {} {} {} {}\".format(x_train.shape, y_train.shape, x_test.shape, y_test.shape))"
   ]
  },
  {
   "cell_type": "markdown",
   "metadata": {},
   "source": [
    "Se utiliza Matplotlib para visualizar imágenes aleatorias del conjunto de entrenamiento. Se configura un grid de 3x3 para mostrar 9 imágenes. Cada imagen se selecciona aleatoriamente, se muestra sin ejes y se etiqueta con su índice y clase correspondiente."
   ]
  },
  {
   "cell_type": "code",
   "execution_count": 4,
   "metadata": {
    "execution": {
     "iopub.execute_input": "2024-01-12T15:27:17.119258Z",
     "iopub.status.busy": "2024-01-12T15:27:17.118995Z",
     "iopub.status.idle": "2024-01-12T15:27:18.063495Z",
     "shell.execute_reply": "2024-01-12T15:27:18.062769Z",
     "shell.execute_reply.started": "2024-01-12T15:27:17.119208Z"
    }
   },
   "outputs": [
    {
     "data": {
      "image/png": "[encoded data removed]",
      "text/plain": [
       "<Figure size 1080x1080 with 9 Axes>"
      ]
     },
     "metadata": {
      "needs_background": "light"
     },
     "output_type": "display_data"
    }
   ],
   "source": [
    "from matplotlib import pyplot as plt\n",
    "%matplotlib inline\n",
    "\n",
    "fig = plt.figure(figsize=(15, 15))\n",
    "columns = rows = 3\n",
    "for i in range(1, columns*rows +1):\n",
    "    index = np.random.randint(len(x_train))\n",
    "    img = x_train[index]\n",
    "    fig.add_subplot(rows, columns, i)\n",
    "    plt.axis(\"off\")\n",
    "    plt.title('image_'+str(index)+'_class_'+str(np.argmax(y_train[index])), fontsize=10)\n",
    "    plt.subplots_adjust(wspace=0.2, hspace=0.2)\n",
    "    plt.imshow(img)\n",
    "plt.show()"
   ]
  },
  {
   "cell_type": "markdown",
   "metadata": {},
   "source": [
    "Se define funciones para manejar datos desbalanceados y métricas personalizadas de F1 para TensorFlow: get_sample_weights calcula pesos de muestra basados en el desbalance de clases y f1_metric métrica de F1 score, integrándose en el entorno de Keras para su uso en modelos de TensorFlow."
   ]
  },
  {
   "cell_type": "code",
   "execution_count": 5,
   "metadata": {
    "execution": {
     "iopub.execute_input": "2024-01-12T15:27:18.067192Z",
     "iopub.status.busy": "2024-01-12T15:27:18.066965Z",
     "iopub.status.idle": "2024-01-12T15:27:18.082426Z",
     "shell.execute_reply": "2024-01-12T15:27:18.081635Z",
     "shell.execute_reply.started": "2024-01-12T15:27:18.067152Z"
    }
   },
   "outputs": [],
   "source": [
    "from sklearn.utils.class_weight import compute_class_weight\n",
    "import tensorflow as tf\n",
    "from tensorflow.keras import backend as K\n",
    "from tensorflow.keras.utils import get_custom_objects\n",
    "\n",
    "def get_sample_weights(y):\n",
    "    y = y.astype(int)  # compute_class_weight needs int labels\n",
    "    class_weights = compute_class_weight('balanced', np.unique(y), y)\n",
    "    \n",
    "    print(\"real class weights are {}\".format(class_weights), np.unique(y))\n",
    "    print(\"value_counts\", np.unique(y, return_counts=True))\n",
    "    sample_weights = y.copy().astype(float)\n",
    "    for i in np.unique(y):\n",
    "        sample_weights[sample_weights == i] = class_weights[i]  \n",
    "        \n",
    "\n",
    "    return sample_weights\n",
    "\n",
    "\n",
    "def f1_metric(y_true, y_pred):\n",
    "    \n",
    "    def recall(y_true, y_pred):\n",
    "        true_positives = K.sum(K.round(K.clip(y_true * y_pred, 0, 1)))  \n",
    "        possible_positives = K.sum(K.round(K.clip(y_true, 0, 1)))\n",
    "        recall = true_positives / (possible_positives + K.epsilon())\n",
    "        return recall\n",
    "\n",
    "    def precision(y_true, y_pred):\n",
    "        true_positives = K.sum(K.round(K.clip(y_true * y_pred, 0, 1)))\n",
    "        predicted_positives = K.sum(K.round(K.clip(y_pred, 0, 1)))\n",
    "        precision = true_positives / (predicted_positives + K.epsilon())\n",
    "        return precision\n",
    "\n",
    "    precision = precision(y_true, y_pred)\n",
    "    recall = recall(y_true, y_pred)\n",
    "\n",
    "    return 2 * ((precision * recall) / (precision + recall + K.epsilon()))\n",
    "\n",
    "get_custom_objects().update({\"f1_metric\": f1_metric})"
   ]
  },
  {
   "cell_type": "markdown",
   "metadata": {},
   "source": [
    "Se calcula y muestra los pesos de las muestras para un subconjunto aleatorio del conjunto de entrenamiento, ayudando a verificar la asignación de pesos basada en el desbalance de clases."
   ]
  },
  {
   "cell_type": "code",
   "execution_count": 6,
   "metadata": {
    "execution": {
     "iopub.execute_input": "2024-01-12T15:27:18.085625Z",
     "iopub.status.busy": "2024-01-12T15:27:18.085299Z",
     "iopub.status.idle": "2024-01-12T15:27:18.100986Z",
     "shell.execute_reply": "2024-01-12T15:27:18.100037Z",
     "shell.execute_reply.started": "2024-01-12T15:27:18.085565Z"
    },
    "scrolled": true
   },
   "outputs": [
    {
     "name": "stdout",
     "output_type": "stream",
     "text": [
      "real class weights are [0.37891095 5.48801743 5.59777778] [0 1 2]\n",
      "value_counts (array([0, 1, 2]), array([2216,  153,  150]))\n",
      "Test sample_weights\n",
      "[0. 0. 0. 0. 0. 0. 0. 0. 0. 0. 0. 2. 0. 0. 2. 0. 0. 0. 0. 0. 0. 1. 1. 0.\n",
      " 0. 0. 0. 0. 0. 0.]\n",
      "[0.37891095 0.37891095 0.37891095 0.37891095 0.37891095 0.37891095\n",
      " 0.37891095 0.37891095 0.37891095 0.37891095 0.37891095 5.59777778\n",
      " 0.37891095 0.37891095 5.59777778 0.37891095 0.37891095 0.37891095\n",
      " 0.37891095 0.37891095 0.37891095 5.48801743 5.48801743 0.37891095\n",
      " 0.37891095 0.37891095 0.37891095 0.37891095 0.37891095 0.37891095]\n"
     ]
    }
   ],
   "source": [
    "sample_weights = get_sample_weights(y_train)\n",
    "print(\"Test sample_weights\")\n",
    "rand_idx = np.random.randint(0, 1000, 30)\n",
    "print(y_train[rand_idx])\n",
    "print(sample_weights[rand_idx])"
   ]
  },
  {
   "cell_type": "markdown",
   "metadata": {},
   "source": [
    "Se calcula y muestra el porcentaje de cada clase en el conjunto de entrenamiento para identificar la distribución y posible desbalance de clases."
   ]
  },
  {
   "cell_type": "code",
   "execution_count": 7,
   "metadata": {
    "execution": {
     "iopub.execute_input": "2024-01-12T15:27:18.102395Z",
     "iopub.status.busy": "2024-01-12T15:27:18.102136Z",
     "iopub.status.idle": "2024-01-12T15:27:18.108108Z",
     "shell.execute_reply": "2024-01-12T15:27:18.107304Z",
     "shell.execute_reply.started": "2024-01-12T15:27:18.102344Z"
    }
   },
   "outputs": [
    {
     "name": "stdout",
     "output_type": "stream",
     "text": [
      "percentage of class 0 = 87.97141722905914, class 1 = 6.073838824930529, class 2 = 5.954743946010321\n"
     ]
    }
   ],
   "source": [
    "_labels, _counts = np.unique(y_train, return_counts=True)\n",
    "print(\"percentage of class 0 = {}, class 1 = {}, class 2 = {}\".format(_counts[0]/len(y_train) * 100, _counts[1]/len(y_train) * 100, _counts[2]/len(y_train) * 100))"
   ]
  },
  {
   "cell_type": "markdown",
   "metadata": {},
   "source": [
    "Se aplica codificación one-hot a las etiquetas de los conjuntos de entrenamiento, validación y prueba, transformándolas en formatos compatibles con modelos de clasificación multiclase, y muestra las dimensiones resultantes para cada conjunto."
   ]
  },
  {
   "cell_type": "code",
   "execution_count": 8,
   "metadata": {
    "execution": {
     "iopub.execute_input": "2024-01-12T15:27:18.109559Z",
     "iopub.status.busy": "2024-01-12T15:27:18.109297Z",
     "iopub.status.idle": "2024-01-12T15:27:18.120487Z",
     "shell.execute_reply": "2024-01-12T15:27:18.119814Z",
     "shell.execute_reply.started": "2024-01-12T15:27:18.109496Z"
    }
   },
   "outputs": [
    {
     "name": "stdout",
     "output_type": "stream",
     "text": [
      "y_train (2519, 3)\n",
      "y_cv (1080, 3)\n",
      "y_test (900, 3)\n"
     ]
    }
   ],
   "source": [
    "from sklearn.preprocessing import OneHotEncoder\n",
    "\n",
    "one_hot_enc = OneHotEncoder(sparse=False, categories='auto')  \n",
    "y_train = one_hot_enc.fit_transform(y_train.reshape(-1, 1))\n",
    "print(\"y_train\",y_train.shape)\n",
    "y_cv = one_hot_enc.transform(y_cv.reshape(-1, 1))\n",
    "y_test = one_hot_enc.transform(y_test.reshape(-1, 1))\n",
    "print(\"y_cv\",y_cv.shape)\n",
    "print(\"y_test\",y_test.shape)"
   ]
  },
  {
   "cell_type": "markdown",
   "metadata": {},
   "source": [
    "Se importa diversas clases y funciones de TensorFlow y Keras necesarias para construir y entrenar una red neuronal convolucional (CNN). Incluye componentes para el modelo (como capas y regularizadores), callbacks para el entrenamiento, optimizadores, y métricas de evaluación como F1 y AUC."
   ]
  },
  {
   "cell_type": "code",
   "execution_count": 9,
   "metadata": {
    "execution": {
     "iopub.execute_input": "2024-01-12T15:27:18.122331Z",
     "iopub.status.busy": "2024-01-12T15:27:18.122008Z",
     "iopub.status.idle": "2024-01-12T15:27:18.160835Z",
     "shell.execute_reply": "2024-01-12T15:27:18.160307Z",
     "shell.execute_reply.started": "2024-01-12T15:27:18.122273Z"
    }
   },
   "outputs": [],
   "source": [
    "from tensorflow.keras.models import Sequential, load_model, Model\n",
    "from tensorflow.keras.layers import Dense, Dropout, Flatten, Conv2D, MaxPooling2D, LeakyReLU\n",
    "from tensorflow.keras.callbacks import ModelCheckpoint, EarlyStopping, ReduceLROnPlateau, CSVLogger, Callback\n",
    "from tensorflow.keras import optimizers, regularizers\n",
    "from tensorflow.keras.regularizers import l2, l1, l1_l2\n",
    "from tensorflow.keras.initializers import RandomUniform, RandomNormal\n",
    "import tensorflow as tf\n",
    "from functools import *\n",
    "from sklearn.metrics import f1_score\n",
    "from tensorflow.keras.metrics import AUC\n",
    "\n"
   ]
  },
  {
   "cell_type": "markdown",
   "metadata": {},
   "source": [
    "Se define una función make_model para construir un modelo de red neuronal convolucional. La función make_model crea un modelo secuencial con capas convolucionales, de pooling, dropout y densas, y devuelve este modelo. Finalmente, se instancia un modelo utilizando esta función."
   ]
  },
  {
   "cell_type": "code",
   "execution_count": 10,
   "metadata": {
    "execution": {
     "iopub.execute_input": "2024-01-12T15:27:18.162228Z",
     "iopub.status.busy": "2024-01-12T15:27:18.162022Z",
     "iopub.status.idle": "2024-01-12T15:27:20.765924Z",
     "shell.execute_reply": "2024-01-12T15:27:20.765299Z",
     "shell.execute_reply.started": "2024-01-12T15:27:18.162192Z"
    }
   },
   "outputs": [],
   "source": [
    "def make_model(filter1=16, act1='relu', filter2=32, act2='relu', do1=.25, do2=.5, dense=32):\n",
    "    input_shape = (15, 15, 3)\n",
    "    cnn = Sequential([\n",
    "        Conv2D(filters=filter1,\n",
    "               kernel_size=3,\n",
    "               padding='same',\n",
    "               activation=act1,\n",
    "               input_shape=input_shape,\n",
    "               name='CONV1'),\n",
    "        Conv2D(filters=filter2,        \n",
    "               kernel_size=3,  \n",
    "               padding='same',\n",
    "               activation=act2,\n",
    "               name='CONV2'),\n",
    "        MaxPooling2D(pool_size=2, name='POOL2'),\n",
    "        Dropout(do1, name='DROP1'),\n",
    "        Flatten(name='FLAT1'),\n",
    "        Dense(dense, activation='relu', name='FC1'),\n",
    "        Dropout(do2, name='DROP2'),\n",
    "        Dense(3, activation='softmax', name='FC2')\n",
    "    ])\n",
    "    \n",
    "    return cnn\n",
    "\n",
    "model = make_model()"
   ]
  },
  {
   "cell_type": "markdown",
   "metadata": {},
   "source": [
    "Se configura callbacks para el entrenamiento del modelo:\n",
    "\n",
    "EarlyStopping detiene el entrenamiento si no hay mejora en la pérdida de validación.\n",
    "ReduceLROnPlateau reduce la tasa de aprendizaje si la pérdida de validación no mejora.\n",
    "ModelCheckpoint guarda el mejor modelo basado en la métrica de validación F1.\n",
    "También establece la ruta para guardar el mejor modelo."
   ]
  },
  {
   "cell_type": "code",
   "execution_count": 11,
   "metadata": {
    "execution": {
     "iopub.execute_input": "2024-01-12T15:27:20.767368Z",
     "iopub.status.busy": "2024-01-12T15:27:20.767100Z",
     "iopub.status.idle": "2024-01-12T15:27:20.774501Z",
     "shell.execute_reply": "2024-01-12T15:27:20.773847Z",
     "shell.execute_reply.started": "2024-01-12T15:27:20.767317Z"
    }
   },
   "outputs": [],
   "source": [
    "import os\n",
    "\n",
    "best_model_path = os.path.join('.', 'best_model_keras')\n",
    "es = EarlyStopping(monitor='val_loss', mode='min', verbose=1,\n",
    "                   patience=100, min_delta=0.0001)\n",
    "rlp = ReduceLROnPlateau(monitor='val_loss', factor=0.02, patience=20, verbose=1, mode='min',\n",
    "                        min_delta=0.001, cooldown=1, min_lr=0.0001)\n",
    "mcp = ModelCheckpoint(best_model_path, monitor='val_f1_metric', verbose=1,\n",
    "                      save_best_only=True, save_weights_only=False, mode='max', period=1)  "
   ]
  },
  {
   "cell_type": "markdown",
   "metadata": {},
   "source": [
    "Se compila el modelo configurando la función de pérdida como 'categorical_crossentropy' (adecuada para clasificación multiclase), el optimizador como 'adam' (un optimizador eficiente y popular), y las métricas para evaluar el modelo incluyen 'accuracy' y la métrica personalizada f1_metric."
   ]
  },
  {
   "cell_type": "code",
   "execution_count": 12,
   "metadata": {
    "execution": {
     "iopub.execute_input": "2024-01-12T15:27:20.776029Z",
     "iopub.status.busy": "2024-01-12T15:27:20.775805Z",
     "iopub.status.idle": "2024-01-12T15:27:20.842987Z",
     "shell.execute_reply": "2024-01-12T15:27:20.842294Z",
     "shell.execute_reply.started": "2024-01-12T15:27:20.775991Z"
    }
   },
   "outputs": [],
   "source": [
    "model.compile(loss='categorical_crossentropy', optimizer='adam', metrics=['accuracy', f1_metric])"
   ]
  },
  {
   "cell_type": "markdown",
   "metadata": {},
   "source": [
    "Se entrena el modelo utilizando el conjunto de entrenamiento con sus respectivos pesos de muestra. Se configura para un máximo de 3000 épocas, con un tamaño de lote de 32, y utilizando los datos de validación cruzada para la evaluación. Incluye los callbacks configurados previamente (ModelCheckpoint, ReduceLROnPlateau, EarlyStopping) y mide el tiempo de entrenamiento con el comando %%time."
   ]
  },
  {
   "cell_type": "code",
   "execution_count": 13,
   "metadata": {
    "execution": {
     "iopub.execute_input": "2024-01-12T15:27:20.844202Z",
     "iopub.status.busy": "2024-01-12T15:27:20.843990Z",
     "iopub.status.idle": "2024-01-12T15:27:31.829966Z",
     "shell.execute_reply": "2024-01-12T15:27:31.829118Z",
     "shell.execute_reply.started": "2024-01-12T15:27:20.844164Z"
    }
   },
   "outputs": [
    {
     "name": "stdout",
     "output_type": "stream",
     "text": [
      "Train on 2519 samples, validate on 1080 samples\n",
      "Epoch 1/3000\n",
      "2496/2519 [============================>.] - ETA: 0s - loss: 1.0258 - accuracy: 0.2680 - f1_metric: 0.0357\n",
      "Epoch 00001: val_f1_metric improved from -inf to 0.09919, saving model to ./best_model_keras\n",
      "2519/2519 [==============================] - 5s 2ms/sample - loss: 1.0270 - accuracy: 0.2684 - f1_metric: 0.0367 - val_loss: 0.9619 - val_accuracy: 0.2685 - val_f1_metric: 0.0992\n",
      "Epoch 2/3000\n",
      "2016/2519 [=======================>......] - ETA: 0s - loss: 0.7801 - accuracy: 0.2768 - f1_metric: 0.1451\n",
      "Epoch 00002: val_f1_metric improved from 0.09919 to 0.11903, saving model to ./best_model_keras\n",
      "2519/2519 [==============================] - 1s 437us/sample - loss: 0.7746 - accuracy: 0.2711 - f1_metric: 0.1394 - val_loss: 0.9526 - val_accuracy: 0.2509 - val_f1_metric: 0.1190\n",
      "Epoch 3/3000\n",
      "2080/2519 [=======================>......] - ETA: 0s - loss: 0.7029 - accuracy: 0.3567 - f1_metric: 0.2753\n",
      "Epoch 00003: val_f1_metric improved from 0.11903 to 0.23801, saving model to ./best_model_keras\n",
      "2519/2519 [==============================] - 1s 432us/sample - loss: 0.6986 - accuracy: 0.3537 - f1_metric: 0.2670 - val_loss: 0.9803 - val_accuracy: 0.2778 - val_f1_metric: 0.2380\n",
      "Epoch 4/3000\n",
      "2080/2519 [=======================>......] - ETA: 0s - loss: 0.6806 - accuracy: 0.3341 - f1_metric: 0.2626\n",
      "Epoch 00004: val_f1_metric improved from 0.23801 to 0.30719, saving model to ./best_model_keras\n",
      "2519/2519 [==============================] - 1s 433us/sample - loss: 0.6706 - accuracy: 0.3374 - f1_metric: 0.2721 - val_loss: 0.9717 - val_accuracy: 0.3176 - val_f1_metric: 0.3072\n",
      "Epoch 5/3000\n",
      "2016/2519 [=======================>......] - ETA: 0s - loss: 0.6646 - accuracy: 0.3557 - f1_metric: 0.3078\n",
      "Epoch 00005: val_f1_metric improved from 0.30719 to 0.35325, saving model to ./best_model_keras\n",
      "2519/2519 [==============================] - 1s 480us/sample - loss: 0.6613 - accuracy: 0.3541 - f1_metric: 0.3070 - val_loss: 0.8626 - val_accuracy: 0.3667 - val_f1_metric: 0.3532\n",
      "Epoch 6/3000\n",
      "2048/2519 [=======================>......] - ETA: 0s - loss: 0.6384 - accuracy: 0.3486 - f1_metric: 0.3286\n",
      "Epoch 00006: val_f1_metric did not improve from 0.35325\n",
      "2519/2519 [==============================] - 0s 139us/sample - loss: 0.6509 - accuracy: 0.3402 - f1_metric: 0.3181 - val_loss: 0.9063 - val_accuracy: 0.2954 - val_f1_metric: 0.2774\n",
      "Epoch 7/3000\n",
      "2080/2519 [=======================>......] - ETA: 0s - loss: 0.6372 - accuracy: 0.3279 - f1_metric: 0.2934\n",
      "Epoch 00007: val_f1_metric improved from 0.35325 to 0.38531, saving model to ./best_model_keras\n",
      "2519/2519 [==============================] - 1s 435us/sample - loss: 0.6301 - accuracy: 0.3355 - f1_metric: 0.3051 - val_loss: 0.8546 - val_accuracy: 0.3852 - val_f1_metric: 0.3853\n",
      "Epoch 8/3000\n",
      "2048/2519 [=======================>......] - ETA: 0s - loss: 0.6248 - accuracy: 0.3599 - f1_metric: 0.3376\n",
      "Epoch 00008: val_f1_metric did not improve from 0.38531\n",
      "2519/2519 [==============================] - 0s 140us/sample - loss: 0.6366 - accuracy: 0.3513 - f1_metric: 0.3285 - val_loss: 0.9421 - val_accuracy: 0.2963 - val_f1_metric: 0.2810\n",
      "Epoch 9/3000\n",
      "2048/2519 [=======================>......] - ETA: 0s - loss: 0.6327 - accuracy: 0.3237 - f1_metric: 0.2968\n",
      "Epoch 00009: val_f1_metric did not improve from 0.38531\n",
      "2519/2519 [==============================] - 0s 138us/sample - loss: 0.6455 - accuracy: 0.3311 - f1_metric: 0.3065 - val_loss: 0.9628 - val_accuracy: 0.3065 - val_f1_metric: 0.3045\n",
      "Epoch 10/3000\n",
      "2080/2519 [=======================>......] - ETA: 0s - loss: 0.6456 - accuracy: 0.3404 - f1_metric: 0.3154\n",
      "Epoch 00010: val_f1_metric did not improve from 0.38531\n",
      "2519/2519 [==============================] - 0s 136us/sample - loss: 0.6407 - accuracy: 0.3362 - f1_metric: 0.3145 - val_loss: 0.9449 - val_accuracy: 0.3204 - val_f1_metric: 0.3161\n",
      "Epoch 11/3000\n",
      "2080/2519 [=======================>......] - ETA: 0s - loss: 0.6252 - accuracy: 0.3784 - f1_metric: 0.3664\n",
      "Epoch 00011: val_f1_metric improved from 0.38531 to 0.38699, saving model to ./best_model_keras\n",
      "2519/2519 [==============================] - 1s 431us/sample - loss: 0.6147 - accuracy: 0.3748 - f1_metric: 0.3633 - val_loss: 0.8061 - val_accuracy: 0.3880 - val_f1_metric: 0.3870\n",
      "Epoch 12/3000\n",
      "2048/2519 [=======================>......] - ETA: 0s - loss: 0.5986 - accuracy: 0.3726 - f1_metric: 0.3581\n",
      "Epoch 00012: val_f1_metric did not improve from 0.38699\n",
      "2519/2519 [==============================] - 0s 140us/sample - loss: 0.6136 - accuracy: 0.3744 - f1_metric: 0.3606 - val_loss: 0.9809 - val_accuracy: 0.3019 - val_f1_metric: 0.2974\n",
      "Epoch 13/3000\n",
      "2048/2519 [=======================>......] - ETA: 0s - loss: 0.6105 - accuracy: 0.3486 - f1_metric: 0.3368\n",
      "Epoch 00013: val_f1_metric did not improve from 0.38699\n",
      "2519/2519 [==============================] - 0s 138us/sample - loss: 0.6041 - accuracy: 0.3533 - f1_metric: 0.3416 - val_loss: 0.8818 - val_accuracy: 0.3426 - val_f1_metric: 0.3400\n",
      "Epoch 14/3000\n",
      "2048/2519 [=======================>......] - ETA: 0s - loss: 0.5987 - accuracy: 0.3579 - f1_metric: 0.3499\n",
      "Epoch 00014: val_f1_metric did not improve from 0.38699\n",
      "2519/2519 [==============================] - 0s 138us/sample - loss: 0.6137 - accuracy: 0.3597 - f1_metric: 0.3518 - val_loss: 0.9586 - val_accuracy: 0.3083 - val_f1_metric: 0.3059\n",
      "Epoch 15/3000\n",
      "2048/2519 [=======================>......] - ETA: 0s - loss: 0.6096 - accuracy: 0.3604 - f1_metric: 0.3466\n",
      "Epoch 00015: val_f1_metric did not improve from 0.38699\n",
      "2519/2519 [==============================] - 0s 149us/sample - loss: 0.6050 - accuracy: 0.3664 - f1_metric: 0.3545 - val_loss: 0.9390 - val_accuracy: 0.3759 - val_f1_metric: 0.3751\n",
      "Epoch 16/3000\n",
      "2048/2519 [=======================>......] - ETA: 0s - loss: 0.6306 - accuracy: 0.3652 - f1_metric: 0.3576\n",
      "Epoch 00016: val_f1_metric improved from 0.38699 to 0.40240, saving model to ./best_model_keras\n",
      "2519/2519 [==============================] - 1s 431us/sample - loss: 0.6154 - accuracy: 0.3593 - f1_metric: 0.3521 - val_loss: 0.8364 - val_accuracy: 0.4019 - val_f1_metric: 0.4024\n",
      "Epoch 17/3000\n",
      "2080/2519 [=======================>......] - ETA: 0s - loss: 0.6174 - accuracy: 0.3538 - f1_metric: 0.3435\n",
      "Epoch 00017: val_f1_metric did not improve from 0.40240\n",
      "2519/2519 [==============================] - 0s 139us/sample - loss: 0.6120 - accuracy: 0.3593 - f1_metric: 0.3484 - val_loss: 0.8701 - val_accuracy: 0.3898 - val_f1_metric: 0.3907\n",
      "Epoch 18/3000\n",
      "2080/2519 [=======================>......] - ETA: 0s - loss: 0.5856 - accuracy: 0.4130 - f1_metric: 0.4074\n",
      "Epoch 00018: val_f1_metric did not improve from 0.40240\n",
      "2519/2519 [==============================] - 0s 135us/sample - loss: 0.5864 - accuracy: 0.4069 - f1_metric: 0.3992 - val_loss: 0.8686 - val_accuracy: 0.3426 - val_f1_metric: 0.3415\n",
      "Epoch 19/3000\n",
      "2048/2519 [=======================>......] - ETA: 0s - loss: 0.6080 - accuracy: 0.3677 - f1_metric: 0.3607\n",
      "Epoch 00019: val_f1_metric did not improve from 0.40240\n",
      "2519/2519 [==============================] - 0s 138us/sample - loss: 0.6008 - accuracy: 0.3668 - f1_metric: 0.3607 - val_loss: 0.8548 - val_accuracy: 0.3685 - val_f1_metric: 0.3692\n",
      "Epoch 20/3000\n",
      "2080/2519 [=======================>......] - ETA: 0s - loss: 0.5938 - accuracy: 0.3957 - f1_metric: 0.3912\n",
      "Epoch 00020: val_f1_metric did not improve from 0.40240\n",
      "2519/2519 [==============================] - 0s 136us/sample - loss: 0.5916 - accuracy: 0.3934 - f1_metric: 0.3892 - val_loss: 0.9248 - val_accuracy: 0.3574 - val_f1_metric: 0.3583\n",
      "Epoch 21/3000\n",
      "2080/2519 [=======================>......] - ETA: 0s - loss: 0.5988 - accuracy: 0.3418 - f1_metric: 0.3329\n",
      "Epoch 00021: val_f1_metric did not improve from 0.40240\n",
      "2519/2519 [==============================] - 0s 135us/sample - loss: 0.5929 - accuracy: 0.3513 - f1_metric: 0.3438 - val_loss: 0.9103 - val_accuracy: 0.3806 - val_f1_metric: 0.3813\n",
      "Epoch 22/3000\n",
      "2048/2519 [=======================>......] - ETA: 0s - loss: 0.5934 - accuracy: 0.4033 - f1_metric: 0.3969\n",
      "Epoch 00022: val_f1_metric improved from 0.40240 to 0.46109, saving model to ./best_model_keras\n",
      "2519/2519 [==============================] - 1s 427us/sample - loss: 0.5896 - accuracy: 0.4117 - f1_metric: 0.4057 - val_loss: 0.8171 - val_accuracy: 0.4611 - val_f1_metric: 0.4611\n",
      "Epoch 23/3000\n",
      "2048/2519 [=======================>......] - ETA: 0s - loss: 0.5658 - accuracy: 0.4126 - f1_metric: 0.4100\n",
      "Epoch 00023: val_f1_metric did not improve from 0.46109\n",
      "2519/2519 [==============================] - 0s 139us/sample - loss: 0.5810 - accuracy: 0.4089 - f1_metric: 0.4055 - val_loss: 0.9348 - val_accuracy: 0.3759 - val_f1_metric: 0.3765\n",
      "Epoch 24/3000\n",
      "2080/2519 [=======================>......] - ETA: 0s - loss: 0.5969 - accuracy: 0.3928 - f1_metric: 0.3867\n",
      "Epoch 00024: val_f1_metric did not improve from 0.46109\n",
      "2519/2519 [==============================] - 0s 135us/sample - loss: 0.6080 - accuracy: 0.3819 - f1_metric: 0.3747 - val_loss: 0.9471 - val_accuracy: 0.2852 - val_f1_metric: 0.2826\n",
      "Epoch 25/3000\n",
      "2080/2519 [=======================>......] - ETA: 0s - loss: 0.5762 - accuracy: 0.3678 - f1_metric: 0.3539\n",
      "Epoch 00025: val_f1_metric did not improve from 0.46109\n",
      "2519/2519 [==============================] - 0s 135us/sample - loss: 0.5793 - accuracy: 0.3851 - f1_metric: 0.3721 - val_loss: 0.8614 - val_accuracy: 0.3972 - val_f1_metric: 0.3977\n",
      "Epoch 26/3000\n",
      "2080/2519 [=======================>......] - ETA: 0s - loss: 0.5857 - accuracy: 0.3913 - f1_metric: 0.3890\n",
      "Epoch 00026: val_f1_metric did not improve from 0.46109\n",
      "2519/2519 [==============================] - 0s 134us/sample - loss: 0.5779 - accuracy: 0.3890 - f1_metric: 0.3863 - val_loss: 0.8952 - val_accuracy: 0.3815 - val_f1_metric: 0.3820\n",
      "Epoch 27/3000\n",
      "2112/2519 [========================>.....] - ETA: 0s - loss: 0.5852 - accuracy: 0.4015 - f1_metric: 0.3980\n",
      "Epoch 00027: val_f1_metric did not improve from 0.46109\n",
      "2519/2519 [==============================] - 0s 133us/sample - loss: 0.5722 - accuracy: 0.4049 - f1_metric: 0.4003 - val_loss: 0.8349 - val_accuracy: 0.4056 - val_f1_metric: 0.4059\n",
      "Epoch 28/3000\n",
      "2080/2519 [=======================>......] - ETA: 0s - loss: 0.5885 - accuracy: 0.3966 - f1_metric: 0.3865\n",
      "Epoch 00028: val_f1_metric did not improve from 0.46109\n",
      "2519/2519 [==============================] - 0s 135us/sample - loss: 0.5838 - accuracy: 0.3926 - f1_metric: 0.3826 - val_loss: 0.9761 - val_accuracy: 0.3111 - val_f1_metric: 0.3113\n",
      "Epoch 29/3000\n",
      "2080/2519 [=======================>......] - ETA: 0s - loss: 0.5809 - accuracy: 0.3808 - f1_metric: 0.3759\n",
      "Epoch 00029: val_f1_metric did not improve from 0.46109\n",
      "2519/2519 [==============================] - 0s 136us/sample - loss: 0.5717 - accuracy: 0.3867 - f1_metric: 0.3821 - val_loss: 0.8029 - val_accuracy: 0.4361 - val_f1_metric: 0.4369\n",
      "Epoch 30/3000\n",
      "2080/2519 [=======================>......] - ETA: 0s - loss: 0.5659 - accuracy: 0.4216 - f1_metric: 0.4162\n",
      "Epoch 00030: val_f1_metric did not improve from 0.46109\n",
      "2519/2519 [==============================] - 0s 135us/sample - loss: 0.5730 - accuracy: 0.4129 - f1_metric: 0.4061 - val_loss: 0.8996 - val_accuracy: 0.3444 - val_f1_metric: 0.3447\n",
      "Epoch 31/3000\n",
      "2080/2519 [=======================>......] - ETA: 0s - loss: 0.5638 - accuracy: 0.4226 - f1_metric: 0.4201\n",
      "Epoch 00031: val_f1_metric did not improve from 0.46109\n",
      "2519/2519 [==============================] - 0s 135us/sample - loss: 0.5604 - accuracy: 0.4315 - f1_metric: 0.4303 - val_loss: 0.8978 - val_accuracy: 0.4130 - val_f1_metric: 0.4136\n",
      "Epoch 32/3000\n",
      "2080/2519 [=======================>......] - ETA: 0s - loss: 0.5696 - accuracy: 0.4346 - f1_metric: 0.4309\n",
      "Epoch 00032: val_f1_metric did not improve from 0.46109\n",
      "2519/2519 [==============================] - 0s 135us/sample - loss: 0.5678 - accuracy: 0.4216 - f1_metric: 0.4179 - val_loss: 0.8784 - val_accuracy: 0.3620 - val_f1_metric: 0.3618\n",
      "Epoch 33/3000\n",
      "2080/2519 [=======================>......] - ETA: 0s - loss: 0.5690 - accuracy: 0.4005 - f1_metric: 0.3934\n",
      "Epoch 00033: val_f1_metric did not improve from 0.46109\n",
      "2519/2519 [==============================] - 0s 134us/sample - loss: 0.5676 - accuracy: 0.4017 - f1_metric: 0.3954 - val_loss: 0.8311 - val_accuracy: 0.4213 - val_f1_metric: 0.4216\n",
      "Epoch 34/3000\n",
      "2080/2519 [=======================>......] - ETA: 0s - loss: 0.5445 - accuracy: 0.4399 - f1_metric: 0.4401\n",
      "Epoch 00034: val_f1_metric did not improve from 0.46109\n",
      "2519/2519 [==============================] - 0s 136us/sample - loss: 0.5511 - accuracy: 0.4276 - f1_metric: 0.4283 - val_loss: 0.8611 - val_accuracy: 0.3806 - val_f1_metric: 0.3808\n",
      "Epoch 35/3000\n",
      "2080/2519 [=======================>......] - ETA: 0s - loss: 0.5630 - accuracy: 0.4048 - f1_metric: 0.4009\n",
      "Epoch 00035: val_f1_metric did not improve from 0.46109\n",
      "2519/2519 [==============================] - 0s 137us/sample - loss: 0.5617 - accuracy: 0.4061 - f1_metric: 0.4027 - val_loss: 0.8559 - val_accuracy: 0.4093 - val_f1_metric: 0.4099\n",
      "Epoch 36/3000\n",
      "2080/2519 [=======================>......] - ETA: 0s - loss: 0.5481 - accuracy: 0.4346 - f1_metric: 0.4328\n",
      "Epoch 00036: val_f1_metric improved from 0.46109 to 0.55453, saving model to ./best_model_keras\n",
      "2519/2519 [==============================] - 1s 473us/sample - loss: 0.5486 - accuracy: 0.4442 - f1_metric: 0.4426 - val_loss: 0.7002 - val_accuracy: 0.5546 - val_f1_metric: 0.5545\n",
      "Epoch 37/3000\n",
      "2080/2519 [=======================>......] - ETA: 0s - loss: 0.5588 - accuracy: 0.4139 - f1_metric: 0.4126\n",
      "Epoch 00037: val_f1_metric did not improve from 0.55453\n",
      "2519/2519 [==============================] - 0s 141us/sample - loss: 0.5557 - accuracy: 0.4073 - f1_metric: 0.4054 - val_loss: 0.8095 - val_accuracy: 0.4083 - val_f1_metric: 0.4087\n",
      "Epoch 38/3000\n",
      "2336/2519 [==========================>...] - ETA: 0s - loss: 0.5603 - accuracy: 0.4080 - f1_metric: 0.4044\n",
      "Epoch 00038: val_f1_metric did not improve from 0.55453\n",
      "2519/2519 [==============================] - 0s 147us/sample - loss: 0.5568 - accuracy: 0.4109 - f1_metric: 0.4071 - val_loss: 0.8412 - val_accuracy: 0.4056 - val_f1_metric: 0.4047\n",
      "Epoch 39/3000\n",
      "2080/2519 [=======================>......] - ETA: 0s - loss: 0.5563 - accuracy: 0.4053 - f1_metric: 0.4028\n",
      "Epoch 00039: val_f1_metric did not improve from 0.55453\n",
      "2519/2519 [==============================] - 0s 134us/sample - loss: 0.5566 - accuracy: 0.4033 - f1_metric: 0.4013 - val_loss: 0.8804 - val_accuracy: 0.3778 - val_f1_metric: 0.3776\n",
      "Epoch 40/3000\n",
      "2080/2519 [=======================>......] - ETA: 0s - loss: 0.5364 - accuracy: 0.4404 - f1_metric: 0.4381\n",
      "Epoch 00040: val_f1_metric did not improve from 0.55453\n",
      "2519/2519 [==============================] - 0s 135us/sample - loss: 0.5416 - accuracy: 0.4518 - f1_metric: 0.4496 - val_loss: 0.8767 - val_accuracy: 0.4000 - val_f1_metric: 0.4004\n",
      "Epoch 41/3000\n",
      "2080/2519 [=======================>......] - ETA: 0s - loss: 0.5616 - accuracy: 0.4313 - f1_metric: 0.4294\n",
      "Epoch 00041: val_f1_metric did not improve from 0.55453\n",
      "2519/2519 [==============================] - 0s 136us/sample - loss: 0.5510 - accuracy: 0.4327 - f1_metric: 0.4321 - val_loss: 0.8970 - val_accuracy: 0.4019 - val_f1_metric: 0.4020\n",
      "Epoch 42/3000\n",
      "2080/2519 [=======================>......] - ETA: 0s - loss: 0.5457 - accuracy: 0.4567 - f1_metric: 0.4551\n",
      "Epoch 00042: val_f1_metric did not improve from 0.55453\n",
      "2519/2519 [==============================] - 0s 136us/sample - loss: 0.5357 - accuracy: 0.4514 - f1_metric: 0.4501 - val_loss: 0.7828 - val_accuracy: 0.4657 - val_f1_metric: 0.4660\n",
      "Epoch 43/3000\n",
      "2080/2519 [=======================>......] - ETA: 0s - loss: 0.5519 - accuracy: 0.4159 - f1_metric: 0.4148\n",
      "Epoch 00043: val_f1_metric did not improve from 0.55453\n",
      "2519/2519 [==============================] - 0s 135us/sample - loss: 0.5657 - accuracy: 0.4152 - f1_metric: 0.4144 - val_loss: 0.8864 - val_accuracy: 0.3833 - val_f1_metric: 0.3836\n",
      "Epoch 44/3000\n",
      "2080/2519 [=======================>......] - ETA: 0s - loss: 0.5773 - accuracy: 0.4197 - f1_metric: 0.4152\n",
      "Epoch 00044: val_f1_metric did not improve from 0.55453\n",
      "2519/2519 [==============================] - 0s 135us/sample - loss: 0.5746 - accuracy: 0.4033 - f1_metric: 0.4005 - val_loss: 0.8420 - val_accuracy: 0.3648 - val_f1_metric: 0.3654\n",
      "Epoch 45/3000\n",
      "2080/2519 [=======================>......] - ETA: 0s - loss: 0.5590 - accuracy: 0.4043 - f1_metric: 0.4024\n",
      "Epoch 00045: val_f1_metric did not improve from 0.55453\n",
      "2519/2519 [==============================] - 0s 135us/sample - loss: 0.5468 - accuracy: 0.4049 - f1_metric: 0.4029 - val_loss: 0.7959 - val_accuracy: 0.4065 - val_f1_metric: 0.4069\n",
      "Epoch 46/3000\n",
      "2080/2519 [=======================>......] - ETA: 0s - loss: 0.5668 - accuracy: 0.4053 - f1_metric: 0.4028\n",
      "Epoch 00046: val_f1_metric did not improve from 0.55453\n",
      "2519/2519 [==============================] - 0s 135us/sample - loss: 0.5605 - accuracy: 0.3990 - f1_metric: 0.3963 - val_loss: 0.8829 - val_accuracy: 0.3676 - val_f1_metric: 0.3680\n",
      "Epoch 47/3000\n",
      "2080/2519 [=======================>......] - ETA: 0s - loss: 0.5456 - accuracy: 0.4519 - f1_metric: 0.4514\n",
      "Epoch 00047: val_f1_metric did not improve from 0.55453\n",
      "2519/2519 [==============================] - 0s 137us/sample - loss: 0.5456 - accuracy: 0.4399 - f1_metric: 0.4388 - val_loss: 0.8941 - val_accuracy: 0.3981 - val_f1_metric: 0.3983\n",
      "Epoch 48/3000\n",
      "2080/2519 [=======================>......] - ETA: 0s - loss: 0.5400 - accuracy: 0.4702 - f1_metric: 0.4661\n",
      "Epoch 00048: val_f1_metric did not improve from 0.55453\n",
      "2519/2519 [==============================] - 0s 135us/sample - loss: 0.5392 - accuracy: 0.4672 - f1_metric: 0.4643 - val_loss: 0.8259 - val_accuracy: 0.4370 - val_f1_metric: 0.4372\n",
      "Epoch 49/3000\n",
      "2080/2519 [=======================>......] - ETA: 0s - loss: 0.5387 - accuracy: 0.4149 - f1_metric: 0.4133\n",
      "Epoch 00049: val_f1_metric did not improve from 0.55453\n",
      "2519/2519 [==============================] - 0s 136us/sample - loss: 0.5373 - accuracy: 0.4240 - f1_metric: 0.4228 - val_loss: 0.8204 - val_accuracy: 0.4481 - val_f1_metric: 0.4485\n",
      "Epoch 50/3000\n",
      "2080/2519 [=======================>......] - ETA: 0s - loss: 0.5373 - accuracy: 0.4466 - f1_metric: 0.4460\n",
      "Epoch 00050: val_f1_metric did not improve from 0.55453\n",
      "2519/2519 [==============================] - 0s 137us/sample - loss: 0.5406 - accuracy: 0.4466 - f1_metric: 0.4456 - val_loss: 0.8604 - val_accuracy: 0.4167 - val_f1_metric: 0.4173\n",
      "Epoch 51/3000\n",
      "2432/2519 [===========================>..] - ETA: 0s - loss: 0.5436 - accuracy: 0.4457 - f1_metric: 0.4475\n",
      "Epoch 00051: val_f1_metric did not improve from 0.55453\n",
      "2519/2519 [==============================] - 0s 143us/sample - loss: 0.5414 - accuracy: 0.4474 - f1_metric: 0.4494 - val_loss: 0.8912 - val_accuracy: 0.4046 - val_f1_metric: 0.4047\n",
      "Epoch 52/3000\n",
      "2080/2519 [=======================>......] - ETA: 0s - loss: 0.5189 - accuracy: 0.4428 - f1_metric: 0.4432\n",
      "Epoch 00052: val_f1_metric did not improve from 0.55453\n",
      "2519/2519 [==============================] - 0s 138us/sample - loss: 0.5252 - accuracy: 0.4319 - f1_metric: 0.4330 - val_loss: 0.8964 - val_accuracy: 0.4074 - val_f1_metric: 0.4078\n",
      "Epoch 53/3000\n",
      "2080/2519 [=======================>......] - ETA: 0s - loss: 0.5424 - accuracy: 0.4462 - f1_metric: 0.4459\n",
      "Epoch 00053: val_f1_metric did not improve from 0.55453\n",
      "2519/2519 [==============================] - 0s 136us/sample - loss: 0.5422 - accuracy: 0.4371 - f1_metric: 0.4372 - val_loss: 0.8296 - val_accuracy: 0.4083 - val_f1_metric: 0.4087\n",
      "Epoch 54/3000\n",
      "2080/2519 [=======================>......] - ETA: 0s - loss: 0.5129 - accuracy: 0.4582 - f1_metric: 0.4585\n",
      "Epoch 00054: val_f1_metric did not improve from 0.55453\n",
      "2519/2519 [==============================] - 0s 135us/sample - loss: 0.5148 - accuracy: 0.4617 - f1_metric: 0.4627 - val_loss: 0.8302 - val_accuracy: 0.4370 - val_f1_metric: 0.4374\n",
      "Epoch 55/3000\n",
      "2080/2519 [=======================>......] - ETA: 0s - loss: 0.5400 - accuracy: 0.4490 - f1_metric: 0.4494\n",
      "Epoch 00055: val_f1_metric did not improve from 0.55453\n",
      "2519/2519 [==============================] - 0s 137us/sample - loss: 0.5379 - accuracy: 0.4418 - f1_metric: 0.4426 - val_loss: 0.8991 - val_accuracy: 0.3852 - val_f1_metric: 0.3860\n",
      "Epoch 56/3000\n",
      "2080/2519 [=======================>......] - ETA: 0s - loss: 0.5243 - accuracy: 0.4553 - f1_metric: 0.4568\n",
      "Epoch 00056: val_f1_metric did not improve from 0.55453\n",
      "\n",
      "Epoch 00056: ReduceLROnPlateau reducing learning rate to 0.0001.\n",
      "2519/2519 [==============================] - 0s 135us/sample - loss: 0.5405 - accuracy: 0.4514 - f1_metric: 0.4526 - val_loss: 0.9141 - val_accuracy: 0.3639 - val_f1_metric: 0.3640\n",
      "Epoch 57/3000\n",
      "2080/2519 [=======================>......] - ETA: 0s - loss: 0.5347 - accuracy: 0.3870 - f1_metric: 0.3862\n",
      "Epoch 00057: val_f1_metric did not improve from 0.55453\n",
      "2519/2519 [==============================] - 0s 134us/sample - loss: 0.5441 - accuracy: 0.3922 - f1_metric: 0.3907 - val_loss: 0.8997 - val_accuracy: 0.3694 - val_f1_metric: 0.3695\n",
      "Epoch 58/3000\n",
      "2080/2519 [=======================>......] - ETA: 0s - loss: 0.5188 - accuracy: 0.4163 - f1_metric: 0.4155\n",
      "Epoch 00058: val_f1_metric did not improve from 0.55453\n",
      "2519/2519 [==============================] - 0s 136us/sample - loss: 0.5268 - accuracy: 0.4176 - f1_metric: 0.4173 - val_loss: 0.8665 - val_accuracy: 0.4000 - val_f1_metric: 0.4001\n",
      "Epoch 59/3000\n",
      "2080/2519 [=======================>......] - ETA: 0s - loss: 0.5209 - accuracy: 0.4514 - f1_metric: 0.4492\n",
      "Epoch 00059: val_f1_metric did not improve from 0.55453\n",
      "2519/2519 [==============================] - 0s 135us/sample - loss: 0.5212 - accuracy: 0.4514 - f1_metric: 0.4493 - val_loss: 0.8538 - val_accuracy: 0.4130 - val_f1_metric: 0.4133\n",
      "Epoch 60/3000\n",
      "2080/2519 [=======================>......] - ETA: 0s - loss: 0.5241 - accuracy: 0.4418 - f1_metric: 0.4437\n",
      "Epoch 00060: val_f1_metric did not improve from 0.55453\n",
      "2519/2519 [==============================] - 0s 135us/sample - loss: 0.5170 - accuracy: 0.4490 - f1_metric: 0.4516 - val_loss: 0.8583 - val_accuracy: 0.4111 - val_f1_metric: 0.4115\n",
      "Epoch 61/3000\n",
      "2080/2519 [=======================>......] - ETA: 0s - loss: 0.5084 - accuracy: 0.4452 - f1_metric: 0.4418\n",
      "Epoch 00061: val_f1_metric did not improve from 0.55453\n",
      "2519/2519 [==============================] - 0s 136us/sample - loss: 0.5228 - accuracy: 0.4502 - f1_metric: 0.4469 - val_loss: 0.8241 - val_accuracy: 0.4278 - val_f1_metric: 0.4272\n",
      "Epoch 62/3000\n",
      "2080/2519 [=======================>......] - ETA: 0s - loss: 0.5086 - accuracy: 0.4630 - f1_metric: 0.4632\n",
      "Epoch 00062: val_f1_metric did not improve from 0.55453\n",
      "2519/2519 [==============================] - 0s 136us/sample - loss: 0.5095 - accuracy: 0.4661 - f1_metric: 0.4666 - val_loss: 0.8394 - val_accuracy: 0.4222 - val_f1_metric: 0.4225\n",
      "Epoch 63/3000\n",
      "2080/2519 [=======================>......] - ETA: 0s - loss: 0.5248 - accuracy: 0.4707 - f1_metric: 0.4721\n",
      "Epoch 00063: val_f1_metric did not improve from 0.55453\n",
      "2519/2519 [==============================] - 0s 135us/sample - loss: 0.5149 - accuracy: 0.4661 - f1_metric: 0.4673 - val_loss: 0.8390 - val_accuracy: 0.4250 - val_f1_metric: 0.4252\n",
      "Epoch 64/3000\n",
      "2048/2519 [=======================>......] - ETA: 0s - loss: 0.5045 - accuracy: 0.4766 - f1_metric: 0.4774\n",
      "Epoch 00064: val_f1_metric did not improve from 0.55453\n",
      "2519/2519 [==============================] - 0s 137us/sample - loss: 0.5107 - accuracy: 0.4712 - f1_metric: 0.4724 - val_loss: 0.8275 - val_accuracy: 0.4324 - val_f1_metric: 0.4326\n",
      "Epoch 65/3000\n",
      "2080/2519 [=======================>......] - ETA: 0s - loss: 0.5141 - accuracy: 0.4702 - f1_metric: 0.4712\n",
      "Epoch 00065: val_f1_metric did not improve from 0.55453\n",
      "2519/2519 [==============================] - 0s 140us/sample - loss: 0.5224 - accuracy: 0.4684 - f1_metric: 0.4681 - val_loss: 0.8248 - val_accuracy: 0.4278 - val_f1_metric: 0.4283\n",
      "Epoch 66/3000\n",
      "2400/2519 [===========================>..] - ETA: 0s - loss: 0.5125 - accuracy: 0.4633 - f1_metric: 0.4621\n",
      "Epoch 00066: val_f1_metric did not improve from 0.55453\n",
      "2519/2519 [==============================] - 0s 148us/sample - loss: 0.5123 - accuracy: 0.4609 - f1_metric: 0.4585 - val_loss: 0.8199 - val_accuracy: 0.4352 - val_f1_metric: 0.4357\n",
      "Epoch 67/3000\n",
      "2240/2519 [=========================>....] - ETA: 0s - loss: 0.4925 - accuracy: 0.4848 - f1_metric: 0.4848\n",
      "Epoch 00067: val_f1_metric did not improve from 0.55453\n",
      "2519/2519 [==============================] - 0s 162us/sample - loss: 0.4892 - accuracy: 0.4843 - f1_metric: 0.4840 - val_loss: 0.8156 - val_accuracy: 0.4481 - val_f1_metric: 0.4485\n",
      "Epoch 68/3000\n",
      "2176/2519 [========================>.....] - ETA: 0s - loss: 0.4972 - accuracy: 0.4885 - f1_metric: 0.4900\n",
      "Epoch 00068: val_f1_metric did not improve from 0.55453\n",
      "2519/2519 [==============================] - 0s 165us/sample - loss: 0.4957 - accuracy: 0.4855 - f1_metric: 0.4863 - val_loss: 0.8345 - val_accuracy: 0.4333 - val_f1_metric: 0.4338\n",
      "Epoch 69/3000\n",
      "2368/2519 [===========================>..] - ETA: 0s - loss: 0.5020 - accuracy: 0.4776 - f1_metric: 0.4781\n",
      "Epoch 00069: val_f1_metric did not improve from 0.55453\n",
      "2519/2519 [==============================] - 0s 153us/sample - loss: 0.5007 - accuracy: 0.4788 - f1_metric: 0.4793 - val_loss: 0.7957 - val_accuracy: 0.4713 - val_f1_metric: 0.4718\n",
      "Epoch 70/3000\n",
      "2400/2519 [===========================>..] - ETA: 0s - loss: 0.4978 - accuracy: 0.4967 - f1_metric: 0.4973\n",
      "Epoch 00070: val_f1_metric did not improve from 0.55453\n",
      "2519/2519 [==============================] - 0s 146us/sample - loss: 0.4979 - accuracy: 0.4982 - f1_metric: 0.4989 - val_loss: 0.8025 - val_accuracy: 0.4593 - val_f1_metric: 0.4596\n",
      "Epoch 71/3000\n",
      "2080/2519 [=======================>......] - ETA: 0s - loss: 0.4905 - accuracy: 0.4957 - f1_metric: 0.4960\n",
      "Epoch 00071: val_f1_metric did not improve from 0.55453\n",
      "2519/2519 [==============================] - 0s 135us/sample - loss: 0.4896 - accuracy: 0.5014 - f1_metric: 0.5030 - val_loss: 0.7962 - val_accuracy: 0.4667 - val_f1_metric: 0.4669\n",
      "Epoch 72/3000\n",
      "2496/2519 [============================>.] - ETA: 0s - loss: 0.4972 - accuracy: 0.4880 - f1_metric: 0.4893\n",
      "Epoch 00072: val_f1_metric did not improve from 0.55453\n",
      "2519/2519 [==============================] - 0s 141us/sample - loss: 0.4968 - accuracy: 0.4887 - f1_metric: 0.4903 - val_loss: 0.7878 - val_accuracy: 0.4759 - val_f1_metric: 0.4761\n",
      "Epoch 73/3000\n",
      "2080/2519 [=======================>......] - ETA: 0s - loss: 0.4980 - accuracy: 0.4971 - f1_metric: 0.4979\n",
      "Epoch 00073: val_f1_metric did not improve from 0.55453\n",
      "2519/2519 [==============================] - 0s 134us/sample - loss: 0.4957 - accuracy: 0.4958 - f1_metric: 0.4974 - val_loss: 0.8109 - val_accuracy: 0.4602 - val_f1_metric: 0.4605\n",
      "Epoch 74/3000\n",
      "2080/2519 [=======================>......] - ETA: 0s - loss: 0.5068 - accuracy: 0.4981 - f1_metric: 0.4984\n",
      "Epoch 00074: val_f1_metric did not improve from 0.55453\n",
      "2519/2519 [==============================] - 0s 135us/sample - loss: 0.5012 - accuracy: 0.4915 - f1_metric: 0.4908 - val_loss: 0.8261 - val_accuracy: 0.4426 - val_f1_metric: 0.4430\n",
      "Epoch 75/3000\n",
      "2048/2519 [=======================>......] - ETA: 0s - loss: 0.4866 - accuracy: 0.4736 - f1_metric: 0.4744\n",
      "Epoch 00075: val_f1_metric did not improve from 0.55453\n",
      "2519/2519 [==============================] - 0s 137us/sample - loss: 0.4975 - accuracy: 0.4819 - f1_metric: 0.4824 - val_loss: 0.8114 - val_accuracy: 0.4481 - val_f1_metric: 0.4488\n",
      "Epoch 76/3000\n",
      "2080/2519 [=======================>......] - ETA: 0s - loss: 0.4958 - accuracy: 0.4736 - f1_metric: 0.4742\n",
      "Epoch 00076: val_f1_metric did not improve from 0.55453\n",
      "2519/2519 [==============================] - 0s 134us/sample - loss: 0.4935 - accuracy: 0.4760 - f1_metric: 0.4769 - val_loss: 0.7973 - val_accuracy: 0.4620 - val_f1_metric: 0.4626\n",
      "Epoch 77/3000\n",
      "2080/2519 [=======================>......] - ETA: 0s - loss: 0.5004 - accuracy: 0.4962 - f1_metric: 0.4974\n",
      "Epoch 00077: val_f1_metric did not improve from 0.55453\n",
      "2519/2519 [==============================] - 0s 135us/sample - loss: 0.5029 - accuracy: 0.4954 - f1_metric: 0.4969 - val_loss: 0.7914 - val_accuracy: 0.4685 - val_f1_metric: 0.4691\n",
      "Epoch 78/3000\n",
      "2048/2519 [=======================>......] - ETA: 0s - loss: 0.5011 - accuracy: 0.4761 - f1_metric: 0.4773\n",
      "Epoch 00078: val_f1_metric did not improve from 0.55453\n",
      "2519/2519 [==============================] - 0s 136us/sample - loss: 0.5010 - accuracy: 0.4815 - f1_metric: 0.4832 - val_loss: 0.8053 - val_accuracy: 0.4519 - val_f1_metric: 0.4522\n",
      "Epoch 79/3000\n",
      "2080/2519 [=======================>......] - ETA: 0s - loss: 0.4814 - accuracy: 0.4774 - f1_metric: 0.4779\n",
      "Epoch 00079: val_f1_metric did not improve from 0.55453\n",
      "2519/2519 [==============================] - 0s 136us/sample - loss: 0.4865 - accuracy: 0.4819 - f1_metric: 0.4824 - val_loss: 0.7961 - val_accuracy: 0.4639 - val_f1_metric: 0.4645\n",
      "Epoch 80/3000\n",
      "2080/2519 [=======================>......] - ETA: 0s - loss: 0.4993 - accuracy: 0.4995 - f1_metric: 0.4985\n",
      "Epoch 00080: val_f1_metric did not improve from 0.55453\n",
      "2519/2519 [==============================] - 0s 136us/sample - loss: 0.5042 - accuracy: 0.4950 - f1_metric: 0.4944 - val_loss: 0.8177 - val_accuracy: 0.4537 - val_f1_metric: 0.4544\n",
      "Epoch 81/3000\n",
      "2080/2519 [=======================>......] - ETA: 0s - loss: 0.5096 - accuracy: 0.4870 - f1_metric: 0.4870\n",
      "Epoch 00081: val_f1_metric did not improve from 0.55453\n",
      "2519/2519 [==============================] - 0s 136us/sample - loss: 0.5110 - accuracy: 0.4839 - f1_metric: 0.4836 - val_loss: 0.8215 - val_accuracy: 0.4491 - val_f1_metric: 0.4498\n",
      "Epoch 82/3000\n",
      "2080/2519 [=======================>......] - ETA: 0s - loss: 0.4859 - accuracy: 0.4875 - f1_metric: 0.4883\n",
      "Epoch 00082: val_f1_metric did not improve from 0.55453\n",
      "2519/2519 [==============================] - 0s 135us/sample - loss: 0.4859 - accuracy: 0.4923 - f1_metric: 0.4920 - val_loss: 0.8141 - val_accuracy: 0.4565 - val_f1_metric: 0.4571\n",
      "Epoch 83/3000\n",
      "2080/2519 [=======================>......] - ETA: 0s - loss: 0.4830 - accuracy: 0.5043 - f1_metric: 0.5047\n",
      "Epoch 00083: val_f1_metric did not improve from 0.55453\n",
      "2519/2519 [==============================] - 0s 136us/sample - loss: 0.4879 - accuracy: 0.4954 - f1_metric: 0.4961 - val_loss: 0.8090 - val_accuracy: 0.4620 - val_f1_metric: 0.4626\n",
      "Epoch 84/3000\n",
      "2080/2519 [=======================>......] - ETA: 0s - loss: 0.5036 - accuracy: 0.4832 - f1_metric: 0.4837\n",
      "Epoch 00084: val_f1_metric did not improve from 0.55453\n",
      "2519/2519 [==============================] - 0s 136us/sample - loss: 0.4992 - accuracy: 0.4815 - f1_metric: 0.4818 - val_loss: 0.8069 - val_accuracy: 0.4602 - val_f1_metric: 0.4608\n",
      "Epoch 85/3000\n",
      "2080/2519 [=======================>......] - ETA: 0s - loss: 0.4932 - accuracy: 0.4827 - f1_metric: 0.4832\n",
      "Epoch 00085: val_f1_metric did not improve from 0.55453\n",
      "2519/2519 [==============================] - 0s 136us/sample - loss: 0.4994 - accuracy: 0.4839 - f1_metric: 0.4841 - val_loss: 0.8010 - val_accuracy: 0.4630 - val_f1_metric: 0.4635\n",
      "Epoch 86/3000\n",
      "2080/2519 [=======================>......] - ETA: 0s - loss: 0.4799 - accuracy: 0.4918 - f1_metric: 0.4927\n",
      "Epoch 00086: val_f1_metric did not improve from 0.55453\n",
      "2519/2519 [==============================] - 0s 134us/sample - loss: 0.4867 - accuracy: 0.5089 - f1_metric: 0.5097 - val_loss: 0.7986 - val_accuracy: 0.4731 - val_f1_metric: 0.4737\n",
      "Epoch 87/3000\n",
      "2080/2519 [=======================>......] - ETA: 0s - loss: 0.4952 - accuracy: 0.4947 - f1_metric: 0.4948\n",
      "Epoch 00087: val_f1_metric did not improve from 0.55453\n",
      "2519/2519 [==============================] - 0s 136us/sample - loss: 0.4939 - accuracy: 0.4927 - f1_metric: 0.4928 - val_loss: 0.7931 - val_accuracy: 0.4806 - val_f1_metric: 0.4810\n",
      "Epoch 88/3000\n",
      "2080/2519 [=======================>......] - ETA: 0s - loss: 0.4800 - accuracy: 0.5202 - f1_metric: 0.5212\n",
      "Epoch 00088: val_f1_metric did not improve from 0.55453\n",
      "2519/2519 [==============================] - 0s 134us/sample - loss: 0.4849 - accuracy: 0.5125 - f1_metric: 0.5129 - val_loss: 0.8127 - val_accuracy: 0.4583 - val_f1_metric: 0.4586\n",
      "Epoch 89/3000\n",
      "2080/2519 [=======================>......] - ETA: 0s - loss: 0.4823 - accuracy: 0.4981 - f1_metric: 0.4984\n",
      "Epoch 00089: val_f1_metric did not improve from 0.55453\n",
      "2519/2519 [==============================] - 0s 135us/sample - loss: 0.4808 - accuracy: 0.4990 - f1_metric: 0.4994 - val_loss: 0.7851 - val_accuracy: 0.4806 - val_f1_metric: 0.4810\n",
      "Epoch 90/3000\n",
      "2080/2519 [=======================>......] - ETA: 0s - loss: 0.4761 - accuracy: 0.5106 - f1_metric: 0.5110\n",
      "Epoch 00090: val_f1_metric did not improve from 0.55453\n",
      "2519/2519 [==============================] - 0s 136us/sample - loss: 0.4730 - accuracy: 0.5141 - f1_metric: 0.5151 - val_loss: 0.7993 - val_accuracy: 0.4722 - val_f1_metric: 0.4727\n",
      "Epoch 91/3000\n",
      "2080/2519 [=======================>......] - ETA: 0s - loss: 0.5031 - accuracy: 0.4933 - f1_metric: 0.4944\n",
      "Epoch 00091: val_f1_metric did not improve from 0.55453\n",
      "2519/2519 [==============================] - 0s 136us/sample - loss: 0.4938 - accuracy: 0.4970 - f1_metric: 0.4987 - val_loss: 0.8139 - val_accuracy: 0.4602 - val_f1_metric: 0.4608\n",
      "Epoch 92/3000\n",
      "2080/2519 [=======================>......] - ETA: 0s - loss: 0.4768 - accuracy: 0.4889 - f1_metric: 0.4889\n",
      "Epoch 00092: val_f1_metric did not improve from 0.55453\n",
      "2519/2519 [==============================] - 0s 136us/sample - loss: 0.4841 - accuracy: 0.4946 - f1_metric: 0.4953 - val_loss: 0.8133 - val_accuracy: 0.4630 - val_f1_metric: 0.4635\n",
      "Epoch 93/3000\n",
      "2496/2519 [============================>.] - ETA: 0s - loss: 0.4755 - accuracy: 0.5020 - f1_metric: 0.5025\n",
      "Epoch 00093: val_f1_metric did not improve from 0.55453\n",
      "2519/2519 [==============================] - 0s 139us/sample - loss: 0.4760 - accuracy: 0.5030 - f1_metric: 0.5039 - val_loss: 0.8143 - val_accuracy: 0.4611 - val_f1_metric: 0.4614\n",
      "Epoch 94/3000\n",
      "2080/2519 [=======================>......] - ETA: 0s - loss: 0.4788 - accuracy: 0.5144 - f1_metric: 0.5144\n",
      "Epoch 00094: val_f1_metric did not improve from 0.55453\n",
      "2519/2519 [==============================] - 0s 136us/sample - loss: 0.4783 - accuracy: 0.5137 - f1_metric: 0.5135 - val_loss: 0.8050 - val_accuracy: 0.4759 - val_f1_metric: 0.4764\n",
      "Epoch 95/3000\n",
      "2304/2519 [==========================>...] - ETA: 0s - loss: 0.4816 - accuracy: 0.5100 - f1_metric: 0.5109\n",
      "Epoch 00095: val_f1_metric did not improve from 0.55453\n",
      "2519/2519 [==============================] - 0s 153us/sample - loss: 0.4885 - accuracy: 0.5117 - f1_metric: 0.5125 - val_loss: 0.8092 - val_accuracy: 0.4602 - val_f1_metric: 0.4605\n",
      "Epoch 96/3000\n",
      "2048/2519 [=======================>......] - ETA: 0s - loss: 0.4747 - accuracy: 0.4873 - f1_metric: 0.4878\n",
      "Epoch 00096: val_f1_metric did not improve from 0.55453\n",
      "2519/2519 [==============================] - 0s 138us/sample - loss: 0.4781 - accuracy: 0.4931 - f1_metric: 0.4930 - val_loss: 0.7936 - val_accuracy: 0.4722 - val_f1_metric: 0.4727\n",
      "Epoch 97/3000\n",
      "2080/2519 [=======================>......] - ETA: 0s - loss: 0.4888 - accuracy: 0.4942 - f1_metric: 0.4949\n",
      "Epoch 00097: val_f1_metric did not improve from 0.55453\n",
      "2519/2519 [==============================] - 0s 137us/sample - loss: 0.4874 - accuracy: 0.5010 - f1_metric: 0.5016 - val_loss: 0.7889 - val_accuracy: 0.4778 - val_f1_metric: 0.4782\n",
      "Epoch 98/3000\n",
      "2080/2519 [=======================>......] - ETA: 0s - loss: 0.4763 - accuracy: 0.5048 - f1_metric: 0.5045\n",
      "Epoch 00098: val_f1_metric did not improve from 0.55453\n",
      "2519/2519 [==============================] - 0s 139us/sample - loss: 0.4774 - accuracy: 0.5097 - f1_metric: 0.5092 - val_loss: 0.7947 - val_accuracy: 0.4778 - val_f1_metric: 0.4782\n",
      "Epoch 99/3000\n",
      "2496/2519 [============================>.] - ETA: 0s - loss: 0.4793 - accuracy: 0.5004 - f1_metric: 0.5010\n",
      "Epoch 00099: val_f1_metric did not improve from 0.55453\n",
      "2519/2519 [==============================] - 0s 138us/sample - loss: 0.4787 - accuracy: 0.5006 - f1_metric: 0.5013 - val_loss: 0.8028 - val_accuracy: 0.4667 - val_f1_metric: 0.4669\n",
      "Epoch 100/3000\n",
      "2080/2519 [=======================>......] - ETA: 0s - loss: 0.4830 - accuracy: 0.5130 - f1_metric: 0.5135\n",
      "Epoch 00100: val_f1_metric did not improve from 0.55453\n",
      "2519/2519 [==============================] - 0s 136us/sample - loss: 0.4897 - accuracy: 0.5085 - f1_metric: 0.5088 - val_loss: 0.8003 - val_accuracy: 0.4685 - val_f1_metric: 0.4691\n",
      "Epoch 101/3000\n",
      "2080/2519 [=======================>......] - ETA: 0s - loss: 0.4748 - accuracy: 0.5010 - f1_metric: 0.5016\n",
      "Epoch 00101: val_f1_metric did not improve from 0.55453\n",
      "2519/2519 [==============================] - 0s 137us/sample - loss: 0.4804 - accuracy: 0.5054 - f1_metric: 0.5062 - val_loss: 0.8162 - val_accuracy: 0.4648 - val_f1_metric: 0.4654\n",
      "Epoch 102/3000\n",
      "2080/2519 [=======================>......] - ETA: 0s - loss: 0.4708 - accuracy: 0.5063 - f1_metric: 0.5067\n",
      "Epoch 00102: val_f1_metric did not improve from 0.55453\n",
      "2519/2519 [==============================] - 0s 137us/sample - loss: 0.4722 - accuracy: 0.5077 - f1_metric: 0.5080 - val_loss: 0.8137 - val_accuracy: 0.4648 - val_f1_metric: 0.4654\n",
      "Epoch 103/3000\n",
      "2080/2519 [=======================>......] - ETA: 0s - loss: 0.4782 - accuracy: 0.4957 - f1_metric: 0.4960\n",
      "Epoch 00103: val_f1_metric did not improve from 0.55453\n",
      "2519/2519 [==============================] - 0s 137us/sample - loss: 0.4808 - accuracy: 0.5010 - f1_metric: 0.5017 - val_loss: 0.8156 - val_accuracy: 0.4537 - val_f1_metric: 0.4540\n",
      "Epoch 104/3000\n",
      "2016/2519 [=======================>......] - ETA: 0s - loss: 0.4901 - accuracy: 0.4985 - f1_metric: 0.4989\n",
      "Epoch 00104: val_f1_metric did not improve from 0.55453\n",
      "2519/2519 [==============================] - 0s 139us/sample - loss: 0.4753 - accuracy: 0.5038 - f1_metric: 0.5044 - val_loss: 0.8089 - val_accuracy: 0.4667 - val_f1_metric: 0.4672\n",
      "Epoch 105/3000\n",
      "2080/2519 [=======================>......] - ETA: 0s - loss: 0.4892 - accuracy: 0.5163 - f1_metric: 0.5165\n",
      "Epoch 00105: val_f1_metric did not improve from 0.55453\n",
      "2519/2519 [==============================] - 0s 138us/sample - loss: 0.4894 - accuracy: 0.5125 - f1_metric: 0.5122 - val_loss: 0.8119 - val_accuracy: 0.4565 - val_f1_metric: 0.4568\n",
      "Epoch 106/3000\n",
      "2080/2519 [=======================>......] - ETA: 0s - loss: 0.4867 - accuracy: 0.4875 - f1_metric: 0.4882\n",
      "Epoch 00106: val_f1_metric did not improve from 0.55453\n",
      "2519/2519 [==============================] - 0s 137us/sample - loss: 0.4857 - accuracy: 0.4923 - f1_metric: 0.4933 - val_loss: 0.8006 - val_accuracy: 0.4620 - val_f1_metric: 0.4623\n",
      "Epoch 107/3000\n",
      "2496/2519 [============================>.] - ETA: 0s - loss: 0.4934 - accuracy: 0.5016 - f1_metric: 0.5016\n",
      "Epoch 00107: val_f1_metric did not improve from 0.55453\n",
      "2519/2519 [==============================] - 0s 141us/sample - loss: 0.4931 - accuracy: 0.5018 - f1_metric: 0.5019 - val_loss: 0.8186 - val_accuracy: 0.4574 - val_f1_metric: 0.4577\n",
      "Epoch 108/3000\n",
      "2048/2519 [=======================>......] - ETA: 0s - loss: 0.4948 - accuracy: 0.4883 - f1_metric: 0.4889\n",
      "Epoch 00108: val_f1_metric did not improve from 0.55453\n",
      "2519/2519 [==============================] - 0s 139us/sample - loss: 0.4924 - accuracy: 0.4891 - f1_metric: 0.4896 - val_loss: 0.8041 - val_accuracy: 0.4620 - val_f1_metric: 0.4623\n",
      "Epoch 109/3000\n",
      "2080/2519 [=======================>......] - ETA: 0s - loss: 0.4671 - accuracy: 0.5077 - f1_metric: 0.5083\n",
      "Epoch 00109: val_f1_metric did not improve from 0.55453\n",
      "2519/2519 [==============================] - 0s 138us/sample - loss: 0.4668 - accuracy: 0.5145 - f1_metric: 0.5151 - val_loss: 0.7984 - val_accuracy: 0.4750 - val_f1_metric: 0.4752\n",
      "Epoch 110/3000\n",
      "2048/2519 [=======================>......] - ETA: 0s - loss: 0.4557 - accuracy: 0.5146 - f1_metric: 0.5154\n",
      "Epoch 00110: val_f1_metric did not improve from 0.55453\n",
      "2519/2519 [==============================] - 0s 139us/sample - loss: 0.4683 - accuracy: 0.5137 - f1_metric: 0.5147 - val_loss: 0.7916 - val_accuracy: 0.4944 - val_f1_metric: 0.4948\n",
      "Epoch 111/3000\n",
      "2080/2519 [=======================>......] - ETA: 0s - loss: 0.5026 - accuracy: 0.4933 - f1_metric: 0.4939\n",
      "Epoch 00111: val_f1_metric did not improve from 0.55453\n",
      "2519/2519 [==============================] - 0s 136us/sample - loss: 0.4932 - accuracy: 0.4962 - f1_metric: 0.4968 - val_loss: 0.8141 - val_accuracy: 0.4583 - val_f1_metric: 0.4586\n",
      "Epoch 112/3000\n",
      "2080/2519 [=======================>......] - ETA: 0s - loss: 0.4911 - accuracy: 0.4981 - f1_metric: 0.4978\n",
      "Epoch 00112: val_f1_metric did not improve from 0.55453\n",
      "2519/2519 [==============================] - 0s 137us/sample - loss: 0.4881 - accuracy: 0.4954 - f1_metric: 0.4948 - val_loss: 0.7949 - val_accuracy: 0.4713 - val_f1_metric: 0.4718\n",
      "Epoch 113/3000\n",
      "2048/2519 [=======================>......] - ETA: 0s - loss: 0.4783 - accuracy: 0.5063 - f1_metric: 0.5076\n",
      "Epoch 00113: val_f1_metric did not improve from 0.55453\n",
      "2519/2519 [==============================] - 0s 138us/sample - loss: 0.4797 - accuracy: 0.5149 - f1_metric: 0.5159 - val_loss: 0.7865 - val_accuracy: 0.4787 - val_f1_metric: 0.4792\n",
      "Epoch 114/3000\n",
      "2080/2519 [=======================>......] - ETA: 0s - loss: 0.4733 - accuracy: 0.5221 - f1_metric: 0.5224\n",
      "Epoch 00114: val_f1_metric did not improve from 0.55453\n",
      "2519/2519 [==============================] - 0s 136us/sample - loss: 0.4741 - accuracy: 0.5141 - f1_metric: 0.5145 - val_loss: 0.8072 - val_accuracy: 0.4685 - val_f1_metric: 0.4691\n",
      "Epoch 115/3000\n",
      "2080/2519 [=======================>......] - ETA: 0s - loss: 0.4715 - accuracy: 0.5197 - f1_metric: 0.5196\n",
      "Epoch 00115: val_f1_metric did not improve from 0.55453\n",
      "2519/2519 [==============================] - 0s 136us/sample - loss: 0.4688 - accuracy: 0.5193 - f1_metric: 0.5190 - val_loss: 0.7964 - val_accuracy: 0.4769 - val_f1_metric: 0.4773\n",
      "Epoch 116/3000\n",
      "2048/2519 [=======================>......] - ETA: 0s - loss: 0.4792 - accuracy: 0.5254 - f1_metric: 0.5259\n",
      "Epoch 00116: val_f1_metric did not improve from 0.55453\n",
      "2519/2519 [==============================] - 0s 140us/sample - loss: 0.4864 - accuracy: 0.5149 - f1_metric: 0.5158 - val_loss: 0.8242 - val_accuracy: 0.4593 - val_f1_metric: 0.4599\n",
      "Epoch 117/3000\n",
      "2048/2519 [=======================>......] - ETA: 0s - loss: 0.4667 - accuracy: 0.5093 - f1_metric: 0.5098\n",
      "Epoch 00117: val_f1_metric did not improve from 0.55453\n",
      "2519/2519 [==============================] - 0s 137us/sample - loss: 0.4678 - accuracy: 0.5062 - f1_metric: 0.5063 - val_loss: 0.8036 - val_accuracy: 0.4722 - val_f1_metric: 0.4727\n",
      "Epoch 118/3000\n",
      "2080/2519 [=======================>......] - ETA: 0s - loss: 0.4772 - accuracy: 0.5221 - f1_metric: 0.5225\n",
      "Epoch 00118: val_f1_metric did not improve from 0.55453\n",
      "2519/2519 [==============================] - 0s 137us/sample - loss: 0.4769 - accuracy: 0.5189 - f1_metric: 0.5194 - val_loss: 0.8139 - val_accuracy: 0.4639 - val_f1_metric: 0.4642\n",
      "Epoch 119/3000\n",
      "2080/2519 [=======================>......] - ETA: 0s - loss: 0.4893 - accuracy: 0.5063 - f1_metric: 0.5068\n",
      "Epoch 00119: val_f1_metric did not improve from 0.55453\n",
      "2519/2519 [==============================] - 0s 137us/sample - loss: 0.4805 - accuracy: 0.5018 - f1_metric: 0.5024 - val_loss: 0.8040 - val_accuracy: 0.4593 - val_f1_metric: 0.4596\n",
      "Epoch 120/3000\n",
      "2048/2519 [=======================>......] - ETA: 0s - loss: 0.4748 - accuracy: 0.5112 - f1_metric: 0.5116\n",
      "Epoch 00120: val_f1_metric did not improve from 0.55453\n",
      "2519/2519 [==============================] - 0s 137us/sample - loss: 0.4699 - accuracy: 0.5173 - f1_metric: 0.5174 - val_loss: 0.7972 - val_accuracy: 0.4722 - val_f1_metric: 0.4727\n",
      "Epoch 121/3000\n",
      "2080/2519 [=======================>......] - ETA: 0s - loss: 0.4669 - accuracy: 0.5154 - f1_metric: 0.5151\n",
      "Epoch 00121: val_f1_metric did not improve from 0.55453\n",
      "2519/2519 [==============================] - 0s 138us/sample - loss: 0.4720 - accuracy: 0.5177 - f1_metric: 0.5177 - val_loss: 0.8168 - val_accuracy: 0.4667 - val_f1_metric: 0.4672\n",
      "Epoch 122/3000\n",
      "2080/2519 [=======================>......] - ETA: 0s - loss: 0.4773 - accuracy: 0.5010 - f1_metric: 0.5022\n",
      "Epoch 00122: val_f1_metric did not improve from 0.55453\n",
      "2519/2519 [==============================] - 0s 136us/sample - loss: 0.4750 - accuracy: 0.5042 - f1_metric: 0.5055 - val_loss: 0.8130 - val_accuracy: 0.4722 - val_f1_metric: 0.4727\n",
      "Epoch 123/3000\n",
      "2496/2519 [============================>.] - ETA: 0s - loss: 0.4831 - accuracy: 0.5048 - f1_metric: 0.5050\n",
      "Epoch 00123: val_f1_metric did not improve from 0.55453\n",
      "2519/2519 [==============================] - 0s 141us/sample - loss: 0.4837 - accuracy: 0.5046 - f1_metric: 0.5047 - val_loss: 0.8229 - val_accuracy: 0.4565 - val_f1_metric: 0.4571\n",
      "Epoch 124/3000\n",
      "2208/2519 [=========================>....] - ETA: 0s - loss: 0.4778 - accuracy: 0.4977 - f1_metric: 0.4982\n",
      "Epoch 00124: val_f1_metric did not improve from 0.55453\n",
      "2519/2519 [==============================] - 0s 152us/sample - loss: 0.4779 - accuracy: 0.4986 - f1_metric: 0.4995 - val_loss: 0.8180 - val_accuracy: 0.4620 - val_f1_metric: 0.4626\n",
      "Epoch 125/3000\n",
      "2080/2519 [=======================>......] - ETA: 0s - loss: 0.4740 - accuracy: 0.5106 - f1_metric: 0.5113\n",
      "Epoch 00125: val_f1_metric did not improve from 0.55453\n",
      "2519/2519 [==============================] - 0s 136us/sample - loss: 0.4726 - accuracy: 0.5157 - f1_metric: 0.5164 - val_loss: 0.8031 - val_accuracy: 0.4759 - val_f1_metric: 0.4764\n",
      "Epoch 126/3000\n",
      "2048/2519 [=======================>......] - ETA: 0s - loss: 0.4878 - accuracy: 0.5015 - f1_metric: 0.5025\n",
      "Epoch 00126: val_f1_metric did not improve from 0.55453\n",
      "2519/2519 [==============================] - 0s 137us/sample - loss: 0.4851 - accuracy: 0.4990 - f1_metric: 0.5004 - val_loss: 0.8243 - val_accuracy: 0.4565 - val_f1_metric: 0.4571\n",
      "Epoch 127/3000\n",
      "2496/2519 [============================>.] - ETA: 0s - loss: 0.4811 - accuracy: 0.4912 - f1_metric: 0.4916\n",
      "Epoch 00127: val_f1_metric did not improve from 0.55453\n",
      "2519/2519 [==============================] - 0s 140us/sample - loss: 0.4804 - accuracy: 0.4923 - f1_metric: 0.4931 - val_loss: 0.8032 - val_accuracy: 0.4657 - val_f1_metric: 0.4663\n",
      "Epoch 128/3000\n",
      "2080/2519 [=======================>......] - ETA: 0s - loss: 0.4765 - accuracy: 0.5120 - f1_metric: 0.5131\n",
      "Epoch 00128: val_f1_metric did not improve from 0.55453\n",
      "2519/2519 [==============================] - 0s 136us/sample - loss: 0.4777 - accuracy: 0.5165 - f1_metric: 0.5174 - val_loss: 0.7977 - val_accuracy: 0.4602 - val_f1_metric: 0.4605\n",
      "Epoch 129/3000\n",
      "2080/2519 [=======================>......] - ETA: 0s - loss: 0.4848 - accuracy: 0.4990 - f1_metric: 0.4999\n",
      "Epoch 00129: val_f1_metric did not improve from 0.55453\n",
      "2519/2519 [==============================] - 0s 135us/sample - loss: 0.4820 - accuracy: 0.5018 - f1_metric: 0.5026 - val_loss: 0.7868 - val_accuracy: 0.4935 - val_f1_metric: 0.4942\n",
      "Epoch 130/3000\n",
      "2048/2519 [=======================>......] - ETA: 0s - loss: 0.4772 - accuracy: 0.5137 - f1_metric: 0.5141\n",
      "Epoch 00130: val_f1_metric did not improve from 0.55453\n",
      "2519/2519 [==============================] - 0s 138us/sample - loss: 0.4728 - accuracy: 0.5069 - f1_metric: 0.5070 - val_loss: 0.8185 - val_accuracy: 0.4593 - val_f1_metric: 0.4599\n",
      "Epoch 131/3000\n",
      "2080/2519 [=======================>......] - ETA: 0s - loss: 0.4815 - accuracy: 0.4981 - f1_metric: 0.4983\n",
      "Epoch 00131: val_f1_metric did not improve from 0.55453\n",
      "2519/2519 [==============================] - 0s 136us/sample - loss: 0.4923 - accuracy: 0.4974 - f1_metric: 0.4976 - val_loss: 0.8087 - val_accuracy: 0.4602 - val_f1_metric: 0.4605\n",
      "Epoch 132/3000\n",
      "2080/2519 [=======================>......] - ETA: 0s - loss: 0.4733 - accuracy: 0.4947 - f1_metric: 0.4946\n",
      "Epoch 00132: val_f1_metric did not improve from 0.55453\n",
      "2519/2519 [==============================] - 0s 136us/sample - loss: 0.4821 - accuracy: 0.4986 - f1_metric: 0.4978 - val_loss: 0.7840 - val_accuracy: 0.4944 - val_f1_metric: 0.4951\n",
      "Epoch 133/3000\n",
      "2048/2519 [=======================>......] - ETA: 0s - loss: 0.4842 - accuracy: 0.5083 - f1_metric: 0.5082\n",
      "Epoch 00133: val_f1_metric did not improve from 0.55453\n",
      "2519/2519 [==============================] - 0s 137us/sample - loss: 0.4751 - accuracy: 0.5125 - f1_metric: 0.5128 - val_loss: 0.7688 - val_accuracy: 0.5102 - val_f1_metric: 0.5107\n",
      "Epoch 134/3000\n",
      "2112/2519 [========================>.....] - ETA: 0s - loss: 0.4647 - accuracy: 0.5256 - f1_metric: 0.5261\n",
      "Epoch 00134: val_f1_metric did not improve from 0.55453\n",
      "2519/2519 [==============================] - 0s 134us/sample - loss: 0.4730 - accuracy: 0.5256 - f1_metric: 0.5266 - val_loss: 0.7983 - val_accuracy: 0.4815 - val_f1_metric: 0.4816\n",
      "Epoch 135/3000\n",
      "2080/2519 [=======================>......] - ETA: 0s - loss: 0.4809 - accuracy: 0.5101 - f1_metric: 0.5096\n",
      "Epoch 00135: val_f1_metric did not improve from 0.55453\n",
      "2519/2519 [==============================] - 0s 137us/sample - loss: 0.4738 - accuracy: 0.5101 - f1_metric: 0.5099 - val_loss: 0.8124 - val_accuracy: 0.4778 - val_f1_metric: 0.4782\n",
      "Epoch 136/3000\n",
      "2048/2519 [=======================>......] - ETA: 0s - loss: 0.4703 - accuracy: 0.5186 - f1_metric: 0.5192\n",
      "Epoch 00136: val_f1_metric did not improve from 0.55453\n",
      "2519/2519 [==============================] - 0s 137us/sample - loss: 0.4719 - accuracy: 0.5197 - f1_metric: 0.5202 - val_loss: 0.7902 - val_accuracy: 0.4944 - val_f1_metric: 0.4951\n",
      "Epoch 00136: early stopping\n",
      "CPU times: user 1min 19s, sys: 10.2 s, total: 1min 29s\n",
      "Wall time: 58.8 s\n"
     ]
    }
   ],
   "source": [
    "%%time\n",
    "history = model.fit(x_train, y_train, epochs=3000, verbose=1,\n",
    "                            batch_size=32, shuffle=True,\n",
    "                            validation_data=(x_cv, y_cv),\n",
    "                            callbacks=[mcp, rlp, es],\n",
    "                            sample_weight=sample_weights)"
   ]
  },
  {
   "cell_type": "markdown",
   "metadata": {},
   "source": [
    "Se visualiza el rendimiento del modelo durante el entrenamiento. Muestra gráficas de la pérdida y la métrica F1 tanto para los conjuntos de entrenamiento como de validación a lo largo de las épocas. Esto ayuda a evaluar el aprendizaje y la generalización del modelo."
   ]
  },
  {
   "cell_type": "code",
   "execution_count": 14,
   "metadata": {
    "execution": {
     "iopub.execute_input": "2024-01-12T15:27:31.831574Z",
     "iopub.status.busy": "2024-01-12T15:27:31.831295Z",
     "iopub.status.idle": "2024-01-12T15:27:31.862697Z",
     "shell.execute_reply": "2024-01-12T15:27:31.861687Z",
     "shell.execute_reply.started": "2024-01-12T15:27:31.831509Z"
    },
    "scrolled": true
   },
   "outputs": [
    {
     "data": {
      "image/png": "[encoded data removed]",
      "text/plain": [
       "<Figure size 432x288 with 1 Axes>"
      ]
     },
     "metadata": {
      "needs_background": "light"
     },
     "output_type": "display_data"
    }
   ],
   "source": [
    "from matplotlib import pyplot as plt\n",
    "%matplotlib inline\n",
    "InteractiveShell.ast_node_interactivity = \"last\"\n",
    "\n",
    "plt.figure()\n",
    "plt.plot(history.history['loss'])\n",
    "plt.plot(history.history['val_loss'])\n",
    "plt.plot(history.history['f1_metric'])\n",
    "plt.plot(history.history['val_f1_metric'])\n",
    "\n",
    "plt.title('Model loss')\n",
    "plt.ylabel('Loss')\n",
    "plt.xlabel('Epoch')\n",
    "plt.legend(['train_loss', 'val_loss', 'f1', 'val_f1'], loc='upper left')\n",
    "plt.show()"
   ]
  },
  {
   "cell_type": "markdown",
   "metadata": {},
   "source": [
    "Se realiza la evaluación final del modelo sobre el conjunto de prueba:\n",
    "\n",
    "1) Carga el mejor modelo guardado.   \n",
    "\n",
    "2) Evalúa el modelo en el conjunto de prueba y obtiene las predicciones.\n",
    "\n",
    "3) Calcula y muestra la matriz de confusión para visualizar el rendimiento del     modelo en clasificar cada clase.\n",
    "\n",
    "4) Calcula las métricas de recall y precisión para cada clase.\n",
    "\n",
    "5) Muestra dos gráficos de barras: uno para el recall y otro para la precisión     por clase, facilitando la comparación visual del rendimiento del modelo en       diferentes clases."
   ]
  },
  {
   "cell_type": "code",
   "execution_count": 15,
   "metadata": {
    "execution": {
     "iopub.status.busy": "2024-01-12T15:27:31.863721Z",
     "iopub.status.idle": "2024-01-12T15:27:31.864555Z"
    }
   },
   "outputs": [
    {
     "data": {
      "image/png": "[encoded data removed]",
      "text/plain": [
       "<Figure size 720x504 with 2 Axes>"
      ]
     },
     "metadata": {
      "needs_background": "light"
     },
     "output_type": "display_data"
    },
    {
     "data": {
      "image/png": "[encoded data removed]",
      "text/plain": [
       "<Figure size 1080x360 with 2 Axes>"
      ]
     },
     "metadata": {
      "needs_background": "light"
     },
     "output_type": "display_data"
    }
   ],
   "source": [
    "import matplotlib.pyplot as plt\n",
    "from sklearn.metrics import confusion_matrix, recall_score, precision_score\n",
    "import numpy as np\n",
    "import seaborn as sns\n",
    "\n",
    "# Carga tu modelo y evalúa los datos de prueba\n",
    "model = load_model(best_model_path)\n",
    "test_res = model.evaluate(x_test, y_test, verbose=0)\n",
    "\n",
    "# Predicciones\n",
    "y_pred = model.predict(x_test)\n",
    "y_pred_classes = np.argmax(y_pred, axis=1)\n",
    "y_true = np.argmax(y_test, axis=1)\n",
    "\n",
    "# Matriz de confusión\n",
    "cm = confusion_matrix(y_true, y_pred_classes)\n",
    "\n",
    "# Recall y Precisión\n",
    "recall = recall_score(y_true, y_pred_classes, average=None)\n",
    "precision = precision_score(y_true, y_pred_classes, average=None)\n",
    "\n",
    "# Gráfico de la matriz de confusión\n",
    "plt.figure(figsize=(10, 7))\n",
    "sns.heatmap(cm, annot=True, fmt='g')\n",
    "plt.xlabel('Predicciones')\n",
    "plt.ylabel('Valores verdaderos')\n",
    "plt.title('Matriz de Confusión')\n",
    "plt.show()\n",
    "\n",
    "# Gráfico de barras para Recall y Precisión\n",
    "fig, ax = plt.subplots(1, 2, figsize=(15, 5))\n",
    "ax[0].bar(['Clase 0', 'Clase 1', 'Clase 2'], recall, color='blue')\n",
    "ax[0].set_title('Recall por Clase')\n",
    "ax[0].set_ylim(0, 1)\n",
    "\n",
    "ax[1].bar(['Clase 0', 'Clase 1', 'Clase 2'], precision, color='green')\n",
    "ax[1].set_title('Precisión por Clase')\n",
    "ax[1].set_ylim(0, 1)\n",
    "\n",
    "plt.show()\n"
   ]
  },
  {
   "cell_type": "code",
   "execution_count": 16,
   "metadata": {
    "execution": {
     "iopub.status.busy": "2024-01-12T15:27:31.865743Z",
     "iopub.status.idle": "2024-01-12T15:27:31.866229Z"
    }
   },
   "outputs": [
    {
     "data": {
      "text/plain": [
       "array([0.56384324, 0.90909091, 0.68518519])"
      ]
     },
     "execution_count": 16,
     "metadata": {},
     "output_type": "execute_result"
    }
   ],
   "source": [
    "recall"
   ]
  },
  {
   "cell_type": "code",
   "execution_count": 17,
   "metadata": {
    "execution": {
     "iopub.status.busy": "2024-01-12T15:27:31.867389Z",
     "iopub.status.idle": "2024-01-12T15:27:31.867929Z"
    }
   },
   "outputs": [
    {
     "data": {
      "text/plain": [
       "array([0.95299145, 0.22727273, 0.1745283 ])"
      ]
     },
     "execution_count": 17,
     "metadata": {},
     "output_type": "execute_result"
    }
   ],
   "source": [
    "precision"
   ]
  },
  {
   "cell_type": "markdown",
   "metadata": {},
   "source": [
    "Se imprime los resultados de la evaluación del modelo en el conjunto de prueba, mostrando la pérdida (loss), la precisión (accuracy) y la puntuación F1. Estos valores ayudan a comprender el rendimiento general del modelo en datos no vistos."
   ]
  },
  {
   "cell_type": "code",
   "execution_count": 18,
   "metadata": {
    "execution": {
     "iopub.status.busy": "2024-01-12T15:27:31.869081Z",
     "iopub.status.idle": "2024-01-12T15:27:31.869673Z"
    }
   },
   "outputs": [
    {
     "name": "stdout",
     "output_type": "stream",
     "text": [
      "Loss: 0.6517463986078899\n",
      "Accuracy: 0.5922222137451172\n",
      "F1 score: 0.5894395709037781\n"
     ]
    }
   ],
   "source": [
    "print(f\"Loss: {test_res[0]}\")\n",
    "print(f\"Accuracy: {test_res[1]}\")\n",
    "print(f\"F1 score: {test_res[2]}\")"
   ]
  },
  {
   "cell_type": "markdown",
   "metadata": {},
   "source": [
    "Se carga el mejor modelo guardado y lo vuelve a guardar con el nombre 'mi_modelo.h5'. Este paso es útil para renombrar y conservar el modelo entrenado para su uso o distribución futura."
   ]
  },
  {
   "cell_type": "code",
   "execution_count": 19,
   "metadata": {
    "execution": {
     "iopub.status.busy": "2024-01-12T15:27:31.870914Z",
     "iopub.status.idle": "2024-01-12T15:27:31.871421Z"
    }
   },
   "outputs": [],
   "source": [
    "model = load_model(best_model_path)\n",
    "model.save('mi_modelo.h5')\n"
   ]
  },
  {
   "cell_type": "markdown",
   "metadata": {},
   "source": [
    "Se implementa una estrategia para optimizar el umbral de clasificación:\n",
    "\n",
    "1) Define una función apply_threshold para ajustar las predicciones basadas en un umbral específico. Si ninguna clase supera el umbral, asigna la clase 0; de lo contrario, selecciona la clase con la mayor probabilidad.\n",
    "\n",
    "2) Itera sobre un rango de posibles umbrales para encontrar el que maximiza el F1 score.\n",
    "\n",
    "3) Calcula el F1 score para cada umbral y actualiza el mejor umbral y el mejor F1 score.\n",
    "\n",
    "4) Finalmente, imprime el mejor umbral encontrado y su correspondiente F1 score.\n",
    "\n",
    "\n",
    "\n",
    "\n",
    "\n",
    "\n",
    "\n"
   ]
  },
  {
   "cell_type": "code",
   "execution_count": 20,
   "metadata": {
    "execution": {
     "iopub.status.busy": "2024-01-12T15:27:31.872410Z",
     "iopub.status.idle": "2024-01-12T15:27:31.873009Z"
    }
   },
   "outputs": [
    {
     "name": "stderr",
     "output_type": "stream",
     "text": [
      "/opt/conda/lib/python3.6/site-packages/sklearn/metrics/classification.py:1437: UndefinedMetricWarning: F-score is ill-defined and being set to 0.0 in labels with no predicted samples.\n",
      "  'precision', 'predicted', average, warn_for)\n"
     ]
    },
    {
     "name": "stdout",
     "output_type": "stream",
     "text": [
      "Mejor umbral: 0.686868686868687\n",
      "Mejor F1 score: 0.5074228806801558\n"
     ]
    }
   ],
   "source": [
    "import numpy as np\n",
    "from sklearn.metrics import f1_score\n",
    "\n",
    "# Función para aplicar el umbral y ajustar las predicciones\n",
    "def apply_threshold(predictions, threshold):\n",
    "    adjusted_predictions = []\n",
    "    for pred in predictions:\n",
    "        if np.max(pred) < threshold:\n",
    "            # Si ninguna clase supera el umbral, asignamos a la clase 0\n",
    "            adjusted_pred = [1, 0, 0]\n",
    "        else:\n",
    "            # Si alguna clase supera el umbral, seleccionamos la de mayor probabilidad\n",
    "            adjusted_pred = [0, 0, 0]  # Inicialmente, todas las clases se establecen en 0\n",
    "            adjusted_pred[np.argmax(pred)] = 1  # Solo la clase con la mayor probabilidad se establece en 1\n",
    "        adjusted_predictions.append(adjusted_pred)\n",
    "    return np.array(adjusted_predictions)\n",
    "\n",
    "\n",
    "\n",
    "# Define un rango de posibles umbrales\n",
    "thresholds = np.linspace(0, 1, 100)  # 100 umbrales desde 0 a 1\n",
    "\n",
    "# Inicializa el mejor umbral y el mejor F1 score\n",
    "best_threshold = 0\n",
    "best_f1 = 0\n",
    "\n",
    "# Itera sobre los umbrales para encontrar el mejor\n",
    "for threshold in thresholds:\n",
    "    # Aplica el umbral\n",
    "    y_pred_classes = apply_threshold(y_pred, threshold)\n",
    "    y_pred_classes = np.argmax(y_pred_classes, axis=1)\n",
    "\n",
    "    # Calcula el F1 score\n",
    "    f1 = f1_score(y_true, y_pred_classes, average='macro')\n",
    "\n",
    "    # Actualiza el mejor umbral si es necesario\n",
    "    if f1 > best_f1:\n",
    "        best_f1 = f1\n",
    "        best_threshold = threshold\n",
    "\n",
    "# Imprime el mejor umbral y su F1 score\n",
    "print(\"Mejor umbral:\", best_threshold)\n",
    "print(\"Mejor F1 score:\", best_f1)\n"
   ]
  },
  {
   "cell_type": "markdown",
   "metadata": {},
   "source": [
    "Se aplica el mejor umbral encontrado a las predicciones del modelo para ajustar la clasificación final. Utiliza la función apply_threshold para modificar las predicciones según el umbral y luego obtiene la clase final mediante np.argmax, que selecciona el índice de la clase con la probabilidad más alta en cada predicción ajustada."
   ]
  },
  {
   "cell_type": "code",
   "execution_count": 21,
   "metadata": {
    "execution": {
     "iopub.status.busy": "2024-01-12T15:27:31.873956Z",
     "iopub.status.idle": "2024-01-12T15:27:31.874393Z"
    }
   },
   "outputs": [],
   "source": [
    "y_pred_classes = apply_threshold(y_pred, best_threshold)\n",
    "y_pred_classes = np.argmax(y_pred_classes, axis=1)"
   ]
  },
  {
   "cell_type": "markdown",
   "metadata": {},
   "source": [
    "Se calcula y almacena la matriz de confusión, así como las métricas de recall y precisión, usando las predicciones ajustadas con el mejor umbral. Estos cálculos son fundamentales para evaluar el rendimiento detallado del modelo, especialmente después de ajustar las predicciones con el umbral óptimo."
   ]
  },
  {
   "cell_type": "code",
   "execution_count": 22,
   "metadata": {
    "execution": {
     "iopub.status.busy": "2024-01-12T15:27:31.875733Z",
     "iopub.status.idle": "2024-01-12T15:27:31.876275Z"
    }
   },
   "outputs": [],
   "source": [
    "# Matriz de confusión\n",
    "cm = confusion_matrix(y_true, y_pred_classes)\n",
    "\n",
    "# Recall y Precisión\n",
    "recall = recall_score(y_true, y_pred_classes, average=None)\n",
    "precision = precision_score(y_true, y_pred_classes, average=None)\n",
    "\n"
   ]
  },
  {
   "cell_type": "markdown",
   "metadata": {},
   "source": [
    "Se calcula y muestra la puntuación F1 del modelo usando las predicciones ajustadas. Se utiliza el promedio 'macro', lo que significa que se calcula la puntuación F1 de forma independiente para cada clase y luego se toma el promedio de estas puntuaciones. Esto proporciona una medida de la efectividad del modelo en la clasificación equilibrada a través de todas las clases."
   ]
  },
  {
   "cell_type": "code",
   "execution_count": 23,
   "metadata": {
    "execution": {
     "iopub.status.busy": "2024-01-12T15:27:31.877238Z",
     "iopub.status.idle": "2024-01-12T15:27:31.877826Z"
    }
   },
   "outputs": [
    {
     "data": {
      "text/plain": [
       "0.5074228806801558"
      ]
     },
     "execution_count": 23,
     "metadata": {},
     "output_type": "execute_result"
    }
   ],
   "source": [
    "from sklearn.metrics import f1_score\n",
    "\n",
    "f1 = f1_score(y_true, y_pred_classes, average='macro')\n",
    "f1\n"
   ]
  },
  {
   "cell_type": "code",
   "execution_count": 24,
   "metadata": {
    "execution": {
     "iopub.status.busy": "2024-01-12T15:27:31.879311Z",
     "iopub.status.idle": "2024-01-12T15:27:31.879819Z"
    }
   },
   "outputs": [
    {
     "data": {
      "text/plain": [
       "array([0.7079646 , 0.83636364, 0.53703704])"
      ]
     },
     "execution_count": 24,
     "metadata": {},
     "output_type": "execute_result"
    }
   ],
   "source": [
    "recall"
   ]
  },
  {
   "cell_type": "code",
   "execution_count": 25,
   "metadata": {
    "execution": {
     "iopub.status.busy": "2024-01-12T15:27:31.881123Z",
     "iopub.status.idle": "2024-01-12T15:27:31.881595Z"
    }
   },
   "outputs": [
    {
     "data": {
      "text/plain": [
       "array([0.94276094, 0.25698324, 0.22834646])"
      ]
     },
     "execution_count": 25,
     "metadata": {},
     "output_type": "execute_result"
    }
   ],
   "source": [
    "precision"
   ]
  },
  {
   "cell_type": "markdown",
   "metadata": {},
   "source": [
    "Se visualiza dos aspectos clave del rendimiento del modelo:\n",
    "\n",
    "Matriz de Confusión: Utiliza Seaborn para crear un mapa de calor de la matriz de confusión, mostrando la cantidad de predicciones correctas e incorrectas para cada clase.\n",
    "\n",
    "Gráficos de Barras para Recall y Precisión: Muestra dos gráficos de barras para visualizar las métricas de recall y precisión para cada una de las tres clases, facilitando la comparación del rendimiento del modelo en términos de evitar falsos negativos y falsos positivos."
   ]
  },
  {
   "cell_type": "code",
   "execution_count": 26,
   "metadata": {
    "execution": {
     "iopub.status.busy": "2024-01-12T15:27:31.882882Z",
     "iopub.status.idle": "2024-01-12T15:27:31.883361Z"
    }
   },
   "outputs": [
    {
     "data": {
      "image/png": "[encoded data removed]",
      "text/plain": [
       "<Figure size 720x504 with 2 Axes>"
      ]
     },
     "metadata": {
      "needs_background": "light"
     },
     "output_type": "display_data"
    },
    {
     "data": {
      "image/png": "[encoded data removed]",
      "text/plain": [
       "<Figure size 1080x360 with 2 Axes>"
      ]
     },
     "metadata": {
      "needs_background": "light"
     },
     "output_type": "display_data"
    }
   ],
   "source": [
    "# Gráfico de la matriz de confusión\n",
    "plt.figure(figsize=(10, 7))\n",
    "sns.heatmap(cm, annot=True, fmt='g')\n",
    "plt.xlabel('Predicciones')\n",
    "plt.ylabel('Valores verdaderos')\n",
    "plt.title('Matriz de Confusión')\n",
    "plt.show()\n",
    "\n",
    "# Gráfico de barras para Recall y Precisión\n",
    "fig, ax = plt.subplots(1, 2, figsize=(15, 5))\n",
    "ax[0].bar(['Clase 0', 'Clase 1', 'Clase 2'], recall, color='blue')\n",
    "ax[0].set_title('Recall por Clase')\n",
    "ax[0].set_ylim(0, 1)\n",
    "\n",
    "ax[1].bar(['Clase 0', 'Clase 1', 'Clase 2'], precision, color='green')\n",
    "ax[1].set_title('Precisión por Clase')\n",
    "ax[1].set_ylim(0, 1)\n",
    "\n",
    "plt.show()\n"
   ]
  },
  {
   "cell_type": "code",
   "execution_count": null,
   "metadata": {},
   "outputs": [],
   "source": []
  }
 ],
 "metadata": {
  "kaggle": {
   "accelerator": "gpu",
   "dataSources": [
    {
     "sourceId": 158271550,
     "sourceType": "kernelVersion"
    }
   ],
   "dockerImageVersionId": 29850,
   "isGpuEnabled": true,
   "isInternetEnabled": true,
   "language": "python",
   "sourceType": "notebook"
  },
  "kernelspec": {
   "display_name": "Python 3",
   "language": "python",
   "name": "python3"
  },
  "language_info": {
   "codemirror_mode": {
    "name": "ipython",
    "version": 3
   },
   "file_extension": ".py",
   "mimetype": "text/x-python",
   "name": "python",
   "nbconvert_exporter": "python",
   "pygments_lexer": "ipython3",
   "version": "3.6.6"
  }
 },
 "nbformat": 4,
 "nbformat_minor": 4
}
